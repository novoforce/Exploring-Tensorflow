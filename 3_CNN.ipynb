{
  "nbformat": 4,
  "nbformat_minor": 0,
  "metadata": {
    "colab": {
      "name": "3_CNN.ipynb",
      "provenance": [],
      "toc_visible": true,
      "authorship_tag": "ABX9TyOw/G11JUgeTN5ySTPGHvl/",
      "include_colab_link": true
    },
    "kernelspec": {
      "name": "python3",
      "display_name": "Python 3"
    },
    "accelerator": "GPU"
  },
  "cells": [
    {
      "cell_type": "markdown",
      "metadata": {
        "id": "view-in-github",
        "colab_type": "text"
      },
      "source": [
        "<a href=\"https://colab.research.google.com/github/novoforce/Exploring-Tensorflow/blob/main/3_CNN.ipynb\" target=\"_parent\"><img src=\"https://colab.research.google.com/assets/colab-badge.svg\" alt=\"Open In Colab\"/></a>"
      ]
    },
    {
      "cell_type": "code",
      "metadata": {
        "colab": {
          "base_uri": "https://localhost:8080/",
          "height": 53
        },
        "id": "GjUN2tAC0Y8_",
        "outputId": "ef6c8087-7ea5-4d89-ad2f-13dab643b2e7"
      },
      "source": [
        "import tensorflow as tf\r\n",
        "from tensorflow import keras\r\n",
        "from tensorflow.keras import layers\r\n",
        "from tensorflow.keras.datasets import cifar10\r\n",
        "'''\r\n",
        "SUMMARY OF CIFAR10\r\n",
        "num_classes: 10\r\n",
        "class_names: airplane,automobile,bird, cat, deer,dog,frog,\r\n",
        "horse,ship,truck\r\n",
        "no_train_image: 50000\r\n",
        "no_test_images: 10000\r\n",
        "shape_image: 32 * 32 * 3\r\n",
        "'''"
      ],
      "execution_count": 4,
      "outputs": [
        {
          "output_type": "execute_result",
          "data": {
            "application/vnd.google.colaboratory.intrinsic+json": {
              "type": "string"
            },
            "text/plain": [
              "'\\nSUMMARY OF CIFAR10\\nnum_classes: 10\\nclass_names: airplane,automobile,bird, cat, deer,dog,frog,\\nhorse,ship,truck\\nno_train_image: 50000\\nno_test_images: 10000\\nshape_image: 32 * 32 * 3\\n'"
            ]
          },
          "metadata": {
            "tags": []
          },
          "execution_count": 4
        }
      ]
    },
    {
      "cell_type": "markdown",
      "metadata": {
        "id": "YB1inxou11lW"
      },
      "source": [
        "# Loading and preprocessing data"
      ]
    },
    {
      "cell_type": "code",
      "metadata": {
        "colab": {
          "base_uri": "https://localhost:8080/"
        },
        "id": "xuyF4DIz0lmN",
        "outputId": "10e431df-67cd-4177-df91-e2cedebd0322"
      },
      "source": [
        "(x_train,y_train),(x_test,y_test)= cifar10.load_data()\r\n",
        "x_train= x_train.astype('float32') / 255.0\r\n",
        "y_train= y_train.astype('float32') / 255.0"
      ],
      "execution_count": 5,
      "outputs": [
        {
          "output_type": "stream",
          "text": [
            "Downloading data from https://www.cs.toronto.edu/~kriz/cifar-10-python.tar.gz\n",
            "170500096/170498071 [==============================] - 3s 0us/step\n"
          ],
          "name": "stdout"
        }
      ]
    },
    {
      "cell_type": "markdown",
      "metadata": {
        "id": "oQmFXiV47QKm"
      },
      "source": [
        "# Defining the model(sequential)"
      ]
    },
    {
      "cell_type": "code",
      "metadata": {
        "colab": {
          "base_uri": "https://localhost:8080/"
        },
        "id": "qE5yi9UZ2IaI",
        "outputId": "36e5f97a-4cc4-4582-ebf2-3fe99cd26bf1"
      },
      "source": [
        "#for CNN we don't have to reshape\r\n",
        "model= keras.Sequential(\r\n",
        "    [\r\n",
        "     keras.Input(shape=(32,32,3)),\r\n",
        "     layers.Conv2D(filters=32,kernel_size=3,padding='valid',activation='relu'), #padding='valid' == no padding, padding='same' == padding\r\n",
        "     layers.MaxPool2D(), #by default 2*2,\r\n",
        "     layers.Conv2D(64,3,activation='relu'),\r\n",
        "     layers.MaxPool2D(),\r\n",
        "     layers.Conv2D(128,3,activation='relu'),\r\n",
        "     layers.Flatten(),\r\n",
        "     layers.Dense(64,activation='relu'),\r\n",
        "     layers.Dense(10)\r\n",
        "    ]\r\n",
        ")\r\n",
        "\r\n",
        "model.summary()"
      ],
      "execution_count": 8,
      "outputs": [
        {
          "output_type": "stream",
          "text": [
            "Model: \"sequential\"\n",
            "_________________________________________________________________\n",
            "Layer (type)                 Output Shape              Param #   \n",
            "=================================================================\n",
            "conv2d (Conv2D)              (None, 30, 30, 32)        896       \n",
            "_________________________________________________________________\n",
            "max_pooling2d (MaxPooling2D) (None, 15, 15, 32)        0         \n",
            "_________________________________________________________________\n",
            "conv2d_1 (Conv2D)            (None, 13, 13, 64)        18496     \n",
            "_________________________________________________________________\n",
            "max_pooling2d_1 (MaxPooling2 (None, 6, 6, 64)          0         \n",
            "_________________________________________________________________\n",
            "conv2d_2 (Conv2D)            (None, 4, 4, 128)         73856     \n",
            "_________________________________________________________________\n",
            "flatten (Flatten)            (None, 2048)              0         \n",
            "_________________________________________________________________\n",
            "dense (Dense)                (None, 64)                131136    \n",
            "_________________________________________________________________\n",
            "dense_1 (Dense)              (None, 10)                650       \n",
            "=================================================================\n",
            "Total params: 225,034\n",
            "Trainable params: 225,034\n",
            "Non-trainable params: 0\n",
            "_________________________________________________________________\n"
          ],
          "name": "stdout"
        }
      ]
    },
    {
      "cell_type": "markdown",
      "metadata": {
        "id": "dZg1v1fM7U7z"
      },
      "source": [
        "# Compiling the model"
      ]
    },
    {
      "cell_type": "code",
      "metadata": {
        "id": "_QuK8vZd4RmF"
      },
      "source": [
        "model.compile(\r\n",
        "    loss= keras.losses.SparseCategoricalCrossentropy(from_logits=True),\r\n",
        "    optimizer= keras.optimizers.Adam(lr=3e-4),\r\n",
        "    metrics=['accuracy']\r\n",
        ")"
      ],
      "execution_count": 9,
      "outputs": []
    },
    {
      "cell_type": "markdown",
      "metadata": {
        "id": "_EQo1iaF7XXR"
      },
      "source": [
        "# Fitting and evaluating the model"
      ]
    },
    {
      "cell_type": "code",
      "metadata": {
        "colab": {
          "base_uri": "https://localhost:8080/"
        },
        "id": "5jmbb4FU5OsI",
        "outputId": "c03227bd-3cb8-46c1-cae9-94a29d99dbfb"
      },
      "source": [
        "model.fit(x_train,y_train,batch_size=64,epochs=20,verbose=2)\r\n",
        "model.evaluate(x_test,y_test,batch_size=64,verbose=2)"
      ],
      "execution_count": 12,
      "outputs": [
        {
          "output_type": "stream",
          "text": [
            "Epoch 1/20\n",
            "782/782 - 2s - loss: 5.0068e-11 - accuracy: 0.1000\n",
            "Epoch 2/20\n",
            "782/782 - 2s - loss: 4.2915e-11 - accuracy: 0.1000\n",
            "Epoch 3/20\n",
            "782/782 - 2s - loss: 3.3379e-11 - accuracy: 0.1000\n",
            "Epoch 4/20\n",
            "782/782 - 2s - loss: 2.6226e-11 - accuracy: 0.1000\n",
            "Epoch 5/20\n",
            "782/782 - 2s - loss: 2.6226e-11 - accuracy: 0.1000\n",
            "Epoch 6/20\n",
            "782/782 - 2s - loss: 1.6689e-11 - accuracy: 0.1000\n",
            "Epoch 7/20\n",
            "782/782 - 2s - loss: 1.4305e-11 - accuracy: 0.1000\n",
            "Epoch 8/20\n",
            "782/782 - 2s - loss: 1.1921e-11 - accuracy: 0.1000\n",
            "Epoch 9/20\n",
            "782/782 - 2s - loss: 1.1921e-11 - accuracy: 0.1000\n",
            "Epoch 10/20\n",
            "782/782 - 2s - loss: 1.1921e-11 - accuracy: 0.1000\n",
            "Epoch 11/20\n",
            "782/782 - 2s - loss: 1.1921e-11 - accuracy: 0.1000\n",
            "Epoch 12/20\n",
            "782/782 - 2s - loss: 9.5367e-12 - accuracy: 0.1000\n",
            "Epoch 13/20\n",
            "782/782 - 2s - loss: 9.5367e-12 - accuracy: 0.1000\n",
            "Epoch 14/20\n",
            "782/782 - 2s - loss: 4.7684e-12 - accuracy: 0.1000\n",
            "Epoch 15/20\n",
            "782/782 - 2s - loss: 2.3842e-12 - accuracy: 0.1000\n",
            "Epoch 16/20\n",
            "782/782 - 2s - loss: 2.3842e-12 - accuracy: 0.1000\n",
            "Epoch 17/20\n",
            "782/782 - 2s - loss: 2.3842e-12 - accuracy: 0.1000\n",
            "Epoch 18/20\n",
            "782/782 - 2s - loss: 2.3842e-12 - accuracy: 0.1000\n",
            "Epoch 19/20\n",
            "782/782 - 2s - loss: 2.3842e-12 - accuracy: 0.1000\n",
            "Epoch 20/20\n",
            "782/782 - 2s - loss: 2.3842e-12 - accuracy: 0.1000\n",
            "157/157 - 0s - loss: 18834.4629 - accuracy: 0.1000\n"
          ],
          "name": "stdout"
        },
        {
          "output_type": "execute_result",
          "data": {
            "text/plain": [
              "[18834.462890625, 0.10000000149011612]"
            ]
          },
          "metadata": {
            "tags": []
          },
          "execution_count": 12
        }
      ]
    },
    {
      "cell_type": "markdown",
      "metadata": {
        "id": "rY6fGN8T7ctW"
      },
      "source": [
        "#Defining the model (functional API)"
      ]
    },
    {
      "cell_type": "code",
      "metadata": {
        "id": "Qt3I2gl_5dah"
      },
      "source": [
        "def my_model():\r\n",
        "    inputs= keras.Input(shape=(32,32,3))\r\n",
        "    x= layers.Conv2D(32,3)(inputs)\r\n",
        "    x= layers.BatchNormalization()(x)\r\n",
        "    x= keras.activations.relu(x)\r\n",
        "    x= layers.MaxPooling2D()(x)\r\n",
        "\r\n",
        "    x= layers.Conv2D(64,3)(inputs)\r\n",
        "    x= layers.BatchNormalization()(x)\r\n",
        "    x= keras.activations.relu(x)\r\n",
        "    x= layers.MaxPooling2D()(x)\r\n",
        "\r\n",
        "    x= layers.Conv2D(128,3)(inputs)\r\n",
        "    x= layers.BatchNormalization()(x)\r\n",
        "    x= keras.activations.relu(x)\r\n",
        "    x= layers.Dense(64,activation='relu')(x)\r\n",
        "    x= layers.Flatten()(x)\r\n",
        "    outputs= layers.Dense(10)(x)\r\n",
        "\r\n",
        "    model= keras.Model(inputs=inputs,outputs=outputs)\r\n",
        "    return model\r\n",
        "\r\n"
      ],
      "execution_count": 29,
      "outputs": []
    },
    {
      "cell_type": "code",
      "metadata": {
        "colab": {
          "base_uri": "https://localhost:8080/"
        },
        "id": "j4uqR9X49Xz3",
        "outputId": "ca9b9007-0e8e-4e7f-ebc5-fa71ad426758"
      },
      "source": [
        "model= my_model()\r\n",
        "model.summary()"
      ],
      "execution_count": 30,
      "outputs": [
        {
          "output_type": "stream",
          "text": [
            "Model: \"model_5\"\n",
            "_________________________________________________________________\n",
            "Layer (type)                 Output Shape              Param #   \n",
            "=================================================================\n",
            "input_8 (InputLayer)         [(None, 32, 32, 3)]       0         \n",
            "_________________________________________________________________\n",
            "conv2d_23 (Conv2D)           (None, 30, 30, 128)       3584      \n",
            "_________________________________________________________________\n",
            "batch_normalization_20 (Batc (None, 30, 30, 128)       512       \n",
            "_________________________________________________________________\n",
            "tf.nn.relu_20 (TFOpLambda)   (None, 30, 30, 128)       0         \n",
            "_________________________________________________________________\n",
            "dense_14 (Dense)             (None, 30, 30, 64)        8256      \n",
            "_________________________________________________________________\n",
            "flatten_2 (Flatten)          (None, 57600)             0         \n",
            "_________________________________________________________________\n",
            "dense_15 (Dense)             (None, 10)                576010    \n",
            "=================================================================\n",
            "Total params: 588,362\n",
            "Trainable params: 588,106\n",
            "Non-trainable params: 256\n",
            "_________________________________________________________________\n"
          ],
          "name": "stdout"
        }
      ]
    },
    {
      "cell_type": "code",
      "metadata": {
        "id": "P2gzD5Kw9esk"
      },
      "source": [
        "model.compile(\r\n",
        "    loss= keras.losses.SparseCategoricalCrossentropy(from_logits=True),\r\n",
        "    optimizer= keras.optimizers.Adam(lr=3e-4),\r\n",
        "    metrics=['accuracy']\r\n",
        ")"
      ],
      "execution_count": 31,
      "outputs": []
    },
    {
      "cell_type": "code",
      "metadata": {
        "colab": {
          "base_uri": "https://localhost:8080/"
        },
        "id": "OR9EfMYL9zdL",
        "outputId": "da63fdfd-52e9-42f1-d416-0cf6f718d39b"
      },
      "source": [
        "model.fit(x_train,y_train,batch_size=64,epochs=20,verbose=2)\r\n",
        "model.evaluate(x_test,y_test,batch_size=64,verbose=2)"
      ],
      "execution_count": 32,
      "outputs": [
        {
          "output_type": "stream",
          "text": [
            "Epoch 1/20\n",
            "782/782 - 4s - loss: 0.0026 - accuracy: 0.1000\n",
            "Epoch 2/20\n",
            "782/782 - 4s - loss: 7.8700e-09 - accuracy: 0.1000\n",
            "Epoch 3/20\n",
            "782/782 - 4s - loss: 4.8994e-09 - accuracy: 0.1000\n",
            "Epoch 4/20\n",
            "782/782 - 4s - loss: 6.6898e-09 - accuracy: 0.1000\n",
            "Epoch 5/20\n",
            "782/782 - 4s - loss: 3.4713e-09 - accuracy: 0.1000\n",
            "Epoch 6/20\n",
            "782/782 - 4s - loss: 1.1812e-08 - accuracy: 0.1000\n",
            "Epoch 7/20\n",
            "782/782 - 4s - loss: 5.2904e-09 - accuracy: 0.1000\n",
            "Epoch 8/20\n",
            "782/782 - 4s - loss: 4.6920e-09 - accuracy: 0.1000\n",
            "Epoch 9/20\n",
            "782/782 - 4s - loss: 1.6599e-08 - accuracy: 0.1000\n",
            "Epoch 10/20\n",
            "782/782 - 4s - loss: 1.7548e-09 - accuracy: 0.1000\n",
            "Epoch 11/20\n",
            "782/782 - 4s - loss: 8.0366e-09 - accuracy: 0.1000\n",
            "Epoch 12/20\n",
            "782/782 - 4s - loss: 2.5296e-09 - accuracy: 0.1000\n",
            "Epoch 13/20\n",
            "782/782 - 4s - loss: 3.6120e-09 - accuracy: 0.1000\n",
            "Epoch 14/20\n",
            "782/782 - 4s - loss: 4.8206e-09 - accuracy: 0.1000\n",
            "Epoch 15/20\n",
            "782/782 - 4s - loss: 3.8575e-09 - accuracy: 0.1000\n",
            "Epoch 16/20\n",
            "782/782 - 4s - loss: 1.0562e-09 - accuracy: 0.1000\n",
            "Epoch 17/20\n",
            "782/782 - 4s - loss: 1.6737e-09 - accuracy: 0.1000\n",
            "Epoch 18/20\n",
            "782/782 - 4s - loss: 9.3221e-10 - accuracy: 0.1000\n",
            "Epoch 19/20\n",
            "782/782 - 4s - loss: 3.0921e-09 - accuracy: 0.1000\n",
            "Epoch 20/20\n",
            "782/782 - 4s - loss: 2.6464e-10 - accuracy: 0.1000\n",
            "157/157 - 1s - loss: 30363.5137 - accuracy: 0.1000\n"
          ],
          "name": "stdout"
        },
        {
          "output_type": "execute_result",
          "data": {
            "text/plain": [
              "[30363.513671875, 0.10000000149011612]"
            ]
          },
          "metadata": {
            "tags": []
          },
          "execution_count": 32
        }
      ]
    },
    {
      "cell_type": "code",
      "metadata": {
        "id": "hHH-ajw894j_"
      },
      "source": [
        ""
      ],
      "execution_count": null,
      "outputs": []
    }
  ]
}