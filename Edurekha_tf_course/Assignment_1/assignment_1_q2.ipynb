{
  "nbformat": 4,
  "nbformat_minor": 0,
  "metadata": {
    "colab": {
      "name": "file_2.ipynb",
      "provenance": [],
      "collapsed_sections": [
        "zEEsEUYSr1qA",
        "FuOGWKELr-Rs",
        "KzcIOZm0szVI",
        "aeJbl0xjukIk",
        "_b9dK6_OBwaS"
      ]
    },
    "kernelspec": {
      "name": "python3",
      "display_name": "Python 3"
    },
    "language_info": {
      "name": "python"
    },
    "accelerator": "GPU"
  },
  "cells": [
    {
      "cell_type": "markdown",
      "metadata": {
        "id": "zEEsEUYSr1qA"
      },
      "source": [
        "# Importing the necessary libraries"
      ]
    },
    {
      "cell_type": "code",
      "metadata": {
        "id": "OgDZQ5KDrRPY"
      },
      "source": [
        "import tensorflow as tf\n",
        "from tensorflow import keras\n",
        "import numpy as np\n",
        "import matplotlib.pyplot as plt"
      ],
      "execution_count": 3,
      "outputs": []
    },
    {
      "cell_type": "markdown",
      "metadata": {
        "id": "FuOGWKELr-Rs"
      },
      "source": [
        "# Get the data and divide the dataset\n"
      ]
    },
    {
      "cell_type": "code",
      "metadata": {
        "id": "UYXuiZBWsCn_"
      },
      "source": [
        "(x_train,y_train), (x_test,y_test)= keras.datasets.mnist.load_data()\n",
        "\n",
        "#assertion on the shape of the datasets\n",
        "assert x_train.shape == (60000, 28, 28)\n",
        "assert x_test.shape == (10000, 28, 28)\n",
        "assert y_train.shape == (60000,)\n",
        "assert y_test.shape == (10000,)"
      ],
      "execution_count": null,
      "outputs": []
    },
    {
      "cell_type": "markdown",
      "metadata": {
        "id": "KzcIOZm0szVI"
      },
      "source": [
        "# Display a sample from the x_train"
      ]
    },
    {
      "cell_type": "code",
      "metadata": {
        "colab": {
          "base_uri": "https://localhost:8080/",
          "height": 293
        },
        "id": "bfSg9LU4soKM",
        "outputId": "6a6f99ff-a0b1-4beb-c33e-e90df9fa04b0"
      },
      "source": [
        "SAMPLE= x_train[300] #picking a sample from the train set\n",
        "plt.matshow(SAMPLE)\n",
        "print(\"Label:> \",y_train[300])"
      ],
      "execution_count": 17,
      "outputs": [
        {
          "output_type": "stream",
          "name": "stdout",
          "text": [
            "Label:>  8\n"
          ]
        },
        {
          "output_type": "display_data",
          "data": {
            "image/png": "[encoded data removed]",
            "text/plain": [
              "<Figure size 288x288 with 1 Axes>"
            ]
          },
          "metadata": {
            "needs_background": "light"
          }
        }
      ]
    },
    {
      "cell_type": "markdown",
      "metadata": {
        "id": "aeJbl0xjukIk"
      },
      "source": [
        "# Flattening the dataset(ANN)"
      ]
    },
    {
      "cell_type": "code",
      "metadata": {
        "colab": {
          "base_uri": "https://localhost:8080/"
        },
        "id": "CL5Ii52htipp",
        "outputId": "8cc4632b-69e8-40d4-f544-1a55d3b67176"
      },
      "source": [
        "x_train_flatten= x_train.reshape(x_train.shape[0],x_train.shape[1]*x_train.shape[2])\n",
        "x_test_flatten= x_test.reshape(x_test.shape[0],x_test.shape[1]*x_test.shape[2])\n",
        "\n",
        "print(x_train_flatten.shape)\n",
        "print(x_test_flatten.shape)\n",
        "\n",
        "#converting to float32 precision\n",
        "x_train_flatten = x_train_flatten.astype('float32')\n",
        "x_test_flatten = x_test_flatten.astype('float32')\n",
        "\n",
        "#Normalize the data\n",
        "x_train_flatten /= 255\n",
        "x_test_flatten /= 255\n",
        "\n",
        "# #one hot encoding of the labels\n",
        "# y_train_one_hot = keras.utils.to_categorical(y_train,10)\n",
        "# y_test_one_hot = keras.utils.to_categorical(y_test,10)\n"
      ],
      "execution_count": 69,
      "outputs": [
        {
          "output_type": "stream",
          "name": "stdout",
          "text": [
            "(60000, 784)\n",
            "(10000, 784)\n"
          ]
        }
      ]
    },
    {
      "cell_type": "markdown",
      "metadata": {
        "id": "MCPnhcpDvh3g"
      },
      "source": [
        "# Defining the Neural network"
      ]
    },
    {
      "cell_type": "code",
      "metadata": {
        "id": "weIbw24xvZ4b"
      },
      "source": [
        "LAYERS_SIZE= x_train_flatten.shape[1] #784\n",
        "CLASSES= 10 #no of classes are from 0-9\n",
        "model= keras.Sequential([\n",
        "                         keras.layers.Dense(input_shape=(LAYERS_SIZE,),units=LAYERS_SIZE/2,activation=\"relu\"), #392\n",
        "                         keras.layers.Dropout(0.2),\n",
        "                         keras.layers.Dense(units=LAYERS_SIZE/4, activation=\"relu\"), #196\n",
        "                         keras.layers.Dropout(0.2),\n",
        "                         keras.layers.Dense(units=LAYERS_SIZE/8, activation=\"relu\"), #98\n",
        "                         keras.layers.Dropout(0.2),\n",
        "                         keras.layers.Dense(units=LAYERS_SIZE/16, activation=\"relu\"), #49\n",
        "                         keras.layers.Dropout(0.2),\n",
        "                         keras.layers.Dense(units=10, activation=\"softmax\") #10\n",
        "])"
      ],
      "execution_count": 90,
      "outputs": []
    },
    {
      "cell_type": "code",
      "metadata": {
        "id": "3SzxjDpKypjq"
      },
      "source": [
        "opt = keras.optimizers.Adam(learning_rate=0.001)\n",
        "model.compile(optimizer=opt,\n",
        "              loss=\"sparse_categorical_crossentropy\",\n",
        "              metrics=[\"accuracy\"])"
      ],
      "execution_count": 91,
      "outputs": []
    },
    {
      "cell_type": "code",
      "metadata": {
        "colab": {
          "base_uri": "https://localhost:8080/"
        },
        "id": "iKUlF7LEzIUW",
        "outputId": "7ced2997-3469-4b8f-987b-96251036f7e4"
      },
      "source": [
        "model.summary()"
      ],
      "execution_count": 92,
      "outputs": [
        {
          "output_type": "stream",
          "name": "stdout",
          "text": [
            "Model: \"sequential_15\"\n",
            "_________________________________________________________________\n",
            "Layer (type)                 Output Shape              Param #   \n",
            "=================================================================\n",
            "dense_49 (Dense)             (None, 392)               307720    \n",
            "_________________________________________________________________\n",
            "dropout_1 (Dropout)          (None, 392)               0         \n",
            "_________________________________________________________________\n",
            "dense_50 (Dense)             (None, 196)               77028     \n",
            "_________________________________________________________________\n",
            "dropout_2 (Dropout)          (None, 196)               0         \n",
            "_________________________________________________________________\n",
            "dense_51 (Dense)             (None, 98)                19306     \n",
            "_________________________________________________________________\n",
            "dropout_3 (Dropout)          (None, 98)                0         \n",
            "_________________________________________________________________\n",
            "dense_52 (Dense)             (None, 49)                4851      \n",
            "_________________________________________________________________\n",
            "dropout_4 (Dropout)          (None, 49)                0         \n",
            "_________________________________________________________________\n",
            "dense_53 (Dense)             (None, 10)                500       \n",
            "=================================================================\n",
            "Total params: 409,405\n",
            "Trainable params: 409,405\n",
            "Non-trainable params: 0\n",
            "_________________________________________________________________\n"
          ]
        }
      ]
    },
    {
      "cell_type": "markdown",
      "metadata": {
        "id": "B3DgzaZrBp0l"
      },
      "source": [
        "# Training the model"
      ]
    },
    {
      "cell_type": "code",
      "metadata": {
        "colab": {
          "base_uri": "https://localhost:8080/"
        },
        "id": "RNGTurkdyrua",
        "outputId": "48e62528-97c5-4516-abc6-ab043b17f26f"
      },
      "source": [
        "training= model.fit(x_train_flatten, y_train,epochs=50, validation_split=0.2)\n",
        "test_loss, test_acc = model.evaluate(x_test_flatten, y_test)\n",
        "print('Test accuracy:> ', test_acc)"
      ],
      "execution_count": 93,
      "outputs": [
        {
          "output_type": "stream",
          "name": "stdout",
          "text": [
            "Epoch 1/50\n",
            "1500/1500 [==============================] - 7s 4ms/step - loss: 0.3657 - accuracy: 0.8929 - val_loss: 0.1317 - val_accuracy: 0.9616\n",
            "Epoch 2/50\n",
            "1500/1500 [==============================] - 6s 4ms/step - loss: 0.1650 - accuracy: 0.9550 - val_loss: 0.1152 - val_accuracy: 0.9667\n",
            "Epoch 3/50\n",
            "1500/1500 [==============================] - 6s 4ms/step - loss: 0.1257 - accuracy: 0.9658 - val_loss: 0.0977 - val_accuracy: 0.9737\n",
            "Epoch 4/50\n",
            "1500/1500 [==============================] - 6s 4ms/step - loss: 0.1093 - accuracy: 0.9699 - val_loss: 0.1040 - val_accuracy: 0.9711\n",
            "Epoch 5/50\n",
            "1500/1500 [==============================] - 6s 4ms/step - loss: 0.0895 - accuracy: 0.9753 - val_loss: 0.1090 - val_accuracy: 0.9708\n",
            "Epoch 6/50\n",
            "1500/1500 [==============================] - 6s 4ms/step - loss: 0.0811 - accuracy: 0.9778 - val_loss: 0.1074 - val_accuracy: 0.9749\n",
            "Epoch 7/50\n",
            "1500/1500 [==============================] - 6s 4ms/step - loss: 0.0701 - accuracy: 0.9798 - val_loss: 0.0957 - val_accuracy: 0.9756\n",
            "Epoch 8/50\n",
            "1500/1500 [==============================] - 6s 4ms/step - loss: 0.0641 - accuracy: 0.9823 - val_loss: 0.1025 - val_accuracy: 0.9747\n",
            "Epoch 9/50\n",
            "1500/1500 [==============================] - 6s 4ms/step - loss: 0.0582 - accuracy: 0.9833 - val_loss: 0.1011 - val_accuracy: 0.9761\n",
            "Epoch 10/50\n",
            "1500/1500 [==============================] - 6s 4ms/step - loss: 0.0569 - accuracy: 0.9836 - val_loss: 0.0934 - val_accuracy: 0.9776\n",
            "Epoch 11/50\n",
            "1500/1500 [==============================] - 6s 4ms/step - loss: 0.0515 - accuracy: 0.9858 - val_loss: 0.0908 - val_accuracy: 0.9772\n",
            "Epoch 12/50\n",
            "1500/1500 [==============================] - 6s 4ms/step - loss: 0.0488 - accuracy: 0.9860 - val_loss: 0.1059 - val_accuracy: 0.9771\n",
            "Epoch 13/50\n",
            "1500/1500 [==============================] - 6s 4ms/step - loss: 0.0474 - accuracy: 0.9865 - val_loss: 0.0980 - val_accuracy: 0.9783\n",
            "Epoch 14/50\n",
            "1500/1500 [==============================] - 6s 4ms/step - loss: 0.0402 - accuracy: 0.9881 - val_loss: 0.1121 - val_accuracy: 0.9782\n",
            "Epoch 15/50\n",
            "1500/1500 [==============================] - 6s 4ms/step - loss: 0.0406 - accuracy: 0.9883 - val_loss: 0.1074 - val_accuracy: 0.9795\n",
            "Epoch 16/50\n",
            "1500/1500 [==============================] - 6s 4ms/step - loss: 0.0392 - accuracy: 0.9891 - val_loss: 0.1240 - val_accuracy: 0.9753\n",
            "Epoch 17/50\n",
            "1500/1500 [==============================] - 6s 4ms/step - loss: 0.0370 - accuracy: 0.9896 - val_loss: 0.1016 - val_accuracy: 0.9798\n",
            "Epoch 18/50\n",
            "1500/1500 [==============================] - 6s 4ms/step - loss: 0.0391 - accuracy: 0.9895 - val_loss: 0.1238 - val_accuracy: 0.9793\n",
            "Epoch 19/50\n",
            "1500/1500 [==============================] - 6s 4ms/step - loss: 0.0342 - accuracy: 0.9900 - val_loss: 0.1037 - val_accuracy: 0.9817\n",
            "Epoch 20/50\n",
            "1500/1500 [==============================] - 6s 4ms/step - loss: 0.0307 - accuracy: 0.9915 - val_loss: 0.1089 - val_accuracy: 0.9808\n",
            "Epoch 21/50\n",
            "1500/1500 [==============================] - 6s 4ms/step - loss: 0.0312 - accuracy: 0.9912 - val_loss: 0.1176 - val_accuracy: 0.9783\n",
            "Epoch 22/50\n",
            "1500/1500 [==============================] - 6s 4ms/step - loss: 0.0318 - accuracy: 0.9913 - val_loss: 0.1096 - val_accuracy: 0.9789\n",
            "Epoch 23/50\n",
            "1500/1500 [==============================] - 6s 4ms/step - loss: 0.0307 - accuracy: 0.9915 - val_loss: 0.1178 - val_accuracy: 0.9802\n",
            "Epoch 24/50\n",
            "1500/1500 [==============================] - 6s 4ms/step - loss: 0.0287 - accuracy: 0.9921 - val_loss: 0.1356 - val_accuracy: 0.9779\n",
            "Epoch 25/50\n",
            "1500/1500 [==============================] - 6s 4ms/step - loss: 0.0311 - accuracy: 0.9918 - val_loss: 0.1116 - val_accuracy: 0.9783\n",
            "Epoch 26/50\n",
            "1500/1500 [==============================] - 6s 4ms/step - loss: 0.0262 - accuracy: 0.9930 - val_loss: 0.1186 - val_accuracy: 0.9802\n",
            "Epoch 27/50\n",
            "1500/1500 [==============================] - 6s 4ms/step - loss: 0.0269 - accuracy: 0.9928 - val_loss: 0.1253 - val_accuracy: 0.9799\n",
            "Epoch 28/50\n",
            "1500/1500 [==============================] - 6s 4ms/step - loss: 0.0273 - accuracy: 0.9931 - val_loss: 0.1208 - val_accuracy: 0.9785\n",
            "Epoch 29/50\n",
            "1500/1500 [==============================] - 6s 4ms/step - loss: 0.0278 - accuracy: 0.9926 - val_loss: 0.1232 - val_accuracy: 0.9814\n",
            "Epoch 30/50\n",
            "1500/1500 [==============================] - 6s 4ms/step - loss: 0.0281 - accuracy: 0.9930 - val_loss: 0.1307 - val_accuracy: 0.9798\n",
            "Epoch 31/50\n",
            "1500/1500 [==============================] - 6s 4ms/step - loss: 0.0261 - accuracy: 0.9932 - val_loss: 0.1269 - val_accuracy: 0.9803\n",
            "Epoch 32/50\n",
            "1500/1500 [==============================] - 6s 4ms/step - loss: 0.0232 - accuracy: 0.9941 - val_loss: 0.1277 - val_accuracy: 0.9811\n",
            "Epoch 33/50\n",
            "1500/1500 [==============================] - 6s 4ms/step - loss: 0.0238 - accuracy: 0.9935 - val_loss: 0.1321 - val_accuracy: 0.9784\n",
            "Epoch 34/50\n",
            "1500/1500 [==============================] - 6s 4ms/step - loss: 0.0220 - accuracy: 0.9937 - val_loss: 0.1346 - val_accuracy: 0.9810\n",
            "Epoch 35/50\n",
            "1500/1500 [==============================] - 6s 4ms/step - loss: 0.0247 - accuracy: 0.9940 - val_loss: 0.1203 - val_accuracy: 0.9809\n",
            "Epoch 36/50\n",
            "1500/1500 [==============================] - 6s 4ms/step - loss: 0.0201 - accuracy: 0.9943 - val_loss: 0.1245 - val_accuracy: 0.9834\n",
            "Epoch 37/50\n",
            "1500/1500 [==============================] - 6s 4ms/step - loss: 0.0216 - accuracy: 0.9947 - val_loss: 0.1594 - val_accuracy: 0.9808\n",
            "Epoch 38/50\n",
            "1500/1500 [==============================] - 6s 4ms/step - loss: 0.0253 - accuracy: 0.9939 - val_loss: 0.1345 - val_accuracy: 0.9826\n",
            "Epoch 39/50\n",
            "1500/1500 [==============================] - 6s 4ms/step - loss: 0.0214 - accuracy: 0.9946 - val_loss: 0.1366 - val_accuracy: 0.9821\n",
            "Epoch 40/50\n",
            "1500/1500 [==============================] - 6s 4ms/step - loss: 0.0227 - accuracy: 0.9941 - val_loss: 0.1385 - val_accuracy: 0.9833\n",
            "Epoch 41/50\n",
            "1500/1500 [==============================] - 6s 4ms/step - loss: 0.0194 - accuracy: 0.9948 - val_loss: 0.1415 - val_accuracy: 0.9829\n",
            "Epoch 42/50\n",
            "1500/1500 [==============================] - 6s 4ms/step - loss: 0.0235 - accuracy: 0.9942 - val_loss: 0.1401 - val_accuracy: 0.9818\n",
            "Epoch 43/50\n",
            "1500/1500 [==============================] - 6s 4ms/step - loss: 0.0214 - accuracy: 0.9949 - val_loss: 0.1559 - val_accuracy: 0.9818\n",
            "Epoch 44/50\n",
            "1500/1500 [==============================] - 6s 4ms/step - loss: 0.0210 - accuracy: 0.9952 - val_loss: 0.1654 - val_accuracy: 0.9817\n",
            "Epoch 45/50\n",
            "1500/1500 [==============================] - 6s 4ms/step - loss: 0.0205 - accuracy: 0.9950 - val_loss: 0.1525 - val_accuracy: 0.9813\n",
            "Epoch 46/50\n",
            "1500/1500 [==============================] - 6s 4ms/step - loss: 0.0196 - accuracy: 0.9952 - val_loss: 0.1443 - val_accuracy: 0.9828\n",
            "Epoch 47/50\n",
            "1500/1500 [==============================] - 6s 4ms/step - loss: 0.0210 - accuracy: 0.9950 - val_loss: 0.1350 - val_accuracy: 0.9824\n",
            "Epoch 48/50\n",
            "1500/1500 [==============================] - 6s 4ms/step - loss: 0.0170 - accuracy: 0.9956 - val_loss: 0.1475 - val_accuracy: 0.9830\n",
            "Epoch 49/50\n",
            "1500/1500 [==============================] - 6s 4ms/step - loss: 0.0203 - accuracy: 0.9950 - val_loss: 0.1359 - val_accuracy: 0.9825\n",
            "Epoch 50/50\n",
            "1500/1500 [==============================] - 6s 4ms/step - loss: 0.0196 - accuracy: 0.9956 - val_loss: 0.1416 - val_accuracy: 0.9827\n",
            "313/313 [==============================] - 1s 3ms/step - loss: 0.1178 - accuracy: 0.9825\n",
            "Test accuracy:>  0.9825000166893005\n"
          ]
        }
      ]
    },
    {
      "cell_type": "markdown",
      "metadata": {
        "id": "_b9dK6_OBwaS"
      },
      "source": [
        "# Visualize the accuracy metrics"
      ]
    },
    {
      "cell_type": "code",
      "metadata": {
        "colab": {
          "base_uri": "https://localhost:8080/",
          "height": 591
        },
        "id": "S2ccaW-Eywky",
        "outputId": "e33ba516-2d78-43e8-8348-d6347751262b"
      },
      "source": [
        "%matplotlib inline\n",
        "# list all data in training\n",
        "print(training.history.keys())\n",
        "# summarize training for accuracy\n",
        "plt.plot(training.history['accuracy'])\n",
        "plt.plot(training.history['val_accuracy'])\n",
        "plt.title('model accuracy')\n",
        "plt.ylabel('accuracy')\n",
        "plt.xlabel('epoch')\n",
        "plt.legend(['train', 'test'], loc='upper left')\n",
        "plt.show()\n",
        "# summarize traning for loss\n",
        "plt.plot(training.history['loss'])\n",
        "plt.plot(training.history['val_loss'])\n",
        "plt.title('model loss')\n",
        "plt.ylabel('loss')\n",
        "plt.xlabel('epoch')\n",
        "plt.legend(['train', 'test'], loc='upper left')\n",
        "plt.show()"
      ],
      "execution_count": 94,
      "outputs": [
        {
          "output_type": "stream",
          "name": "stdout",
          "text": [
            "dict_keys(['loss', 'accuracy', 'val_loss', 'val_accuracy'])\n"
          ]
        },
        {
          "output_type": "display_data",
          "data": {
            "image/png": "[encoded data removed]",
            "text/plain": [
              "<Figure size 432x288 with 1 Axes>"
            ]
          },
          "metadata": {
            "needs_background": "light"
          }
        },
        {
          "output_type": "display_data",
          "data": {
            "image/png": "[encoded data removed]",
            "text/plain": [
              "<Figure size 432x288 with 1 Axes>"
            ]
          },
          "metadata": {
            "needs_background": "light"
          }
        }
      ]
    },
    {
      "cell_type": "code",
      "metadata": {
        "id": "pnU1IeRUADbV"
      },
      "source": [
        ""
      ],
      "execution_count": null,
      "outputs": []
    },
    {
      "cell_type": "markdown",
      "metadata": {
        "id": "A1_hW7coCC3T"
      },
      "source": [
        "# Summary\n",
        "\n",
        "I have divided the project into 7 parts as defined above.\n",
        "I downloaded the Mnist dataset and divided into train and test set and flattened the datasets.\n",
        "After which I have converted the dataset to \"float32\" precision and normalized the dataset.\n",
        "\n",
        "Model design:\n",
        "My model design is logical decreasing in no of layers in multiples of 2.\n",
        "The layers goes from **392-->196-->98-->49-->10**.\n",
        "In between these layers, dropout of 0.2 is added to reduce the overfitting.\n",
        "\n",
        "Training model:\n",
        "For training the model Adam optimizer with learning rate of 0.001 is used for weight updates.\n",
        "\n",
        "The model was then trained for 50 epochs with a validation set of 20% for tracking accuracy on the validation set.\n",
        "\n",
        "**Finally after 50 epochs I was able to achive accuracy of 98.25% on the test set.**\n",
        "\n"
      ]
    }
  ]
}