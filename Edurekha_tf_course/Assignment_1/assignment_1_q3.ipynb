{
  "nbformat": 4,
  "nbformat_minor": 0,
  "metadata": {
    "colab": {
      "name": "assignment_1_q3.ipynb",
      "provenance": [],
      "collapsed_sections": [
        "zEEsEUYSr1qA",
        "FuOGWKELr-Rs",
        "KzcIOZm0szVI",
        "aeJbl0xjukIk",
        "_b9dK6_OBwaS"
      ],
      "toc_visible": true
    },
    "kernelspec": {
      "name": "python3",
      "display_name": "Python 3"
    },
    "language_info": {
      "name": "python"
    },
    "accelerator": "GPU"
  },
  "cells": [
    {
      "cell_type": "markdown",
      "metadata": {
        "id": "zEEsEUYSr1qA"
      },
      "source": [
        "# Importing the necessary libraries"
      ]
    },
    {
      "cell_type": "code",
      "metadata": {
        "id": "OgDZQ5KDrRPY"
      },
      "source": [
        "import tensorflow as tf\n",
        "from tensorflow import keras\n",
        "import numpy as np\n",
        "import matplotlib.pyplot as plt"
      ],
      "execution_count": 1,
      "outputs": []
    },
    {
      "cell_type": "markdown",
      "metadata": {
        "id": "FuOGWKELr-Rs"
      },
      "source": [
        "# Get the data and divide the dataset\n"
      ]
    },
    {
      "cell_type": "code",
      "metadata": {
        "id": "UYXuiZBWsCn_",
        "colab": {
          "base_uri": "https://localhost:8080/"
        },
        "outputId": "0482488c-62dd-40bc-d2a0-fcff032bf9ef"
      },
      "source": [
        "(x_train,y_train), (x_test,y_test)= keras.datasets.fashion_mnist.load_data()\n",
        "\n",
        "#assertion on the shape of the datasets\n",
        "assert x_train.shape == (60000, 28, 28)\n",
        "assert x_test.shape == (10000, 28, 28)\n",
        "assert y_train.shape == (60000,)\n",
        "assert y_test.shape == (10000,)"
      ],
      "execution_count": 2,
      "outputs": [
        {
          "output_type": "stream",
          "name": "stdout",
          "text": [
            "Downloading data from https://storage.googleapis.com/tensorflow/tf-keras-datasets/train-labels-idx1-ubyte.gz\n",
            "32768/29515 [=================================] - 0s 0us/step\n",
            "40960/29515 [=========================================] - 0s 0us/step\n",
            "Downloading data from https://storage.googleapis.com/tensorflow/tf-keras-datasets/train-images-idx3-ubyte.gz\n",
            "26427392/26421880 [==============================] - 1s 0us/step\n",
            "26435584/26421880 [==============================] - 1s 0us/step\n",
            "Downloading data from https://storage.googleapis.com/tensorflow/tf-keras-datasets/t10k-labels-idx1-ubyte.gz\n",
            "16384/5148 [===============================================================================================] - 0s 0us/step\n",
            "Downloading data from https://storage.googleapis.com/tensorflow/tf-keras-datasets/t10k-images-idx3-ubyte.gz\n",
            "4423680/4422102 [==============================] - 0s 0us/step\n",
            "4431872/4422102 [==============================] - 0s 0us/step\n"
          ]
        }
      ]
    },
    {
      "cell_type": "markdown",
      "metadata": {
        "id": "KzcIOZm0szVI"
      },
      "source": [
        "# Display a sample from the x_train"
      ]
    },
    {
      "cell_type": "code",
      "metadata": {
        "colab": {
          "base_uri": "https://localhost:8080/",
          "height": 293
        },
        "id": "bfSg9LU4soKM",
        "outputId": "edc5511c-cc86-4ca6-ca14-f39819ed5ce9"
      },
      "source": [
        "SAMPLE= x_train[300] #picking a sample from the train set\n",
        "plt.matshow(SAMPLE)\n",
        "print(\"Label:> \",y_train[300])"
      ],
      "execution_count": 3,
      "outputs": [
        {
          "output_type": "stream",
          "name": "stdout",
          "text": [
            "Label:>  5\n"
          ]
        },
        {
          "output_type": "display_data",
          "data": {
            "image/png": "[encoded data removed]",
            "text/plain": [
              "<Figure size 288x288 with 1 Axes>"
            ]
          },
          "metadata": {
            "needs_background": "light"
          }
        }
      ]
    },
    {
      "cell_type": "markdown",
      "metadata": {
        "id": "aeJbl0xjukIk"
      },
      "source": [
        "# Flattening the dataset(ANN)"
      ]
    },
    {
      "cell_type": "code",
      "metadata": {
        "colab": {
          "base_uri": "https://localhost:8080/"
        },
        "id": "CL5Ii52htipp",
        "outputId": "c8cf597e-cd79-4af6-93c7-1ba8b189fd25"
      },
      "source": [
        "x_train_flatten= x_train.reshape(x_train.shape[0],x_train.shape[1]*x_train.shape[2])\n",
        "x_test_flatten= x_test.reshape(x_test.shape[0],x_test.shape[1]*x_test.shape[2])\n",
        "\n",
        "print(x_train_flatten.shape)\n",
        "print(x_test_flatten.shape)\n",
        "\n",
        "#converting to float32 precision\n",
        "x_train_flatten = x_train_flatten.astype('float32')\n",
        "x_test_flatten = x_test_flatten.astype('float32')\n",
        "\n",
        "#Normalize the data\n",
        "x_train_flatten /= 255\n",
        "x_test_flatten /= 255\n",
        "\n",
        "# #one hot encoding of the labels\n",
        "# y_train_one_hot = keras.utils.to_categorical(y_train,10)\n",
        "# y_test_one_hot = keras.utils.to_categorical(y_test,10)\n"
      ],
      "execution_count": 4,
      "outputs": [
        {
          "output_type": "stream",
          "name": "stdout",
          "text": [
            "(60000, 784)\n",
            "(10000, 784)\n"
          ]
        }
      ]
    },
    {
      "cell_type": "markdown",
      "metadata": {
        "id": "MCPnhcpDvh3g"
      },
      "source": [
        "# Defining Single Layer Perceptron model"
      ]
    },
    {
      "cell_type": "code",
      "metadata": {
        "id": "weIbw24xvZ4b"
      },
      "source": [
        "LAYERS_SIZE= x_train_flatten.shape[1] #784\n",
        "CLASSES= 10 #no of classes are from 0-9\n",
        "model= keras.Sequential([\n",
        "                         keras.layers.Dense(input_shape=(LAYERS_SIZE,),units=10,activation=\"softmax\"), #392\n",
        "                         \n",
        "])"
      ],
      "execution_count": 10,
      "outputs": []
    },
    {
      "cell_type": "code",
      "metadata": {
        "id": "3SzxjDpKypjq"
      },
      "source": [
        "opt = keras.optimizers.Adam(learning_rate=0.001)\n",
        "model.compile(optimizer=opt,\n",
        "              loss=\"sparse_categorical_crossentropy\",\n",
        "              metrics=[\"accuracy\"])"
      ],
      "execution_count": 11,
      "outputs": []
    },
    {
      "cell_type": "code",
      "metadata": {
        "colab": {
          "base_uri": "https://localhost:8080/"
        },
        "id": "iKUlF7LEzIUW",
        "outputId": "3061964d-618a-4116-b0e7-139ce8a67e23"
      },
      "source": [
        "model.summary()"
      ],
      "execution_count": 12,
      "outputs": [
        {
          "output_type": "stream",
          "name": "stdout",
          "text": [
            "Model: \"sequential_1\"\n",
            "_________________________________________________________________\n",
            "Layer (type)                 Output Shape              Param #   \n",
            "=================================================================\n",
            "flatten (Flatten)            (None, 784)               0         \n",
            "=================================================================\n",
            "Total params: 0\n",
            "Trainable params: 0\n",
            "Non-trainable params: 0\n",
            "_________________________________________________________________\n"
          ]
        }
      ]
    },
    {
      "cell_type": "markdown",
      "metadata": {
        "id": "B3DgzaZrBp0l"
      },
      "source": [
        "# Training the model"
      ]
    },
    {
      "cell_type": "code",
      "metadata": {
        "colab": {
          "base_uri": "https://localhost:8080/"
        },
        "id": "RNGTurkdyrua",
        "outputId": "11587d86-9315-48aa-a149-bb98f31fe98e"
      },
      "source": [
        "training= model.fit(x_train_flatten, y_train,epochs=50, validation_split=0.2)\n",
        "test_loss, test_acc = model.evaluate(x_test_flatten, y_test)\n",
        "print('Test accuracy:> ', test_acc)"
      ],
      "execution_count": 8,
      "outputs": [
        {
          "output_type": "stream",
          "name": "stdout",
          "text": [
            "Epoch 1/50\n",
            "1500/1500 [==============================] - 6s 2ms/step - loss: 0.6261 - accuracy: 0.7886 - val_loss: 0.4952 - val_accuracy: 0.8335\n",
            "Epoch 2/50\n",
            "1500/1500 [==============================] - 4s 2ms/step - loss: 0.4725 - accuracy: 0.8394 - val_loss: 0.4621 - val_accuracy: 0.8419\n",
            "Epoch 3/50\n",
            "1500/1500 [==============================] - 4s 2ms/step - loss: 0.4458 - accuracy: 0.8477 - val_loss: 0.4344 - val_accuracy: 0.8519\n",
            "Epoch 4/50\n",
            "1500/1500 [==============================] - 4s 2ms/step - loss: 0.4274 - accuracy: 0.8529 - val_loss: 0.4378 - val_accuracy: 0.8487\n",
            "Epoch 5/50\n",
            "1500/1500 [==============================] - 4s 2ms/step - loss: 0.4183 - accuracy: 0.8555 - val_loss: 0.4297 - val_accuracy: 0.8490\n",
            "Epoch 6/50\n",
            "1500/1500 [==============================] - 4s 2ms/step - loss: 0.4111 - accuracy: 0.8571 - val_loss: 0.4225 - val_accuracy: 0.8545\n",
            "Epoch 7/50\n",
            "1500/1500 [==============================] - 4s 2ms/step - loss: 0.4058 - accuracy: 0.8590 - val_loss: 0.4188 - val_accuracy: 0.8568\n",
            "Epoch 8/50\n",
            "1500/1500 [==============================] - 4s 2ms/step - loss: 0.4004 - accuracy: 0.8609 - val_loss: 0.4272 - val_accuracy: 0.8500\n",
            "Epoch 9/50\n",
            "1500/1500 [==============================] - 4s 2ms/step - loss: 0.3965 - accuracy: 0.8619 - val_loss: 0.4350 - val_accuracy: 0.8484\n",
            "Epoch 10/50\n",
            "1500/1500 [==============================] - 4s 2ms/step - loss: 0.3931 - accuracy: 0.8637 - val_loss: 0.4172 - val_accuracy: 0.8581\n",
            "Epoch 11/50\n",
            "1500/1500 [==============================] - 4s 2ms/step - loss: 0.3908 - accuracy: 0.8631 - val_loss: 0.4119 - val_accuracy: 0.8578\n",
            "Epoch 12/50\n",
            "1500/1500 [==============================] - 4s 2ms/step - loss: 0.3880 - accuracy: 0.8648 - val_loss: 0.4247 - val_accuracy: 0.8538\n",
            "Epoch 13/50\n",
            "1500/1500 [==============================] - 4s 2ms/step - loss: 0.3852 - accuracy: 0.8653 - val_loss: 0.4212 - val_accuracy: 0.8558\n",
            "Epoch 14/50\n",
            "1500/1500 [==============================] - 4s 2ms/step - loss: 0.3832 - accuracy: 0.8670 - val_loss: 0.4204 - val_accuracy: 0.8530\n",
            "Epoch 15/50\n",
            "1500/1500 [==============================] - 4s 2ms/step - loss: 0.3819 - accuracy: 0.8673 - val_loss: 0.4158 - val_accuracy: 0.8592\n",
            "Epoch 16/50\n",
            "1500/1500 [==============================] - 4s 2ms/step - loss: 0.3801 - accuracy: 0.8658 - val_loss: 0.4355 - val_accuracy: 0.8475\n",
            "Epoch 17/50\n",
            "1500/1500 [==============================] - 3s 2ms/step - loss: 0.3786 - accuracy: 0.8679 - val_loss: 0.4138 - val_accuracy: 0.8583\n",
            "Epoch 18/50\n",
            "1500/1500 [==============================] - 4s 2ms/step - loss: 0.3772 - accuracy: 0.8667 - val_loss: 0.4210 - val_accuracy: 0.8547\n",
            "Epoch 19/50\n",
            "1500/1500 [==============================] - 4s 2ms/step - loss: 0.3757 - accuracy: 0.8682 - val_loss: 0.4346 - val_accuracy: 0.8487\n",
            "Epoch 20/50\n",
            "1500/1500 [==============================] - 4s 2ms/step - loss: 0.3748 - accuracy: 0.8685 - val_loss: 0.4213 - val_accuracy: 0.8550\n",
            "Epoch 21/50\n",
            "1500/1500 [==============================] - 3s 2ms/step - loss: 0.3741 - accuracy: 0.8680 - val_loss: 0.4162 - val_accuracy: 0.8590\n",
            "Epoch 22/50\n",
            "1500/1500 [==============================] - 4s 2ms/step - loss: 0.3736 - accuracy: 0.8684 - val_loss: 0.4272 - val_accuracy: 0.8505\n",
            "Epoch 23/50\n",
            "1500/1500 [==============================] - 3s 2ms/step - loss: 0.3725 - accuracy: 0.8679 - val_loss: 0.4246 - val_accuracy: 0.8534\n",
            "Epoch 24/50\n",
            "1500/1500 [==============================] - 4s 2ms/step - loss: 0.3702 - accuracy: 0.8701 - val_loss: 0.4279 - val_accuracy: 0.8528\n",
            "Epoch 25/50\n",
            "1500/1500 [==============================] - 3s 2ms/step - loss: 0.3707 - accuracy: 0.8695 - val_loss: 0.4144 - val_accuracy: 0.8593\n",
            "Epoch 26/50\n",
            "1500/1500 [==============================] - 4s 2ms/step - loss: 0.3693 - accuracy: 0.8705 - val_loss: 0.4192 - val_accuracy: 0.8554\n",
            "Epoch 27/50\n",
            "1500/1500 [==============================] - 3s 2ms/step - loss: 0.3686 - accuracy: 0.8693 - val_loss: 0.4332 - val_accuracy: 0.8494\n",
            "Epoch 28/50\n",
            "1500/1500 [==============================] - 4s 2ms/step - loss: 0.3669 - accuracy: 0.8709 - val_loss: 0.4259 - val_accuracy: 0.8547\n",
            "Epoch 29/50\n",
            "1500/1500 [==============================] - 4s 2ms/step - loss: 0.3657 - accuracy: 0.8714 - val_loss: 0.4275 - val_accuracy: 0.8533\n",
            "Epoch 30/50\n",
            "1500/1500 [==============================] - 4s 2ms/step - loss: 0.3656 - accuracy: 0.8717 - val_loss: 0.4191 - val_accuracy: 0.8561\n",
            "Epoch 31/50\n",
            "1500/1500 [==============================] - 4s 2ms/step - loss: 0.3649 - accuracy: 0.8703 - val_loss: 0.4273 - val_accuracy: 0.8518\n",
            "Epoch 32/50\n",
            "1500/1500 [==============================] - 4s 2ms/step - loss: 0.3636 - accuracy: 0.8713 - val_loss: 0.4223 - val_accuracy: 0.8559\n",
            "Epoch 33/50\n",
            "1500/1500 [==============================] - 4s 2ms/step - loss: 0.3640 - accuracy: 0.8716 - val_loss: 0.4258 - val_accuracy: 0.8534\n",
            "Epoch 34/50\n",
            "1500/1500 [==============================] - 3s 2ms/step - loss: 0.3625 - accuracy: 0.8718 - val_loss: 0.4230 - val_accuracy: 0.8568\n",
            "Epoch 35/50\n",
            "1500/1500 [==============================] - 4s 2ms/step - loss: 0.3618 - accuracy: 0.8720 - val_loss: 0.4230 - val_accuracy: 0.8558\n",
            "Epoch 36/50\n",
            "1500/1500 [==============================] - 4s 2ms/step - loss: 0.3615 - accuracy: 0.8725 - val_loss: 0.4266 - val_accuracy: 0.8527\n",
            "Epoch 37/50\n",
            "1500/1500 [==============================] - 4s 2ms/step - loss: 0.3611 - accuracy: 0.8725 - val_loss: 0.4170 - val_accuracy: 0.8575\n",
            "Epoch 38/50\n",
            "1500/1500 [==============================] - 4s 2ms/step - loss: 0.3594 - accuracy: 0.8732 - val_loss: 0.4380 - val_accuracy: 0.8480\n",
            "Epoch 39/50\n",
            "1500/1500 [==============================] - 4s 2ms/step - loss: 0.3606 - accuracy: 0.8721 - val_loss: 0.4302 - val_accuracy: 0.8526\n",
            "Epoch 40/50\n",
            "1500/1500 [==============================] - 4s 2ms/step - loss: 0.3595 - accuracy: 0.8721 - val_loss: 0.4371 - val_accuracy: 0.8533\n",
            "Epoch 41/50\n",
            "1500/1500 [==============================] - 4s 2ms/step - loss: 0.3582 - accuracy: 0.8737 - val_loss: 0.4297 - val_accuracy: 0.8535\n",
            "Epoch 42/50\n",
            "1500/1500 [==============================] - 4s 2ms/step - loss: 0.3582 - accuracy: 0.8739 - val_loss: 0.4371 - val_accuracy: 0.8511\n",
            "Epoch 43/50\n",
            "1500/1500 [==============================] - 4s 2ms/step - loss: 0.3569 - accuracy: 0.8730 - val_loss: 0.4287 - val_accuracy: 0.8551\n",
            "Epoch 44/50\n",
            "1500/1500 [==============================] - 4s 2ms/step - loss: 0.3568 - accuracy: 0.8735 - val_loss: 0.4402 - val_accuracy: 0.8503\n",
            "Epoch 45/50\n",
            "1500/1500 [==============================] - 4s 2ms/step - loss: 0.3581 - accuracy: 0.8734 - val_loss: 0.4251 - val_accuracy: 0.8554\n",
            "Epoch 46/50\n",
            "1500/1500 [==============================] - 4s 2ms/step - loss: 0.3575 - accuracy: 0.8723 - val_loss: 0.4269 - val_accuracy: 0.8565\n",
            "Epoch 47/50\n",
            "1500/1500 [==============================] - 4s 2ms/step - loss: 0.3569 - accuracy: 0.8729 - val_loss: 0.4253 - val_accuracy: 0.8543\n",
            "Epoch 48/50\n",
            "1500/1500 [==============================] - 4s 2ms/step - loss: 0.3561 - accuracy: 0.8736 - val_loss: 0.4358 - val_accuracy: 0.8512\n",
            "Epoch 49/50\n",
            "1500/1500 [==============================] - 4s 2ms/step - loss: 0.3542 - accuracy: 0.8753 - val_loss: 0.4292 - val_accuracy: 0.8519\n",
            "Epoch 50/50\n",
            "1500/1500 [==============================] - 4s 2ms/step - loss: 0.3549 - accuracy: 0.8742 - val_loss: 0.4522 - val_accuracy: 0.8439\n",
            "313/313 [==============================] - 1s 3ms/step - loss: 0.4833 - accuracy: 0.8326\n",
            "Test accuracy:>  0.8325999975204468\n"
          ]
        }
      ]
    },
    {
      "cell_type": "markdown",
      "metadata": {
        "id": "_b9dK6_OBwaS"
      },
      "source": [
        "# Visualize the accuracy metrics"
      ]
    },
    {
      "cell_type": "code",
      "metadata": {
        "colab": {
          "base_uri": "https://localhost:8080/",
          "height": 591
        },
        "id": "S2ccaW-Eywky",
        "outputId": "ccce6e6b-5b85-406b-f3e8-9c653e5db5dd"
      },
      "source": [
        "%matplotlib inline\n",
        "# list all data in training\n",
        "print(training.history.keys())\n",
        "# summarize training for accuracy\n",
        "plt.plot(training.history['accuracy'])\n",
        "plt.plot(training.history['val_accuracy'])\n",
        "plt.title('model accuracy')\n",
        "plt.ylabel('accuracy')\n",
        "plt.xlabel('epoch')\n",
        "plt.legend(['train', 'test'], loc='upper left')\n",
        "plt.show()\n",
        "# summarize traning for loss\n",
        "plt.plot(training.history['loss'])\n",
        "plt.plot(training.history['val_loss'])\n",
        "plt.title('model loss')\n",
        "plt.ylabel('loss')\n",
        "plt.xlabel('epoch')\n",
        "plt.legend(['train', 'test'], loc='upper left')\n",
        "plt.show()"
      ],
      "execution_count": 9,
      "outputs": [
        {
          "output_type": "stream",
          "name": "stdout",
          "text": [
            "dict_keys(['loss', 'accuracy', 'val_loss', 'val_accuracy'])\n"
          ]
        },
        {
          "output_type": "display_data",
          "data": {
            "image/png": "[encoded data removed]",
            "text/plain": [
              "<Figure size 432x288 with 1 Axes>"
            ]
          },
          "metadata": {
            "needs_background": "light"
          }
        },
        {
          "output_type": "display_data",
          "data": {
            "image/png": "[encoded data removed]",
            "text/plain": [
              "<Figure size 432x288 with 1 Axes>"
            ]
          },
          "metadata": {
            "needs_background": "light"
          }
        }
      ]
    },
    {
      "cell_type": "markdown",
      "metadata": {
        "id": "T8uT-CDtUyF6"
      },
      "source": [
        "# Adding hidden layers and dropout to the model"
      ]
    },
    {
      "cell_type": "code",
      "metadata": {
        "id": "pnU1IeRUADbV",
        "colab": {
          "base_uri": "https://localhost:8080/"
        },
        "outputId": "a532cc93-475d-4363-f676-59b1cdb25d4c"
      },
      "source": [
        "LAYERS_SIZE= x_train_flatten.shape[1] #784\n",
        "CLASSES= 10 #no of classes are from 0-9\n",
        "model= keras.Sequential([\n",
        "                         keras.layers.Dense(input_shape=(LAYERS_SIZE,),units=LAYERS_SIZE/2,activation=\"relu\"), #392\n",
        "                         keras.layers.Dropout(0.2),\n",
        "                         keras.layers.Dense(units=10, activation=\"softmax\"), #196\n",
        "])\n",
        "\n",
        "opt = keras.optimizers.Adam(learning_rate=0.001)\n",
        "model.compile(optimizer=opt,\n",
        "              loss=\"sparse_categorical_crossentropy\",\n",
        "              metrics=[\"accuracy\"])\n",
        "\n",
        "training= model.fit(x_train_flatten, y_train,epochs=50, validation_split=0.2)\n",
        "test_loss, test_acc = model.evaluate(x_test_flatten, y_test)\n",
        "print('Test accuracy:> ', test_acc)"
      ],
      "execution_count": 13,
      "outputs": [
        {
          "output_type": "stream",
          "name": "stdout",
          "text": [
            "Epoch 1/50\n",
            "1500/1500 [==============================] - 5s 3ms/step - loss: 0.5173 - accuracy: 0.8154 - val_loss: 0.3957 - val_accuracy: 0.8542\n",
            "Epoch 2/50\n",
            "1500/1500 [==============================] - 5s 3ms/step - loss: 0.3933 - accuracy: 0.8567 - val_loss: 0.3709 - val_accuracy: 0.8670\n",
            "Epoch 3/50\n",
            "1500/1500 [==============================] - 5s 3ms/step - loss: 0.3578 - accuracy: 0.8680 - val_loss: 0.3536 - val_accuracy: 0.8777\n",
            "Epoch 4/50\n",
            "1500/1500 [==============================] - 4s 3ms/step - loss: 0.3355 - accuracy: 0.8766 - val_loss: 0.3500 - val_accuracy: 0.8702\n",
            "Epoch 5/50\n",
            "1500/1500 [==============================] - 5s 3ms/step - loss: 0.3198 - accuracy: 0.8809 - val_loss: 0.3222 - val_accuracy: 0.8835\n",
            "Epoch 6/50\n",
            "1500/1500 [==============================] - 5s 3ms/step - loss: 0.3074 - accuracy: 0.8850 - val_loss: 0.3265 - val_accuracy: 0.8832\n",
            "Epoch 7/50\n",
            "1500/1500 [==============================] - 4s 3ms/step - loss: 0.2975 - accuracy: 0.8880 - val_loss: 0.3252 - val_accuracy: 0.8802\n",
            "Epoch 8/50\n",
            "1500/1500 [==============================] - 5s 3ms/step - loss: 0.2836 - accuracy: 0.8933 - val_loss: 0.3182 - val_accuracy: 0.8824\n",
            "Epoch 9/50\n",
            "1500/1500 [==============================] - 4s 3ms/step - loss: 0.2744 - accuracy: 0.8975 - val_loss: 0.3131 - val_accuracy: 0.8873\n",
            "Epoch 10/50\n",
            "1500/1500 [==============================] - 4s 3ms/step - loss: 0.2649 - accuracy: 0.9018 - val_loss: 0.3180 - val_accuracy: 0.8866\n",
            "Epoch 11/50\n",
            "1500/1500 [==============================] - 4s 3ms/step - loss: 0.2593 - accuracy: 0.9021 - val_loss: 0.3124 - val_accuracy: 0.8892\n",
            "Epoch 12/50\n",
            "1500/1500 [==============================] - 5s 3ms/step - loss: 0.2521 - accuracy: 0.9051 - val_loss: 0.3110 - val_accuracy: 0.8909\n",
            "Epoch 13/50\n",
            "1500/1500 [==============================] - 5s 3ms/step - loss: 0.2459 - accuracy: 0.9062 - val_loss: 0.3124 - val_accuracy: 0.8909\n",
            "Epoch 14/50\n",
            "1500/1500 [==============================] - 4s 3ms/step - loss: 0.2366 - accuracy: 0.9113 - val_loss: 0.3123 - val_accuracy: 0.8924\n",
            "Epoch 15/50\n",
            "1500/1500 [==============================] - 5s 3ms/step - loss: 0.2346 - accuracy: 0.9115 - val_loss: 0.3315 - val_accuracy: 0.8878\n",
            "Epoch 16/50\n",
            "1500/1500 [==============================] - 4s 3ms/step - loss: 0.2290 - accuracy: 0.9136 - val_loss: 0.3265 - val_accuracy: 0.8895\n",
            "Epoch 17/50\n",
            "1500/1500 [==============================] - 4s 3ms/step - loss: 0.2233 - accuracy: 0.9153 - val_loss: 0.3303 - val_accuracy: 0.8928\n",
            "Epoch 18/50\n",
            "1500/1500 [==============================] - 5s 3ms/step - loss: 0.2159 - accuracy: 0.9187 - val_loss: 0.3191 - val_accuracy: 0.8893\n",
            "Epoch 19/50\n",
            "1500/1500 [==============================] - 4s 3ms/step - loss: 0.2115 - accuracy: 0.9193 - val_loss: 0.3145 - val_accuracy: 0.8923\n",
            "Epoch 20/50\n",
            "1500/1500 [==============================] - 5s 3ms/step - loss: 0.2088 - accuracy: 0.9208 - val_loss: 0.3173 - val_accuracy: 0.8944\n",
            "Epoch 21/50\n",
            "1500/1500 [==============================] - 4s 3ms/step - loss: 0.2070 - accuracy: 0.9209 - val_loss: 0.3157 - val_accuracy: 0.8950\n",
            "Epoch 22/50\n",
            "1500/1500 [==============================] - 5s 3ms/step - loss: 0.2022 - accuracy: 0.9240 - val_loss: 0.3177 - val_accuracy: 0.8947\n",
            "Epoch 23/50\n",
            "1500/1500 [==============================] - 4s 3ms/step - loss: 0.1969 - accuracy: 0.9260 - val_loss: 0.3221 - val_accuracy: 0.8950\n",
            "Epoch 24/50\n",
            "1500/1500 [==============================] - 4s 3ms/step - loss: 0.1939 - accuracy: 0.9271 - val_loss: 0.3335 - val_accuracy: 0.8953\n",
            "Epoch 25/50\n",
            "1500/1500 [==============================] - 4s 3ms/step - loss: 0.1907 - accuracy: 0.9273 - val_loss: 0.3264 - val_accuracy: 0.8972\n",
            "Epoch 26/50\n",
            "1500/1500 [==============================] - 5s 3ms/step - loss: 0.1867 - accuracy: 0.9270 - val_loss: 0.3260 - val_accuracy: 0.8917\n",
            "Epoch 27/50\n",
            "1500/1500 [==============================] - 4s 3ms/step - loss: 0.1834 - accuracy: 0.9285 - val_loss: 0.3459 - val_accuracy: 0.8925\n",
            "Epoch 28/50\n",
            "1500/1500 [==============================] - 4s 3ms/step - loss: 0.1836 - accuracy: 0.9309 - val_loss: 0.3351 - val_accuracy: 0.8914\n",
            "Epoch 29/50\n",
            "1500/1500 [==============================] - 4s 3ms/step - loss: 0.1784 - accuracy: 0.9328 - val_loss: 0.3465 - val_accuracy: 0.8934\n",
            "Epoch 30/50\n",
            "1500/1500 [==============================] - 5s 3ms/step - loss: 0.1741 - accuracy: 0.9332 - val_loss: 0.3598 - val_accuracy: 0.8953\n",
            "Epoch 31/50\n",
            "1500/1500 [==============================] - 4s 3ms/step - loss: 0.1747 - accuracy: 0.9335 - val_loss: 0.3334 - val_accuracy: 0.8951\n",
            "Epoch 32/50\n",
            "1500/1500 [==============================] - 5s 3ms/step - loss: 0.1693 - accuracy: 0.9346 - val_loss: 0.3438 - val_accuracy: 0.8961\n",
            "Epoch 33/50\n",
            "1500/1500 [==============================] - 5s 3ms/step - loss: 0.1695 - accuracy: 0.9357 - val_loss: 0.3489 - val_accuracy: 0.8942\n",
            "Epoch 34/50\n",
            "1500/1500 [==============================] - 5s 3ms/step - loss: 0.1658 - accuracy: 0.9373 - val_loss: 0.3464 - val_accuracy: 0.8926\n",
            "Epoch 35/50\n",
            "1500/1500 [==============================] - 5s 3ms/step - loss: 0.1635 - accuracy: 0.9385 - val_loss: 0.3624 - val_accuracy: 0.8947\n",
            "Epoch 36/50\n",
            "1500/1500 [==============================] - 4s 3ms/step - loss: 0.1638 - accuracy: 0.9374 - val_loss: 0.3630 - val_accuracy: 0.8947\n",
            "Epoch 37/50\n",
            "1500/1500 [==============================] - 4s 3ms/step - loss: 0.1563 - accuracy: 0.9401 - val_loss: 0.3827 - val_accuracy: 0.8915\n",
            "Epoch 38/50\n",
            "1500/1500 [==============================] - 5s 3ms/step - loss: 0.1571 - accuracy: 0.9394 - val_loss: 0.3749 - val_accuracy: 0.8937\n",
            "Epoch 39/50\n",
            "1500/1500 [==============================] - 5s 3ms/step - loss: 0.1542 - accuracy: 0.9413 - val_loss: 0.3904 - val_accuracy: 0.8915\n",
            "Epoch 40/50\n",
            "1500/1500 [==============================] - 5s 3ms/step - loss: 0.1522 - accuracy: 0.9413 - val_loss: 0.3679 - val_accuracy: 0.8987\n",
            "Epoch 41/50\n",
            "1500/1500 [==============================] - 5s 3ms/step - loss: 0.1517 - accuracy: 0.9411 - val_loss: 0.3664 - val_accuracy: 0.8952\n",
            "Epoch 42/50\n",
            "1500/1500 [==============================] - 5s 3ms/step - loss: 0.1491 - accuracy: 0.9433 - val_loss: 0.3714 - val_accuracy: 0.8936\n",
            "Epoch 43/50\n",
            "1500/1500 [==============================] - 5s 3ms/step - loss: 0.1438 - accuracy: 0.9431 - val_loss: 0.3818 - val_accuracy: 0.8920\n",
            "Epoch 44/50\n",
            "1500/1500 [==============================] - 4s 3ms/step - loss: 0.1456 - accuracy: 0.9458 - val_loss: 0.3952 - val_accuracy: 0.8953\n",
            "Epoch 45/50\n",
            "1500/1500 [==============================] - 5s 3ms/step - loss: 0.1443 - accuracy: 0.9458 - val_loss: 0.4066 - val_accuracy: 0.8953\n",
            "Epoch 46/50\n",
            "1500/1500 [==============================] - 5s 3ms/step - loss: 0.1412 - accuracy: 0.9456 - val_loss: 0.3946 - val_accuracy: 0.8969\n",
            "Epoch 47/50\n",
            "1500/1500 [==============================] - 4s 3ms/step - loss: 0.1403 - accuracy: 0.9465 - val_loss: 0.4064 - val_accuracy: 0.8927\n",
            "Epoch 48/50\n",
            "1500/1500 [==============================] - 4s 3ms/step - loss: 0.1386 - accuracy: 0.9472 - val_loss: 0.3927 - val_accuracy: 0.8941\n",
            "Epoch 49/50\n",
            "1500/1500 [==============================] - 4s 3ms/step - loss: 0.1356 - accuracy: 0.9473 - val_loss: 0.4134 - val_accuracy: 0.8942\n",
            "Epoch 50/50\n",
            "1500/1500 [==============================] - 4s 3ms/step - loss: 0.1350 - accuracy: 0.9489 - val_loss: 0.4016 - val_accuracy: 0.8974\n",
            "313/313 [==============================] - 1s 3ms/step - loss: 0.4509 - accuracy: 0.8927\n",
            "Test accuracy:>  0.8927000164985657\n"
          ]
        }
      ]
    },
    {
      "cell_type": "markdown",
      "metadata": {
        "id": "5nTLZ_xwYh5C"
      },
      "source": [
        "# Adding more layers "
      ]
    },
    {
      "cell_type": "code",
      "metadata": {
        "colab": {
          "base_uri": "https://localhost:8080/"
        },
        "id": "xwIj5AfEYkgz",
        "outputId": "f2d3da19-20b9-4edd-94b5-19a5da307587"
      },
      "source": [
        "LAYERS_SIZE= x_train_flatten.shape[1] #784\n",
        "CLASSES= 10 #no of classes are from 0-9\n",
        "model= keras.Sequential([\n",
        "                         keras.layers.Dense(input_shape=(LAYERS_SIZE,),units=LAYERS_SIZE/2,activation=\"relu\"), #392\n",
        "                         keras.layers.Dense(units=LAYERS_SIZE/4, activation=\"relu\"),\n",
        "                         keras.layers.Dense(units=LAYERS_SIZE/8, activation=\"relu\"),\n",
        "                         keras.layers.Dropout(0.2),\n",
        "                         keras.layers.Dense(units=10, activation=\"softmax\"), #196\n",
        "])\n",
        "\n",
        "opt = keras.optimizers.Adam(learning_rate=0.001)\n",
        "model.compile(optimizer=opt,\n",
        "              loss=\"sparse_categorical_crossentropy\",\n",
        "              metrics=[\"accuracy\"])\n",
        "\n",
        "training= model.fit(x_train_flatten, y_train,epochs=50, validation_split=0.2)\n",
        "test_loss, test_acc = model.evaluate(x_test_flatten, y_test)\n",
        "print('Test accuracy:> ', test_acc)"
      ],
      "execution_count": 14,
      "outputs": [
        {
          "output_type": "stream",
          "name": "stdout",
          "text": [
            "Epoch 1/50\n",
            "1500/1500 [==============================] - 6s 4ms/step - loss: 0.5251 - accuracy: 0.8123 - val_loss: 0.4164 - val_accuracy: 0.8528\n",
            "Epoch 2/50\n",
            "1500/1500 [==============================] - 5s 3ms/step - loss: 0.3882 - accuracy: 0.8595 - val_loss: 0.4034 - val_accuracy: 0.8553\n",
            "Epoch 3/50\n",
            "1500/1500 [==============================] - 5s 4ms/step - loss: 0.3477 - accuracy: 0.8738 - val_loss: 0.3510 - val_accuracy: 0.8709\n",
            "Epoch 4/50\n",
            "1500/1500 [==============================] - 5s 4ms/step - loss: 0.3226 - accuracy: 0.8822 - val_loss: 0.3488 - val_accuracy: 0.8717\n",
            "Epoch 5/50\n",
            "1500/1500 [==============================] - 5s 4ms/step - loss: 0.3030 - accuracy: 0.8881 - val_loss: 0.3452 - val_accuracy: 0.8757\n",
            "Epoch 6/50\n",
            "1500/1500 [==============================] - 5s 4ms/step - loss: 0.2886 - accuracy: 0.8936 - val_loss: 0.3234 - val_accuracy: 0.8885\n",
            "Epoch 7/50\n",
            "1500/1500 [==============================] - 5s 4ms/step - loss: 0.2752 - accuracy: 0.8972 - val_loss: 0.3505 - val_accuracy: 0.8819\n",
            "Epoch 8/50\n",
            "1500/1500 [==============================] - 5s 4ms/step - loss: 0.2657 - accuracy: 0.9012 - val_loss: 0.3458 - val_accuracy: 0.8737\n",
            "Epoch 9/50\n",
            "1500/1500 [==============================] - 5s 4ms/step - loss: 0.2533 - accuracy: 0.9054 - val_loss: 0.3464 - val_accuracy: 0.8854\n",
            "Epoch 10/50\n",
            "1500/1500 [==============================] - 5s 4ms/step - loss: 0.2428 - accuracy: 0.9091 - val_loss: 0.3331 - val_accuracy: 0.8835\n",
            "Epoch 11/50\n",
            "1500/1500 [==============================] - 5s 4ms/step - loss: 0.2339 - accuracy: 0.9127 - val_loss: 0.3279 - val_accuracy: 0.8883\n",
            "Epoch 12/50\n",
            "1500/1500 [==============================] - 5s 4ms/step - loss: 0.2262 - accuracy: 0.9144 - val_loss: 0.3491 - val_accuracy: 0.8813\n",
            "Epoch 13/50\n",
            "1500/1500 [==============================] - 5s 4ms/step - loss: 0.2201 - accuracy: 0.9181 - val_loss: 0.3274 - val_accuracy: 0.8909\n",
            "Epoch 14/50\n",
            "1500/1500 [==============================] - 5s 4ms/step - loss: 0.2116 - accuracy: 0.9192 - val_loss: 0.3238 - val_accuracy: 0.8944\n",
            "Epoch 15/50\n",
            "1500/1500 [==============================] - 5s 4ms/step - loss: 0.2044 - accuracy: 0.9224 - val_loss: 0.3587 - val_accuracy: 0.8884\n",
            "Epoch 16/50\n",
            "1500/1500 [==============================] - 5s 4ms/step - loss: 0.1994 - accuracy: 0.9242 - val_loss: 0.3933 - val_accuracy: 0.8829\n",
            "Epoch 17/50\n",
            "1500/1500 [==============================] - 5s 4ms/step - loss: 0.1918 - accuracy: 0.9256 - val_loss: 0.3431 - val_accuracy: 0.8924\n",
            "Epoch 18/50\n",
            "1500/1500 [==============================] - 5s 4ms/step - loss: 0.1885 - accuracy: 0.9291 - val_loss: 0.3569 - val_accuracy: 0.8924\n",
            "Epoch 19/50\n",
            "1500/1500 [==============================] - 5s 4ms/step - loss: 0.1850 - accuracy: 0.9303 - val_loss: 0.3834 - val_accuracy: 0.8892\n",
            "Epoch 20/50\n",
            "1500/1500 [==============================] - 5s 4ms/step - loss: 0.1789 - accuracy: 0.9315 - val_loss: 0.3649 - val_accuracy: 0.8962\n",
            "Epoch 21/50\n",
            "1500/1500 [==============================] - 5s 4ms/step - loss: 0.1723 - accuracy: 0.9336 - val_loss: 0.4112 - val_accuracy: 0.8857\n",
            "Epoch 22/50\n",
            "1500/1500 [==============================] - 5s 4ms/step - loss: 0.1724 - accuracy: 0.9346 - val_loss: 0.3800 - val_accuracy: 0.8909\n",
            "Epoch 23/50\n",
            "1500/1500 [==============================] - 5s 4ms/step - loss: 0.1654 - accuracy: 0.9363 - val_loss: 0.4068 - val_accuracy: 0.8942\n",
            "Epoch 24/50\n",
            "1500/1500 [==============================] - 5s 4ms/step - loss: 0.1616 - accuracy: 0.9385 - val_loss: 0.4046 - val_accuracy: 0.8917\n",
            "Epoch 25/50\n",
            "1500/1500 [==============================] - 5s 4ms/step - loss: 0.1617 - accuracy: 0.9385 - val_loss: 0.4018 - val_accuracy: 0.8920\n",
            "Epoch 26/50\n",
            "1500/1500 [==============================] - 5s 4ms/step - loss: 0.1544 - accuracy: 0.9410 - val_loss: 0.4049 - val_accuracy: 0.8961\n",
            "Epoch 27/50\n",
            "1500/1500 [==============================] - 5s 4ms/step - loss: 0.1517 - accuracy: 0.9420 - val_loss: 0.4081 - val_accuracy: 0.8946\n",
            "Epoch 28/50\n",
            "1500/1500 [==============================] - 5s 4ms/step - loss: 0.1509 - accuracy: 0.9434 - val_loss: 0.4821 - val_accuracy: 0.8910\n",
            "Epoch 29/50\n",
            "1500/1500 [==============================] - 5s 4ms/step - loss: 0.1437 - accuracy: 0.9438 - val_loss: 0.4608 - val_accuracy: 0.8958\n",
            "Epoch 30/50\n",
            "1500/1500 [==============================] - 5s 4ms/step - loss: 0.1396 - accuracy: 0.9461 - val_loss: 0.5035 - val_accuracy: 0.8857\n",
            "Epoch 31/50\n",
            "1500/1500 [==============================] - 5s 4ms/step - loss: 0.1403 - accuracy: 0.9457 - val_loss: 0.4625 - val_accuracy: 0.8954\n",
            "Epoch 32/50\n",
            "1500/1500 [==============================] - 5s 4ms/step - loss: 0.1383 - accuracy: 0.9471 - val_loss: 0.4799 - val_accuracy: 0.8923\n",
            "Epoch 33/50\n",
            "1500/1500 [==============================] - 5s 4ms/step - loss: 0.1365 - accuracy: 0.9485 - val_loss: 0.4792 - val_accuracy: 0.8974\n",
            "Epoch 34/50\n",
            "1500/1500 [==============================] - 5s 4ms/step - loss: 0.1313 - accuracy: 0.9487 - val_loss: 0.4578 - val_accuracy: 0.8965\n",
            "Epoch 35/50\n",
            "1500/1500 [==============================] - 5s 4ms/step - loss: 0.1314 - accuracy: 0.9496 - val_loss: 0.4862 - val_accuracy: 0.8923\n",
            "Epoch 36/50\n",
            "1500/1500 [==============================] - 5s 4ms/step - loss: 0.1284 - accuracy: 0.9494 - val_loss: 0.5107 - val_accuracy: 0.8932\n",
            "Epoch 37/50\n",
            "1500/1500 [==============================] - 5s 4ms/step - loss: 0.1225 - accuracy: 0.9532 - val_loss: 0.5373 - val_accuracy: 0.8958\n",
            "Epoch 38/50\n",
            "1500/1500 [==============================] - 5s 4ms/step - loss: 0.1259 - accuracy: 0.9517 - val_loss: 0.5715 - val_accuracy: 0.8960\n",
            "Epoch 39/50\n",
            "1500/1500 [==============================] - 5s 4ms/step - loss: 0.1203 - accuracy: 0.9531 - val_loss: 0.5597 - val_accuracy: 0.8898\n",
            "Epoch 40/50\n",
            "1500/1500 [==============================] - 5s 4ms/step - loss: 0.1192 - accuracy: 0.9553 - val_loss: 0.5174 - val_accuracy: 0.8941\n",
            "Epoch 41/50\n",
            "1500/1500 [==============================] - 5s 4ms/step - loss: 0.1136 - accuracy: 0.9556 - val_loss: 0.5184 - val_accuracy: 0.8947\n",
            "Epoch 42/50\n",
            "1500/1500 [==============================] - 5s 4ms/step - loss: 0.1188 - accuracy: 0.9539 - val_loss: 0.5137 - val_accuracy: 0.8960\n",
            "Epoch 43/50\n",
            "1500/1500 [==============================] - 5s 4ms/step - loss: 0.1139 - accuracy: 0.9572 - val_loss: 0.5719 - val_accuracy: 0.8921\n",
            "Epoch 44/50\n",
            "1500/1500 [==============================] - 5s 4ms/step - loss: 0.1066 - accuracy: 0.9588 - val_loss: 0.6235 - val_accuracy: 0.8919\n",
            "Epoch 45/50\n",
            "1500/1500 [==============================] - 5s 4ms/step - loss: 0.1069 - accuracy: 0.9580 - val_loss: 0.6322 - val_accuracy: 0.8921\n",
            "Epoch 46/50\n",
            "1500/1500 [==============================] - 5s 4ms/step - loss: 0.1170 - accuracy: 0.9571 - val_loss: 0.6243 - val_accuracy: 0.8984\n",
            "Epoch 47/50\n",
            "1500/1500 [==============================] - 5s 4ms/step - loss: 0.1008 - accuracy: 0.9609 - val_loss: 0.5939 - val_accuracy: 0.8992\n",
            "Epoch 48/50\n",
            "1500/1500 [==============================] - 5s 4ms/step - loss: 0.1056 - accuracy: 0.9606 - val_loss: 0.5879 - val_accuracy: 0.8957\n",
            "Epoch 49/50\n",
            "1500/1500 [==============================] - 5s 4ms/step - loss: 0.0993 - accuracy: 0.9624 - val_loss: 0.6060 - val_accuracy: 0.8952\n",
            "Epoch 50/50\n",
            "1500/1500 [==============================] - 5s 4ms/step - loss: 0.1026 - accuracy: 0.9608 - val_loss: 0.5937 - val_accuracy: 0.8958\n",
            "313/313 [==============================] - 1s 3ms/step - loss: 0.6674 - accuracy: 0.8832\n",
            "Test accuracy:>  0.8831999897956848\n"
          ]
        }
      ]
    },
    {
      "cell_type": "markdown",
      "metadata": {
        "id": "i52-VUatan2C"
      },
      "source": [
        "# Changing optimizer of the model"
      ]
    },
    {
      "cell_type": "code",
      "metadata": {
        "colab": {
          "base_uri": "https://localhost:8080/"
        },
        "id": "EPzP-pj-atAf",
        "outputId": "7b318bc0-f51a-4ead-eb83-a33ffc3053cb"
      },
      "source": [
        "LAYERS_SIZE= x_train_flatten.shape[1] #784\n",
        "CLASSES= 10 #no of classes are from 0-9\n",
        "model= keras.Sequential([\n",
        "                         keras.layers.Dense(input_shape=(LAYERS_SIZE,),units=LAYERS_SIZE/2,activation=\"relu\"), #392\n",
        "                         keras.layers.Dense(units=LAYERS_SIZE/4, activation=\"relu\"),\n",
        "                         keras.layers.Dense(units=LAYERS_SIZE/8, activation=\"relu\"),\n",
        "                         keras.layers.Dropout(0.2),\n",
        "                         keras.layers.Dense(units=10, activation=\"softmax\"), #196\n",
        "])\n",
        "\n",
        "opt = keras.optimizers.RMSprop(learning_rate=0.001)\n",
        "model.compile(optimizer=opt,\n",
        "              loss=\"sparse_categorical_crossentropy\",\n",
        "              metrics=[\"accuracy\"])\n",
        "\n",
        "training= model.fit(x_train_flatten, y_train,epochs=50, validation_split=0.2)\n",
        "test_loss, test_acc = model.evaluate(x_test_flatten, y_test)\n",
        "print('Test accuracy:> ', test_acc)"
      ],
      "execution_count": 15,
      "outputs": [
        {
          "output_type": "stream",
          "name": "stdout",
          "text": [
            "Epoch 1/50\n",
            "1500/1500 [==============================] - 8s 5ms/step - loss: 0.5562 - accuracy: 0.8008 - val_loss: 0.4426 - val_accuracy: 0.8422\n",
            "Epoch 2/50\n",
            "1500/1500 [==============================] - 7s 4ms/step - loss: 0.4342 - accuracy: 0.8503 - val_loss: 0.3990 - val_accuracy: 0.8577\n",
            "Epoch 3/50\n",
            "1500/1500 [==============================] - 7s 4ms/step - loss: 0.4190 - accuracy: 0.8589 - val_loss: 0.4281 - val_accuracy: 0.8603\n",
            "Epoch 4/50\n",
            "1500/1500 [==============================] - 7s 4ms/step - loss: 0.4146 - accuracy: 0.8636 - val_loss: 0.4096 - val_accuracy: 0.8705\n",
            "Epoch 5/50\n",
            "1500/1500 [==============================] - 7s 4ms/step - loss: 0.4203 - accuracy: 0.8646 - val_loss: 0.4860 - val_accuracy: 0.8542\n",
            "Epoch 6/50\n",
            "1500/1500 [==============================] - 7s 4ms/step - loss: 0.4264 - accuracy: 0.8634 - val_loss: 0.4651 - val_accuracy: 0.8674\n",
            "Epoch 7/50\n",
            "1500/1500 [==============================] - 6s 4ms/step - loss: 0.4270 - accuracy: 0.8652 - val_loss: 0.4679 - val_accuracy: 0.8755\n",
            "Epoch 8/50\n",
            "1500/1500 [==============================] - 7s 4ms/step - loss: 0.4354 - accuracy: 0.8634 - val_loss: 0.6273 - val_accuracy: 0.8356\n",
            "Epoch 9/50\n",
            "1500/1500 [==============================] - 7s 4ms/step - loss: 0.4378 - accuracy: 0.8651 - val_loss: 0.5824 - val_accuracy: 0.8387\n",
            "Epoch 10/50\n",
            "1500/1500 [==============================] - 7s 4ms/step - loss: 0.4468 - accuracy: 0.8625 - val_loss: 0.5267 - val_accuracy: 0.8733\n",
            "Epoch 11/50\n",
            "1500/1500 [==============================] - 7s 4ms/step - loss: 0.4400 - accuracy: 0.8646 - val_loss: 0.5729 - val_accuracy: 0.8579\n",
            "Epoch 12/50\n",
            "1500/1500 [==============================] - 7s 4ms/step - loss: 0.4460 - accuracy: 0.8637 - val_loss: 0.5188 - val_accuracy: 0.8633\n",
            "Epoch 13/50\n",
            "1500/1500 [==============================] - 7s 4ms/step - loss: 0.4716 - accuracy: 0.8592 - val_loss: 1.2929 - val_accuracy: 0.7925\n",
            "Epoch 14/50\n",
            "1500/1500 [==============================] - 7s 4ms/step - loss: 0.4797 - accuracy: 0.8592 - val_loss: 0.9454 - val_accuracy: 0.7921\n",
            "Epoch 15/50\n",
            "1500/1500 [==============================] - 7s 4ms/step - loss: 0.4998 - accuracy: 0.8531 - val_loss: 0.6631 - val_accuracy: 0.8568\n",
            "Epoch 16/50\n",
            "1500/1500 [==============================] - 7s 4ms/step - loss: 0.4938 - accuracy: 0.8542 - val_loss: 0.6462 - val_accuracy: 0.8651\n",
            "Epoch 17/50\n",
            "1500/1500 [==============================] - 7s 4ms/step - loss: 0.5167 - accuracy: 0.8532 - val_loss: 0.6522 - val_accuracy: 0.8510\n",
            "Epoch 18/50\n",
            "1500/1500 [==============================] - 7s 4ms/step - loss: 0.5116 - accuracy: 0.8545 - val_loss: 0.8278 - val_accuracy: 0.8568\n",
            "Epoch 19/50\n",
            "1500/1500 [==============================] - 7s 4ms/step - loss: 0.5126 - accuracy: 0.8521 - val_loss: 0.7892 - val_accuracy: 0.8189\n",
            "Epoch 20/50\n",
            "1500/1500 [==============================] - 7s 4ms/step - loss: 0.5264 - accuracy: 0.8484 - val_loss: 0.6977 - val_accuracy: 0.8648\n",
            "Epoch 21/50\n",
            "1500/1500 [==============================] - 7s 4ms/step - loss: 0.5254 - accuracy: 0.8491 - val_loss: 0.8688 - val_accuracy: 0.8374\n",
            "Epoch 22/50\n",
            "1500/1500 [==============================] - 7s 4ms/step - loss: 0.5434 - accuracy: 0.8488 - val_loss: 0.8922 - val_accuracy: 0.8652\n",
            "Epoch 23/50\n",
            "1500/1500 [==============================] - 7s 4ms/step - loss: 0.5642 - accuracy: 0.8452 - val_loss: 1.3957 - val_accuracy: 0.8287\n",
            "Epoch 24/50\n",
            "1500/1500 [==============================] - 7s 4ms/step - loss: 0.5890 - accuracy: 0.8464 - val_loss: 1.5438 - val_accuracy: 0.8120\n",
            "Epoch 25/50\n",
            "1500/1500 [==============================] - 7s 4ms/step - loss: 0.6032 - accuracy: 0.8395 - val_loss: 0.8673 - val_accuracy: 0.8434\n",
            "Epoch 26/50\n",
            "1500/1500 [==============================] - 7s 4ms/step - loss: 0.5995 - accuracy: 0.8365 - val_loss: 0.8413 - val_accuracy: 0.8657\n",
            "Epoch 27/50\n",
            "1500/1500 [==============================] - 7s 4ms/step - loss: 0.6193 - accuracy: 0.8339 - val_loss: 1.0068 - val_accuracy: 0.8554\n",
            "Epoch 28/50\n",
            "1500/1500 [==============================] - 7s 4ms/step - loss: 0.6526 - accuracy: 0.8293 - val_loss: 1.0894 - val_accuracy: 0.8413\n",
            "Epoch 29/50\n",
            "1500/1500 [==============================] - 7s 4ms/step - loss: 0.6527 - accuracy: 0.8300 - val_loss: 0.9352 - val_accuracy: 0.8355\n",
            "Epoch 30/50\n",
            "1500/1500 [==============================] - 7s 4ms/step - loss: 0.6577 - accuracy: 0.8250 - val_loss: 0.8247 - val_accuracy: 0.8511\n",
            "Epoch 31/50\n",
            "1500/1500 [==============================] - 7s 4ms/step - loss: 0.6644 - accuracy: 0.8279 - val_loss: 1.3292 - val_accuracy: 0.8367\n",
            "Epoch 32/50\n",
            "1500/1500 [==============================] - 7s 4ms/step - loss: 0.6971 - accuracy: 0.8251 - val_loss: 1.0372 - val_accuracy: 0.8272\n",
            "Epoch 33/50\n",
            "1500/1500 [==============================] - 7s 4ms/step - loss: 0.6874 - accuracy: 0.8222 - val_loss: 0.9445 - val_accuracy: 0.8242\n",
            "Epoch 34/50\n",
            "1500/1500 [==============================] - 7s 4ms/step - loss: 0.7722 - accuracy: 0.8203 - val_loss: 1.0921 - val_accuracy: 0.8058\n",
            "Epoch 35/50\n",
            "1500/1500 [==============================] - 7s 4ms/step - loss: 0.7524 - accuracy: 0.8238 - val_loss: 1.4723 - val_accuracy: 0.8578\n",
            "Epoch 36/50\n",
            "1500/1500 [==============================] - 7s 4ms/step - loss: 0.7410 - accuracy: 0.8199 - val_loss: 1.1808 - val_accuracy: 0.8432\n",
            "Epoch 37/50\n",
            "1500/1500 [==============================] - 7s 5ms/step - loss: 0.7933 - accuracy: 0.8223 - val_loss: 2.7202 - val_accuracy: 0.7769\n",
            "Epoch 38/50\n",
            "1500/1500 [==============================] - 7s 5ms/step - loss: 0.8476 - accuracy: 0.8217 - val_loss: 1.3795 - val_accuracy: 0.8382\n",
            "Epoch 39/50\n",
            "1500/1500 [==============================] - 7s 4ms/step - loss: 0.8786 - accuracy: 0.8209 - val_loss: 1.0935 - val_accuracy: 0.8140\n",
            "Epoch 40/50\n",
            "1500/1500 [==============================] - 7s 4ms/step - loss: 0.8973 - accuracy: 0.8186 - val_loss: 1.2365 - val_accuracy: 0.8142\n",
            "Epoch 41/50\n",
            "1500/1500 [==============================] - 7s 4ms/step - loss: 0.8314 - accuracy: 0.8197 - val_loss: 2.3558 - val_accuracy: 0.8185\n",
            "Epoch 42/50\n",
            "1500/1500 [==============================] - 7s 4ms/step - loss: 0.9395 - accuracy: 0.8195 - val_loss: 1.4877 - val_accuracy: 0.8531\n",
            "Epoch 43/50\n",
            "1500/1500 [==============================] - 7s 4ms/step - loss: 0.9483 - accuracy: 0.8172 - val_loss: 2.9767 - val_accuracy: 0.7707\n",
            "Epoch 44/50\n",
            "1500/1500 [==============================] - 7s 4ms/step - loss: 0.9141 - accuracy: 0.8121 - val_loss: 1.2624 - val_accuracy: 0.8376\n",
            "Epoch 45/50\n",
            "1500/1500 [==============================] - 7s 4ms/step - loss: 0.9377 - accuracy: 0.8093 - val_loss: 1.4333 - val_accuracy: 0.8226\n",
            "Epoch 46/50\n",
            "1500/1500 [==============================] - 7s 4ms/step - loss: 0.9871 - accuracy: 0.8086 - val_loss: 1.1744 - val_accuracy: 0.7843\n",
            "Epoch 47/50\n",
            "1500/1500 [==============================] - 7s 4ms/step - loss: 1.0668 - accuracy: 0.8145 - val_loss: 14.3964 - val_accuracy: 0.6589\n",
            "Epoch 48/50\n",
            "1500/1500 [==============================] - 7s 4ms/step - loss: 1.0421 - accuracy: 0.8091 - val_loss: 1.5220 - val_accuracy: 0.8357\n",
            "Epoch 49/50\n",
            "1500/1500 [==============================] - 7s 4ms/step - loss: 1.0519 - accuracy: 0.8028 - val_loss: 1.9576 - val_accuracy: 0.8032\n",
            "Epoch 50/50\n",
            "1500/1500 [==============================] - 7s 4ms/step - loss: 1.1572 - accuracy: 0.8093 - val_loss: 1.0097 - val_accuracy: 0.8307\n",
            "313/313 [==============================] - 1s 3ms/step - loss: 1.3710 - accuracy: 0.8212\n",
            "Test accuracy:>  0.8212000131607056\n"
          ]
        }
      ]
    },
    {
      "cell_type": "markdown",
      "metadata": {
        "id": "zxmzbbGWbB1e"
      },
      "source": [
        "# Adding more layers to the model"
      ]
    },
    {
      "cell_type": "code",
      "metadata": {
        "colab": {
          "base_uri": "https://localhost:8080/"
        },
        "id": "jZenTJHkbGmy",
        "outputId": "5e946847-4a9e-477a-dc29-ab5824a48fd8"
      },
      "source": [
        "LAYERS_SIZE= x_train_flatten.shape[1] #784\n",
        "CLASSES= 10 #no of classes are from 0-9\n",
        "model= keras.Sequential([\n",
        "                         keras.layers.Dense(input_shape=(LAYERS_SIZE,),units=LAYERS_SIZE/2,activation=\"relu\"), #392\n",
        "                         keras.layers.Dropout(0.2),\n",
        "                         keras.layers.Dense(units=LAYERS_SIZE/4, activation=\"relu\"),\n",
        "                         keras.layers.Dropout(0.2),\n",
        "                         keras.layers.Dense(units=LAYERS_SIZE/8, activation=\"relu\"),\n",
        "                         keras.layers.Dropout(0.2),\n",
        "                         keras.layers.Dense(units=LAYERS_SIZE/16, activation=\"relu\"),\n",
        "                         keras.layers.Dropout(0.2),\n",
        "                         keras.layers.Dense(units=10, activation=\"softmax\"), #196\n",
        "])\n",
        "\n",
        "opt = keras.optimizers.Adam(learning_rate=0.001)\n",
        "model.compile(optimizer=opt,\n",
        "              loss=\"sparse_categorical_crossentropy\",\n",
        "              metrics=[\"accuracy\"])\n",
        "\n",
        "training= model.fit(x_train_flatten, y_train,epochs=50, validation_split=0.2)\n",
        "test_loss, test_acc = model.evaluate(x_test_flatten, y_test)\n",
        "print('Test accuracy:> ', test_acc)"
      ],
      "execution_count": 16,
      "outputs": [
        {
          "output_type": "stream",
          "name": "stdout",
          "text": [
            "Epoch 1/50\n",
            "1500/1500 [==============================] - 7s 4ms/step - loss: 0.6602 - accuracy: 0.7611 - val_loss: 0.4459 - val_accuracy: 0.8381\n",
            "Epoch 2/50\n",
            "1500/1500 [==============================] - 6s 4ms/step - loss: 0.4689 - accuracy: 0.8349 - val_loss: 0.4008 - val_accuracy: 0.8531\n",
            "Epoch 3/50\n",
            "1500/1500 [==============================] - 6s 4ms/step - loss: 0.4251 - accuracy: 0.8492 - val_loss: 0.3943 - val_accuracy: 0.8541\n",
            "Epoch 4/50\n",
            "1500/1500 [==============================] - 6s 4ms/step - loss: 0.3980 - accuracy: 0.8586 - val_loss: 0.3615 - val_accuracy: 0.8708\n",
            "Epoch 5/50\n",
            "1500/1500 [==============================] - 6s 4ms/step - loss: 0.3813 - accuracy: 0.8650 - val_loss: 0.3531 - val_accuracy: 0.8743\n",
            "Epoch 6/50\n",
            "1500/1500 [==============================] - 6s 4ms/step - loss: 0.3650 - accuracy: 0.8697 - val_loss: 0.3491 - val_accuracy: 0.8724\n",
            "Epoch 7/50\n",
            "1500/1500 [==============================] - 6s 4ms/step - loss: 0.3544 - accuracy: 0.8728 - val_loss: 0.3437 - val_accuracy: 0.8751\n",
            "Epoch 8/50\n",
            "1500/1500 [==============================] - 6s 4ms/step - loss: 0.3419 - accuracy: 0.8770 - val_loss: 0.3423 - val_accuracy: 0.8822\n",
            "Epoch 9/50\n",
            "1500/1500 [==============================] - 6s 4ms/step - loss: 0.3330 - accuracy: 0.8805 - val_loss: 0.3354 - val_accuracy: 0.8829\n",
            "Epoch 10/50\n",
            "1500/1500 [==============================] - 6s 4ms/step - loss: 0.3259 - accuracy: 0.8839 - val_loss: 0.3361 - val_accuracy: 0.8842\n",
            "Epoch 11/50\n",
            "1500/1500 [==============================] - 6s 4ms/step - loss: 0.3173 - accuracy: 0.8852 - val_loss: 0.3265 - val_accuracy: 0.8835\n",
            "Epoch 12/50\n",
            "1500/1500 [==============================] - 6s 4ms/step - loss: 0.3126 - accuracy: 0.8869 - val_loss: 0.3319 - val_accuracy: 0.8838\n",
            "Epoch 13/50\n",
            "1500/1500 [==============================] - 6s 4ms/step - loss: 0.3059 - accuracy: 0.8886 - val_loss: 0.3357 - val_accuracy: 0.8861\n",
            "Epoch 14/50\n",
            "1500/1500 [==============================] - 6s 4ms/step - loss: 0.2988 - accuracy: 0.8928 - val_loss: 0.3201 - val_accuracy: 0.8873\n",
            "Epoch 15/50\n",
            "1500/1500 [==============================] - 6s 4ms/step - loss: 0.2960 - accuracy: 0.8920 - val_loss: 0.3147 - val_accuracy: 0.8872\n",
            "Epoch 16/50\n",
            "1500/1500 [==============================] - 6s 4ms/step - loss: 0.2935 - accuracy: 0.8951 - val_loss: 0.3144 - val_accuracy: 0.8904\n",
            "Epoch 17/50\n",
            "1500/1500 [==============================] - 6s 4ms/step - loss: 0.2871 - accuracy: 0.8955 - val_loss: 0.3187 - val_accuracy: 0.8893\n",
            "Epoch 18/50\n",
            "1500/1500 [==============================] - 6s 4ms/step - loss: 0.2858 - accuracy: 0.8948 - val_loss: 0.3088 - val_accuracy: 0.8905\n",
            "Epoch 19/50\n",
            "1500/1500 [==============================] - 6s 4ms/step - loss: 0.2786 - accuracy: 0.8994 - val_loss: 0.3236 - val_accuracy: 0.8880\n",
            "Epoch 20/50\n",
            "1500/1500 [==============================] - 6s 4ms/step - loss: 0.2759 - accuracy: 0.9012 - val_loss: 0.3238 - val_accuracy: 0.8901\n",
            "Epoch 21/50\n",
            "1500/1500 [==============================] - 6s 4ms/step - loss: 0.2733 - accuracy: 0.9013 - val_loss: 0.3255 - val_accuracy: 0.8878\n",
            "Epoch 22/50\n",
            "1500/1500 [==============================] - 6s 4ms/step - loss: 0.2752 - accuracy: 0.9000 - val_loss: 0.3203 - val_accuracy: 0.8888\n",
            "Epoch 23/50\n",
            "1500/1500 [==============================] - 6s 4ms/step - loss: 0.2644 - accuracy: 0.9045 - val_loss: 0.3368 - val_accuracy: 0.8929\n",
            "Epoch 24/50\n",
            "1500/1500 [==============================] - 6s 4ms/step - loss: 0.2620 - accuracy: 0.9052 - val_loss: 0.3197 - val_accuracy: 0.8950\n",
            "Epoch 25/50\n",
            "1500/1500 [==============================] - 6s 4ms/step - loss: 0.2581 - accuracy: 0.9061 - val_loss: 0.3161 - val_accuracy: 0.8919\n",
            "Epoch 26/50\n",
            "1500/1500 [==============================] - 6s 4ms/step - loss: 0.2599 - accuracy: 0.9053 - val_loss: 0.3251 - val_accuracy: 0.8925\n",
            "Epoch 27/50\n",
            "1500/1500 [==============================] - 6s 4ms/step - loss: 0.2582 - accuracy: 0.9070 - val_loss: 0.3288 - val_accuracy: 0.8867\n",
            "Epoch 28/50\n",
            "1500/1500 [==============================] - 6s 4ms/step - loss: 0.2527 - accuracy: 0.9082 - val_loss: 0.3108 - val_accuracy: 0.8963\n",
            "Epoch 29/50\n",
            "1500/1500 [==============================] - 6s 4ms/step - loss: 0.2515 - accuracy: 0.9077 - val_loss: 0.3122 - val_accuracy: 0.8906\n",
            "Epoch 30/50\n",
            "1500/1500 [==============================] - 6s 4ms/step - loss: 0.2506 - accuracy: 0.9095 - val_loss: 0.3189 - val_accuracy: 0.8919\n",
            "Epoch 31/50\n",
            "1500/1500 [==============================] - 6s 4ms/step - loss: 0.2481 - accuracy: 0.9109 - val_loss: 0.3411 - val_accuracy: 0.8933\n",
            "Epoch 32/50\n",
            "1500/1500 [==============================] - 6s 4ms/step - loss: 0.2470 - accuracy: 0.9091 - val_loss: 0.3288 - val_accuracy: 0.8971\n",
            "Epoch 33/50\n",
            "1500/1500 [==============================] - 6s 4ms/step - loss: 0.2408 - accuracy: 0.9125 - val_loss: 0.3301 - val_accuracy: 0.8920\n",
            "Epoch 34/50\n",
            "1500/1500 [==============================] - 6s 4ms/step - loss: 0.2420 - accuracy: 0.9119 - val_loss: 0.3452 - val_accuracy: 0.8922\n",
            "Epoch 35/50\n",
            "1500/1500 [==============================] - 6s 4ms/step - loss: 0.2391 - accuracy: 0.9115 - val_loss: 0.3314 - val_accuracy: 0.8957\n",
            "Epoch 36/50\n",
            "1500/1500 [==============================] - 6s 4ms/step - loss: 0.2431 - accuracy: 0.9126 - val_loss: 0.3302 - val_accuracy: 0.8932\n",
            "Epoch 37/50\n",
            "1500/1500 [==============================] - 6s 4ms/step - loss: 0.2376 - accuracy: 0.9136 - val_loss: 0.3182 - val_accuracy: 0.8972\n",
            "Epoch 38/50\n",
            "1500/1500 [==============================] - 6s 4ms/step - loss: 0.2335 - accuracy: 0.9143 - val_loss: 0.3331 - val_accuracy: 0.8995\n",
            "Epoch 39/50\n",
            "1500/1500 [==============================] - 6s 4ms/step - loss: 0.2304 - accuracy: 0.9159 - val_loss: 0.3349 - val_accuracy: 0.8930\n",
            "Epoch 40/50\n",
            "1500/1500 [==============================] - 6s 4ms/step - loss: 0.2286 - accuracy: 0.9167 - val_loss: 0.3380 - val_accuracy: 0.8938\n",
            "Epoch 41/50\n",
            "1500/1500 [==============================] - 6s 4ms/step - loss: 0.2250 - accuracy: 0.9180 - val_loss: 0.3351 - val_accuracy: 0.8939\n",
            "Epoch 42/50\n",
            "1500/1500 [==============================] - 6s 4ms/step - loss: 0.2247 - accuracy: 0.9186 - val_loss: 0.3190 - val_accuracy: 0.8958\n",
            "Epoch 43/50\n",
            "1500/1500 [==============================] - 6s 4ms/step - loss: 0.2248 - accuracy: 0.9183 - val_loss: 0.3365 - val_accuracy: 0.8918\n",
            "Epoch 44/50\n",
            "1500/1500 [==============================] - 6s 4ms/step - loss: 0.2256 - accuracy: 0.9174 - val_loss: 0.3443 - val_accuracy: 0.8957\n",
            "Epoch 45/50\n",
            "1500/1500 [==============================] - 6s 4ms/step - loss: 0.2228 - accuracy: 0.9192 - val_loss: 0.3594 - val_accuracy: 0.8957\n",
            "Epoch 46/50\n",
            "1500/1500 [==============================] - 6s 4ms/step - loss: 0.2199 - accuracy: 0.9206 - val_loss: 0.3801 - val_accuracy: 0.8939\n",
            "Epoch 47/50\n",
            "1500/1500 [==============================] - 6s 4ms/step - loss: 0.2134 - accuracy: 0.9224 - val_loss: 0.3721 - val_accuracy: 0.8921\n",
            "Epoch 48/50\n",
            "1500/1500 [==============================] - 6s 4ms/step - loss: 0.2166 - accuracy: 0.9215 - val_loss: 0.3450 - val_accuracy: 0.8978\n",
            "Epoch 49/50\n",
            "1500/1500 [==============================] - 6s 4ms/step - loss: 0.2172 - accuracy: 0.9209 - val_loss: 0.3347 - val_accuracy: 0.8970\n",
            "Epoch 50/50\n",
            "1500/1500 [==============================] - 6s 4ms/step - loss: 0.2129 - accuracy: 0.9234 - val_loss: 0.3460 - val_accuracy: 0.8960\n",
            "313/313 [==============================] - 1s 3ms/step - loss: 0.3811 - accuracy: 0.8930\n",
            "Test accuracy:>  0.8930000066757202\n"
          ]
        }
      ]
    },
    {
      "cell_type": "markdown",
      "metadata": {
        "id": "QKT6kSBeb0lu"
      },
      "source": [
        "# Changing batch size and the epochs "
      ]
    },
    {
      "cell_type": "code",
      "metadata": {
        "colab": {
          "base_uri": "https://localhost:8080/"
        },
        "id": "0yeUkkBPb64E",
        "outputId": "3ce710e4-e9af-4325-eac7-c18d23c1e3ff"
      },
      "source": [
        "LAYERS_SIZE= x_train_flatten.shape[1] #784\n",
        "CLASSES= 10 #no of classes are from 0-9\n",
        "model= keras.Sequential([\n",
        "                         keras.layers.Dense(input_shape=(LAYERS_SIZE,),units=LAYERS_SIZE/2,activation=\"relu\"), #392\n",
        "                         keras.layers.Dropout(0.2),\n",
        "                         keras.layers.Dense(units=LAYERS_SIZE/4, activation=\"relu\"),\n",
        "                         keras.layers.Dropout(0.2),\n",
        "                         keras.layers.Dense(units=LAYERS_SIZE/8, activation=\"relu\"),\n",
        "                         keras.layers.Dropout(0.2),\n",
        "                         keras.layers.Dense(units=LAYERS_SIZE/16, activation=\"relu\"),\n",
        "                         keras.layers.Dropout(0.2),\n",
        "                         keras.layers.Dense(units=10, activation=\"softmax\"), #196\n",
        "])\n",
        "\n",
        "opt = keras.optimizers.Adam(learning_rate=0.001)\n",
        "model.compile(optimizer=opt,\n",
        "              loss=\"sparse_categorical_crossentropy\",\n",
        "              metrics=[\"accuracy\"])\n",
        "\n",
        "training= model.fit(x_train_flatten, y_train,epochs=70, validation_split=0.2, batch_size=64)\n",
        "test_loss, test_acc = model.evaluate(x_test_flatten, y_test)\n",
        "print('Test accuracy:> ', test_acc)"
      ],
      "execution_count": 17,
      "outputs": [
        {
          "output_type": "stream",
          "name": "stdout",
          "text": [
            "Epoch 1/70\n",
            "750/750 [==============================] - 4s 5ms/step - loss: 0.6785 - accuracy: 0.7561 - val_loss: 0.4232 - val_accuracy: 0.8429\n",
            "Epoch 2/70\n",
            "750/750 [==============================] - 3s 4ms/step - loss: 0.4600 - accuracy: 0.8387 - val_loss: 0.3884 - val_accuracy: 0.8622\n",
            "Epoch 3/70\n",
            "750/750 [==============================] - 3s 4ms/step - loss: 0.4157 - accuracy: 0.8520 - val_loss: 0.3638 - val_accuracy: 0.8679\n",
            "Epoch 4/70\n",
            "750/750 [==============================] - 3s 5ms/step - loss: 0.3878 - accuracy: 0.8625 - val_loss: 0.3562 - val_accuracy: 0.8733\n",
            "Epoch 5/70\n",
            "750/750 [==============================] - 3s 4ms/step - loss: 0.3658 - accuracy: 0.8690 - val_loss: 0.3518 - val_accuracy: 0.8755\n",
            "Epoch 6/70\n",
            "750/750 [==============================] - 3s 5ms/step - loss: 0.3562 - accuracy: 0.8734 - val_loss: 0.3482 - val_accuracy: 0.8772\n",
            "Epoch 7/70\n",
            "750/750 [==============================] - 3s 4ms/step - loss: 0.3405 - accuracy: 0.8768 - val_loss: 0.3390 - val_accuracy: 0.8797\n",
            "Epoch 8/70\n",
            "750/750 [==============================] - 3s 4ms/step - loss: 0.3329 - accuracy: 0.8801 - val_loss: 0.3364 - val_accuracy: 0.8763\n",
            "Epoch 9/70\n",
            "750/750 [==============================] - 3s 4ms/step - loss: 0.3227 - accuracy: 0.8815 - val_loss: 0.3337 - val_accuracy: 0.8799\n",
            "Epoch 10/70\n",
            "750/750 [==============================] - 3s 5ms/step - loss: 0.3138 - accuracy: 0.8862 - val_loss: 0.3270 - val_accuracy: 0.8828\n",
            "Epoch 11/70\n",
            "750/750 [==============================] - 3s 5ms/step - loss: 0.3084 - accuracy: 0.8867 - val_loss: 0.3496 - val_accuracy: 0.8731\n",
            "Epoch 12/70\n",
            "750/750 [==============================] - 3s 5ms/step - loss: 0.3030 - accuracy: 0.8914 - val_loss: 0.3243 - val_accuracy: 0.8881\n",
            "Epoch 13/70\n",
            "750/750 [==============================] - 3s 5ms/step - loss: 0.2961 - accuracy: 0.8923 - val_loss: 0.3339 - val_accuracy: 0.8825\n",
            "Epoch 14/70\n",
            "750/750 [==============================] - 3s 4ms/step - loss: 0.2888 - accuracy: 0.8952 - val_loss: 0.3162 - val_accuracy: 0.8914\n",
            "Epoch 15/70\n",
            "750/750 [==============================] - 3s 4ms/step - loss: 0.2861 - accuracy: 0.8961 - val_loss: 0.3178 - val_accuracy: 0.8869\n",
            "Epoch 16/70\n",
            "750/750 [==============================] - 3s 4ms/step - loss: 0.2775 - accuracy: 0.8995 - val_loss: 0.3162 - val_accuracy: 0.8886\n",
            "Epoch 17/70\n",
            "750/750 [==============================] - 3s 4ms/step - loss: 0.2767 - accuracy: 0.8995 - val_loss: 0.3032 - val_accuracy: 0.8917\n",
            "Epoch 18/70\n",
            "750/750 [==============================] - 3s 4ms/step - loss: 0.2710 - accuracy: 0.9001 - val_loss: 0.3114 - val_accuracy: 0.8904\n",
            "Epoch 19/70\n",
            "750/750 [==============================] - 3s 5ms/step - loss: 0.2639 - accuracy: 0.9034 - val_loss: 0.3182 - val_accuracy: 0.8915\n",
            "Epoch 20/70\n",
            "750/750 [==============================] - 3s 5ms/step - loss: 0.2658 - accuracy: 0.9029 - val_loss: 0.3224 - val_accuracy: 0.8881\n",
            "Epoch 21/70\n",
            "750/750 [==============================] - 3s 4ms/step - loss: 0.2591 - accuracy: 0.9061 - val_loss: 0.3183 - val_accuracy: 0.8904\n",
            "Epoch 22/70\n",
            "750/750 [==============================] - 3s 4ms/step - loss: 0.2593 - accuracy: 0.9066 - val_loss: 0.3271 - val_accuracy: 0.8887\n",
            "Epoch 23/70\n",
            "750/750 [==============================] - 3s 4ms/step - loss: 0.2510 - accuracy: 0.9091 - val_loss: 0.3307 - val_accuracy: 0.8912\n",
            "Epoch 24/70\n",
            "750/750 [==============================] - 3s 4ms/step - loss: 0.2478 - accuracy: 0.9094 - val_loss: 0.3015 - val_accuracy: 0.8947\n",
            "Epoch 25/70\n",
            "750/750 [==============================] - 3s 5ms/step - loss: 0.2421 - accuracy: 0.9109 - val_loss: 0.3223 - val_accuracy: 0.8909\n",
            "Epoch 26/70\n",
            "750/750 [==============================] - 3s 5ms/step - loss: 0.2459 - accuracy: 0.9107 - val_loss: 0.3071 - val_accuracy: 0.8958\n",
            "Epoch 27/70\n",
            "750/750 [==============================] - 3s 5ms/step - loss: 0.2411 - accuracy: 0.9121 - val_loss: 0.3307 - val_accuracy: 0.8900\n",
            "Epoch 28/70\n",
            "750/750 [==============================] - 3s 5ms/step - loss: 0.2372 - accuracy: 0.9119 - val_loss: 0.3355 - val_accuracy: 0.8918\n",
            "Epoch 29/70\n",
            "750/750 [==============================] - 3s 5ms/step - loss: 0.2369 - accuracy: 0.9117 - val_loss: 0.3043 - val_accuracy: 0.8953\n",
            "Epoch 30/70\n",
            "750/750 [==============================] - 3s 4ms/step - loss: 0.2321 - accuracy: 0.9148 - val_loss: 0.3164 - val_accuracy: 0.8926\n",
            "Epoch 31/70\n",
            "750/750 [==============================] - 3s 5ms/step - loss: 0.2317 - accuracy: 0.9158 - val_loss: 0.3064 - val_accuracy: 0.8957\n",
            "Epoch 32/70\n",
            "750/750 [==============================] - 3s 4ms/step - loss: 0.2279 - accuracy: 0.9173 - val_loss: 0.3378 - val_accuracy: 0.8907\n",
            "Epoch 33/70\n",
            "750/750 [==============================] - 3s 5ms/step - loss: 0.2257 - accuracy: 0.9172 - val_loss: 0.3101 - val_accuracy: 0.8973\n",
            "Epoch 34/70\n",
            "750/750 [==============================] - 3s 4ms/step - loss: 0.2193 - accuracy: 0.9192 - val_loss: 0.3163 - val_accuracy: 0.8992\n",
            "Epoch 35/70\n",
            "750/750 [==============================] - 3s 5ms/step - loss: 0.2156 - accuracy: 0.9200 - val_loss: 0.3165 - val_accuracy: 0.8935\n",
            "Epoch 36/70\n",
            "750/750 [==============================] - 3s 4ms/step - loss: 0.2202 - accuracy: 0.9212 - val_loss: 0.3238 - val_accuracy: 0.8977\n",
            "Epoch 37/70\n",
            "750/750 [==============================] - 3s 4ms/step - loss: 0.2134 - accuracy: 0.9207 - val_loss: 0.3189 - val_accuracy: 0.8978\n",
            "Epoch 38/70\n",
            "750/750 [==============================] - 3s 4ms/step - loss: 0.2163 - accuracy: 0.9200 - val_loss: 0.3300 - val_accuracy: 0.8973\n",
            "Epoch 39/70\n",
            "750/750 [==============================] - 3s 5ms/step - loss: 0.2098 - accuracy: 0.9231 - val_loss: 0.3357 - val_accuracy: 0.8932\n",
            "Epoch 40/70\n",
            "750/750 [==============================] - 4s 5ms/step - loss: 0.2092 - accuracy: 0.9241 - val_loss: 0.3218 - val_accuracy: 0.8989\n",
            "Epoch 41/70\n",
            "750/750 [==============================] - 3s 4ms/step - loss: 0.2122 - accuracy: 0.9227 - val_loss: 0.3390 - val_accuracy: 0.8908\n",
            "Epoch 42/70\n",
            "750/750 [==============================] - 3s 5ms/step - loss: 0.2084 - accuracy: 0.9231 - val_loss: 0.3408 - val_accuracy: 0.8972\n",
            "Epoch 43/70\n",
            "750/750 [==============================] - 3s 4ms/step - loss: 0.2056 - accuracy: 0.9249 - val_loss: 0.3156 - val_accuracy: 0.8990\n",
            "Epoch 44/70\n",
            "750/750 [==============================] - 3s 4ms/step - loss: 0.2051 - accuracy: 0.9243 - val_loss: 0.3207 - val_accuracy: 0.8985\n",
            "Epoch 45/70\n",
            "750/750 [==============================] - 3s 4ms/step - loss: 0.2054 - accuracy: 0.9245 - val_loss: 0.3131 - val_accuracy: 0.9023\n",
            "Epoch 46/70\n",
            "750/750 [==============================] - 4s 5ms/step - loss: 0.1967 - accuracy: 0.9267 - val_loss: 0.3515 - val_accuracy: 0.8950\n",
            "Epoch 47/70\n",
            "750/750 [==============================] - 4s 5ms/step - loss: 0.2014 - accuracy: 0.9256 - val_loss: 0.3162 - val_accuracy: 0.8980\n",
            "Epoch 48/70\n",
            "750/750 [==============================] - 3s 4ms/step - loss: 0.1960 - accuracy: 0.9285 - val_loss: 0.3426 - val_accuracy: 0.8970\n",
            "Epoch 49/70\n",
            "750/750 [==============================] - 3s 4ms/step - loss: 0.1958 - accuracy: 0.9290 - val_loss: 0.3471 - val_accuracy: 0.8938\n",
            "Epoch 50/70\n",
            "750/750 [==============================] - 4s 5ms/step - loss: 0.1923 - accuracy: 0.9295 - val_loss: 0.3281 - val_accuracy: 0.8988\n",
            "Epoch 51/70\n",
            "750/750 [==============================] - 3s 5ms/step - loss: 0.1928 - accuracy: 0.9301 - val_loss: 0.3135 - val_accuracy: 0.8996\n",
            "Epoch 52/70\n",
            "750/750 [==============================] - 3s 5ms/step - loss: 0.1901 - accuracy: 0.9298 - val_loss: 0.3227 - val_accuracy: 0.8990\n",
            "Epoch 53/70\n",
            "750/750 [==============================] - 3s 4ms/step - loss: 0.1887 - accuracy: 0.9315 - val_loss: 0.3413 - val_accuracy: 0.8988\n",
            "Epoch 54/70\n",
            "750/750 [==============================] - 3s 5ms/step - loss: 0.1837 - accuracy: 0.9331 - val_loss: 0.3227 - val_accuracy: 0.8993\n",
            "Epoch 55/70\n",
            "750/750 [==============================] - 3s 4ms/step - loss: 0.1864 - accuracy: 0.9326 - val_loss: 0.3368 - val_accuracy: 0.9010\n",
            "Epoch 56/70\n",
            "750/750 [==============================] - 4s 5ms/step - loss: 0.1839 - accuracy: 0.9330 - val_loss: 0.3619 - val_accuracy: 0.9003\n",
            "Epoch 57/70\n",
            "750/750 [==============================] - 3s 4ms/step - loss: 0.1807 - accuracy: 0.9334 - val_loss: 0.3388 - val_accuracy: 0.8988\n",
            "Epoch 58/70\n",
            "750/750 [==============================] - 3s 4ms/step - loss: 0.1829 - accuracy: 0.9338 - val_loss: 0.3357 - val_accuracy: 0.8960\n",
            "Epoch 59/70\n",
            "750/750 [==============================] - 4s 5ms/step - loss: 0.1818 - accuracy: 0.9339 - val_loss: 0.3453 - val_accuracy: 0.9012\n",
            "Epoch 60/70\n",
            "750/750 [==============================] - 3s 5ms/step - loss: 0.1785 - accuracy: 0.9348 - val_loss: 0.3502 - val_accuracy: 0.8968\n",
            "Epoch 61/70\n",
            "750/750 [==============================] - 3s 4ms/step - loss: 0.1793 - accuracy: 0.9346 - val_loss: 0.3389 - val_accuracy: 0.9013\n",
            "Epoch 62/70\n",
            "750/750 [==============================] - 3s 4ms/step - loss: 0.1736 - accuracy: 0.9364 - val_loss: 0.3285 - val_accuracy: 0.9008\n",
            "Epoch 63/70\n",
            "750/750 [==============================] - 3s 4ms/step - loss: 0.1765 - accuracy: 0.9353 - val_loss: 0.3333 - val_accuracy: 0.9012\n",
            "Epoch 64/70\n",
            "750/750 [==============================] - 3s 5ms/step - loss: 0.1746 - accuracy: 0.9355 - val_loss: 0.3294 - val_accuracy: 0.8988\n",
            "Epoch 65/70\n",
            "750/750 [==============================] - 4s 5ms/step - loss: 0.1698 - accuracy: 0.9375 - val_loss: 0.3704 - val_accuracy: 0.9002\n",
            "Epoch 66/70\n",
            "750/750 [==============================] - 4s 5ms/step - loss: 0.1694 - accuracy: 0.9365 - val_loss: 0.3425 - val_accuracy: 0.9022\n",
            "Epoch 67/70\n",
            "750/750 [==============================] - 3s 5ms/step - loss: 0.1739 - accuracy: 0.9362 - val_loss: 0.3674 - val_accuracy: 0.8976\n",
            "Epoch 68/70\n",
            "750/750 [==============================] - 3s 5ms/step - loss: 0.1723 - accuracy: 0.9371 - val_loss: 0.3401 - val_accuracy: 0.8988\n",
            "Epoch 69/70\n",
            "750/750 [==============================] - 4s 5ms/step - loss: 0.1747 - accuracy: 0.9368 - val_loss: 0.3588 - val_accuracy: 0.8988\n",
            "Epoch 70/70\n",
            "750/750 [==============================] - 3s 5ms/step - loss: 0.1687 - accuracy: 0.9384 - val_loss: 0.3410 - val_accuracy: 0.9007\n",
            "313/313 [==============================] - 1s 3ms/step - loss: 0.3838 - accuracy: 0.8957\n",
            "Test accuracy:>  0.8956999778747559\n"
          ]
        }
      ]
    },
    {
      "cell_type": "code",
      "metadata": {
        "colab": {
          "base_uri": "https://localhost:8080/",
          "height": 591
        },
        "id": "ua3Wd9RJhutG",
        "outputId": "33196418-262e-4563-ebb8-6314493e9e58"
      },
      "source": [
        "%matplotlib inline\n",
        "# list all data in training\n",
        "print(training.history.keys())\n",
        "# summarize training for accuracy\n",
        "plt.plot(training.history['accuracy'])\n",
        "plt.plot(training.history['val_accuracy'])\n",
        "plt.title('model accuracy')\n",
        "plt.ylabel('accuracy')\n",
        "plt.xlabel('epoch')\n",
        "plt.legend(['train', 'test'], loc='upper left')\n",
        "plt.show()\n",
        "# summarize traning for loss\n",
        "plt.plot(training.history['loss'])\n",
        "plt.plot(training.history['val_loss'])\n",
        "plt.title('model loss')\n",
        "plt.ylabel('loss')\n",
        "plt.xlabel('epoch')\n",
        "plt.legend(['train', 'test'], loc='upper left')\n",
        "plt.show()"
      ],
      "execution_count": 20,
      "outputs": [
        {
          "output_type": "stream",
          "name": "stdout",
          "text": [
            "dict_keys(['loss', 'accuracy', 'val_loss', 'val_accuracy'])\n"
          ]
        },
        {
          "output_type": "display_data",
          "data": {
            "image/png": "[encoded data removed]",
            "text/plain": [
              "<Figure size 432x288 with 1 Axes>"
            ]
          },
          "metadata": {
            "needs_background": "light"
          }
        },
        {
          "output_type": "display_data",
          "data": {
            "image/png": "[encoded data removed]",
            "text/plain": [
              "<Figure size 432x288 with 1 Axes>"
            ]
          },
          "metadata": {
            "needs_background": "light"
          }
        }
      ]
    },
    {
      "cell_type": "code",
      "metadata": {
        "colab": {
          "base_uri": "https://localhost:8080/"
        },
        "id": "gdlDvUHYhF6C",
        "outputId": "21430645-05e1-46cf-fa3f-4a80ae50202b"
      },
      "source": [
        "model.summary() #best model summary"
      ],
      "execution_count": 18,
      "outputs": [
        {
          "output_type": "stream",
          "name": "stdout",
          "text": [
            "Model: \"sequential_6\"\n",
            "_________________________________________________________________\n",
            "Layer (type)                 Output Shape              Param #   \n",
            "=================================================================\n",
            "dense_16 (Dense)             (None, 392)               307720    \n",
            "_________________________________________________________________\n",
            "dropout_7 (Dropout)          (None, 392)               0         \n",
            "_________________________________________________________________\n",
            "dense_17 (Dense)             (None, 196)               77028     \n",
            "_________________________________________________________________\n",
            "dropout_8 (Dropout)          (None, 196)               0         \n",
            "_________________________________________________________________\n",
            "dense_18 (Dense)             (None, 98)                19306     \n",
            "_________________________________________________________________\n",
            "dropout_9 (Dropout)          (None, 98)                0         \n",
            "_________________________________________________________________\n",
            "dense_19 (Dense)             (None, 49)                4851      \n",
            "_________________________________________________________________\n",
            "dropout_10 (Dropout)         (None, 49)                0         \n",
            "_________________________________________________________________\n",
            "dense_20 (Dense)             (None, 10)                500       \n",
            "=================================================================\n",
            "Total params: 409,405\n",
            "Trainable params: 409,405\n",
            "Non-trainable params: 0\n",
            "_________________________________________________________________\n"
          ]
        }
      ]
    },
    {
      "cell_type": "markdown",
      "metadata": {
        "id": "ziDwDZSThiYY"
      },
      "source": [
        "# Best model configuration"
      ]
    },
    {
      "cell_type": "code",
      "metadata": {
        "colab": {
          "base_uri": "https://localhost:8080/"
        },
        "id": "DOlWanc2hcgI",
        "outputId": "cb27a624-88a7-4333-aab1-ada980f13618"
      },
      "source": [
        "model.get_config() #best model configurations"
      ],
      "execution_count": 19,
      "outputs": [
        {
          "output_type": "execute_result",
          "data": {
            "text/plain": [
              "{'layers': [{'class_name': 'InputLayer',\n",
              "   'config': {'batch_input_shape': (None, 784),\n",
              "    'dtype': 'float32',\n",
              "    'name': 'dense_16_input',\n",
              "    'ragged': False,\n",
              "    'sparse': False}},\n",
              "  {'class_name': 'Dense',\n",
              "   'config': {'activation': 'relu',\n",
              "    'activity_regularizer': None,\n",
              "    'batch_input_shape': (None, 784),\n",
              "    'bias_constraint': None,\n",
              "    'bias_initializer': {'class_name': 'Zeros', 'config': {}},\n",
              "    'bias_regularizer': None,\n",
              "    'dtype': 'float32',\n",
              "    'kernel_constraint': None,\n",
              "    'kernel_initializer': {'class_name': 'GlorotUniform',\n",
              "     'config': {'seed': None}},\n",
              "    'kernel_regularizer': None,\n",
              "    'name': 'dense_16',\n",
              "    'trainable': True,\n",
              "    'units': 392,\n",
              "    'use_bias': True}},\n",
              "  {'class_name': 'Dropout',\n",
              "   'config': {'dtype': 'float32',\n",
              "    'name': 'dropout_7',\n",
              "    'noise_shape': None,\n",
              "    'rate': 0.2,\n",
              "    'seed': None,\n",
              "    'trainable': True}},\n",
              "  {'class_name': 'Dense',\n",
              "   'config': {'activation': 'relu',\n",
              "    'activity_regularizer': None,\n",
              "    'bias_constraint': None,\n",
              "    'bias_initializer': {'class_name': 'Zeros', 'config': {}},\n",
              "    'bias_regularizer': None,\n",
              "    'dtype': 'float32',\n",
              "    'kernel_constraint': None,\n",
              "    'kernel_initializer': {'class_name': 'GlorotUniform',\n",
              "     'config': {'seed': None}},\n",
              "    'kernel_regularizer': None,\n",
              "    'name': 'dense_17',\n",
              "    'trainable': True,\n",
              "    'units': 196,\n",
              "    'use_bias': True}},\n",
              "  {'class_name': 'Dropout',\n",
              "   'config': {'dtype': 'float32',\n",
              "    'name': 'dropout_8',\n",
              "    'noise_shape': None,\n",
              "    'rate': 0.2,\n",
              "    'seed': None,\n",
              "    'trainable': True}},\n",
              "  {'class_name': 'Dense',\n",
              "   'config': {'activation': 'relu',\n",
              "    'activity_regularizer': None,\n",
              "    'bias_constraint': None,\n",
              "    'bias_initializer': {'class_name': 'Zeros', 'config': {}},\n",
              "    'bias_regularizer': None,\n",
              "    'dtype': 'float32',\n",
              "    'kernel_constraint': None,\n",
              "    'kernel_initializer': {'class_name': 'GlorotUniform',\n",
              "     'config': {'seed': None}},\n",
              "    'kernel_regularizer': None,\n",
              "    'name': 'dense_18',\n",
              "    'trainable': True,\n",
              "    'units': 98,\n",
              "    'use_bias': True}},\n",
              "  {'class_name': 'Dropout',\n",
              "   'config': {'dtype': 'float32',\n",
              "    'name': 'dropout_9',\n",
              "    'noise_shape': None,\n",
              "    'rate': 0.2,\n",
              "    'seed': None,\n",
              "    'trainable': True}},\n",
              "  {'class_name': 'Dense',\n",
              "   'config': {'activation': 'relu',\n",
              "    'activity_regularizer': None,\n",
              "    'bias_constraint': None,\n",
              "    'bias_initializer': {'class_name': 'Zeros', 'config': {}},\n",
              "    'bias_regularizer': None,\n",
              "    'dtype': 'float32',\n",
              "    'kernel_constraint': None,\n",
              "    'kernel_initializer': {'class_name': 'GlorotUniform',\n",
              "     'config': {'seed': None}},\n",
              "    'kernel_regularizer': None,\n",
              "    'name': 'dense_19',\n",
              "    'trainable': True,\n",
              "    'units': 49,\n",
              "    'use_bias': True}},\n",
              "  {'class_name': 'Dropout',\n",
              "   'config': {'dtype': 'float32',\n",
              "    'name': 'dropout_10',\n",
              "    'noise_shape': None,\n",
              "    'rate': 0.2,\n",
              "    'seed': None,\n",
              "    'trainable': True}},\n",
              "  {'class_name': 'Dense',\n",
              "   'config': {'activation': 'softmax',\n",
              "    'activity_regularizer': None,\n",
              "    'bias_constraint': None,\n",
              "    'bias_initializer': {'class_name': 'Zeros', 'config': {}},\n",
              "    'bias_regularizer': None,\n",
              "    'dtype': 'float32',\n",
              "    'kernel_constraint': None,\n",
              "    'kernel_initializer': {'class_name': 'GlorotUniform',\n",
              "     'config': {'seed': None}},\n",
              "    'kernel_regularizer': None,\n",
              "    'name': 'dense_20',\n",
              "    'trainable': True,\n",
              "    'units': 10,\n",
              "    'use_bias': True}}],\n",
              " 'name': 'sequential_6'}"
            ]
          },
          "metadata": {},
          "execution_count": 19
        }
      ]
    },
    {
      "cell_type": "markdown",
      "metadata": {
        "id": "LiCO3oYMe5xa"
      },
      "source": [
        "# Summary\n",
        "\n",
        "83.25, 89.27, 88.31, 82.12, 89.30, 89.56\n",
        "\n",
        "In this project, I ran experiments as required in the assignment and follwing are the test accuracies for each experiments:\n",
        "**83.25%--> 89.27%--> 88.31%--> 82.12%--> 89.30%--> 89.56%**\n",
        "\n",
        "Few Observations:\n",
        "\n",
        "* Generally, Adam optimizer works best as compared Rmsprop.\n",
        "* By adding more hidden layers, overfitting reduced a bit but overall improvement in the final test accuracy is minimal.\n",
        "\n",
        "**The best model total parameters are: 409,405 and the best accuracy is 89.56%**"
      ]
    },
    {
      "cell_type": "code",
      "metadata": {
        "id": "I5S4J3b0e0jR"
      },
      "source": [
        ""
      ],
      "execution_count": null,
      "outputs": []
    }
  ]
}