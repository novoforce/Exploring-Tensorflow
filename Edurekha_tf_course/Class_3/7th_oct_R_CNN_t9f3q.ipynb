{
  "nbformat": 4,
  "nbformat_minor": 0,
  "metadata": {
    "colab": {
      "name": "7th oct R CNN.ipynb",
      "private_outputs": true,
      "provenance": []
    },
    "kernelspec": {
      "name": "python3",
      "display_name": "Python 3"
    },
    "language_info": {
      "name": "python"
    },
    "accelerator": "TPU"
  },
  "cells": [
    {
      "cell_type": "markdown",
      "metadata": {
        "id": "vnlTs26bGRft"
      },
      "source": [
        "# transfer learning\n",
        "\n",
        "# already covered\n",
        " simple perceptron\n",
        "\n",
        " MLP/ANN\n",
        "\n",
        " CNN"
      ]
    },
    {
      "cell_type": "code",
      "metadata": {
        "id": "x81npGCfA-4V"
      },
      "source": [
        "import tensorflow as tf\n",
        "import tensorflow_datasets as tfds\n",
        "from tensorflow.keras.utils import to_categorical"
      ],
      "execution_count": null,
      "outputs": []
    },
    {
      "cell_type": "code",
      "metadata": {
        "id": "qfHgNrZ7GrRL"
      },
      "source": [
        "# load images\n",
        "\n",
        "(train_ds,train_label),(test_ds,test_label)=tfds.load(\"tf_flowers\",\n",
        "                                                      split=[\"train[:70%]\", \"train[:30%]\"],\n",
        "                                                      batch_size=-1,\n",
        "                                                      as_supervised=True,)"
      ],
      "execution_count": null,
      "outputs": []
    },
    {
      "cell_type": "code",
      "metadata": {
        "id": "oBnbUvRLHbiU"
      },
      "source": [
        "#train_ds.shape"
      ],
      "execution_count": null,
      "outputs": []
    },
    {
      "cell_type": "code",
      "metadata": {
        "id": "M0HoJtuJHtcp"
      },
      "source": [
        "#resize image\n",
        "train_ds=tf.image.resize(train_ds,(150,150))\n",
        "test_ds=tf.image.resize(test_ds,(150,150))"
      ],
      "execution_count": null,
      "outputs": []
    },
    {
      "cell_type": "code",
      "metadata": {
        "id": "KWxLPe39IBe_"
      },
      "source": [
        "#train_label[0:5]"
      ],
      "execution_count": null,
      "outputs": []
    },
    {
      "cell_type": "code",
      "metadata": {
        "id": "6esdfKbvIHUR"
      },
      "source": [
        "#transform the labels\n",
        "\n",
        "train_labels=to_categorical(train_label,num_classes=5)\n",
        "test_labels=to_categorical(test_label,num_classes=5)\n"
      ],
      "execution_count": null,
      "outputs": []
    },
    {
      "cell_type": "code",
      "metadata": {
        "id": "CjFayqggLjrc"
      },
      "source": [
        "train_labels[0:5]"
      ],
      "execution_count": null,
      "outputs": []
    },
    {
      "cell_type": "code",
      "metadata": {
        "id": "ckQrTW-8Ia3G"
      },
      "source": [
        "from tensorflow.keras.applications.vgg16 import VGG16\n",
        "from tensorflow.keras.applications.vgg16 import preprocess_input\n",
        "\n",
        "#loading VGG16 model\n",
        "\n",
        "base_model=VGG16(weights=\"imagenet\",include_top=False, input_shape=train_ds[0].shape)\n",
        "\n",
        "base_model.trainable=False ### not trainable weights"
      ],
      "execution_count": null,
      "outputs": []
    },
    {
      "cell_type": "code",
      "metadata": {
        "id": "RrCQfo_-IhDD"
      },
      "source": [
        ""
      ],
      "execution_count": null,
      "outputs": []
    },
    {
      "cell_type": "code",
      "metadata": {
        "id": "ewR3i-TFJFYT"
      },
      "source": [
        ""
      ],
      "execution_count": null,
      "outputs": []
    },
    {
      "cell_type": "code",
      "metadata": {
        "id": "Ge6WN_gqMPWG"
      },
      "source": [
        "train_ds[0]"
      ],
      "execution_count": null,
      "outputs": []
    },
    {
      "cell_type": "code",
      "metadata": {
        "id": "7f7E5hM0JaS8"
      },
      "source": [
        "train_ds=preprocess_input(train_ds)\n",
        "test_ds=preprocess_input(test_ds)"
      ],
      "execution_count": null,
      "outputs": []
    },
    {
      "cell_type": "code",
      "metadata": {
        "id": "sdeMZEUjMRSJ"
      },
      "source": [
        "train_ds[0]"
      ],
      "execution_count": null,
      "outputs": []
    },
    {
      "cell_type": "code",
      "metadata": {
        "id": "4l1ymEgpJge_"
      },
      "source": [
        "base_model.summary()"
      ],
      "execution_count": null,
      "outputs": []
    },
    {
      "cell_type": "code",
      "metadata": {
        "id": "6mVpqjh1Jl62"
      },
      "source": [
        ""
      ],
      "execution_count": null,
      "outputs": []
    },
    {
      "cell_type": "code",
      "metadata": {
        "id": "GcHYvm8nKtex"
      },
      "source": [
        "# CLASSIFICAITON MODEL I NEED TO ADD\n",
        "from tensorflow.keras import layers,models\n",
        "\n",
        "mymodel=models.Sequential([\n",
        "                           base_model, #CNN comes from VGG16\n",
        "                           layers.Flatten(),\n",
        "                           layers.Dense(50, activation=\"relu\",name=\"Hiddenlayer1\"),\n",
        "                           layers.Dense(20, activation=\"relu\", name=\"Hiddenlayer2\"),\n",
        "                           layers.Dense(5,name=\"outputlayer\",activation=\"softmax\")\n",
        "\n",
        "])"
      ],
      "execution_count": null,
      "outputs": []
    },
    {
      "cell_type": "code",
      "metadata": {
        "id": "sGsNHVmRLPV3"
      },
      "source": [
        "mymodel.summary()"
      ],
      "execution_count": null,
      "outputs": []
    },
    {
      "cell_type": "markdown",
      "metadata": {
        "id": "33vf2KOFLeHA"
      },
      "source": [
        "Why are we setting trainable parameter to false and\n",
        "\n",
        "\n",
        " how is it converting numpy array to categorical of 5?"
      ]
    },
    {
      "cell_type": "code",
      "metadata": {
        "id": "0XfNRGgCLUvB"
      },
      "source": [
        "from tensorflow.keras.callbacks  import EarlyStopping\n",
        "\n",
        "from keras.callbacks import EarlyStopping, ReduceLROnPlateau\n",
        "early_stop=EarlyStopping(monitor=\"val_accuracy\", mode=\"max\", patience=5, restore_best_weights=True)\n",
        "# ReduceLROnPlateau: Reduce learning rate when a metric has stopped improving\n",
        "learning_rate_reduction = ReduceLROnPlateau(monitor='val_accuracy', \n",
        "                                            patience=2, \n",
        "                                            verbose=1, \n",
        "                                            factor=0.5, \n",
        "                                            min_lr=0.00001)\n",
        "\n",
        "\n",
        "callbacks = [early_stop, learning_rate_reduction]"
      ],
      "execution_count": null,
      "outputs": []
    },
    {
      "cell_type": "code",
      "metadata": {
        "id": "XjKTBvhVM30Q"
      },
      "source": [
        "mymodel.compile(\n",
        "    optimizer=\"adam\",\n",
        "    loss=\"categorical_crossentropy\",\n",
        "    metrics=[\"accuracy\"],\n",
        ")"
      ],
      "execution_count": null,
      "outputs": []
    },
    {
      "cell_type": "code",
      "metadata": {
        "id": "YP2Y5IW2NBua"
      },
      "source": [
        ""
      ],
      "execution_count": null,
      "outputs": []
    },
    {
      "cell_type": "code",
      "metadata": {
        "id": "vQ-TS7ccY7mK"
      },
      "source": [
        "model_score=mymodel.fit(train_ds,train_labels, \n",
        "                        epochs=20, validation_split=0.2,\n",
        "                        batch_size=50,\n",
        "                        callbacks=[early_stop],\n",
        "                        )"
      ],
      "execution_count": null,
      "outputs": []
    },
    {
      "cell_type": "code",
      "metadata": {
        "id": "X6vC2itgOIBk"
      },
      "source": [
        "model_score=mymodel.fit(train_ds,train_labels, \n",
        "                        epochs=20, validation_split=0.2,\n",
        "                        batch_size=50,\n",
        "                        callbacks=callbacks,\n",
        "                        )"
      ],
      "execution_count": null,
      "outputs": []
    },
    {
      "cell_type": "code",
      "metadata": {
        "id": "hI2NsSipOiP7"
      },
      "source": [
        "mymodel.evaluate(test_ds,test_labels)"
      ],
      "execution_count": null,
      "outputs": []
    },
    {
      "cell_type": "code",
      "metadata": {
        "id": "eANAcdEjPsk8"
      },
      "source": [
        "import seaborn\n",
        "import numpy as np\n",
        "import tensorflow as tf\n",
        "\n",
        "# scaling in machine learning\n",
        "y_predicted=mymodel.predict(test_ds)\n",
        "\n",
        "y_predicted_labels=[np.argmax(i) for i in y_predicted]\n",
        "confmatrix=tf.math.confusion_matrix(labels=test_ds, predictions=y_predicted_labels)\n",
        "\n",
        "plt.figure(figsize=(10,7))\n",
        "sns.heatmap(confmatrix,annot=True, fmt=\"d\")\n",
        "plt.xlabel(\"Predicted\")\n",
        "plt.ylabel(\"actuals\")"
      ],
      "execution_count": null,
      "outputs": []
    },
    {
      "cell_type": "code",
      "metadata": {
        "id": "a3cBrBtjP4Wo"
      },
      "source": [
        "\n",
        "# scaling in machine learning\n"
      ],
      "execution_count": null,
      "outputs": []
    },
    {
      "cell_type": "code",
      "metadata": {
        "id": "xxxv-7Y3P4Sd"
      },
      "source": [
        "y_predicted_labels[0]"
      ],
      "execution_count": null,
      "outputs": []
    },
    {
      "cell_type": "code",
      "metadata": {
        "id": "ztL_CcCyP4Nu"
      },
      "source": [
        "tf.math.confusion_matrix(labels=test_label, predictions=y_predicted_labels)"
      ],
      "execution_count": null,
      "outputs": []
    },
    {
      "cell_type": "code",
      "metadata": {
        "id": "MEpqPcJZRtgs"
      },
      "source": [
        "test_label[0]"
      ],
      "execution_count": null,
      "outputs": []
    }
  ]
}