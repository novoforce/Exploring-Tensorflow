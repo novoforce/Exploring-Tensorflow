{
  "nbformat": 4,
  "nbformat_minor": 0,
  "metadata": {
    "colab": {
      "name": "Module_2_Getting_Started_with_TensorFlow_2_x_Classifying_Handwritten_digits_using_Tensorflow_2_x (1).ipynb",
      "provenance": [],
      "collapsed_sections": [
        "XxeyelGk_Tp4",
        "JL8GMQz2R90b",
        "HruLQ2fqS3f2",
        "PwEj36wcbsXF",
        "u5DMnZp1bxAU",
        "szLxFVyIytsv",
        "yZBPiGLXYGUM",
        "RaTcM_Gk_jco",
        "ajqy56PT_pHr",
        "n8iGAu5OAO5Y",
        "Nw7DXcLYfZzp",
        "pjps75cBuR1Z",
        "mBnxm6kkzUYm",
        "AFbx6XHI0KyQ",
        "jX8DXi1jiFYS",
        "X6UHyrSERqid",
        "hQTkURqTLcAy",
        "LFY6t7nLLukS",
        "OFeLvye1L3uN",
        "SEc5Uh-UMIOm"
      ]
    },
    "kernelspec": {
      "name": "python3",
      "display_name": "Python 3"
    },
    "accelerator": "TPU"
  },
  "cells": [
    {
      "cell_type": "markdown",
      "metadata": {
        "id": "XxeyelGk_Tp4"
      },
      "source": [
        "# Classifying Handwritten digits using Tensorflow 2.x"
      ]
    },
    {
      "cell_type": "markdown",
      "metadata": {
        "id": "VqFvADlTZgrp"
      },
      "source": [
        "This is a [Google Colaboratory](https://colab.research.google.com/notebooks/welcome.ipynb) notebook file. Python programs are run directly in the browser—a great way to learn and use TensorFlow. To follow this tutorial, run the notebook in Google Colab by clicking the button at the top of this page.\n",
        "\n",
        "1. In Colab, connect to a Python runtime: At the top-right of the menu bar, select *CONNECT*.\n",
        "2. Run all the notebook code cells: Select *Runtime* > *Run all*."
      ]
    },
    {
      "cell_type": "markdown",
      "metadata": {
        "id": "JL8GMQz2R90b"
      },
      "source": [
        "##Problem Statement"
      ]
    },
    {
      "cell_type": "markdown",
      "metadata": {
        "id": "CI0fQw8zSEku"
      },
      "source": [
        "**MNIST (\"Modified National Institute of Standards and Technology\")** is the de facto “hello world” dataset of computer vision. Since its release in 1999, this classic dataset of handwritten images has served as the basis for benchmarking classification algorithms. As new machine learning techniques emerge, MNIST remains a reliable resource for researchers and learners alike.\n",
        "\n",
        "In this demo, your goal is to correctly identify digits from a dataset of thousands of handwritten images. "
      ]
    },
    {
      "cell_type": "markdown",
      "metadata": {
        "id": "HruLQ2fqS3f2"
      },
      "source": [
        "####**Tasks to be Performed**"
      ]
    },
    {
      "cell_type": "markdown",
      "metadata": {
        "id": "GtuEkgrQS7Rs"
      },
      "source": [
        "In this tutorial you will be performing the following tasks:\n",
        "- Prepare the dataset for the model\n",
        "- Install Tensorflow 2.x\n",
        "- Develop Single Layer Perceptron model for classifying the handwritten digits\n",
        "- Plot the change in accuracy per epochs\n",
        "- Evaluate the model on the testing data\n",
        "- Analyse the model summary\n",
        "- Add hidden layer to the model to make it Multi-Layer Perceptron\n",
        "- Add Dropout to prevent overfitting and check its effect on accuracy\n",
        "- Increasing the number of Hidden Layer neuron and check its effect on accuracy\n",
        "- Use different optimizers and check its effect on accuracy\n",
        "- Increase the hidden layers and check its effect on accuracy\n",
        "- Manipulate the batch_size and epochs and check its effect on accuracy\n",
        "- Answer: What parameters should be choosen to get best accuracy on classifying the handwritten digits?"
      ]
    },
    {
      "cell_type": "markdown",
      "metadata": {
        "id": "PwEj36wcbsXF"
      },
      "source": [
        "####**Dataset Description**"
      ]
    },
    {
      "cell_type": "markdown",
      "metadata": {
        "id": "bbg_FbbPU2fe"
      },
      "source": [
        "\n",
        "The **[MNIST Handwritten Digit Classification Dataset](http://yann.lecun.com/exdb/mnist/)** consists of 60,000 training images and 10,000 testing images of handwritten digits.\n",
        "\n",
        "Each image is 28 pixels in height and 28 pixels in width, for a total of 784 pixels in total. Each pixel has a single pixel-value associated with it, indicating the lightness or darkness of that pixel, with higher numbers meaning darker. This pixel-value is an integer between 0 and 255, inclusive.\n",
        "\n",
        "![alt text](https://i.imgur.com/Su00XUA.png)\n",
        "\n"
      ]
    },
    {
      "cell_type": "markdown",
      "metadata": {
        "id": "u5DMnZp1bxAU"
      },
      "source": [
        "####**Skills Gained**"
      ]
    },
    {
      "cell_type": "markdown",
      "metadata": {
        "id": "InSeMIvFScja"
      },
      "source": [
        "- TensorFlow 2.x\n",
        "- Single Layer Perceptron\n",
        "- Multi Layer Perceptron\n",
        "- Model Improvisation"
      ]
    },
    {
      "cell_type": "markdown",
      "metadata": {
        "id": "szLxFVyIytsv"
      },
      "source": [
        "# Solution: Classifying Handwritten digits using Tensorflow 2.x"
      ]
    },
    {
      "cell_type": "markdown",
      "metadata": {
        "id": "yZBPiGLXYGUM"
      },
      "source": [
        "##Installing TensorFlow 2.x"
      ]
    },
    {
      "cell_type": "code",
      "metadata": {
        "id": "qSt1IGYaYe_y"
      },
      "source": [
        "# !pip install tensorflow"
      ],
      "execution_count": null,
      "outputs": []
    },
    {
      "cell_type": "code",
      "metadata": {
        "id": "knttI4ECLnHE",
        "colab": {
          "base_uri": "https://localhost:8080/"
        },
        "outputId": "6c0e0d93-1234-47af-ec71-00a791c594ee"
      },
      "source": [
        "#verify the installation\n",
        "import tensorflow as tf\n",
        "from tensorflow import keras \n",
        "\n",
        "#Check tf.keras version\n",
        "print(tf.keras.__version__)\n"
      ],
      "execution_count": null,
      "outputs": [
        {
          "output_type": "stream",
          "name": "stdout",
          "text": [
            "2.6.0\n"
          ]
        }
      ]
    },
    {
      "cell_type": "markdown",
      "metadata": {
        "id": "RaTcM_Gk_jco"
      },
      "source": [
        "##Preparing the Data"
      ]
    },
    {
      "cell_type": "markdown",
      "metadata": {
        "id": "M0UnlNytbPmC"
      },
      "source": [
        "###Loading the Data"
      ]
    },
    {
      "cell_type": "markdown",
      "metadata": {
        "id": "peAAgeflZwcH"
      },
      "source": [
        "Load and prepare the [MNIST dataset](http://yann.lecun.com/exdb/mnist/) and convert the samples from integers to floating-point numbers and deal with categorical data:"
      ]
    },
    {
      "cell_type": "code",
      "metadata": {
        "id": "c8-PSPuqLn_K",
        "colab": {
          "base_uri": "https://localhost:8080/"
        },
        "outputId": "7ea5163c-c9d5-4bd1-d987-86fc4955e330"
      },
      "source": [
        "# Loading MNIST dataset\n",
        "mnist = keras.datasets.mnist \n",
        "(X_train, Y_train), (X_test, Y_test) = mnist.load_data()"
      ],
      "execution_count": null,
      "outputs": [
        {
          "output_type": "stream",
          "name": "stdout",
          "text": [
            "Downloading data from https://storage.googleapis.com/tensorflow/tf-keras-datasets/mnist.npz\n",
            "11493376/11490434 [==============================] - 0s 0us/step\n",
            "11501568/11490434 [==============================] - 0s 0us/step\n"
          ]
        }
      ]
    },
    {
      "cell_type": "code",
      "metadata": {
        "id": "t_v4WkSBLrJH",
        "colab": {
          "base_uri": "https://localhost:8080/"
        },
        "outputId": "02f7b076-3197-4b0f-9611-1fbcffce48d6"
      },
      "source": [
        "# Data Exploration\n",
        "print(X_train.shape)\n",
        "print(X_test.shape)"
      ],
      "execution_count": null,
      "outputs": [
        {
          "output_type": "stream",
          "name": "stdout",
          "text": [
            "(60000, 28, 28)\n",
            "(10000, 28, 28)\n"
          ]
        }
      ]
    },
    {
      "cell_type": "markdown",
      "metadata": {
        "id": "WQR_cGsYaWVD"
      },
      "source": [
        "###Data Preprocessing"
      ]
    },
    {
      "cell_type": "code",
      "metadata": {
        "id": "eH99QHr5Pyz0"
      },
      "source": [
        "X_train = X_train.astype('float32')\n",
        "X_test = X_test.astype('float32') "
      ],
      "execution_count": null,
      "outputs": []
    },
    {
      "cell_type": "code",
      "metadata": {
        "id": "5uAo7yDtRhbG",
        "colab": {
          "base_uri": "https://localhost:8080/"
        },
        "outputId": "bf4da457-3c9e-434b-af38-a9d3ece5f4c7"
      },
      "source": [
        "# X_train is 60000 rows of 28x28 values; we reshape it to # 60000 x 784. \n",
        "RESHAPED = 784 # 28x28 = 784 neurons\n",
        "X_train = X_train.reshape(60000, RESHAPED) \n",
        "X_test = X_test.reshape(10000, RESHAPED) \n",
        "\n",
        "# Data is converted into float32 to use 32-bit precision # when training a neural network \n",
        "X_train = X_train.astype('float32')\n",
        "X_test = X_test.astype('float32') \n",
        "\n",
        "# Normalizing the input to be within the range [0,1]\n",
        "X_train /= 255\n",
        "#intensity of each pixel is divided by 255, the maximum intensity value\n",
        "X_test /= 255\n",
        "print(X_train.shape[0], 'train samples') \n",
        "print(X_test.shape[0], 'test samples') \n",
        "\n",
        "# One-hot representation of the labels.\n",
        "Y_train = tf.keras.utils.to_categorical(Y_train, 10) \n",
        "Y_test = tf.keras.utils.to_categorical(Y_test, 10)\n"
      ],
      "execution_count": null,
      "outputs": [
        {
          "output_type": "stream",
          "name": "stdout",
          "text": [
            "60000 train samples\n",
            "10000 test samples\n"
          ]
        }
      ]
    },
    {
      "cell_type": "markdown",
      "metadata": {
        "id": "8g6qsSi21x97"
      },
      "source": [
        "## Designing the Model"
      ]
    },
    {
      "cell_type": "markdown",
      "metadata": {
        "id": "ajqy56PT_pHr"
      },
      "source": [
        "###Preparing the Model 0: Single layer Perceptron"
      ]
    },
    {
      "cell_type": "markdown",
      "metadata": {
        "id": "wncYBuNkaCFf"
      },
      "source": [
        "Build the `Sequential` model with 0 hidden layers. Choose an optimizer and loss function for training:"
      ]
    },
    {
      "cell_type": "code",
      "metadata": {
        "id": "2Q5jFOQUM-c0"
      },
      "source": [
        "import tensorflow as tf\n",
        "from tensorflow.keras.layers import Dense\n",
        "from tensorflow.keras import Sequential\n",
        "model_0 = Sequential()\n",
        "# Now the model will take as input arrays of shape (*, 784)# and output arrays of shape (*, 10)\n",
        "model_0.add(Dense(10,input_shape=(784,),name='dense_layer', activation='softmax')) "
      ],
      "execution_count": null,
      "outputs": []
    },
    {
      "cell_type": "code",
      "metadata": {
        "id": "ocCzyD2SWC9I"
      },
      "source": [
        "# Compiling the model.\n",
        "model_0.compile(optimizer='SGD', \n",
        "              loss='categorical_crossentropy',\n",
        "              metrics=['accuracy'])"
      ],
      "execution_count": null,
      "outputs": []
    },
    {
      "cell_type": "code",
      "metadata": {
        "colab": {
          "base_uri": "https://localhost:8080/"
        },
        "id": "TWZ9sY0erDpO",
        "outputId": "7895d755-4160-4233-c8fb-0c59f9249c25"
      },
      "source": [
        "training = model_0.fit(X_train, Y_train, batch_size=64, epochs=70, validation_split=0.2) "
      ],
      "execution_count": null,
      "outputs": [
        {
          "output_type": "stream",
          "name": "stdout",
          "text": [
            "Epoch 1/70\n",
            "750/750 [==============================] - 2s 2ms/step - loss: 1.1003 - accuracy: 0.7394 - val_loss: 0.6582 - val_accuracy: 0.8536\n",
            "Epoch 2/70\n",
            "750/750 [==============================] - 1s 2ms/step - loss: 0.6092 - accuracy: 0.8534 - val_loss: 0.5094 - val_accuracy: 0.8778\n",
            "Epoch 3/70\n",
            "750/750 [==============================] - 1s 2ms/step - loss: 0.5132 - accuracy: 0.8693 - val_loss: 0.4513 - val_accuracy: 0.8860\n",
            "Epoch 4/70\n",
            "750/750 [==============================] - 1s 2ms/step - loss: 0.4669 - accuracy: 0.8772 - val_loss: 0.4184 - val_accuracy: 0.8923\n",
            "Epoch 5/70\n",
            "750/750 [==============================] - 1s 2ms/step - loss: 0.4383 - accuracy: 0.8829 - val_loss: 0.3972 - val_accuracy: 0.8949\n",
            "Epoch 6/70\n",
            "750/750 [==============================] - 1s 2ms/step - loss: 0.4184 - accuracy: 0.8874 - val_loss: 0.3821 - val_accuracy: 0.8992\n",
            "Epoch 7/70\n",
            "750/750 [==============================] - 1s 2ms/step - loss: 0.4034 - accuracy: 0.8902 - val_loss: 0.3706 - val_accuracy: 0.9001\n",
            "Epoch 8/70\n",
            "750/750 [==============================] - 2s 2ms/step - loss: 0.3917 - accuracy: 0.8934 - val_loss: 0.3617 - val_accuracy: 0.9028\n",
            "Epoch 9/70\n",
            "750/750 [==============================] - 1s 2ms/step - loss: 0.3823 - accuracy: 0.8955 - val_loss: 0.3543 - val_accuracy: 0.9045\n",
            "Epoch 10/70\n",
            "750/750 [==============================] - 1s 2ms/step - loss: 0.3743 - accuracy: 0.8970 - val_loss: 0.3478 - val_accuracy: 0.9067\n",
            "Epoch 11/70\n",
            "750/750 [==============================] - 1s 2ms/step - loss: 0.3676 - accuracy: 0.8986 - val_loss: 0.3423 - val_accuracy: 0.9075\n",
            "Epoch 12/70\n",
            "750/750 [==============================] - 2s 2ms/step - loss: 0.3617 - accuracy: 0.9003 - val_loss: 0.3377 - val_accuracy: 0.9087\n",
            "Epoch 13/70\n",
            "750/750 [==============================] - 1s 2ms/step - loss: 0.3566 - accuracy: 0.9014 - val_loss: 0.3338 - val_accuracy: 0.9093\n",
            "Epoch 14/70\n",
            "750/750 [==============================] - 1s 2ms/step - loss: 0.3521 - accuracy: 0.9026 - val_loss: 0.3299 - val_accuracy: 0.9103\n",
            "Epoch 15/70\n",
            "750/750 [==============================] - 1s 2ms/step - loss: 0.3479 - accuracy: 0.9036 - val_loss: 0.3269 - val_accuracy: 0.9114\n",
            "Epoch 16/70\n",
            "750/750 [==============================] - 1s 2ms/step - loss: 0.3443 - accuracy: 0.9046 - val_loss: 0.3239 - val_accuracy: 0.9112\n",
            "Epoch 17/70\n",
            "750/750 [==============================] - 2s 2ms/step - loss: 0.3410 - accuracy: 0.9050 - val_loss: 0.3215 - val_accuracy: 0.9117\n",
            "Epoch 18/70\n",
            "750/750 [==============================] - 1s 2ms/step - loss: 0.3379 - accuracy: 0.9061 - val_loss: 0.3192 - val_accuracy: 0.9124\n",
            "Epoch 19/70\n",
            "750/750 [==============================] - 1s 2ms/step - loss: 0.3351 - accuracy: 0.9067 - val_loss: 0.3168 - val_accuracy: 0.9130\n",
            "Epoch 20/70\n",
            "750/750 [==============================] - 1s 2ms/step - loss: 0.3325 - accuracy: 0.9073 - val_loss: 0.3148 - val_accuracy: 0.9138\n",
            "Epoch 21/70\n",
            "750/750 [==============================] - 1s 2ms/step - loss: 0.3302 - accuracy: 0.9079 - val_loss: 0.3131 - val_accuracy: 0.9133\n",
            "Epoch 22/70\n",
            "750/750 [==============================] - 1s 2ms/step - loss: 0.3279 - accuracy: 0.9084 - val_loss: 0.3113 - val_accuracy: 0.9136\n",
            "Epoch 23/70\n",
            "750/750 [==============================] - 1s 2ms/step - loss: 0.3259 - accuracy: 0.9090 - val_loss: 0.3095 - val_accuracy: 0.9143\n",
            "Epoch 24/70\n",
            "750/750 [==============================] - 1s 2ms/step - loss: 0.3239 - accuracy: 0.9097 - val_loss: 0.3080 - val_accuracy: 0.9140\n",
            "Epoch 25/70\n",
            "750/750 [==============================] - 1s 2ms/step - loss: 0.3220 - accuracy: 0.9102 - val_loss: 0.3069 - val_accuracy: 0.9143\n",
            "Epoch 26/70\n",
            "750/750 [==============================] - 1s 2ms/step - loss: 0.3204 - accuracy: 0.9106 - val_loss: 0.3054 - val_accuracy: 0.9144\n",
            "Epoch 27/70\n",
            "750/750 [==============================] - 1s 2ms/step - loss: 0.3187 - accuracy: 0.9112 - val_loss: 0.3040 - val_accuracy: 0.9150\n",
            "Epoch 28/70\n",
            "750/750 [==============================] - 1s 2ms/step - loss: 0.3171 - accuracy: 0.9112 - val_loss: 0.3031 - val_accuracy: 0.9167\n",
            "Epoch 29/70\n",
            "750/750 [==============================] - 1s 2ms/step - loss: 0.3156 - accuracy: 0.9119 - val_loss: 0.3017 - val_accuracy: 0.9160\n",
            "Epoch 30/70\n",
            "750/750 [==============================] - 1s 2ms/step - loss: 0.3143 - accuracy: 0.9123 - val_loss: 0.3007 - val_accuracy: 0.9170\n",
            "Epoch 31/70\n",
            "750/750 [==============================] - 1s 2ms/step - loss: 0.3130 - accuracy: 0.9128 - val_loss: 0.2997 - val_accuracy: 0.9168\n",
            "Epoch 32/70\n",
            "750/750 [==============================] - 1s 2ms/step - loss: 0.3117 - accuracy: 0.9134 - val_loss: 0.2989 - val_accuracy: 0.9177\n",
            "Epoch 33/70\n",
            "750/750 [==============================] - 1s 2ms/step - loss: 0.3105 - accuracy: 0.9135 - val_loss: 0.2979 - val_accuracy: 0.9178\n",
            "Epoch 34/70\n",
            "750/750 [==============================] - 1s 2ms/step - loss: 0.3093 - accuracy: 0.9142 - val_loss: 0.2969 - val_accuracy: 0.9179\n",
            "Epoch 35/70\n",
            "750/750 [==============================] - 1s 2ms/step - loss: 0.3082 - accuracy: 0.9141 - val_loss: 0.2961 - val_accuracy: 0.9182\n",
            "Epoch 36/70\n",
            "750/750 [==============================] - 1s 2ms/step - loss: 0.3071 - accuracy: 0.9151 - val_loss: 0.2957 - val_accuracy: 0.9171\n",
            "Epoch 37/70\n",
            "750/750 [==============================] - 1s 2ms/step - loss: 0.3062 - accuracy: 0.9148 - val_loss: 0.2947 - val_accuracy: 0.9184\n",
            "Epoch 38/70\n",
            "750/750 [==============================] - 1s 2ms/step - loss: 0.3052 - accuracy: 0.9153 - val_loss: 0.2940 - val_accuracy: 0.9179\n",
            "Epoch 39/70\n",
            "750/750 [==============================] - 1s 2ms/step - loss: 0.3042 - accuracy: 0.9153 - val_loss: 0.2932 - val_accuracy: 0.9181\n",
            "Epoch 40/70\n",
            "750/750 [==============================] - 1s 2ms/step - loss: 0.3034 - accuracy: 0.9159 - val_loss: 0.2925 - val_accuracy: 0.9189\n",
            "Epoch 41/70\n",
            "750/750 [==============================] - 1s 2ms/step - loss: 0.3024 - accuracy: 0.9163 - val_loss: 0.2922 - val_accuracy: 0.9180\n",
            "Epoch 42/70\n",
            "750/750 [==============================] - 1s 2ms/step - loss: 0.3016 - accuracy: 0.9161 - val_loss: 0.2914 - val_accuracy: 0.9186\n",
            "Epoch 43/70\n",
            "750/750 [==============================] - 1s 2ms/step - loss: 0.3008 - accuracy: 0.9164 - val_loss: 0.2908 - val_accuracy: 0.9186\n",
            "Epoch 44/70\n",
            "750/750 [==============================] - 1s 2ms/step - loss: 0.3001 - accuracy: 0.9161 - val_loss: 0.2901 - val_accuracy: 0.9190\n",
            "Epoch 45/70\n",
            "750/750 [==============================] - 1s 2ms/step - loss: 0.2993 - accuracy: 0.9164 - val_loss: 0.2896 - val_accuracy: 0.9192\n",
            "Epoch 46/70\n",
            "750/750 [==============================] - 1s 2ms/step - loss: 0.2985 - accuracy: 0.9170 - val_loss: 0.2894 - val_accuracy: 0.9187\n",
            "Epoch 47/70\n",
            "750/750 [==============================] - 1s 2ms/step - loss: 0.2978 - accuracy: 0.9173 - val_loss: 0.2888 - val_accuracy: 0.9194\n",
            "Epoch 48/70\n",
            "750/750 [==============================] - 1s 2ms/step - loss: 0.2972 - accuracy: 0.9175 - val_loss: 0.2882 - val_accuracy: 0.9188\n",
            "Epoch 49/70\n",
            "750/750 [==============================] - 1s 2ms/step - loss: 0.2965 - accuracy: 0.9176 - val_loss: 0.2877 - val_accuracy: 0.9198\n",
            "Epoch 50/70\n",
            "750/750 [==============================] - 1s 2ms/step - loss: 0.2958 - accuracy: 0.9179 - val_loss: 0.2872 - val_accuracy: 0.9197\n",
            "Epoch 51/70\n",
            "750/750 [==============================] - 1s 2ms/step - loss: 0.2952 - accuracy: 0.9177 - val_loss: 0.2868 - val_accuracy: 0.9196\n",
            "Epoch 52/70\n",
            "750/750 [==============================] - 1s 2ms/step - loss: 0.2945 - accuracy: 0.9184 - val_loss: 0.2864 - val_accuracy: 0.9194\n",
            "Epoch 53/70\n",
            "750/750 [==============================] - 1s 2ms/step - loss: 0.2940 - accuracy: 0.9182 - val_loss: 0.2861 - val_accuracy: 0.9203\n",
            "Epoch 54/70\n",
            "750/750 [==============================] - 1s 2ms/step - loss: 0.2933 - accuracy: 0.9184 - val_loss: 0.2857 - val_accuracy: 0.9202\n",
            "Epoch 55/70\n",
            "750/750 [==============================] - 1s 2ms/step - loss: 0.2928 - accuracy: 0.9184 - val_loss: 0.2852 - val_accuracy: 0.9201\n",
            "Epoch 56/70\n",
            "750/750 [==============================] - 1s 2ms/step - loss: 0.2922 - accuracy: 0.9189 - val_loss: 0.2850 - val_accuracy: 0.9207\n",
            "Epoch 57/70\n",
            "750/750 [==============================] - 1s 2ms/step - loss: 0.2917 - accuracy: 0.9190 - val_loss: 0.2844 - val_accuracy: 0.9200\n",
            "Epoch 58/70\n",
            "750/750 [==============================] - 1s 2ms/step - loss: 0.2912 - accuracy: 0.9190 - val_loss: 0.2842 - val_accuracy: 0.9207\n",
            "Epoch 59/70\n",
            "750/750 [==============================] - 1s 2ms/step - loss: 0.2907 - accuracy: 0.9195 - val_loss: 0.2837 - val_accuracy: 0.9201\n",
            "Epoch 60/70\n",
            "750/750 [==============================] - 1s 2ms/step - loss: 0.2901 - accuracy: 0.9196 - val_loss: 0.2833 - val_accuracy: 0.9211\n",
            "Epoch 61/70\n",
            "750/750 [==============================] - 1s 2ms/step - loss: 0.2897 - accuracy: 0.9195 - val_loss: 0.2830 - val_accuracy: 0.9212\n",
            "Epoch 62/70\n",
            "750/750 [==============================] - 1s 2ms/step - loss: 0.2892 - accuracy: 0.9197 - val_loss: 0.2827 - val_accuracy: 0.9218\n",
            "Epoch 63/70\n",
            "750/750 [==============================] - 1s 2ms/step - loss: 0.2887 - accuracy: 0.9198 - val_loss: 0.2824 - val_accuracy: 0.9216\n",
            "Epoch 64/70\n",
            "750/750 [==============================] - 1s 2ms/step - loss: 0.2883 - accuracy: 0.9202 - val_loss: 0.2823 - val_accuracy: 0.9211\n",
            "Epoch 65/70\n",
            "750/750 [==============================] - 1s 2ms/step - loss: 0.2879 - accuracy: 0.9200 - val_loss: 0.2819 - val_accuracy: 0.9211\n",
            "Epoch 66/70\n",
            "750/750 [==============================] - 1s 2ms/step - loss: 0.2873 - accuracy: 0.9204 - val_loss: 0.2817 - val_accuracy: 0.9211\n",
            "Epoch 67/70\n",
            "750/750 [==============================] - 1s 2ms/step - loss: 0.2869 - accuracy: 0.9205 - val_loss: 0.2813 - val_accuracy: 0.9217\n",
            "Epoch 68/70\n",
            "750/750 [==============================] - 1s 2ms/step - loss: 0.2866 - accuracy: 0.9204 - val_loss: 0.2811 - val_accuracy: 0.9213\n",
            "Epoch 69/70\n",
            "750/750 [==============================] - 1s 2ms/step - loss: 0.2861 - accuracy: 0.9210 - val_loss: 0.2808 - val_accuracy: 0.9219\n",
            "Epoch 70/70\n",
            "750/750 [==============================] - 1s 2ms/step - loss: 0.2857 - accuracy: 0.9207 - val_loss: 0.2804 - val_accuracy: 0.9215\n"
          ]
        }
      ]
    },
    {
      "cell_type": "code",
      "metadata": {
        "id": "fvAt9Atl-cnx",
        "colab": {
          "base_uri": "https://localhost:8080/"
        },
        "outputId": "ee6807b4-cf39-446a-d891-2b4582a41e81"
      },
      "source": [
        "# Training the model. \n",
        "training = model_0.fit(X_train, Y_train, batch_size=64, epochs=70, validation_split=0.2) "
      ],
      "execution_count": null,
      "outputs": [
        {
          "output_type": "stream",
          "name": "stdout",
          "text": [
            "Epoch 1/70\n",
            "750/750 [==============================] - 2s 2ms/step - loss: 1.0970 - accuracy: 0.7453 - val_loss: 0.6584 - val_accuracy: 0.8598\n",
            "Epoch 2/70\n",
            "750/750 [==============================] - 1s 2ms/step - loss: 0.6092 - accuracy: 0.8550 - val_loss: 0.5083 - val_accuracy: 0.8782\n",
            "Epoch 3/70\n",
            "750/750 [==============================] - 1s 2ms/step - loss: 0.5131 - accuracy: 0.8704 - val_loss: 0.4500 - val_accuracy: 0.8865\n",
            "Epoch 4/70\n",
            "750/750 [==============================] - 1s 2ms/step - loss: 0.4665 - accuracy: 0.8787 - val_loss: 0.4177 - val_accuracy: 0.8914\n",
            "Epoch 5/70\n",
            "750/750 [==============================] - 1s 2ms/step - loss: 0.4379 - accuracy: 0.8841 - val_loss: 0.3961 - val_accuracy: 0.8967\n",
            "Epoch 6/70\n",
            "750/750 [==============================] - 1s 2ms/step - loss: 0.4179 - accuracy: 0.8881 - val_loss: 0.3811 - val_accuracy: 0.8999\n",
            "Epoch 7/70\n",
            "750/750 [==============================] - 1s 2ms/step - loss: 0.4030 - accuracy: 0.8914 - val_loss: 0.3697 - val_accuracy: 0.9014\n",
            "Epoch 8/70\n",
            "750/750 [==============================] - 1s 2ms/step - loss: 0.3913 - accuracy: 0.8937 - val_loss: 0.3609 - val_accuracy: 0.9038\n",
            "Epoch 9/70\n",
            "750/750 [==============================] - 1s 2ms/step - loss: 0.3819 - accuracy: 0.8955 - val_loss: 0.3529 - val_accuracy: 0.9045\n",
            "Epoch 10/70\n",
            "750/750 [==============================] - 1s 2ms/step - loss: 0.3740 - accuracy: 0.8977 - val_loss: 0.3469 - val_accuracy: 0.9065\n",
            "Epoch 11/70\n",
            "750/750 [==============================] - 1s 2ms/step - loss: 0.3672 - accuracy: 0.8990 - val_loss: 0.3417 - val_accuracy: 0.9068\n",
            "Epoch 12/70\n",
            "750/750 [==============================] - 1s 2ms/step - loss: 0.3614 - accuracy: 0.9006 - val_loss: 0.3369 - val_accuracy: 0.9085\n",
            "Epoch 13/70\n",
            "750/750 [==============================] - 1s 2ms/step - loss: 0.3563 - accuracy: 0.9014 - val_loss: 0.3330 - val_accuracy: 0.9089\n",
            "Epoch 14/70\n",
            "750/750 [==============================] - 1s 2ms/step - loss: 0.3518 - accuracy: 0.9030 - val_loss: 0.3294 - val_accuracy: 0.9102\n",
            "Epoch 15/70\n",
            "750/750 [==============================] - 1s 2ms/step - loss: 0.3478 - accuracy: 0.9037 - val_loss: 0.3262 - val_accuracy: 0.9117\n",
            "Epoch 16/70\n",
            "750/750 [==============================] - 1s 2ms/step - loss: 0.3441 - accuracy: 0.9047 - val_loss: 0.3235 - val_accuracy: 0.9119\n",
            "Epoch 17/70\n",
            "750/750 [==============================] - 1s 2ms/step - loss: 0.3408 - accuracy: 0.9055 - val_loss: 0.3209 - val_accuracy: 0.9117\n",
            "Epoch 18/70\n",
            "750/750 [==============================] - 1s 2ms/step - loss: 0.3378 - accuracy: 0.9064 - val_loss: 0.3185 - val_accuracy: 0.9122\n",
            "Epoch 19/70\n",
            "750/750 [==============================] - 1s 2ms/step - loss: 0.3350 - accuracy: 0.9074 - val_loss: 0.3161 - val_accuracy: 0.9133\n",
            "Epoch 20/70\n",
            "750/750 [==============================] - 1s 2ms/step - loss: 0.3324 - accuracy: 0.9082 - val_loss: 0.3148 - val_accuracy: 0.9132\n",
            "Epoch 21/70\n",
            "750/750 [==============================] - 1s 2ms/step - loss: 0.3300 - accuracy: 0.9084 - val_loss: 0.3125 - val_accuracy: 0.9149\n",
            "Epoch 22/70\n",
            "750/750 [==============================] - 1s 2ms/step - loss: 0.3278 - accuracy: 0.9094 - val_loss: 0.3110 - val_accuracy: 0.9146\n",
            "Epoch 23/70\n",
            "750/750 [==============================] - 1s 2ms/step - loss: 0.3258 - accuracy: 0.9098 - val_loss: 0.3091 - val_accuracy: 0.9148\n",
            "Epoch 24/70\n",
            "750/750 [==============================] - 1s 2ms/step - loss: 0.3238 - accuracy: 0.9102 - val_loss: 0.3076 - val_accuracy: 0.9148\n",
            "Epoch 25/70\n",
            "750/750 [==============================] - 1s 2ms/step - loss: 0.3220 - accuracy: 0.9106 - val_loss: 0.3062 - val_accuracy: 0.9161\n",
            "Epoch 26/70\n",
            "750/750 [==============================] - 1s 2ms/step - loss: 0.3203 - accuracy: 0.9110 - val_loss: 0.3051 - val_accuracy: 0.9163\n",
            "Epoch 27/70\n",
            "750/750 [==============================] - 1s 2ms/step - loss: 0.3187 - accuracy: 0.9121 - val_loss: 0.3038 - val_accuracy: 0.9161\n",
            "Epoch 28/70\n",
            "750/750 [==============================] - 1s 2ms/step - loss: 0.3171 - accuracy: 0.9123 - val_loss: 0.3028 - val_accuracy: 0.9165\n",
            "Epoch 29/70\n",
            "750/750 [==============================] - 1s 2ms/step - loss: 0.3157 - accuracy: 0.9124 - val_loss: 0.3016 - val_accuracy: 0.9168\n",
            "Epoch 30/70\n",
            "750/750 [==============================] - 1s 2ms/step - loss: 0.3143 - accuracy: 0.9130 - val_loss: 0.3005 - val_accuracy: 0.9172\n",
            "Epoch 31/70\n",
            "750/750 [==============================] - 1s 2ms/step - loss: 0.3128 - accuracy: 0.9135 - val_loss: 0.2999 - val_accuracy: 0.9168\n",
            "Epoch 32/70\n",
            "750/750 [==============================] - 1s 2ms/step - loss: 0.3117 - accuracy: 0.9135 - val_loss: 0.2986 - val_accuracy: 0.9171\n",
            "Epoch 33/70\n",
            "750/750 [==============================] - 1s 2ms/step - loss: 0.3105 - accuracy: 0.9141 - val_loss: 0.2978 - val_accuracy: 0.9174\n",
            "Epoch 34/70\n",
            "750/750 [==============================] - 1s 2ms/step - loss: 0.3093 - accuracy: 0.9143 - val_loss: 0.2968 - val_accuracy: 0.9175\n",
            "Epoch 35/70\n",
            "750/750 [==============================] - 1s 2ms/step - loss: 0.3083 - accuracy: 0.9149 - val_loss: 0.2961 - val_accuracy: 0.9178\n",
            "Epoch 36/70\n",
            "750/750 [==============================] - 1s 2ms/step - loss: 0.3071 - accuracy: 0.9150 - val_loss: 0.2954 - val_accuracy: 0.9187\n",
            "Epoch 37/70\n",
            "750/750 [==============================] - 1s 2ms/step - loss: 0.3062 - accuracy: 0.9150 - val_loss: 0.2945 - val_accuracy: 0.9180\n",
            "Epoch 38/70\n",
            "750/750 [==============================] - 1s 2ms/step - loss: 0.3052 - accuracy: 0.9155 - val_loss: 0.2938 - val_accuracy: 0.9187\n",
            "Epoch 39/70\n",
            "750/750 [==============================] - 1s 2ms/step - loss: 0.3043 - accuracy: 0.9157 - val_loss: 0.2932 - val_accuracy: 0.9183\n",
            "Epoch 40/70\n",
            "750/750 [==============================] - 1s 2ms/step - loss: 0.3033 - accuracy: 0.9159 - val_loss: 0.2925 - val_accuracy: 0.9190\n",
            "Epoch 41/70\n",
            "750/750 [==============================] - 1s 2ms/step - loss: 0.3025 - accuracy: 0.9161 - val_loss: 0.2919 - val_accuracy: 0.9193\n",
            "Epoch 42/70\n",
            "750/750 [==============================] - 1s 2ms/step - loss: 0.3016 - accuracy: 0.9163 - val_loss: 0.2913 - val_accuracy: 0.9191\n",
            "Epoch 43/70\n",
            "750/750 [==============================] - 1s 2ms/step - loss: 0.3008 - accuracy: 0.9169 - val_loss: 0.2907 - val_accuracy: 0.9192\n",
            "Epoch 44/70\n",
            "750/750 [==============================] - 1s 2ms/step - loss: 0.3000 - accuracy: 0.9170 - val_loss: 0.2902 - val_accuracy: 0.9197\n",
            "Epoch 45/70\n",
            "750/750 [==============================] - 1s 2ms/step - loss: 0.2993 - accuracy: 0.9171 - val_loss: 0.2897 - val_accuracy: 0.9193\n",
            "Epoch 46/70\n",
            "750/750 [==============================] - 1s 2ms/step - loss: 0.2986 - accuracy: 0.9172 - val_loss: 0.2892 - val_accuracy: 0.9195\n",
            "Epoch 47/70\n",
            "750/750 [==============================] - 1s 2ms/step - loss: 0.2979 - accuracy: 0.9175 - val_loss: 0.2887 - val_accuracy: 0.9195\n",
            "Epoch 48/70\n",
            "750/750 [==============================] - 1s 2ms/step - loss: 0.2972 - accuracy: 0.9177 - val_loss: 0.2880 - val_accuracy: 0.9206\n",
            "Epoch 49/70\n",
            "750/750 [==============================] - 1s 2ms/step - loss: 0.2966 - accuracy: 0.9176 - val_loss: 0.2877 - val_accuracy: 0.9200\n",
            "Epoch 50/70\n",
            "750/750 [==============================] - 1s 2ms/step - loss: 0.2958 - accuracy: 0.9178 - val_loss: 0.2875 - val_accuracy: 0.9194\n",
            "Epoch 51/70\n",
            "750/750 [==============================] - 1s 2ms/step - loss: 0.2952 - accuracy: 0.9179 - val_loss: 0.2868 - val_accuracy: 0.9205\n",
            "Epoch 52/70\n",
            "750/750 [==============================] - 1s 2ms/step - loss: 0.2946 - accuracy: 0.9185 - val_loss: 0.2865 - val_accuracy: 0.9206\n",
            "Epoch 53/70\n",
            "750/750 [==============================] - 1s 2ms/step - loss: 0.2940 - accuracy: 0.9184 - val_loss: 0.2859 - val_accuracy: 0.9208\n",
            "Epoch 54/70\n",
            "750/750 [==============================] - 1s 2ms/step - loss: 0.2935 - accuracy: 0.9184 - val_loss: 0.2855 - val_accuracy: 0.9211\n",
            "Epoch 55/70\n",
            "750/750 [==============================] - 1s 2ms/step - loss: 0.2928 - accuracy: 0.9190 - val_loss: 0.2852 - val_accuracy: 0.9209\n",
            "Epoch 56/70\n",
            "750/750 [==============================] - 1s 2ms/step - loss: 0.2923 - accuracy: 0.9183 - val_loss: 0.2848 - val_accuracy: 0.9213\n",
            "Epoch 57/70\n",
            "750/750 [==============================] - 1s 2ms/step - loss: 0.2918 - accuracy: 0.9188 - val_loss: 0.2843 - val_accuracy: 0.9213\n",
            "Epoch 58/70\n",
            "750/750 [==============================] - 1s 2ms/step - loss: 0.2913 - accuracy: 0.9194 - val_loss: 0.2841 - val_accuracy: 0.9218\n",
            "Epoch 59/70\n",
            "750/750 [==============================] - 1s 2ms/step - loss: 0.2907 - accuracy: 0.9190 - val_loss: 0.2837 - val_accuracy: 0.9220\n",
            "Epoch 60/70\n",
            "750/750 [==============================] - 1s 2ms/step - loss: 0.2902 - accuracy: 0.9196 - val_loss: 0.2835 - val_accuracy: 0.9211\n",
            "Epoch 61/70\n",
            "750/750 [==============================] - 1s 2ms/step - loss: 0.2898 - accuracy: 0.9195 - val_loss: 0.2831 - val_accuracy: 0.9217\n",
            "Epoch 62/70\n",
            "750/750 [==============================] - 1s 2ms/step - loss: 0.2893 - accuracy: 0.9196 - val_loss: 0.2828 - val_accuracy: 0.9218\n",
            "Epoch 63/70\n",
            "750/750 [==============================] - 1s 2ms/step - loss: 0.2888 - accuracy: 0.9197 - val_loss: 0.2823 - val_accuracy: 0.9219\n",
            "Epoch 64/70\n",
            "750/750 [==============================] - 1s 2ms/step - loss: 0.2883 - accuracy: 0.9199 - val_loss: 0.2821 - val_accuracy: 0.9222\n",
            "Epoch 65/70\n",
            "750/750 [==============================] - 1s 2ms/step - loss: 0.2879 - accuracy: 0.9200 - val_loss: 0.2819 - val_accuracy: 0.9222\n",
            "Epoch 66/70\n",
            "750/750 [==============================] - 1s 2ms/step - loss: 0.2874 - accuracy: 0.9202 - val_loss: 0.2818 - val_accuracy: 0.9220\n",
            "Epoch 67/70\n",
            "750/750 [==============================] - 1s 2ms/step - loss: 0.2871 - accuracy: 0.9204 - val_loss: 0.2813 - val_accuracy: 0.9222\n",
            "Epoch 68/70\n",
            "750/750 [==============================] - 1s 2ms/step - loss: 0.2866 - accuracy: 0.9203 - val_loss: 0.2810 - val_accuracy: 0.9218\n",
            "Epoch 69/70\n",
            "750/750 [==============================] - 1s 2ms/step - loss: 0.2862 - accuracy: 0.9204 - val_loss: 0.2810 - val_accuracy: 0.9218\n",
            "Epoch 70/70\n",
            "750/750 [==============================] - 1s 2ms/step - loss: 0.2858 - accuracy: 0.9203 - val_loss: 0.2805 - val_accuracy: 0.9222\n"
          ]
        }
      ]
    },
    {
      "cell_type": "code",
      "metadata": {
        "id": "hof2yoiDBCab",
        "colab": {
          "base_uri": "https://localhost:8080/",
          "height": 591
        },
        "outputId": "3d427aad-3a19-4202-ae53-b64283e5306f"
      },
      "source": [
        "import matplotlib.pyplot as plt\n",
        "%matplotlib inline\n",
        "# list all data in training\n",
        "print(training.history.keys())\n",
        "# summarize training for accuracy\n",
        "plt.plot(training.history['accuracy'])\n",
        "plt.plot(training.history['val_accuracy'])\n",
        "plt.title('model accuracy')\n",
        "plt.ylabel('accuracy')\n",
        "plt.xlabel('epoch')\n",
        "plt.legend(['train', 'test'], loc='upper left')\n",
        "plt.show()\n",
        "# summarize traning for loss\n",
        "plt.plot(training.history['loss'])\n",
        "plt.plot(training.history['val_loss'])\n",
        "plt.title('model loss')\n",
        "plt.ylabel('loss')\n",
        "plt.xlabel('epoch')\n",
        "plt.legend(['train', 'test'], loc='upper left')\n",
        "plt.show()"
      ],
      "execution_count": null,
      "outputs": [
        {
          "output_type": "stream",
          "name": "stdout",
          "text": [
            "dict_keys(['loss', 'accuracy', 'val_loss', 'val_accuracy'])\n"
          ]
        },
        {
          "output_type": "display_data",
          "data": {
            "image/png": "[encoded data removed]",
            "text/plain": [
              "<Figure size 432x288 with 1 Axes>"
            ]
          },
          "metadata": {
            "needs_background": "light"
          }
        },
        {
          "output_type": "display_data",
          "data": {
            "image/png": "[encoded data removed]",
            "text/plain": [
              "<Figure size 432x288 with 1 Axes>"
            ]
          },
          "metadata": {
            "needs_background": "light"
          }
        }
      ]
    },
    {
      "cell_type": "code",
      "metadata": {
        "id": "SzP_B7w7_1tj",
        "colab": {
          "base_uri": "https://localhost:8080/"
        },
        "outputId": "bde42398-ffc5-4b44-9bc4-0d97acab35f4"
      },
      "source": [
        "#evaluate the model\n",
        "test_loss, test_acc = model_0.evaluate(X_test, Y_test)\n",
        "print('Test accuracy:', test_acc)"
      ],
      "execution_count": null,
      "outputs": [
        {
          "output_type": "stream",
          "name": "stdout",
          "text": [
            "313/313 [==============================] - 0s 1ms/step - loss: 0.2823 - accuracy: 0.9225\n",
            "Test accuracy: 0.9225000143051147\n"
          ]
        }
      ]
    },
    {
      "cell_type": "code",
      "metadata": {
        "id": "ZrHaOTYTaukM",
        "colab": {
          "base_uri": "https://localhost:8080/"
        },
        "outputId": "cc455250-ce2c-4524-b3c5-1d3c80b27953"
      },
      "source": [
        "model_0.summary()"
      ],
      "execution_count": null,
      "outputs": [
        {
          "output_type": "stream",
          "name": "stdout",
          "text": [
            "Model: \"sequential_2\"\n",
            "_________________________________________________________________\n",
            "Layer (type)                 Output Shape              Param #   \n",
            "=================================================================\n",
            "dense_layer (Dense)          (None, 10)                7850      \n",
            "=================================================================\n",
            "Total params: 7,850\n",
            "Trainable params: 7,850\n",
            "Non-trainable params: 0\n",
            "_________________________________________________________________\n"
          ]
        }
      ]
    },
    {
      "cell_type": "code",
      "metadata": {
        "id": "SsL3O8UfartE",
        "colab": {
          "base_uri": "https://localhost:8080/"
        },
        "outputId": "a5c2f53d-27c0-4fd0-8581-3f5caffeb084"
      },
      "source": [
        "model_0.get_config()"
      ],
      "execution_count": null,
      "outputs": [
        {
          "output_type": "execute_result",
          "data": {
            "text/plain": [
              "{'layers': [{'class_name': 'InputLayer',\n",
              "   'config': {'batch_input_shape': (None, 784),\n",
              "    'dtype': 'float32',\n",
              "    'name': 'dense_layer_input',\n",
              "    'ragged': False,\n",
              "    'sparse': False}},\n",
              "  {'class_name': 'Dense',\n",
              "   'config': {'activation': 'softmax',\n",
              "    'activity_regularizer': None,\n",
              "    'batch_input_shape': (None, 784),\n",
              "    'bias_constraint': None,\n",
              "    'bias_initializer': {'class_name': 'Zeros', 'config': {}},\n",
              "    'bias_regularizer': None,\n",
              "    'dtype': 'float32',\n",
              "    'kernel_constraint': None,\n",
              "    'kernel_initializer': {'class_name': 'GlorotUniform',\n",
              "     'config': {'seed': None}},\n",
              "    'kernel_regularizer': None,\n",
              "    'name': 'dense_layer',\n",
              "    'trainable': True,\n",
              "    'units': 10,\n",
              "    'use_bias': True}}],\n",
              " 'name': 'sequential_2'}"
            ]
          },
          "metadata": {},
          "execution_count": 31
        }
      ]
    },
    {
      "cell_type": "markdown",
      "metadata": {
        "id": "n8iGAu5OAO5Y"
      },
      "source": [
        "###Improved Model 1: Adding Hidden Layer - Multi Layer Perceptron "
      ]
    },
    {
      "cell_type": "code",
      "metadata": {
        "id": "VVkZL5uiAhJB"
      },
      "source": [
        "#Most common type of model is a stack of layers\n",
        "model_1 = tf.keras.Sequential()\n",
        "N_hidden = 64\n",
        "# Adds a densely-connected layer with 64 units to the model:\n",
        "model_1.add(Dense(N_hidden, name='dense_layer', input_shape=(784,), activation = 'relu'))\n",
        "# Now the model will take as input arrays of shape (*, 784)# and output arrays of shape (*, 64)\n",
        "\n",
        "# Adding another dense layer:\n",
        "model_1.add(Dense(N_hidden, name='dense_layer_2', activation='relu'))\n",
        "# After the first layer, you don't need to specify\u000b# the size of the input anymore:\n",
        "# Add an output layer with 10 output units (10 different classes):\n",
        "model_1.add(Dense(10, name='dense_layer_3', activation = 'softmax'))"
      ],
      "execution_count": null,
      "outputs": []
    },
    {
      "cell_type": "code",
      "metadata": {
        "id": "MiYit8ATfCXw"
      },
      "source": [
        "# Compiling the model.\n",
        "model_1.compile(optimizer='SGD', \n",
        "              loss='categorical_crossentropy',\n",
        "              metrics=['accuracy'])"
      ],
      "execution_count": null,
      "outputs": []
    },
    {
      "cell_type": "code",
      "metadata": {
        "id": "qeWrSoxzfCYE",
        "colab": {
          "base_uri": "https://localhost:8080/"
        },
        "outputId": "6f326073-6d1d-4c9f-901d-2044b422cf07"
      },
      "source": [
        "# Training the model. \n",
        "training = model_1.fit(X_train, Y_train, batch_size=64, epochs=100, validation_split=0.2) "
      ],
      "execution_count": null,
      "outputs": [
        {
          "output_type": "stream",
          "name": "stdout",
          "text": [
            "Epoch 1/100\n",
            "750/750 [==============================] - 2s 3ms/step - loss: 1.1566 - accuracy: 0.6796 - val_loss: 0.5076 - val_accuracy: 0.8708\n",
            "Epoch 2/100\n",
            "750/750 [==============================] - 2s 3ms/step - loss: 0.4473 - accuracy: 0.8760 - val_loss: 0.3622 - val_accuracy: 0.8998\n",
            "Epoch 3/100\n",
            "750/750 [==============================] - 2s 3ms/step - loss: 0.3605 - accuracy: 0.8960 - val_loss: 0.3145 - val_accuracy: 0.9104\n",
            "Epoch 4/100\n",
            "750/750 [==============================] - 2s 3ms/step - loss: 0.3205 - accuracy: 0.9077 - val_loss: 0.2890 - val_accuracy: 0.9186\n",
            "Epoch 5/100\n",
            "750/750 [==============================] - 2s 3ms/step - loss: 0.2941 - accuracy: 0.9151 - val_loss: 0.2716 - val_accuracy: 0.9234\n",
            "Epoch 6/100\n",
            "750/750 [==============================] - 2s 3ms/step - loss: 0.2738 - accuracy: 0.9215 - val_loss: 0.2528 - val_accuracy: 0.9285\n",
            "Epoch 7/100\n",
            "750/750 [==============================] - 2s 3ms/step - loss: 0.2559 - accuracy: 0.9265 - val_loss: 0.2381 - val_accuracy: 0.9338\n",
            "Epoch 8/100\n",
            "750/750 [==============================] - 2s 3ms/step - loss: 0.2401 - accuracy: 0.9319 - val_loss: 0.2289 - val_accuracy: 0.9347\n",
            "Epoch 9/100\n",
            "750/750 [==============================] - 2s 3ms/step - loss: 0.2258 - accuracy: 0.9362 - val_loss: 0.2174 - val_accuracy: 0.9374\n",
            "Epoch 10/100\n",
            "750/750 [==============================] - 2s 3ms/step - loss: 0.2132 - accuracy: 0.9390 - val_loss: 0.2055 - val_accuracy: 0.9417\n",
            "Epoch 11/100\n",
            "750/750 [==============================] - 2s 3ms/step - loss: 0.2021 - accuracy: 0.9419 - val_loss: 0.1953 - val_accuracy: 0.9442\n",
            "Epoch 12/100\n",
            "750/750 [==============================] - 2s 3ms/step - loss: 0.1911 - accuracy: 0.9449 - val_loss: 0.1869 - val_accuracy: 0.9473\n",
            "Epoch 13/100\n",
            "750/750 [==============================] - 2s 3ms/step - loss: 0.1820 - accuracy: 0.9485 - val_loss: 0.1806 - val_accuracy: 0.9488\n",
            "Epoch 14/100\n",
            "750/750 [==============================] - 2s 3ms/step - loss: 0.1736 - accuracy: 0.9500 - val_loss: 0.1732 - val_accuracy: 0.9500\n",
            "Epoch 15/100\n",
            "750/750 [==============================] - 2s 3ms/step - loss: 0.1661 - accuracy: 0.9524 - val_loss: 0.1682 - val_accuracy: 0.9510\n",
            "Epoch 16/100\n",
            "750/750 [==============================] - 2s 3ms/step - loss: 0.1589 - accuracy: 0.9551 - val_loss: 0.1628 - val_accuracy: 0.9534\n",
            "Epoch 17/100\n",
            "750/750 [==============================] - 2s 3ms/step - loss: 0.1522 - accuracy: 0.9568 - val_loss: 0.1575 - val_accuracy: 0.9555\n",
            "Epoch 18/100\n",
            "750/750 [==============================] - 2s 3ms/step - loss: 0.1464 - accuracy: 0.9583 - val_loss: 0.1546 - val_accuracy: 0.9567\n",
            "Epoch 19/100\n",
            "750/750 [==============================] - 2s 3ms/step - loss: 0.1408 - accuracy: 0.9603 - val_loss: 0.1500 - val_accuracy: 0.9572\n",
            "Epoch 20/100\n",
            "750/750 [==============================] - 2s 3ms/step - loss: 0.1353 - accuracy: 0.9616 - val_loss: 0.1456 - val_accuracy: 0.9593\n",
            "Epoch 21/100\n",
            "750/750 [==============================] - 2s 3ms/step - loss: 0.1309 - accuracy: 0.9631 - val_loss: 0.1418 - val_accuracy: 0.9599\n",
            "Epoch 22/100\n",
            "750/750 [==============================] - 2s 3ms/step - loss: 0.1261 - accuracy: 0.9644 - val_loss: 0.1384 - val_accuracy: 0.9611\n",
            "Epoch 23/100\n",
            "750/750 [==============================] - 2s 3ms/step - loss: 0.1220 - accuracy: 0.9657 - val_loss: 0.1350 - val_accuracy: 0.9614\n",
            "Epoch 24/100\n",
            "750/750 [==============================] - 2s 3ms/step - loss: 0.1181 - accuracy: 0.9665 - val_loss: 0.1337 - val_accuracy: 0.9622\n",
            "Epoch 25/100\n",
            "750/750 [==============================] - 2s 3ms/step - loss: 0.1147 - accuracy: 0.9677 - val_loss: 0.1301 - val_accuracy: 0.9625\n",
            "Epoch 26/100\n",
            "750/750 [==============================] - 2s 3ms/step - loss: 0.1108 - accuracy: 0.9689 - val_loss: 0.1299 - val_accuracy: 0.9634\n",
            "Epoch 27/100\n",
            "750/750 [==============================] - 2s 3ms/step - loss: 0.1076 - accuracy: 0.9696 - val_loss: 0.1265 - val_accuracy: 0.9641\n",
            "Epoch 28/100\n",
            "750/750 [==============================] - 2s 3ms/step - loss: 0.1043 - accuracy: 0.9702 - val_loss: 0.1250 - val_accuracy: 0.9645\n",
            "Epoch 29/100\n",
            "750/750 [==============================] - 2s 3ms/step - loss: 0.1011 - accuracy: 0.9713 - val_loss: 0.1229 - val_accuracy: 0.9653\n",
            "Epoch 30/100\n",
            "750/750 [==============================] - 2s 3ms/step - loss: 0.0987 - accuracy: 0.9723 - val_loss: 0.1213 - val_accuracy: 0.9653\n",
            "Epoch 31/100\n",
            "750/750 [==============================] - 2s 3ms/step - loss: 0.0955 - accuracy: 0.9735 - val_loss: 0.1194 - val_accuracy: 0.9668\n",
            "Epoch 32/100\n",
            "750/750 [==============================] - 2s 3ms/step - loss: 0.0930 - accuracy: 0.9739 - val_loss: 0.1179 - val_accuracy: 0.9668\n",
            "Epoch 33/100\n",
            "750/750 [==============================] - 2s 2ms/step - loss: 0.0907 - accuracy: 0.9749 - val_loss: 0.1176 - val_accuracy: 0.9662\n",
            "Epoch 34/100\n",
            "750/750 [==============================] - 2s 3ms/step - loss: 0.0881 - accuracy: 0.9750 - val_loss: 0.1174 - val_accuracy: 0.9657\n",
            "Epoch 35/100\n",
            "750/750 [==============================] - 2s 3ms/step - loss: 0.0860 - accuracy: 0.9755 - val_loss: 0.1148 - val_accuracy: 0.9668\n",
            "Epoch 36/100\n",
            "750/750 [==============================] - 2s 3ms/step - loss: 0.0838 - accuracy: 0.9764 - val_loss: 0.1156 - val_accuracy: 0.9668\n",
            "Epoch 37/100\n",
            "750/750 [==============================] - 2s 3ms/step - loss: 0.0816 - accuracy: 0.9773 - val_loss: 0.1132 - val_accuracy: 0.9673\n",
            "Epoch 38/100\n",
            "750/750 [==============================] - 2s 3ms/step - loss: 0.0797 - accuracy: 0.9776 - val_loss: 0.1108 - val_accuracy: 0.9678\n",
            "Epoch 39/100\n",
            "750/750 [==============================] - 2s 3ms/step - loss: 0.0779 - accuracy: 0.9779 - val_loss: 0.1113 - val_accuracy: 0.9675\n",
            "Epoch 40/100\n",
            "750/750 [==============================] - 2s 3ms/step - loss: 0.0760 - accuracy: 0.9785 - val_loss: 0.1088 - val_accuracy: 0.9673\n",
            "Epoch 41/100\n",
            "750/750 [==============================] - 2s 3ms/step - loss: 0.0738 - accuracy: 0.9791 - val_loss: 0.1107 - val_accuracy: 0.9677\n",
            "Epoch 42/100\n",
            "750/750 [==============================] - 2s 3ms/step - loss: 0.0724 - accuracy: 0.9795 - val_loss: 0.1079 - val_accuracy: 0.9682\n",
            "Epoch 43/100\n",
            "750/750 [==============================] - 2s 3ms/step - loss: 0.0704 - accuracy: 0.9803 - val_loss: 0.1070 - val_accuracy: 0.9681\n",
            "Epoch 44/100\n",
            "750/750 [==============================] - 2s 3ms/step - loss: 0.0687 - accuracy: 0.9805 - val_loss: 0.1080 - val_accuracy: 0.9682\n",
            "Epoch 45/100\n",
            "750/750 [==============================] - 2s 3ms/step - loss: 0.0674 - accuracy: 0.9814 - val_loss: 0.1063 - val_accuracy: 0.9691\n",
            "Epoch 46/100\n",
            "750/750 [==============================] - 2s 3ms/step - loss: 0.0659 - accuracy: 0.9817 - val_loss: 0.1056 - val_accuracy: 0.9692\n",
            "Epoch 47/100\n",
            "750/750 [==============================] - 2s 3ms/step - loss: 0.0642 - accuracy: 0.9823 - val_loss: 0.1046 - val_accuracy: 0.9697\n",
            "Epoch 48/100\n",
            "750/750 [==============================] - 2s 3ms/step - loss: 0.0628 - accuracy: 0.9825 - val_loss: 0.1055 - val_accuracy: 0.9682\n",
            "Epoch 49/100\n",
            "750/750 [==============================] - 2s 3ms/step - loss: 0.0614 - accuracy: 0.9832 - val_loss: 0.1056 - val_accuracy: 0.9698\n",
            "Epoch 50/100\n",
            "750/750 [==============================] - 2s 3ms/step - loss: 0.0601 - accuracy: 0.9835 - val_loss: 0.1044 - val_accuracy: 0.9695\n",
            "Epoch 51/100\n",
            "750/750 [==============================] - 2s 3ms/step - loss: 0.0588 - accuracy: 0.9838 - val_loss: 0.1041 - val_accuracy: 0.9705\n",
            "Epoch 52/100\n",
            "750/750 [==============================] - 2s 3ms/step - loss: 0.0573 - accuracy: 0.9846 - val_loss: 0.1033 - val_accuracy: 0.9693\n",
            "Epoch 53/100\n",
            "750/750 [==============================] - 2s 3ms/step - loss: 0.0561 - accuracy: 0.9849 - val_loss: 0.1028 - val_accuracy: 0.9697\n",
            "Epoch 54/100\n",
            "750/750 [==============================] - 2s 3ms/step - loss: 0.0550 - accuracy: 0.9850 - val_loss: 0.1022 - val_accuracy: 0.9701\n",
            "Epoch 55/100\n",
            "750/750 [==============================] - 2s 3ms/step - loss: 0.0536 - accuracy: 0.9860 - val_loss: 0.1014 - val_accuracy: 0.9700\n",
            "Epoch 56/100\n",
            "750/750 [==============================] - 2s 3ms/step - loss: 0.0526 - accuracy: 0.9861 - val_loss: 0.1020 - val_accuracy: 0.9697\n",
            "Epoch 57/100\n",
            "750/750 [==============================] - 2s 3ms/step - loss: 0.0513 - accuracy: 0.9862 - val_loss: 0.1024 - val_accuracy: 0.9707\n",
            "Epoch 58/100\n",
            "750/750 [==============================] - 2s 3ms/step - loss: 0.0503 - accuracy: 0.9865 - val_loss: 0.1024 - val_accuracy: 0.9697\n",
            "Epoch 59/100\n",
            "750/750 [==============================] - 2s 3ms/step - loss: 0.0492 - accuracy: 0.9868 - val_loss: 0.1015 - val_accuracy: 0.9710\n",
            "Epoch 60/100\n",
            "750/750 [==============================] - 2s 3ms/step - loss: 0.0483 - accuracy: 0.9873 - val_loss: 0.1013 - val_accuracy: 0.9704\n",
            "Epoch 61/100\n",
            "750/750 [==============================] - 2s 3ms/step - loss: 0.0473 - accuracy: 0.9874 - val_loss: 0.1002 - val_accuracy: 0.9700\n",
            "Epoch 62/100\n",
            "750/750 [==============================] - 2s 3ms/step - loss: 0.0462 - accuracy: 0.9879 - val_loss: 0.1002 - val_accuracy: 0.9701\n",
            "Epoch 63/100\n",
            "750/750 [==============================] - 2s 3ms/step - loss: 0.0452 - accuracy: 0.9881 - val_loss: 0.1014 - val_accuracy: 0.9703\n",
            "Epoch 64/100\n",
            "750/750 [==============================] - 2s 3ms/step - loss: 0.0445 - accuracy: 0.9879 - val_loss: 0.1021 - val_accuracy: 0.9710\n",
            "Epoch 65/100\n",
            "750/750 [==============================] - 2s 3ms/step - loss: 0.0435 - accuracy: 0.9885 - val_loss: 0.1012 - val_accuracy: 0.9702\n",
            "Epoch 66/100\n",
            "750/750 [==============================] - 2s 3ms/step - loss: 0.0425 - accuracy: 0.9889 - val_loss: 0.1005 - val_accuracy: 0.9704\n",
            "Epoch 67/100\n",
            "750/750 [==============================] - 2s 3ms/step - loss: 0.0416 - accuracy: 0.9893 - val_loss: 0.1005 - val_accuracy: 0.9706\n",
            "Epoch 68/100\n",
            "750/750 [==============================] - 2s 3ms/step - loss: 0.0409 - accuracy: 0.9892 - val_loss: 0.1005 - val_accuracy: 0.9713\n",
            "Epoch 69/100\n",
            "750/750 [==============================] - 2s 3ms/step - loss: 0.0400 - accuracy: 0.9899 - val_loss: 0.1009 - val_accuracy: 0.9711\n",
            "Epoch 70/100\n",
            "750/750 [==============================] - 2s 3ms/step - loss: 0.0394 - accuracy: 0.9899 - val_loss: 0.1029 - val_accuracy: 0.9712\n",
            "Epoch 71/100\n",
            "750/750 [==============================] - 2s 3ms/step - loss: 0.0386 - accuracy: 0.9906 - val_loss: 0.1004 - val_accuracy: 0.9703\n",
            "Epoch 72/100\n",
            "750/750 [==============================] - 2s 3ms/step - loss: 0.0377 - accuracy: 0.9904 - val_loss: 0.1011 - val_accuracy: 0.9711\n",
            "Epoch 73/100\n",
            "750/750 [==============================] - 2s 3ms/step - loss: 0.0368 - accuracy: 0.9910 - val_loss: 0.1007 - val_accuracy: 0.9710\n",
            "Epoch 74/100\n",
            "750/750 [==============================] - 2s 3ms/step - loss: 0.0360 - accuracy: 0.9910 - val_loss: 0.1005 - val_accuracy: 0.9717\n",
            "Epoch 75/100\n",
            "750/750 [==============================] - 2s 3ms/step - loss: 0.0356 - accuracy: 0.9910 - val_loss: 0.1014 - val_accuracy: 0.9708\n",
            "Epoch 76/100\n",
            "750/750 [==============================] - 2s 3ms/step - loss: 0.0347 - accuracy: 0.9914 - val_loss: 0.1042 - val_accuracy: 0.9703\n",
            "Epoch 77/100\n",
            "750/750 [==============================] - 2s 3ms/step - loss: 0.0342 - accuracy: 0.9915 - val_loss: 0.1036 - val_accuracy: 0.9707\n",
            "Epoch 78/100\n",
            "750/750 [==============================] - 2s 3ms/step - loss: 0.0334 - accuracy: 0.9917 - val_loss: 0.1010 - val_accuracy: 0.9709\n",
            "Epoch 79/100\n",
            "750/750 [==============================] - 2s 3ms/step - loss: 0.0329 - accuracy: 0.9921 - val_loss: 0.1011 - val_accuracy: 0.9714\n",
            "Epoch 80/100\n",
            "750/750 [==============================] - 2s 3ms/step - loss: 0.0321 - accuracy: 0.9922 - val_loss: 0.1009 - val_accuracy: 0.9718\n",
            "Epoch 81/100\n",
            "750/750 [==============================] - 2s 3ms/step - loss: 0.0316 - accuracy: 0.9925 - val_loss: 0.1015 - val_accuracy: 0.9714\n",
            "Epoch 82/100\n",
            "750/750 [==============================] - 2s 3ms/step - loss: 0.0311 - accuracy: 0.9926 - val_loss: 0.1025 - val_accuracy: 0.9722\n",
            "Epoch 83/100\n",
            "750/750 [==============================] - 2s 3ms/step - loss: 0.0304 - accuracy: 0.9931 - val_loss: 0.1016 - val_accuracy: 0.9719\n",
            "Epoch 84/100\n",
            "750/750 [==============================] - 2s 3ms/step - loss: 0.0297 - accuracy: 0.9932 - val_loss: 0.1029 - val_accuracy: 0.9711\n",
            "Epoch 85/100\n",
            "750/750 [==============================] - 2s 3ms/step - loss: 0.0294 - accuracy: 0.9930 - val_loss: 0.1023 - val_accuracy: 0.9718\n",
            "Epoch 86/100\n",
            "750/750 [==============================] - 2s 3ms/step - loss: 0.0287 - accuracy: 0.9936 - val_loss: 0.1018 - val_accuracy: 0.9719\n",
            "Epoch 87/100\n",
            "750/750 [==============================] - 2s 3ms/step - loss: 0.0282 - accuracy: 0.9938 - val_loss: 0.1027 - val_accuracy: 0.9718\n",
            "Epoch 88/100\n",
            "750/750 [==============================] - 2s 3ms/step - loss: 0.0276 - accuracy: 0.9939 - val_loss: 0.1020 - val_accuracy: 0.9719\n",
            "Epoch 89/100\n",
            "750/750 [==============================] - 2s 3ms/step - loss: 0.0271 - accuracy: 0.9941 - val_loss: 0.1021 - val_accuracy: 0.9722\n",
            "Epoch 90/100\n",
            "750/750 [==============================] - 2s 3ms/step - loss: 0.0266 - accuracy: 0.9942 - val_loss: 0.1039 - val_accuracy: 0.9718\n",
            "Epoch 91/100\n",
            "750/750 [==============================] - 2s 3ms/step - loss: 0.0260 - accuracy: 0.9944 - val_loss: 0.1042 - val_accuracy: 0.9716\n",
            "Epoch 92/100\n",
            "750/750 [==============================] - 2s 3ms/step - loss: 0.0257 - accuracy: 0.9947 - val_loss: 0.1034 - val_accuracy: 0.9711\n",
            "Epoch 93/100\n",
            "750/750 [==============================] - 2s 3ms/step - loss: 0.0251 - accuracy: 0.9948 - val_loss: 0.1037 - val_accuracy: 0.9715\n",
            "Epoch 94/100\n",
            "750/750 [==============================] - 2s 3ms/step - loss: 0.0246 - accuracy: 0.9945 - val_loss: 0.1029 - val_accuracy: 0.9729\n",
            "Epoch 95/100\n",
            "750/750 [==============================] - 2s 3ms/step - loss: 0.0242 - accuracy: 0.9949 - val_loss: 0.1032 - val_accuracy: 0.9718\n",
            "Epoch 96/100\n",
            "750/750 [==============================] - 2s 3ms/step - loss: 0.0237 - accuracy: 0.9949 - val_loss: 0.1047 - val_accuracy: 0.9720\n",
            "Epoch 97/100\n",
            "750/750 [==============================] - 2s 3ms/step - loss: 0.0234 - accuracy: 0.9951 - val_loss: 0.1048 - val_accuracy: 0.9718\n",
            "Epoch 98/100\n",
            "750/750 [==============================] - 2s 3ms/step - loss: 0.0229 - accuracy: 0.9956 - val_loss: 0.1061 - val_accuracy: 0.9719\n",
            "Epoch 99/100\n",
            "750/750 [==============================] - 2s 3ms/step - loss: 0.0225 - accuracy: 0.9955 - val_loss: 0.1047 - val_accuracy: 0.9727\n",
            "Epoch 100/100\n",
            "750/750 [==============================] - 2s 3ms/step - loss: 0.0221 - accuracy: 0.9957 - val_loss: 0.1047 - val_accuracy: 0.9719\n"
          ]
        }
      ]
    },
    {
      "cell_type": "code",
      "metadata": {
        "id": "0W6J4tagfCYR",
        "colab": {
          "base_uri": "https://localhost:8080/",
          "height": 591
        },
        "outputId": "6ebcfc43-0c35-4a64-cc9a-6414fd2b1e3d"
      },
      "source": [
        "import matplotlib.pyplot as plt\n",
        "%matplotlib inline\n",
        "# list all data in training\n",
        "print(training.history.keys())\n",
        "# summarize training for accuracy\n",
        "plt.plot(training.history['accuracy'])\n",
        "plt.plot(training.history['val_accuracy'])\n",
        "plt.title('model accuracy')\n",
        "plt.ylabel('accuracy')\n",
        "plt.xlabel('epoch')\n",
        "plt.legend(['train', 'test'], loc='upper left')\n",
        "plt.show()\n",
        "# summarize traning for loss\n",
        "plt.plot(training.history['loss'])\n",
        "plt.plot(training.history['val_loss'])\n",
        "plt.title('model loss')\n",
        "plt.ylabel('loss')\n",
        "plt.xlabel('epoch')\n",
        "plt.legend(['train', 'test'], loc='upper left')\n",
        "plt.show()"
      ],
      "execution_count": null,
      "outputs": [
        {
          "output_type": "stream",
          "name": "stdout",
          "text": [
            "dict_keys(['loss', 'accuracy', 'val_loss', 'val_accuracy'])\n"
          ]
        },
        {
          "output_type": "display_data",
          "data": {
            "image/png": "[encoded data removed]",
            "text/plain": [
              "<Figure size 432x288 with 1 Axes>"
            ]
          },
          "metadata": {
            "needs_background": "light"
          }
        },
        {
          "output_type": "display_data",
          "data": {
            "image/png": "[encoded data removed]",
            "text/plain": [
              "<Figure size 432x288 with 1 Axes>"
            ]
          },
          "metadata": {
            "needs_background": "light"
          }
        }
      ]
    },
    {
      "cell_type": "code",
      "metadata": {
        "id": "LG8UWh68fCYe",
        "colab": {
          "base_uri": "https://localhost:8080/"
        },
        "outputId": "289e93ff-09b7-443d-8b26-89683c1d4d58"
      },
      "source": [
        "#evaluate the model\n",
        "test_loss, test_acc = model_1.evaluate(X_test, Y_test)\n",
        "print('Test accuracy:', test_acc)"
      ],
      "execution_count": null,
      "outputs": [
        {
          "output_type": "stream",
          "name": "stdout",
          "text": [
            "313/313 [==============================] - 0s 2ms/step - loss: 0.0875 - accuracy: 0.9741\n",
            "Test accuracy: 0.9740999937057495\n"
          ]
        }
      ]
    },
    {
      "cell_type": "code",
      "metadata": {
        "id": "iE5uSPRvfCYq",
        "colab": {
          "base_uri": "https://localhost:8080/"
        },
        "outputId": "1383f4f1-dbb6-44fe-f82b-8ec4a4ebd5e7"
      },
      "source": [
        "model_1.summary"
      ],
      "execution_count": null,
      "outputs": [
        {
          "output_type": "execute_result",
          "data": {
            "text/plain": [
              "<bound method Model.summary of <keras.engine.sequential.Sequential object at 0x7fe0615b70d0>>"
            ]
          },
          "metadata": {},
          "execution_count": 37
        }
      ]
    },
    {
      "cell_type": "code",
      "metadata": {
        "id": "p3TehZJnAlD6",
        "colab": {
          "base_uri": "https://localhost:8080/"
        },
        "outputId": "5a93df03-188f-4429-bd09-6b209c6aa862"
      },
      "source": [
        "model_1.weights"
      ],
      "execution_count": null,
      "outputs": [
        {
          "output_type": "execute_result",
          "data": {
            "text/plain": [
              "[<tf.Variable 'dense_layer/kernel:0' shape=(784, 64) dtype=float32, numpy=\n",
              " array([[-0.00905668, -0.05275926,  0.08102819, ...,  0.06432072,\n",
              "          0.02442905, -0.04353124],\n",
              "        [ 0.0018096 , -0.01198981,  0.0730977 , ...,  0.00699314,\n",
              "         -0.08319515,  0.03072901],\n",
              "        [ 0.00790378,  0.07713924,  0.03601737, ...,  0.03376666,\n",
              "          0.00413927, -0.06852572],\n",
              "        ...,\n",
              "        [-0.0222328 , -0.01444981, -0.05099125, ...,  0.00522052,\n",
              "          0.0716094 ,  0.03870472],\n",
              "        [ 0.00400416,  0.01925264, -0.06740057, ...,  0.0078355 ,\n",
              "          0.03710775, -0.05736594],\n",
              "        [-0.07661891, -0.01553776,  0.02334645, ...,  0.01159184,\n",
              "          0.06258797, -0.05901103]], dtype=float32)>,\n",
              " <tf.Variable 'dense_layer/bias:0' shape=(64,) dtype=float32, numpy=\n",
              " array([-0.00479253, -0.01051887,  0.03476979,  0.06401788,  0.17322767,\n",
              "         0.08727887, -0.02815609,  0.06955926,  0.00334593,  0.03750657,\n",
              "        -0.05620203, -0.01634301,  0.10565895, -0.09930494, -0.08702267,\n",
              "        -0.08608254, -0.19319965, -0.03518056, -0.05650578,  0.07885118,\n",
              "        -0.05429267,  0.0244236 ,  0.02571482, -0.05079141, -0.03819487,\n",
              "         0.12892683, -0.01874472,  0.11526216,  0.02858569,  0.08569082,\n",
              "         0.15337352,  0.1841    ,  0.04631641,  0.08793777,  0.05041174,\n",
              "         0.15583013, -0.14276598,  0.05283928,  0.02303622,  0.03580169,\n",
              "        -0.05968683,  0.24974793, -0.00321801, -0.02846698,  0.0548178 ,\n",
              "         0.03630657, -0.0159925 , -0.03336234,  0.1405544 ,  0.20695345,\n",
              "         0.10297629,  0.10990862, -0.16484256,  0.00225297,  0.02929384,\n",
              "         0.12747885, -0.01769894, -0.16020407,  0.03336935,  0.0880217 ,\n",
              "         0.13298413, -0.02368481,  0.10107654,  0.04055993], dtype=float32)>,\n",
              " <tf.Variable 'dense_layer_2/kernel:0' shape=(64, 64) dtype=float32, numpy=\n",
              " array([[ 0.09686995, -0.00868665,  0.20845388, ..., -0.27212498,\n",
              "          0.23214486,  0.11827004],\n",
              "        [-0.1425625 ,  0.3429941 , -0.12190164, ..., -0.04080411,\n",
              "          0.00043806,  0.07630554],\n",
              "        [ 0.00801283,  0.25961393,  0.3218442 , ...,  0.2709896 ,\n",
              "          0.01224002,  0.12302364],\n",
              "        ...,\n",
              "        [-0.08206298,  0.0860359 ,  0.24603705, ...,  0.12540326,\n",
              "         -0.12234816,  0.23035724],\n",
              "        [-0.0434196 ,  0.2786679 , -0.04476859, ...,  0.08933127,\n",
              "         -0.28471115, -0.19886982],\n",
              "        [-0.00577505,  0.06454851,  0.40928328, ..., -0.03529425,\n",
              "          0.07102625,  0.32220975]], dtype=float32)>,\n",
              " <tf.Variable 'dense_layer_2/bias:0' shape=(64,) dtype=float32, numpy=\n",
              " array([ 7.02944992e-04,  1.74200550e-01,  1.14884488e-01,  7.26910904e-02,\n",
              "        -6.78783190e-03, -2.22178176e-03,  3.95727977e-02, -3.19770537e-02,\n",
              "        -7.36659989e-02,  9.14641470e-03, -4.42125387e-02,  6.64694235e-02,\n",
              "         2.13524643e-02,  1.02581769e-01,  5.47159016e-02,  1.18052401e-01,\n",
              "         9.04159173e-02,  7.16673508e-02,  6.77955970e-02,  1.83385629e-02,\n",
              "         5.63285500e-02, -4.63117193e-03,  1.40722031e-02, -6.06973954e-02,\n",
              "         1.00646809e-01,  3.82063612e-02,  2.27591526e-02, -1.02203448e-04,\n",
              "         6.99471980e-02,  4.57934365e-02,  9.73483920e-02,  1.98882326e-01,\n",
              "         1.93860848e-02,  3.74170840e-02, -3.56817506e-02, -3.93540226e-02,\n",
              "        -9.05944873e-03, -3.80626582e-02,  1.50599256e-02, -1.62218567e-02,\n",
              "         1.18798099e-01,  9.33421869e-03,  1.27525479e-02,  5.04501760e-02,\n",
              "         1.46502268e-03, -5.09721984e-04,  1.85282882e-02,  1.03545859e-02,\n",
              "        -2.54514720e-02, -6.22499269e-03, -4.51671928e-02,  4.72626463e-02,\n",
              "         1.21443449e-02,  8.27302486e-02,  2.31271284e-03,  1.04065314e-01,\n",
              "        -4.00209473e-03, -1.96998124e-03, -6.84386492e-03, -9.66207683e-03,\n",
              "        -2.75151022e-02,  7.72449672e-02, -1.95663441e-02,  3.42419697e-03],\n",
              "       dtype=float32)>,\n",
              " <tf.Variable 'dense_layer_3/kernel:0' shape=(64, 10) dtype=float32, numpy=\n",
              " array([[-0.23164788,  0.02662599, -0.0585257 , -0.10515941,  0.26236832,\n",
              "          0.01950144, -0.18638942, -0.00959284, -0.15006515,  0.1720859 ],\n",
              "        [ 0.29232994,  0.15558386, -0.7065144 , -0.85540444,  0.5150401 ,\n",
              "          0.537033  ,  0.6235727 , -0.1394849 ,  0.76154715, -0.50926006],\n",
              "        [-0.5957365 ,  0.41024292, -0.78357095,  0.09942839, -0.20670372,\n",
              "          0.9596995 , -0.37743014, -0.4044239 ,  0.12645772,  0.1888699 ],\n",
              "        [-0.18048607,  0.2839598 , -0.23719147, -0.10713428, -0.5895487 ,\n",
              "          0.3081877 , -0.7759732 ,  0.346165  ,  0.13316658,  0.678302  ],\n",
              "        [ 0.23693535,  0.0233116 ,  0.05266758, -0.23273076,  0.24546063,\n",
              "          0.2526111 , -0.2399048 , -0.27319464,  0.18516798, -0.253456  ],\n",
              "        [-0.27140525,  0.17769744, -0.09934129, -0.12662557,  0.04520453,\n",
              "         -0.1049282 ,  0.22867627, -0.06403839,  0.13593407, -0.21148066],\n",
              "        [ 0.22378202, -0.08934553, -0.49476385, -0.113263  , -0.7994655 ,\n",
              "          0.19047779,  0.47976047,  0.6221128 , -0.07250981,  0.14490296],\n",
              "        [ 0.4760644 , -0.1603806 ,  0.25936076,  0.00121597,  0.44661373,\n",
              "         -0.15579483,  0.1550759 ,  0.11337842, -1.1380628 ,  0.44677347],\n",
              "        [ 0.7184905 , -0.2225709 ,  0.5000749 ,  0.32981986, -0.57563794,\n",
              "         -0.7381727 ,  0.27517086,  0.25120535, -0.09430438, -0.16136038],\n",
              "        [-0.09586898,  0.12862647,  0.04661325,  0.06417228,  0.25196287,\n",
              "          0.03370514,  0.2378245 ,  0.02311606, -0.15386395, -0.2916946 ],\n",
              "        [ 0.01650623,  0.3997503 , -0.13008748,  0.24755569, -0.4651827 ,\n",
              "         -0.14573817,  0.3037807 ,  0.13847984, -0.10092853, -0.876903  ],\n",
              "        [ 0.5156112 , -0.1948076 ,  0.6621801 , -0.550435  , -0.21882151,\n",
              "          0.01620619, -0.04450585, -0.4369402 ,  0.11754996,  0.16569878],\n",
              "        [-0.17402163,  0.4912434 ,  0.08660151, -0.2619719 , -0.17150523,\n",
              "          1.0630773 , -0.2845522 , -0.27536967, -0.7479711 , -0.3845149 ],\n",
              "        [-0.6796288 , -0.03035758, -0.37628978,  0.0053657 ,  0.33874458,\n",
              "          0.5180706 , -0.01435459,  0.27996826,  0.57256085, -0.09494001],\n",
              "        [-0.33292314, -0.40245494,  0.07309262, -0.05296865,  0.28246698,\n",
              "          0.33748445, -0.16482145, -0.39148548,  0.3687121 ,  0.474486  ],\n",
              "        [ 0.11784273, -0.04806801,  0.04283035, -0.23684195,  0.63318354,\n",
              "          0.38899407, -0.43729478, -0.235384  ,  0.05224714, -0.4307098 ],\n",
              "        [-0.16945499,  0.02242365,  0.62446696, -0.2598471 ,  0.0053039 ,\n",
              "         -0.05106635,  0.02243796,  0.03003569, -0.21924843, -0.22332652],\n",
              "        [ 0.12034692, -0.02114448,  0.61075205,  0.637492  , -0.5669015 ,\n",
              "          0.5109632 ,  0.42007345, -0.46563244,  0.29268977, -0.54318774],\n",
              "        [-0.47902852,  0.33143312,  0.29045126,  0.1524663 , -0.20085782,\n",
              "          0.13494356, -0.3096001 ,  0.62973875,  0.456911  , -0.51146   ],\n",
              "        [-0.05152619,  0.30105636, -0.6600292 , -0.24446353,  0.85082763,\n",
              "         -0.38298172, -0.2161508 , -0.2726549 ,  0.01816886, -0.13046677],\n",
              "        [-0.19080251, -0.56837755, -0.6513994 ,  0.06250852,  0.7087096 ,\n",
              "          0.5719015 ,  0.05518426, -0.3952981 ,  0.45504352, -0.2115644 ],\n",
              "        [-0.1862845 ,  0.22730999, -0.15574092, -0.00842992, -0.03114058,\n",
              "          0.1412119 , -0.23932292,  0.14063416, -0.23525737, -0.00127398],\n",
              "        [-0.5305672 ,  0.36099392, -0.18882789,  0.2533081 ,  0.06547581,\n",
              "          0.28706983, -0.49044153,  0.21768938, -0.6530594 ,  0.31225416],\n",
              "        [ 0.07091747, -0.27144578, -0.20634604,  0.2613722 , -0.23450089,\n",
              "         -0.01330567,  0.37184256, -0.27626985, -0.16820379,  0.43284377],\n",
              "        [-0.00615727, -0.6952916 ,  1.0709392 ,  0.359724  , -0.01086302,\n",
              "          0.0455227 , -0.18598829,  0.36693683,  0.08113584, -0.02644345],\n",
              "        [ 0.04748979, -0.09730227, -0.06122739,  0.41720456, -0.1566798 ,\n",
              "         -0.06172759,  0.02856618, -0.33044168,  0.7650176 , -0.26858202],\n",
              "        [-0.10708807, -0.42669716,  0.21914671,  0.7114272 ,  0.57669634,\n",
              "         -0.4703034 , -0.4505865 , -0.2166949 ,  0.60318893, -0.1616449 ],\n",
              "        [-0.13034967,  0.15248215,  0.27484128,  0.06968693, -0.14538887,\n",
              "         -0.07952177, -0.2381772 ,  0.11559315, -0.0287098 ,  0.19730715],\n",
              "        [ 0.13972542,  0.3210007 ,  0.5776067 , -0.3671494 , -0.6512913 ,\n",
              "         -0.01503135, -0.47370672,  0.61100394,  0.7277792 , -0.16615185],\n",
              "        [ 0.08189829, -0.0034562 ,  0.02722652, -0.507311  ,  0.00349047,\n",
              "         -0.16534957,  0.05340078,  1.1203715 , -0.7939309 , -0.5672891 ],\n",
              "        [-0.4895937 ,  0.17387946, -0.4794123 ,  0.18331352,  0.69421905,\n",
              "          0.18343821, -0.29705435,  0.6995826 , -0.2245789 , -0.30217707],\n",
              "        [-0.5541452 ,  0.33098057,  0.37893212, -0.3881252 ,  0.48791873,\n",
              "          0.4033227 ,  0.745892  , -0.09574053, -0.1978606 , -0.7722616 ],\n",
              "        [-0.05867867, -0.7272342 , -0.42336518,  0.04075359, -0.00543483,\n",
              "          0.300984  , -0.1536253 , -0.24253376, -0.46373177,  0.98696125],\n",
              "        [-0.3478833 , -0.07174538,  0.22071777, -0.44584188,  0.50905997,\n",
              "         -0.48266983,  0.23296657, -0.636305  , -0.03222779,  0.7119726 ],\n",
              "        [-0.4083598 ,  0.00668808, -0.35925752,  0.32123092,  0.34886506,\n",
              "          0.13391176, -0.05990146,  0.1604293 ,  0.01174223,  0.3715128 ],\n",
              "        [-0.29305226, -0.04183607,  0.29954305,  0.15893789, -0.2076674 ,\n",
              "         -0.05963936,  0.15248154, -0.23798406,  0.16668974, -0.29038537],\n",
              "        [-0.0374532 , -0.2537758 , -0.00398965, -0.28660402, -0.30563346,\n",
              "         -0.22781993,  0.42598218, -0.19593284,  0.32695624,  0.16199471],\n",
              "        [-0.32509112, -0.31621715,  0.10705225,  0.62812835, -0.36459133,\n",
              "         -0.1891902 ,  0.1974647 , -0.40753442, -0.09048367,  0.24012093],\n",
              "        [ 0.03324205,  0.71813065,  0.44626817, -0.67964923,  0.1068254 ,\n",
              "         -1.1115483 ,  0.6577858 ,  0.06901594,  0.08261511,  0.18979572],\n",
              "        [ 0.4048141 ,  0.34075996, -0.36761448,  0.13331074,  0.3178065 ,\n",
              "         -0.861824  , -0.35775813,  0.57997996, -0.08008502, -0.12560247],\n",
              "        [ 0.12085277,  0.05669263,  0.77185535, -0.6611832 ,  0.4825241 ,\n",
              "         -0.5262543 , -0.28674564,  0.38845697,  0.10091971, -0.54210955],\n",
              "        [ 0.22294676,  0.04888262,  0.19583294, -0.15878284,  0.33665642,\n",
              "          0.32967508,  0.06498531,  0.0438339 ,  0.21075566, -0.03754027],\n",
              "        [-0.25999892, -0.13226393,  0.35275373,  0.27037975, -0.1385793 ,\n",
              "         -0.01665735,  0.4341757 ,  0.07246479, -0.21566468,  0.34696573],\n",
              "        [ 0.3474997 ,  0.46615097, -0.294226  , -0.65483683,  0.89989257,\n",
              "          0.1466042 , -0.45191967, -0.00998904, -0.0812773 , -0.01532318],\n",
              "        [-0.17321149, -0.11427619, -0.00924941,  0.28734204,  0.03036422,\n",
              "         -0.23372403, -0.03115146,  0.12280802,  0.11322569,  0.23999305],\n",
              "        [ 0.7157408 , -0.74265647, -0.6864409 ,  0.307697  , -0.09921835,\n",
              "          0.48666337,  0.36474344,  0.08321412, -0.08745248,  0.48270354],\n",
              "        [ 0.23640749, -0.00925755, -0.2454143 ,  0.2752655 ,  0.26012626,\n",
              "          0.17138304,  0.098992  , -0.2632616 ,  0.22219247,  0.26825657],\n",
              "        [-0.43095282,  0.3567289 ,  0.43288308,  0.43400684, -0.01435233,\n",
              "         -0.07017499, -0.40069288,  0.49621668, -0.11770161, -0.23785636],\n",
              "        [ 0.09058845, -0.23514268,  0.01954932,  0.09599193,  0.16259448,\n",
              "          0.00658029,  0.24028912,  0.2672265 ,  0.26184127,  0.13780539],\n",
              "        [ 0.24473296,  0.13127054,  0.13095982, -0.15746388, -0.06266832,\n",
              "         -0.2227928 , -0.18073057, -0.16121013,  0.11523023,  0.25580236],\n",
              "        [ 0.08009106, -0.30877817,  0.126542  ,  0.5264141 ,  0.19673093,\n",
              "          0.03568758, -0.71765506, -0.10428125, -0.14211896,  0.50697714],\n",
              "        [-0.31625962,  0.4658894 ,  0.2677683 ,  0.02958431, -0.43811938,\n",
              "          0.75075406, -0.18300344, -0.34001485, -0.5090034 ,  0.21816628],\n",
              "        [ 0.06128333, -0.15802303,  0.38646185, -0.54423475,  0.46593577,\n",
              "          0.19954246, -0.1471128 , -0.40621218,  0.4916276 , -0.01840007],\n",
              "        [ 0.4687074 ,  0.46339437, -0.01595541,  0.2855482 ,  0.22636557,\n",
              "         -0.07354702, -0.06050396,  0.49897546, -0.6916724 , -0.5632889 ],\n",
              "        [ 0.06473307, -0.15999673,  0.17390609,  0.21561322, -0.20374756,\n",
              "          0.07014155, -0.13726686,  0.06535551, -0.21858945,  0.27850702],\n",
              "        [ 0.6415571 ,  0.34136918,  0.31766433, -0.01396828, -0.00467165,\n",
              "          0.16531606,  0.27956057, -0.27819818, -0.1348937 , -0.6010911 ],\n",
              "        [-0.06613944, -0.19361992,  0.09563835, -0.19357654, -0.28585166,\n",
              "          0.15526715,  0.0514161 ,  0.24017303, -0.17204249,  0.21746905],\n",
              "        [-0.23993513, -0.04420611,  0.2283676 ,  0.56609356,  0.0417076 ,\n",
              "         -0.44876105, -0.49369147,  0.26169315,  0.5208977 ,  0.7057214 ],\n",
              "        [ 0.02091359,  0.1692709 , -0.24525692, -0.2104661 , -0.19937578,\n",
              "         -0.16045311, -0.02735431,  0.1163835 ,  0.21677102,  0.23384067],\n",
              "        [-0.10363815,  0.25956625,  0.09221396,  0.01383677,  0.02688225,\n",
              "         -0.20509739,  0.00847032,  0.0415632 , -0.19090712,  0.2291079 ],\n",
              "        [ 0.01536959, -0.33460203, -0.4111964 ,  0.7061259 , -0.0786991 ,\n",
              "          0.00428139,  0.12472939,  0.13405593,  0.2018716 , -0.47275627],\n",
              "        [ 0.4299435 , -0.30907395,  0.21740228, -0.66168433, -0.43633136,\n",
              "         -0.06121517,  0.6374148 , -0.5274681 ,  0.5828558 ,  0.3545459 ],\n",
              "        [-0.3448769 ,  0.57553935, -0.31473687,  0.81881636,  0.4005815 ,\n",
              "         -0.5369741 , -0.526839  ,  0.11442798,  0.01658475,  0.08144001],\n",
              "        [ 0.14986393, -0.28693423, -0.23250662,  0.46239752, -0.12143298,\n",
              "         -0.15870188,  0.44631422, -0.58375466,  0.4199742 , -0.29348466]],\n",
              "       dtype=float32)>,\n",
              " <tf.Variable 'dense_layer_3/bias:0' shape=(10,) dtype=float32, numpy=\n",
              " array([-0.09585084,  0.08927944,  0.08761133, -0.08076068,  0.02308291,\n",
              "         0.13341531, -0.00849299,  0.10242965, -0.18927893, -0.06143159],\n",
              "       dtype=float32)>]"
            ]
          },
          "metadata": {},
          "execution_count": 38
        }
      ]
    },
    {
      "cell_type": "code",
      "metadata": {
        "id": "x_no8rMBfCY6",
        "colab": {
          "base_uri": "https://localhost:8080/"
        },
        "outputId": "94d5cc1b-e5d9-4cc3-cc98-5b6e55f78b0c"
      },
      "source": [
        "model_1.get_config()"
      ],
      "execution_count": null,
      "outputs": [
        {
          "output_type": "execute_result",
          "data": {
            "text/plain": [
              "{'layers': [{'class_name': 'InputLayer',\n",
              "   'config': {'batch_input_shape': (None, 784),\n",
              "    'dtype': 'float32',\n",
              "    'name': 'dense_layer_input',\n",
              "    'ragged': False,\n",
              "    'sparse': False}},\n",
              "  {'class_name': 'Dense',\n",
              "   'config': {'activation': 'relu',\n",
              "    'activity_regularizer': None,\n",
              "    'batch_input_shape': (None, 784),\n",
              "    'bias_constraint': None,\n",
              "    'bias_initializer': {'class_name': 'Zeros', 'config': {}},\n",
              "    'bias_regularizer': None,\n",
              "    'dtype': 'float32',\n",
              "    'kernel_constraint': None,\n",
              "    'kernel_initializer': {'class_name': 'GlorotUniform',\n",
              "     'config': {'seed': None}},\n",
              "    'kernel_regularizer': None,\n",
              "    'name': 'dense_layer',\n",
              "    'trainable': True,\n",
              "    'units': 64,\n",
              "    'use_bias': True}},\n",
              "  {'class_name': 'Dense',\n",
              "   'config': {'activation': 'relu',\n",
              "    'activity_regularizer': None,\n",
              "    'bias_constraint': None,\n",
              "    'bias_initializer': {'class_name': 'Zeros', 'config': {}},\n",
              "    'bias_regularizer': None,\n",
              "    'dtype': 'float32',\n",
              "    'kernel_constraint': None,\n",
              "    'kernel_initializer': {'class_name': 'GlorotUniform',\n",
              "     'config': {'seed': None}},\n",
              "    'kernel_regularizer': None,\n",
              "    'name': 'dense_layer_2',\n",
              "    'trainable': True,\n",
              "    'units': 64,\n",
              "    'use_bias': True}},\n",
              "  {'class_name': 'Dense',\n",
              "   'config': {'activation': 'softmax',\n",
              "    'activity_regularizer': None,\n",
              "    'bias_constraint': None,\n",
              "    'bias_initializer': {'class_name': 'Zeros', 'config': {}},\n",
              "    'bias_regularizer': None,\n",
              "    'dtype': 'float32',\n",
              "    'kernel_constraint': None,\n",
              "    'kernel_initializer': {'class_name': 'GlorotUniform',\n",
              "     'config': {'seed': None}},\n",
              "    'kernel_regularizer': None,\n",
              "    'name': 'dense_layer_3',\n",
              "    'trainable': True,\n",
              "    'units': 10,\n",
              "    'use_bias': True}}],\n",
              " 'name': 'sequential_3'}"
            ]
          },
          "metadata": {},
          "execution_count": 39
        }
      ]
    },
    {
      "cell_type": "markdown",
      "metadata": {
        "id": "Nw7DXcLYfZzp"
      },
      "source": [
        "###Improved Model 2 - Adding Dropout to Avoid Overfitting"
      ]
    },
    {
      "cell_type": "code",
      "metadata": {
        "id": "AXUf6nhvBHnc"
      },
      "source": [
        "from tensorflow.keras.layers import Dropout\n",
        "\n",
        "#Most common type of model is a stack of layers\n",
        "model_2 = tf.keras.Sequential()\n",
        "N_hidden = 128\n",
        "# Adds a densely-connected layer with 64 units to the model:\n",
        "model_2.add(Dense(N_hidden, name='dense_layer', input_shape=(784,), activation = 'relu'))\n",
        "# Now the model will take as input arrays of shape (*, 784)# and output arrays of shape (*, 64)\n",
        "model_2.add(Dropout(0.3))\n",
        "# Adding another dense layer:\n",
        "model_2.add(Dense(N_hidden, name='dense_layer_2', activation='relu'))\n",
        "model_2.add(Dropout(0.3))\n",
        "\n",
        "# Add an output layer with 10 output units (10 different classes):\n",
        "model_2.add(Dense(10, name='dense_layer_3', activation = 'softmax'))\n"
      ],
      "execution_count": null,
      "outputs": []
    },
    {
      "cell_type": "code",
      "metadata": {
        "id": "wo95PYlPgBe4"
      },
      "source": [
        "# Compiling the model.\n",
        "model_2.compile(optimizer='SGD', \n",
        "              loss='categorical_crossentropy',\n",
        "              metrics=['accuracy'])"
      ],
      "execution_count": null,
      "outputs": []
    },
    {
      "cell_type": "code",
      "metadata": {
        "id": "VfargzxGgBfI",
        "colab": {
          "base_uri": "https://localhost:8080/"
        },
        "outputId": "24ac7fd1-2986-443c-efc9-6118c9f16684"
      },
      "source": [
        "# Training the model. \n",
        "training = model_2.fit(X_train, Y_train, batch_size=64, epochs=50, validation_split=0.2) "
      ],
      "execution_count": null,
      "outputs": [
        {
          "output_type": "stream",
          "name": "stdout",
          "text": [
            "Epoch 1/50\n",
            "750/750 [==============================] - 3s 4ms/step - loss: 1.2779 - accuracy: 0.5995 - val_loss: 0.5121 - val_accuracy: 0.8708\n",
            "Epoch 2/50\n",
            "750/750 [==============================] - 3s 4ms/step - loss: 0.6239 - accuracy: 0.8087 - val_loss: 0.3634 - val_accuracy: 0.8978\n",
            "Epoch 3/50\n",
            "750/750 [==============================] - 3s 4ms/step - loss: 0.4970 - accuracy: 0.8507 - val_loss: 0.3103 - val_accuracy: 0.9094\n",
            "Epoch 4/50\n",
            "750/750 [==============================] - 3s 4ms/step - loss: 0.4352 - accuracy: 0.8703 - val_loss: 0.2773 - val_accuracy: 0.9184\n",
            "Epoch 5/50\n",
            "750/750 [==============================] - 3s 4ms/step - loss: 0.3912 - accuracy: 0.8829 - val_loss: 0.2527 - val_accuracy: 0.9252\n",
            "Epoch 6/50\n",
            "750/750 [==============================] - 3s 4ms/step - loss: 0.3622 - accuracy: 0.8944 - val_loss: 0.2350 - val_accuracy: 0.9315\n",
            "Epoch 7/50\n",
            "750/750 [==============================] - 3s 4ms/step - loss: 0.3367 - accuracy: 0.9007 - val_loss: 0.2204 - val_accuracy: 0.9350\n",
            "Epoch 8/50\n",
            "750/750 [==============================] - 3s 4ms/step - loss: 0.3155 - accuracy: 0.9075 - val_loss: 0.2087 - val_accuracy: 0.9391\n",
            "Epoch 9/50\n",
            "750/750 [==============================] - 3s 4ms/step - loss: 0.2996 - accuracy: 0.9121 - val_loss: 0.1979 - val_accuracy: 0.9413\n",
            "Epoch 10/50\n",
            "750/750 [==============================] - 3s 4ms/step - loss: 0.2886 - accuracy: 0.9154 - val_loss: 0.1882 - val_accuracy: 0.9453\n",
            "Epoch 11/50\n",
            "750/750 [==============================] - 3s 4ms/step - loss: 0.2738 - accuracy: 0.9192 - val_loss: 0.1813 - val_accuracy: 0.9477\n",
            "Epoch 12/50\n",
            "750/750 [==============================] - 3s 4ms/step - loss: 0.2626 - accuracy: 0.9220 - val_loss: 0.1732 - val_accuracy: 0.9512\n",
            "Epoch 13/50\n",
            "750/750 [==============================] - 3s 4ms/step - loss: 0.2500 - accuracy: 0.9255 - val_loss: 0.1672 - val_accuracy: 0.9528\n",
            "Epoch 14/50\n",
            "750/750 [==============================] - 3s 4ms/step - loss: 0.2415 - accuracy: 0.9274 - val_loss: 0.1617 - val_accuracy: 0.9540\n",
            "Epoch 15/50\n",
            "750/750 [==============================] - 3s 4ms/step - loss: 0.2341 - accuracy: 0.9303 - val_loss: 0.1579 - val_accuracy: 0.9559\n",
            "Epoch 16/50\n",
            "750/750 [==============================] - 3s 4ms/step - loss: 0.2258 - accuracy: 0.9333 - val_loss: 0.1513 - val_accuracy: 0.9572\n",
            "Epoch 17/50\n",
            "750/750 [==============================] - 3s 4ms/step - loss: 0.2185 - accuracy: 0.9351 - val_loss: 0.1476 - val_accuracy: 0.9580\n",
            "Epoch 18/50\n",
            "750/750 [==============================] - 3s 4ms/step - loss: 0.2105 - accuracy: 0.9382 - val_loss: 0.1443 - val_accuracy: 0.9575\n",
            "Epoch 19/50\n",
            "750/750 [==============================] - 3s 4ms/step - loss: 0.2093 - accuracy: 0.9384 - val_loss: 0.1404 - val_accuracy: 0.9592\n",
            "Epoch 20/50\n",
            "750/750 [==============================] - 3s 4ms/step - loss: 0.2014 - accuracy: 0.9402 - val_loss: 0.1362 - val_accuracy: 0.9603\n",
            "Epoch 21/50\n",
            "750/750 [==============================] - 3s 4ms/step - loss: 0.1951 - accuracy: 0.9430 - val_loss: 0.1339 - val_accuracy: 0.9608\n",
            "Epoch 22/50\n",
            "750/750 [==============================] - 3s 4ms/step - loss: 0.1910 - accuracy: 0.9429 - val_loss: 0.1316 - val_accuracy: 0.9616\n",
            "Epoch 23/50\n",
            "750/750 [==============================] - 3s 4ms/step - loss: 0.1861 - accuracy: 0.9446 - val_loss: 0.1288 - val_accuracy: 0.9625\n",
            "Epoch 24/50\n",
            "750/750 [==============================] - 3s 4ms/step - loss: 0.1827 - accuracy: 0.9442 - val_loss: 0.1266 - val_accuracy: 0.9625\n",
            "Epoch 25/50\n",
            "750/750 [==============================] - 3s 4ms/step - loss: 0.1784 - accuracy: 0.9473 - val_loss: 0.1243 - val_accuracy: 0.9638\n",
            "Epoch 26/50\n",
            "750/750 [==============================] - 3s 4ms/step - loss: 0.1762 - accuracy: 0.9481 - val_loss: 0.1217 - val_accuracy: 0.9645\n",
            "Epoch 27/50\n",
            "750/750 [==============================] - 3s 4ms/step - loss: 0.1707 - accuracy: 0.9496 - val_loss: 0.1204 - val_accuracy: 0.9645\n",
            "Epoch 28/50\n",
            "750/750 [==============================] - 3s 4ms/step - loss: 0.1658 - accuracy: 0.9513 - val_loss: 0.1178 - val_accuracy: 0.9659\n",
            "Epoch 29/50\n",
            "750/750 [==============================] - 3s 4ms/step - loss: 0.1631 - accuracy: 0.9519 - val_loss: 0.1158 - val_accuracy: 0.9666\n",
            "Epoch 30/50\n",
            "750/750 [==============================] - 3s 4ms/step - loss: 0.1619 - accuracy: 0.9513 - val_loss: 0.1142 - val_accuracy: 0.9667\n",
            "Epoch 31/50\n",
            "750/750 [==============================] - 3s 4ms/step - loss: 0.1589 - accuracy: 0.9536 - val_loss: 0.1126 - val_accuracy: 0.9670\n",
            "Epoch 32/50\n",
            "750/750 [==============================] - 3s 4ms/step - loss: 0.1545 - accuracy: 0.9538 - val_loss: 0.1106 - val_accuracy: 0.9673\n",
            "Epoch 33/50\n",
            "750/750 [==============================] - 3s 4ms/step - loss: 0.1534 - accuracy: 0.9541 - val_loss: 0.1099 - val_accuracy: 0.9681\n",
            "Epoch 34/50\n",
            "750/750 [==============================] - 3s 4ms/step - loss: 0.1507 - accuracy: 0.9557 - val_loss: 0.1096 - val_accuracy: 0.9678\n",
            "Epoch 35/50\n",
            "750/750 [==============================] - 3s 4ms/step - loss: 0.1478 - accuracy: 0.9569 - val_loss: 0.1085 - val_accuracy: 0.9679\n",
            "Epoch 36/50\n",
            "750/750 [==============================] - 3s 4ms/step - loss: 0.1454 - accuracy: 0.9568 - val_loss: 0.1065 - val_accuracy: 0.9682\n",
            "Epoch 37/50\n",
            "750/750 [==============================] - 3s 4ms/step - loss: 0.1437 - accuracy: 0.9579 - val_loss: 0.1056 - val_accuracy: 0.9684\n",
            "Epoch 38/50\n",
            "750/750 [==============================] - 3s 4ms/step - loss: 0.1422 - accuracy: 0.9577 - val_loss: 0.1045 - val_accuracy: 0.9695\n",
            "Epoch 39/50\n",
            "750/750 [==============================] - 3s 4ms/step - loss: 0.1383 - accuracy: 0.9591 - val_loss: 0.1029 - val_accuracy: 0.9698\n",
            "Epoch 40/50\n",
            "750/750 [==============================] - 3s 4ms/step - loss: 0.1358 - accuracy: 0.9590 - val_loss: 0.1024 - val_accuracy: 0.9703\n",
            "Epoch 41/50\n",
            "750/750 [==============================] - 3s 4ms/step - loss: 0.1346 - accuracy: 0.9598 - val_loss: 0.1007 - val_accuracy: 0.9705\n",
            "Epoch 42/50\n",
            "750/750 [==============================] - 3s 4ms/step - loss: 0.1303 - accuracy: 0.9613 - val_loss: 0.0999 - val_accuracy: 0.9702\n",
            "Epoch 43/50\n",
            "750/750 [==============================] - 3s 4ms/step - loss: 0.1316 - accuracy: 0.9606 - val_loss: 0.0991 - val_accuracy: 0.9707\n",
            "Epoch 44/50\n",
            "750/750 [==============================] - 3s 4ms/step - loss: 0.1289 - accuracy: 0.9615 - val_loss: 0.0982 - val_accuracy: 0.9708\n",
            "Epoch 45/50\n",
            "750/750 [==============================] - 3s 4ms/step - loss: 0.1291 - accuracy: 0.9614 - val_loss: 0.0983 - val_accuracy: 0.9714\n",
            "Epoch 46/50\n",
            "750/750 [==============================] - 3s 4ms/step - loss: 0.1236 - accuracy: 0.9630 - val_loss: 0.0964 - val_accuracy: 0.9717\n",
            "Epoch 47/50\n",
            "750/750 [==============================] - 3s 4ms/step - loss: 0.1220 - accuracy: 0.9639 - val_loss: 0.0959 - val_accuracy: 0.9716\n",
            "Epoch 48/50\n",
            "750/750 [==============================] - 3s 4ms/step - loss: 0.1221 - accuracy: 0.9636 - val_loss: 0.0956 - val_accuracy: 0.9716\n",
            "Epoch 49/50\n",
            "750/750 [==============================] - 3s 4ms/step - loss: 0.1210 - accuracy: 0.9638 - val_loss: 0.0953 - val_accuracy: 0.9712\n",
            "Epoch 50/50\n",
            "750/750 [==============================] - 3s 4ms/step - loss: 0.1190 - accuracy: 0.9646 - val_loss: 0.0941 - val_accuracy: 0.9726\n"
          ]
        }
      ]
    },
    {
      "cell_type": "code",
      "metadata": {
        "id": "9QfbwIhAgBfX",
        "colab": {
          "base_uri": "https://localhost:8080/",
          "height": 591
        },
        "outputId": "f1181592-4bc8-4185-e3c6-e8677341ef6c"
      },
      "source": [
        "import matplotlib.pyplot as plt\n",
        "%matplotlib inline\n",
        "# list all data in training\n",
        "print(training.history.keys())\n",
        "# summarize training for accuracy\n",
        "plt.plot(training.history['accuracy'])\n",
        "plt.plot(training.history['val_accuracy'])\n",
        "plt.title('model accuracy')\n",
        "plt.ylabel('accuracy')\n",
        "plt.xlabel('epoch')\n",
        "plt.legend(['train', 'test'], loc='upper left')\n",
        "plt.show()\n",
        "# summarize traning for loss\n",
        "plt.plot(training.history['loss'])\n",
        "plt.plot(training.history['val_loss'])\n",
        "plt.title('model loss')\n",
        "plt.ylabel('loss')\n",
        "plt.xlabel('epoch')\n",
        "plt.legend(['train', 'test'], loc='upper left')\n",
        "plt.show()"
      ],
      "execution_count": null,
      "outputs": [
        {
          "output_type": "stream",
          "name": "stdout",
          "text": [
            "dict_keys(['loss', 'accuracy', 'val_loss', 'val_accuracy'])\n"
          ]
        },
        {
          "output_type": "display_data",
          "data": {
            "image/png": "[encoded data removed]",
            "text/plain": [
              "<Figure size 432x288 with 1 Axes>"
            ]
          },
          "metadata": {
            "needs_background": "light"
          }
        },
        {
          "output_type": "display_data",
          "data": {
            "image/png": "[encoded data removed]",
            "text/plain": [
              "<Figure size 432x288 with 1 Axes>"
            ]
          },
          "metadata": {
            "needs_background": "light"
          }
        }
      ]
    },
    {
      "cell_type": "code",
      "metadata": {
        "id": "yT7LK87agBfq",
        "colab": {
          "base_uri": "https://localhost:8080/"
        },
        "outputId": "dc2eda7a-b4c4-4655-a733-e3e3f1c8794f"
      },
      "source": [
        "#evaluate the model\n",
        "test_loss, test_acc = model_2.evaluate(X_test, Y_test)\n",
        "print('Test accuracy:', test_acc)"
      ],
      "execution_count": null,
      "outputs": [
        {
          "output_type": "stream",
          "name": "stdout",
          "text": [
            "313/313 [==============================] - 0s 1ms/step - loss: 0.0913 - accuracy: 0.9716\n",
            "Test accuracy: 0.9715999960899353\n"
          ]
        }
      ]
    },
    {
      "cell_type": "code",
      "metadata": {
        "id": "jdOVuO0AgBf0",
        "colab": {
          "base_uri": "https://localhost:8080/"
        },
        "outputId": "e915358d-09eb-4b80-c40f-719cb374e285"
      },
      "source": [
        "model_2.summary"
      ],
      "execution_count": null,
      "outputs": [
        {
          "output_type": "execute_result",
          "data": {
            "text/plain": [
              "<bound method Model.summary of <keras.engine.sequential.Sequential object at 0x7fe061512a10>>"
            ]
          },
          "metadata": {},
          "execution_count": 45
        }
      ]
    },
    {
      "cell_type": "code",
      "metadata": {
        "id": "oykr_QswgBf_",
        "colab": {
          "base_uri": "https://localhost:8080/"
        },
        "outputId": "73f5e9fb-1ee0-4bf8-b8b0-d2b2df537605"
      },
      "source": [
        "model_2.weights"
      ],
      "execution_count": null,
      "outputs": [
        {
          "output_type": "execute_result",
          "data": {
            "text/plain": [
              "[<tf.Variable 'dense_layer/kernel:0' shape=(784, 128) dtype=float32, numpy=\n",
              " array([[-0.03005665,  0.03060613, -0.07695048, ...,  0.00329079,\n",
              "          0.01479067, -0.05831984],\n",
              "        [ 0.01624852,  0.04645751, -0.01501041, ..., -0.03008251,\n",
              "         -0.020017  , -0.07064428],\n",
              "        [-0.02673357, -0.00132411,  0.02076811, ...,  0.03442084,\n",
              "          0.0182706 , -0.00779283],\n",
              "        ...,\n",
              "        [ 0.07712623,  0.04799026,  0.0196327 , ..., -0.07409789,\n",
              "         -0.02149357,  0.05369062],\n",
              "        [-0.00196514,  0.06665991, -0.05827645, ...,  0.04878315,\n",
              "          0.03928343, -0.01254059],\n",
              "        [ 0.0432516 , -0.0724154 , -0.04931682, ...,  0.04064395,\n",
              "         -0.01425727,  0.04465579]], dtype=float32)>,\n",
              " <tf.Variable 'dense_layer/bias:0' shape=(128,) dtype=float32, numpy=\n",
              " array([ 0.00521017,  0.1072632 ,  0.05227957, -0.04841295,  0.00353092,\n",
              "         0.12678468,  0.00231456, -0.04944144,  0.00982093, -0.00226823,\n",
              "         0.02114191, -0.0089276 ,  0.05178568, -0.08360423,  0.06456632,\n",
              "         0.04922713,  0.07413609, -0.03257017,  0.04549675, -0.13367411,\n",
              "         0.12262187, -0.06196221,  0.03746893, -0.08026092,  0.02312467,\n",
              "         0.07729015,  0.14096895,  0.0950948 , -0.0934183 ,  0.07719868,\n",
              "        -0.00665459, -0.11539463, -0.00694864,  0.03745288,  0.06780996,\n",
              "         0.00150987, -0.10713415, -0.01196321, -0.04597799,  0.05731339,\n",
              "         0.03921493,  0.02709394, -0.11527738, -0.08623267, -0.02729506,\n",
              "         0.04993737,  0.0069256 , -0.01021508, -0.08665044, -0.08284194,\n",
              "         0.06541757, -0.00547693, -0.11481365,  0.0579123 , -0.00728857,\n",
              "        -0.04167774, -0.01082751,  0.00422225,  0.00159465, -0.04942218,\n",
              "         0.00870542,  0.13466689,  0.02632141,  0.00641652,  0.06406987,\n",
              "         0.01786709, -0.15883474,  0.07100759, -0.05229976,  0.09337814,\n",
              "         0.12764896,  0.08108974,  0.0551401 , -0.04801309, -0.01729219,\n",
              "         0.07949062,  0.05377327,  0.06107352, -0.12556398,  0.03687561,\n",
              "        -0.13584875,  0.10057769,  0.00315101,  0.01369011,  0.00469359,\n",
              "         0.04109284,  0.00704206,  0.03478526,  0.03487393, -0.08811515,\n",
              "         0.03341408, -0.00090903,  0.01321102,  0.0275923 ,  0.03969171,\n",
              "         0.04397635,  0.01991035,  0.08210999,  0.2282456 ,  0.05560205,\n",
              "         0.00139598,  0.14254883,  0.04349228,  0.0038519 , -0.04050326,\n",
              "         0.06924728, -0.03236804,  0.08822599,  0.06905341, -0.06970559,\n",
              "         0.06990537, -0.13295788, -0.04376259,  0.04846359,  0.05911412,\n",
              "         0.14506437, -0.06183406, -0.0097462 ,  0.08343959, -0.01563235,\n",
              "         0.01098595,  0.05852998,  0.0042262 ,  0.02672431,  0.10435694,\n",
              "         0.01793106,  0.03311616,  0.11502668], dtype=float32)>,\n",
              " <tf.Variable 'dense_layer_2/kernel:0' shape=(128, 128) dtype=float32, numpy=\n",
              " array([[ 0.12577811, -0.20403789, -0.16140944, ..., -0.07888357,\n",
              "         -0.00812694,  0.03617387],\n",
              "        [-0.06405134,  0.15602519, -0.00029647, ...,  0.09560521,\n",
              "         -0.05512383, -0.15181206],\n",
              "        [-0.06628767,  0.02104994,  0.04109833, ..., -0.05417716,\n",
              "         -0.13974656,  0.0052417 ],\n",
              "        ...,\n",
              "        [-0.05641795, -0.12892677,  0.1528414 , ...,  0.16149333,\n",
              "          0.10765912,  0.0040985 ],\n",
              "        [-0.0242465 ,  0.03920432,  0.04926027, ...,  0.06383743,\n",
              "         -0.01238054,  0.06560321],\n",
              "        [ 0.05110198,  0.06584467,  0.05800039, ..., -0.09378793,\n",
              "          0.09618606, -0.13518016]], dtype=float32)>,\n",
              " <tf.Variable 'dense_layer_2/bias:0' shape=(128,) dtype=float32, numpy=\n",
              " array([-5.47230337e-03,  1.43230855e-01,  6.91811070e-02,  1.42559260e-01,\n",
              "         2.85085086e-02,  1.22293197e-02,  2.62633804e-02, -4.80585126e-03,\n",
              "         3.41007151e-02,  9.44656655e-02,  8.83724317e-02,  7.62942284e-02,\n",
              "         1.93468146e-02,  5.26173785e-02,  3.03178728e-02,  5.37426062e-02,\n",
              "         2.46509388e-02,  1.14936762e-01,  2.79301591e-02,  2.13496760e-02,\n",
              "         1.22642092e-01,  6.39132783e-02,  6.08122163e-02,  9.65598151e-02,\n",
              "         1.04011729e-01,  1.34991452e-01, -8.42241477e-03,  5.20570866e-05,\n",
              "         5.70774730e-03,  1.34294247e-02,  1.03053354e-01,  5.42071089e-02,\n",
              "         6.91891015e-02,  1.83434352e-01,  1.98314693e-02,  1.57145992e-01,\n",
              "         7.99570233e-02,  1.02701589e-01,  1.11275673e-01,  4.10833862e-03,\n",
              "         1.10485062e-01,  1.18946448e-01, -3.89112793e-02,  4.61011752e-03,\n",
              "         3.08644809e-02,  1.22344323e-01,  4.18841504e-02,  1.61199905e-02,\n",
              "        -4.87942845e-02,  7.19351545e-02,  1.19729333e-01,  5.93576692e-02,\n",
              "         6.97756484e-02,  6.61646873e-02,  9.15717036e-02,  7.67670050e-02,\n",
              "         1.74656510e-01, -2.31262259e-02,  1.28398482e-02,  1.00270189e-01,\n",
              "        -1.10104226e-03,  7.00318366e-02,  2.16000676e-01, -3.45893241e-02,\n",
              "         1.99384708e-02,  2.90691685e-02,  1.28905028e-01,  1.72573887e-02,\n",
              "         6.79433867e-02, -5.28456569e-02, -1.46109257e-02,  3.51477936e-02,\n",
              "         6.60435110e-02,  9.72243845e-02,  4.18218523e-02,  3.63656878e-02,\n",
              "         2.00607218e-02,  9.56211239e-02,  7.15839565e-02, -3.88820060e-02,\n",
              "         5.36796562e-02,  2.05663946e-02,  3.85124683e-02,  9.76381823e-02,\n",
              "         1.33808166e-01,  5.33518530e-02,  5.57824112e-02,  3.41419540e-02,\n",
              "         4.40915041e-02,  4.92830016e-02,  1.09548233e-02,  1.36828050e-01,\n",
              "         6.63229544e-03,  3.16534117e-02,  2.84518413e-02,  6.14116713e-02,\n",
              "         1.58970580e-02, -2.90074255e-02,  1.00023840e-02,  2.57703885e-02,\n",
              "         5.50392717e-02,  3.15533653e-02,  1.61885619e-01,  4.56470922e-02,\n",
              "         5.87656200e-02,  3.14603709e-02,  2.03735698e-02,  3.81788388e-02,\n",
              "         4.13814336e-02, -1.08370353e-02,  2.55871359e-02, -2.38505192e-02,\n",
              "         8.06287602e-02,  3.62174995e-02,  7.65644461e-02,  4.92188744e-02,\n",
              "         1.54997140e-01,  9.83687192e-02,  2.05374230e-02,  2.67905165e-02,\n",
              "        -1.97380455e-03,  4.37075756e-02,  7.80950263e-02,  8.82779881e-02,\n",
              "         1.13185830e-01,  9.58416313e-02,  1.63101658e-01,  4.54624631e-02],\n",
              "       dtype=float32)>,\n",
              " <tf.Variable 'dense_layer_3/kernel:0' shape=(128, 10) dtype=float32, numpy=\n",
              " array([[ 0.01163806,  0.0496383 ,  0.23587433, ..., -0.09742153,\n",
              "         -0.29534382, -0.36337164],\n",
              "        [-0.43226913,  0.2310056 , -0.29763404, ..., -0.42922488,\n",
              "          0.20633523,  0.17412844],\n",
              "        [-0.21288766,  0.11913502, -0.2137218 , ...,  0.10712089,\n",
              "          0.21346922, -0.20959029],\n",
              "        ...,\n",
              "        [ 0.02803266, -0.04788238, -0.10747498, ..., -0.17326249,\n",
              "          0.0188883 , -0.10334715],\n",
              "        [-0.47231576,  0.047939  , -0.36091763, ...,  0.24727763,\n",
              "          0.20225665,  0.32010072],\n",
              "        [ 0.30571234, -0.32753575,  0.11222052, ..., -0.15428223,\n",
              "          0.03041865, -0.26078933]], dtype=float32)>,\n",
              " <tf.Variable 'dense_layer_3/bias:0' shape=(10,) dtype=float32, numpy=\n",
              " array([-0.10034785, -0.0153267 , -0.19049563, -0.11159541,  0.01704917,\n",
              "         0.13257529,  0.0322662 , -0.09459554,  0.20344312,  0.12702678],\n",
              "       dtype=float32)>]"
            ]
          },
          "metadata": {},
          "execution_count": 46
        }
      ]
    },
    {
      "cell_type": "code",
      "metadata": {
        "id": "SPzS9VdLgBgK",
        "colab": {
          "base_uri": "https://localhost:8080/"
        },
        "outputId": "5c74e81e-febf-4511-ce2b-b99b5d3e0cd0"
      },
      "source": [
        "model_2.get_config()"
      ],
      "execution_count": null,
      "outputs": [
        {
          "output_type": "execute_result",
          "data": {
            "text/plain": [
              "{'layers': [{'class_name': 'InputLayer',\n",
              "   'config': {'batch_input_shape': (None, 784),\n",
              "    'dtype': 'float32',\n",
              "    'name': 'dense_layer_input',\n",
              "    'ragged': False,\n",
              "    'sparse': False}},\n",
              "  {'class_name': 'Dense',\n",
              "   'config': {'activation': 'relu',\n",
              "    'activity_regularizer': None,\n",
              "    'batch_input_shape': (None, 784),\n",
              "    'bias_constraint': None,\n",
              "    'bias_initializer': {'class_name': 'Zeros', 'config': {}},\n",
              "    'bias_regularizer': None,\n",
              "    'dtype': 'float32',\n",
              "    'kernel_constraint': None,\n",
              "    'kernel_initializer': {'class_name': 'GlorotUniform',\n",
              "     'config': {'seed': None}},\n",
              "    'kernel_regularizer': None,\n",
              "    'name': 'dense_layer',\n",
              "    'trainable': True,\n",
              "    'units': 128,\n",
              "    'use_bias': True}},\n",
              "  {'class_name': 'Dropout',\n",
              "   'config': {'dtype': 'float32',\n",
              "    'name': 'dropout',\n",
              "    'noise_shape': None,\n",
              "    'rate': 0.3,\n",
              "    'seed': None,\n",
              "    'trainable': True}},\n",
              "  {'class_name': 'Dense',\n",
              "   'config': {'activation': 'relu',\n",
              "    'activity_regularizer': None,\n",
              "    'bias_constraint': None,\n",
              "    'bias_initializer': {'class_name': 'Zeros', 'config': {}},\n",
              "    'bias_regularizer': None,\n",
              "    'dtype': 'float32',\n",
              "    'kernel_constraint': None,\n",
              "    'kernel_initializer': {'class_name': 'GlorotUniform',\n",
              "     'config': {'seed': None}},\n",
              "    'kernel_regularizer': None,\n",
              "    'name': 'dense_layer_2',\n",
              "    'trainable': True,\n",
              "    'units': 128,\n",
              "    'use_bias': True}},\n",
              "  {'class_name': 'Dropout',\n",
              "   'config': {'dtype': 'float32',\n",
              "    'name': 'dropout_1',\n",
              "    'noise_shape': None,\n",
              "    'rate': 0.3,\n",
              "    'seed': None,\n",
              "    'trainable': True}},\n",
              "  {'class_name': 'Dense',\n",
              "   'config': {'activation': 'softmax',\n",
              "    'activity_regularizer': None,\n",
              "    'bias_constraint': None,\n",
              "    'bias_initializer': {'class_name': 'Zeros', 'config': {}},\n",
              "    'bias_regularizer': None,\n",
              "    'dtype': 'float32',\n",
              "    'kernel_constraint': None,\n",
              "    'kernel_initializer': {'class_name': 'GlorotUniform',\n",
              "     'config': {'seed': None}},\n",
              "    'kernel_regularizer': None,\n",
              "    'name': 'dense_layer_3',\n",
              "    'trainable': True,\n",
              "    'units': 10,\n",
              "    'use_bias': True}}],\n",
              " 'name': 'sequential_4'}"
            ]
          },
          "metadata": {},
          "execution_count": 47
        }
      ]
    },
    {
      "cell_type": "markdown",
      "metadata": {
        "id": "pjps75cBuR1Z"
      },
      "source": [
        "###Improved Model 3: Changing the Optimizer - Adam"
      ]
    },
    {
      "cell_type": "code",
      "metadata": {
        "id": "WmXFwU5puZIF"
      },
      "source": [
        "#Most common type of model is a stack of layers\n",
        "model_3 = tf.keras.Sequential()\n",
        "N_hidden = 64\n",
        "# Adds a densely-connected layer with 64 units to the model:\n",
        "model_3.add(Dense(N_hidden, name='dense_layer', input_shape=(784,), activation = 'relu'))\n",
        "# Now the model will take as input arrays of shape (*, 784)# and output arrays of shape (*, 64)\n",
        "model_3.add(Dropout(0.3))\n",
        "# Adding another dense layer:\n",
        "model_3.add(Dense(N_hidden, name='dense_layer_2', activation='relu'))\n",
        "model_3.add(Dropout(0.3))\n",
        "# After the first layer, you don't need to specify\u000b# the size of the input anymore:\n",
        "# Add an output layer with 10 output units (10 different classes):\n",
        "model_3.add(Dense(10, name='dense_layer_3', activation = 'softmax'))\n"
      ],
      "execution_count": null,
      "outputs": []
    },
    {
      "cell_type": "code",
      "metadata": {
        "id": "71IzuyLBt3pQ"
      },
      "source": [
        "# Compiling the model.\n",
        "model_3.compile(optimizer='Adam', \n",
        "              loss='categorical_crossentropy',\n",
        "              metrics=['accuracy'])"
      ],
      "execution_count": null,
      "outputs": []
    },
    {
      "cell_type": "code",
      "metadata": {
        "id": "KfP4B4Sat3pW",
        "colab": {
          "base_uri": "https://localhost:8080/"
        },
        "outputId": "87b222fa-8742-4649-dbbc-b0b5e108a3f7"
      },
      "source": [
        "# Training the model. \n",
        "training = model_3.fit(X_train, Y_train, batch_size=128, epochs=20, validation_split=0.2) \n"
      ],
      "execution_count": null,
      "outputs": [
        {
          "output_type": "stream",
          "name": "stdout",
          "text": [
            "Epoch 1/20\n",
            "375/375 [==============================] - 2s 5ms/step - loss: 0.7238 - accuracy: 0.7742 - val_loss: 0.2373 - val_accuracy: 0.9304\n",
            "Epoch 2/20\n",
            "375/375 [==============================] - 2s 4ms/step - loss: 0.3436 - accuracy: 0.8991 - val_loss: 0.1807 - val_accuracy: 0.9461\n",
            "Epoch 3/20\n",
            "375/375 [==============================] - 2s 4ms/step - loss: 0.2806 - accuracy: 0.9177 - val_loss: 0.1575 - val_accuracy: 0.9527\n",
            "Epoch 4/20\n",
            "375/375 [==============================] - 1s 4ms/step - loss: 0.2453 - accuracy: 0.9295 - val_loss: 0.1446 - val_accuracy: 0.9576\n",
            "Epoch 5/20\n",
            "375/375 [==============================] - 2s 4ms/step - loss: 0.2213 - accuracy: 0.9342 - val_loss: 0.1301 - val_accuracy: 0.9613\n",
            "Epoch 6/20\n",
            "375/375 [==============================] - 2s 4ms/step - loss: 0.2040 - accuracy: 0.9392 - val_loss: 0.1202 - val_accuracy: 0.9657\n",
            "Epoch 7/20\n",
            "375/375 [==============================] - 1s 4ms/step - loss: 0.1892 - accuracy: 0.9445 - val_loss: 0.1148 - val_accuracy: 0.9677\n",
            "Epoch 8/20\n",
            "375/375 [==============================] - 1s 4ms/step - loss: 0.1787 - accuracy: 0.9455 - val_loss: 0.1123 - val_accuracy: 0.9664\n",
            "Epoch 9/20\n",
            "375/375 [==============================] - 1s 4ms/step - loss: 0.1710 - accuracy: 0.9486 - val_loss: 0.1118 - val_accuracy: 0.9685\n",
            "Epoch 10/20\n",
            "375/375 [==============================] - 1s 4ms/step - loss: 0.1627 - accuracy: 0.9517 - val_loss: 0.1123 - val_accuracy: 0.9678\n",
            "Epoch 11/20\n",
            "375/375 [==============================] - 1s 4ms/step - loss: 0.1563 - accuracy: 0.9531 - val_loss: 0.1073 - val_accuracy: 0.9687\n",
            "Epoch 12/20\n",
            "375/375 [==============================] - 1s 4ms/step - loss: 0.1521 - accuracy: 0.9532 - val_loss: 0.1062 - val_accuracy: 0.9697\n",
            "Epoch 13/20\n",
            "375/375 [==============================] - 1s 4ms/step - loss: 0.1439 - accuracy: 0.9552 - val_loss: 0.0982 - val_accuracy: 0.9728\n",
            "Epoch 14/20\n",
            "375/375 [==============================] - 1s 4ms/step - loss: 0.1439 - accuracy: 0.9551 - val_loss: 0.1065 - val_accuracy: 0.9707\n",
            "Epoch 15/20\n",
            "375/375 [==============================] - 1s 4ms/step - loss: 0.1377 - accuracy: 0.9588 - val_loss: 0.0989 - val_accuracy: 0.9738\n",
            "Epoch 16/20\n",
            "375/375 [==============================] - 1s 4ms/step - loss: 0.1351 - accuracy: 0.9585 - val_loss: 0.0972 - val_accuracy: 0.9738\n",
            "Epoch 17/20\n",
            "375/375 [==============================] - 2s 4ms/step - loss: 0.1254 - accuracy: 0.9608 - val_loss: 0.0982 - val_accuracy: 0.9736\n",
            "Epoch 18/20\n",
            "375/375 [==============================] - 1s 4ms/step - loss: 0.1241 - accuracy: 0.9613 - val_loss: 0.0953 - val_accuracy: 0.9737\n",
            "Epoch 19/20\n",
            "375/375 [==============================] - 1s 4ms/step - loss: 0.1271 - accuracy: 0.9615 - val_loss: 0.0972 - val_accuracy: 0.9723\n",
            "Epoch 20/20\n",
            "375/375 [==============================] - 1s 4ms/step - loss: 0.1233 - accuracy: 0.9620 - val_loss: 0.0988 - val_accuracy: 0.9717\n"
          ]
        }
      ]
    },
    {
      "cell_type": "code",
      "metadata": {
        "id": "uuwhbVkxj0iR",
        "colab": {
          "base_uri": "https://localhost:8080/",
          "height": 591
        },
        "outputId": "e3944448-b320-4b52-a6a9-fd93253598ed"
      },
      "source": [
        "import matplotlib.pyplot as plt\n",
        "%matplotlib inline\n",
        "# list all data in training\n",
        "print(training.history.keys())\n",
        "# summarize training for accuracy\n",
        "plt.plot(training.history['accuracy'])\n",
        "plt.plot(training.history['val_accuracy'])\n",
        "plt.title('model accuracy')\n",
        "plt.ylabel('accuracy')\n",
        "plt.xlabel('epoch')\n",
        "plt.legend(['train', 'test'], loc='upper left')\n",
        "plt.show()\n",
        "# summarize traning for loss\n",
        "plt.plot(training.history['loss'])\n",
        "plt.plot(training.history['val_loss'])\n",
        "plt.title('model loss')\n",
        "plt.ylabel('loss')\n",
        "plt.xlabel('epoch')\n",
        "plt.legend(['train', 'test'], loc='upper left')\n",
        "plt.show()"
      ],
      "execution_count": null,
      "outputs": [
        {
          "output_type": "stream",
          "name": "stdout",
          "text": [
            "dict_keys(['loss', 'accuracy', 'val_loss', 'val_accuracy'])\n"
          ]
        },
        {
          "output_type": "display_data",
          "data": {
            "image/png": "[encoded data removed]",
            "text/plain": [
              "<Figure size 432x288 with 1 Axes>"
            ]
          },
          "metadata": {
            "needs_background": "light"
          }
        },
        {
          "output_type": "display_data",
          "data": {
            "image/png": "[encoded data removed]",
            "text/plain": [
              "<Figure size 432x288 with 1 Axes>"
            ]
          },
          "metadata": {
            "needs_background": "light"
          }
        }
      ]
    },
    {
      "cell_type": "code",
      "metadata": {
        "id": "En35EsWnuHmC",
        "colab": {
          "base_uri": "https://localhost:8080/"
        },
        "outputId": "9d15f905-8465-425e-cf6b-05abe94eef7b"
      },
      "source": [
        "#evaluate the model\n",
        "test_loss, test_acc = model_3.evaluate(X_test, Y_test)\n",
        "print('Test accuracy:', test_acc)"
      ],
      "execution_count": null,
      "outputs": [
        {
          "output_type": "stream",
          "name": "stdout",
          "text": [
            "313/313 [==============================] - 0s 1ms/step - loss: 0.1019 - accuracy: 0.9700\n",
            "Test accuracy: 0.9700000286102295\n"
          ]
        }
      ]
    },
    {
      "cell_type": "code",
      "metadata": {
        "id": "Vn7mv0zhj0i2",
        "colab": {
          "base_uri": "https://localhost:8080/"
        },
        "outputId": "ff220f77-64f9-4a8f-89a1-e31a11e30cc0"
      },
      "source": [
        "model_3.summary"
      ],
      "execution_count": null,
      "outputs": [
        {
          "output_type": "execute_result",
          "data": {
            "text/plain": [
              "<bound method Model.summary of <keras.engine.sequential.Sequential object at 0x7fe0612ca350>>"
            ]
          },
          "metadata": {},
          "execution_count": 53
        }
      ]
    },
    {
      "cell_type": "code",
      "metadata": {
        "id": "P5eSv_K5j0jK",
        "colab": {
          "base_uri": "https://localhost:8080/"
        },
        "outputId": "ed1b72c6-cfeb-4156-c55d-3593c18bae9c"
      },
      "source": [
        "model_3.weights"
      ],
      "execution_count": null,
      "outputs": [
        {
          "output_type": "execute_result",
          "data": {
            "text/plain": [
              "[<tf.Variable 'dense_layer/kernel:0' shape=(784, 64) dtype=float32, numpy=\n",
              " array([[ 0.06038588,  0.0290936 , -0.03470471, ..., -0.07583128,\n",
              "          0.03513001,  0.01095739],\n",
              "        [-0.06093385, -0.05729401,  0.04029664, ..., -0.0286314 ,\n",
              "         -0.0209031 ,  0.0580282 ],\n",
              "        [ 0.05132542, -0.05948028, -0.03397   , ...,  0.04052515,\n",
              "          0.0670904 , -0.01352464],\n",
              "        ...,\n",
              "        [-0.00307508, -0.05781683, -0.05317953, ..., -0.0389124 ,\n",
              "         -0.07719132,  0.02833924],\n",
              "        [-0.03956166, -0.02347921, -0.02710706, ...,  0.01354656,\n",
              "         -0.06729294, -0.08175277],\n",
              "        [ 0.0507764 , -0.0573199 , -0.0578059 , ..., -0.02226465,\n",
              "          0.07505859, -0.01117825]], dtype=float32)>,\n",
              " <tf.Variable 'dense_layer/bias:0' shape=(64,) dtype=float32, numpy=\n",
              " array([-0.03387972,  0.24147163, -0.32781246, -0.22320049,  0.2268021 ,\n",
              "        -0.14874151,  0.00188945,  0.11317822,  0.23730692, -0.00923215,\n",
              "        -0.08655814,  0.01503637, -0.02469548, -0.04439609,  0.13731691,\n",
              "         0.10525267,  0.2863089 , -0.00269969,  0.02433464,  0.10327329,\n",
              "         0.12601379, -0.09949353,  0.10334439, -0.05441308, -0.43485254,\n",
              "         0.13555765, -0.00307953,  0.02566924,  0.06077445, -0.00095985,\n",
              "        -0.06792685, -0.04281636, -0.03843724,  0.16990384, -0.35596973,\n",
              "         0.15692529,  0.03878349,  0.17229149, -0.02629135, -0.12886943,\n",
              "        -0.20032492, -0.10208167, -0.11786779,  0.03044013, -0.09578444,\n",
              "        -0.03477509,  0.09330875,  0.01272695,  0.1024732 ,  0.12171522,\n",
              "        -0.04566466,  0.23769045,  0.10230426, -0.08761723,  0.1229196 ,\n",
              "         0.15187627,  0.11410777, -0.14834958,  0.13009994, -0.30244973,\n",
              "        -0.02729413,  0.2419253 ,  0.03804551, -0.2285921 ], dtype=float32)>,\n",
              " <tf.Variable 'dense_layer_2/kernel:0' shape=(64, 64) dtype=float32, numpy=\n",
              " array([[ 0.04945268,  0.03760571, -0.04032799, ..., -0.35104907,\n",
              "         -0.05629086, -0.21858941],\n",
              "        [-0.21708307, -0.04816185, -0.05135076, ..., -0.35309166,\n",
              "         -0.4998995 ,  0.36190966],\n",
              "        [-0.06932631, -0.00601895,  0.04159539, ..., -0.3769857 ,\n",
              "         -0.04555675, -0.04058802],\n",
              "        ...,\n",
              "        [-0.34594235, -0.0236688 , -0.00065191, ..., -0.6378073 ,\n",
              "         -0.19674158,  0.0747476 ],\n",
              "        [ 0.25423896,  0.0879527 , -0.54722875, ...,  0.27174193,\n",
              "         -0.16930929, -0.04137904],\n",
              "        [ 0.09417396,  0.0510112 ,  0.34784073, ...,  0.13260306,\n",
              "          0.06503413, -0.07924029]], dtype=float32)>,\n",
              " <tf.Variable 'dense_layer_2/bias:0' shape=(64,) dtype=float32, numpy=\n",
              " array([ 0.27803168,  0.06583135,  0.05343486,  0.14765692,  0.32271397,\n",
              "         0.05770219, -0.01242568,  0.14735208,  0.38679916,  0.3273016 ,\n",
              "         0.06003913, -0.22003938,  0.13643155, -0.06650946,  0.4126432 ,\n",
              "         0.43074116,  0.2646103 ,  0.3266352 ,  0.2123713 ,  0.03657934,\n",
              "         0.40816492,  0.3962506 ,  0.01816179,  0.09255422,  0.25627097,\n",
              "         0.18772899, -0.19684729,  0.2366132 ,  0.14093672,  0.08187816,\n",
              "         0.24810824,  0.19624542, -0.08842829,  0.38795573,  0.08408403,\n",
              "        -0.00825691,  0.26125684,  0.07407811, -0.07076574,  0.08691241,\n",
              "         0.08295822,  0.25279737,  0.28344798,  0.08578501, -0.06514864,\n",
              "         0.26347783,  0.02813533,  0.19043076, -0.03914015,  0.12048398,\n",
              "         0.24864005,  0.07445262, -0.26652598,  0.02234262,  0.14386682,\n",
              "         0.15239796,  0.31799686,  0.00476889, -0.19117753,  0.35644782,\n",
              "         0.02191475,  0.11851744,  0.20104864, -0.15283133], dtype=float32)>,\n",
              " <tf.Variable 'dense_layer_3/kernel:0' shape=(64, 10) dtype=float32, numpy=\n",
              " array([[-5.75598300e-01,  3.18405002e-01, -2.51840297e-02,\n",
              "         -5.91211975e-01,  2.89243698e-01,  1.69383973e-01,\n",
              "          2.82735139e-01, -3.36604625e-01,  2.86365479e-01,\n",
              "         -1.66421622e-01],\n",
              "        [-3.20814759e-01,  1.91517904e-01,  2.11997002e-01,\n",
              "         -3.00565422e-01, -2.11734444e-01,  1.50026828e-01,\n",
              "          2.28470415e-01, -1.81084320e-01,  6.11782372e-02,\n",
              "         -7.73706377e-01],\n",
              "        [-6.54451907e-01, -2.90615708e-01,  1.25034794e-01,\n",
              "          1.98630214e-01, -5.61225712e-01,  2.31910869e-01,\n",
              "         -6.26722932e-01, -1.03091806e-01,  1.47515208e-01,\n",
              "          1.51000902e-01],\n",
              "        [ 2.70394504e-01,  1.92861483e-01,  2.74168760e-01,\n",
              "         -9.35283601e-02, -4.60483819e-01,  1.09911591e-01,\n",
              "          2.33324558e-01, -4.67627406e-01,  2.32370347e-01,\n",
              "         -4.49978501e-01],\n",
              "        [ 3.50813776e-01, -5.61345160e-01, -2.54011154e-01,\n",
              "         -4.26352054e-01, -1.80975750e-01,  1.20228097e-01,\n",
              "          1.22116534e-02, -7.60528326e-01,  1.74235567e-01,\n",
              "          2.76550889e-01],\n",
              "        [ 9.77136120e-02, -6.33342445e-01,  1.64046824e-01,\n",
              "          2.39293933e-01, -2.16984853e-01,  2.40143180e-01,\n",
              "         -2.65424103e-01, -5.88484883e-01,  2.37662807e-01,\n",
              "          2.27668837e-01],\n",
              "        [-1.16552390e-01, -3.82868022e-01,  2.71332502e-01,\n",
              "         -1.44751936e-01,  2.87401110e-01,  4.05590087e-01,\n",
              "          3.45350832e-01, -3.77445996e-01, -1.79371402e-01,\n",
              "         -2.22081527e-01],\n",
              "        [ 2.27699250e-01, -5.64850211e-01,  5.84230982e-02,\n",
              "         -4.84909654e-01,  2.04018727e-01, -1.88354224e-01,\n",
              "          1.86482698e-01,  1.50950164e-01, -5.81570983e-01,\n",
              "         -3.30390334e-01],\n",
              "        [ 4.38277051e-02, -5.72542727e-01, -3.18956196e-01,\n",
              "         -4.51011568e-01,  3.05658787e-01,  8.64735525e-03,\n",
              "         -2.36128569e-01, -4.76553231e-01,  3.17222327e-01,\n",
              "          2.90834218e-01],\n",
              "        [ 2.94382781e-01, -4.23861355e-01, -3.10404509e-01,\n",
              "         -3.97989690e-01, -1.89089507e-01,  2.42135525e-01,\n",
              "         -1.30321831e-01,  2.12953880e-01,  2.40379661e-01,\n",
              "          1.51396051e-01],\n",
              "        [-6.92267343e-02,  4.48682517e-01,  2.41442304e-02,\n",
              "         -5.89901984e-01,  9.35930535e-02, -2.89543152e-01,\n",
              "          2.62433946e-01, -6.91710860e-02, -4.35986757e-01,\n",
              "         -2.22130671e-01],\n",
              "        [-7.67768681e-01,  2.13566631e-01,  2.56067723e-01,\n",
              "          1.96833819e-01, -2.08963916e-01, -2.36988917e-01,\n",
              "         -2.29309738e-01,  2.30224341e-01, -3.38694632e-01,\n",
              "         -9.28846359e-01],\n",
              "        [ 1.29592702e-01,  8.06282088e-02, -1.66123837e-01,\n",
              "          2.73121218e-03, -5.62448144e-01,  1.32435024e-01,\n",
              "         -4.20130670e-01,  2.02983424e-01, -1.82237908e-01,\n",
              "          1.24311864e-01],\n",
              "        [-8.40582699e-02, -5.20733178e-01,  1.92718342e-01,\n",
              "         -7.68594220e-02, -1.43384904e-01, -3.13845575e-01,\n",
              "          2.54831284e-01,  4.53196049e-01, -4.71479595e-01,\n",
              "         -3.66008162e-01],\n",
              "        [ 1.93429887e-01, -4.58811194e-01, -4.04314309e-01,\n",
              "         -4.77946490e-01,  2.45111063e-01, -2.10991994e-01,\n",
              "          2.45426551e-01,  2.37082273e-01, -4.09438491e-01,\n",
              "          2.70599067e-01],\n",
              "        [-2.69761324e-01,  6.94768131e-02, -1.57319441e-01,\n",
              "         -1.35017961e-01,  3.67395967e-01, -4.41946834e-01,\n",
              "         -6.51002944e-01, -6.57859519e-02,  3.99964392e-01,\n",
              "          2.60123610e-01],\n",
              "        [ 3.31410676e-01, -3.59161705e-01, -4.20946509e-01,\n",
              "         -3.32577080e-01,  5.39228953e-02, -1.66728944e-01,\n",
              "          3.04107279e-01, -1.45678729e-01, -1.87723681e-01,\n",
              "          3.42241079e-01],\n",
              "        [ 2.43671760e-01, -5.17364085e-01, -4.41440493e-02,\n",
              "          1.98146626e-01, -4.84547824e-01,  1.74222037e-01,\n",
              "         -8.50146115e-01,  2.33944386e-01,  2.32334629e-01,\n",
              "          2.33133167e-01],\n",
              "        [-1.26456320e-01, -5.48630118e-01, -8.89478847e-02,\n",
              "         -3.42649192e-01,  3.72923285e-01, -6.04103729e-02,\n",
              "          4.27337646e-01, -6.04105055e-01, -5.53374946e-01,\n",
              "          4.54156548e-01],\n",
              "        [ 5.66718169e-02,  3.46341819e-01,  1.53579906e-01,\n",
              "         -4.68942434e-01,  2.14125589e-01,  1.59133315e-01,\n",
              "         -1.72317356e-01,  3.25624883e-01, -3.10278893e-01,\n",
              "         -5.05139649e-01],\n",
              "        [-4.75693703e-01,  2.76625931e-01, -4.86422271e-01,\n",
              "          1.41610950e-01,  3.04009199e-01, -2.04224348e-01,\n",
              "         -7.37668097e-01,  2.88876593e-01,  2.19790533e-01,\n",
              "          2.33194083e-01],\n",
              "        [-1.01347446e-01,  4.09738541e-01, -3.61114860e-01,\n",
              "         -2.93690652e-01,  2.81830460e-01, -7.24188626e-01,\n",
              "         -2.44465142e-01, -2.64556736e-01,  2.53682882e-01,\n",
              "          2.21053854e-01],\n",
              "        [-4.44989085e-01,  3.34931254e-01, -2.70944476e-01,\n",
              "          3.30391467e-01, -3.39000858e-02,  3.21260244e-01,\n",
              "          3.26877683e-01, -6.05981290e-01, -2.91613072e-01,\n",
              "          1.39158428e-01],\n",
              "        [-6.36932790e-01,  3.36584449e-01, -1.43780977e-01,\n",
              "         -5.68357706e-02,  1.46021336e-01, -6.13013923e-01,\n",
              "         -5.77177107e-01,  2.75257081e-01, -5.22289395e-01,\n",
              "          1.86848715e-01],\n",
              "        [ 1.18712604e-01, -5.83289921e-01, -1.25245348e-01,\n",
              "         -3.39316338e-01,  3.53280872e-01,  2.33702194e-02,\n",
              "          3.01289529e-01, -7.12253571e-01, -3.24210972e-01,\n",
              "          3.49869758e-01],\n",
              "        [ 2.73182690e-01, -3.81236136e-01, -1.66340157e-01,\n",
              "         -3.62780422e-01,  1.46511793e-01,  1.30997479e-01,\n",
              "          1.63643688e-01, -6.24703586e-01, -2.11710744e-02,\n",
              "         -5.23153305e-01],\n",
              "        [-6.99553490e-02, -7.29285367e-03,  9.71368030e-02,\n",
              "         -2.26775445e-02, -6.87038362e-01,  8.15980807e-02,\n",
              "         -2.04740196e-01,  7.94624016e-02, -3.31049204e-01,\n",
              "         -5.62333941e-01],\n",
              "        [ 3.84213507e-01,  2.98723668e-01,  3.41552705e-01,\n",
              "          2.51214504e-01,  8.54424313e-02, -4.80619162e-01,\n",
              "          2.07827464e-01, -3.56213361e-01,  6.74057901e-02,\n",
              "         -1.60557523e-01],\n",
              "        [ 1.76173657e-01,  2.35717639e-01,  2.55335599e-01,\n",
              "          2.44393617e-01, -5.75532794e-01, -6.93600327e-02,\n",
              "         -3.02011311e-01,  2.28863955e-01,  2.49620050e-01,\n",
              "         -7.35633314e-01],\n",
              "        [ 3.11679184e-01, -2.56204158e-01, -3.56484592e-01,\n",
              "          3.21632683e-01, -3.33694428e-01,  3.29668254e-01,\n",
              "         -5.22679210e-01, -9.07523632e-02, -1.77146703e-01,\n",
              "          1.59094725e-02],\n",
              "        [-1.56883493e-01,  3.65930527e-01, -5.94208598e-01,\n",
              "          1.19762428e-01,  1.32708549e-01, -4.89722490e-01,\n",
              "         -4.68839318e-01, -3.29440050e-02, -9.40753594e-02,\n",
              "          7.91521668e-02],\n",
              "        [ 3.19304496e-01, -6.72741711e-01, -1.64369360e-01,\n",
              "         -4.44963008e-01,  3.89786273e-01, -1.83157638e-01,\n",
              "          3.75051111e-01,  8.81636292e-02,  1.57691285e-01,\n",
              "         -7.04560220e-01],\n",
              "        [-6.87195122e-01,  3.84551436e-01,  5.79826646e-02,\n",
              "          2.64537811e-01, -3.76439631e-01,  2.76367605e-01,\n",
              "         -5.77904642e-01,  2.59678662e-01, -3.20880771e-01,\n",
              "          5.77751594e-03],\n",
              "        [-3.19722712e-01, -5.56370616e-01, -3.05116028e-01,\n",
              "         -3.07746559e-01,  2.04581097e-01, -1.60178199e-01,\n",
              "          2.22012714e-01,  2.18478844e-01,  1.76835597e-01,\n",
              "          1.18067101e-01],\n",
              "        [-7.60204792e-01, -3.16861898e-01,  6.48726150e-02,\n",
              "          2.63488173e-01,  2.72266895e-01,  2.47277826e-01,\n",
              "         -7.35859096e-01, -1.74851120e-01,  8.95665586e-02,\n",
              "          1.89719066e-01],\n",
              "        [-6.24902725e-01,  2.05867253e-02,  3.91438514e-01,\n",
              "          2.97500104e-01,  1.01956621e-01, -2.89558858e-01,\n",
              "         -1.89344645e-01, -4.88795415e-02, -7.51771629e-02,\n",
              "         -3.78308773e-01],\n",
              "        [ 2.35507339e-01, -2.43444234e-01, -2.28961512e-01,\n",
              "         -2.42441058e-01, -5.57441413e-01,  3.51045340e-01,\n",
              "          3.92712146e-01, -1.69444576e-01,  4.22062039e-01,\n",
              "         -3.47350299e-01],\n",
              "        [ 1.21189721e-01,  3.25308412e-01,  2.99576044e-01,\n",
              "          1.94866359e-01, -1.18341289e-01,  7.68965483e-02,\n",
              "          2.76048005e-01, -3.18344682e-01, -1.73919141e-01,\n",
              "         -7.76898384e-01],\n",
              "        [-4.45884317e-01,  1.73053220e-01, -6.57808900e-01,\n",
              "          3.60541999e-01,  2.76367664e-01,  3.43569547e-01,\n",
              "          9.29348469e-02,  2.13326544e-01, -1.41995922e-01,\n",
              "          3.12056154e-01],\n",
              "        [ 2.40251690e-01, -4.32866722e-01,  3.26472372e-01,\n",
              "          1.29862681e-01,  3.80240418e-02, -2.71464735e-01,\n",
              "          2.64300406e-01, -3.78558069e-01,  2.64886588e-01,\n",
              "         -2.63797462e-01],\n",
              "        [-2.83865243e-01,  6.88624501e-01, -2.38107592e-01,\n",
              "         -2.37260938e-01, -1.94186926e-01,  2.48974755e-01,\n",
              "         -3.28386366e-01, -1.44530118e-01,  2.06416443e-01,\n",
              "         -2.33033195e-01],\n",
              "        [-8.01665485e-02, -4.01014149e-01,  1.21365413e-01,\n",
              "         -4.15860087e-01,  2.51377434e-01, -3.31787497e-01,\n",
              "         -3.80011350e-01,  2.84998834e-01, -7.38333583e-01,\n",
              "          2.82052636e-01],\n",
              "        [-1.66725084e-01,  2.69938052e-01, -1.90062523e-01,\n",
              "         -4.89702314e-01,  2.87181944e-01,  2.94898003e-01,\n",
              "          2.84944594e-01, -1.48384690e-01,  2.92240649e-01,\n",
              "         -1.07531026e-01],\n",
              "        [ 3.38337451e-01, -5.72796702e-01, -1.54916570e-01,\n",
              "          2.02043116e-01, -1.37202263e-01,  1.54848859e-01,\n",
              "          1.39420435e-01,  7.80280605e-02, -6.34146988e-01,\n",
              "          8.72583166e-02],\n",
              "        [-5.13388693e-01, -5.61164498e-01, -9.86279622e-02,\n",
              "          2.41552413e-01, -4.74045634e-01,  7.77635630e-03,\n",
              "         -4.15171012e-02,  3.66813153e-01, -1.46175563e-01,\n",
              "          1.71278000e-01],\n",
              "        [-5.61921775e-01,  3.06431085e-01, -3.49085569e-01,\n",
              "         -1.05009116e-01, -1.98785320e-01,  2.36786649e-01,\n",
              "          2.46523738e-01, -2.77235121e-01,  2.66190410e-01,\n",
              "         -2.12440342e-02],\n",
              "        [-3.01141739e-01,  8.85589272e-02,  2.45804042e-01,\n",
              "          1.95670292e-01,  2.97292173e-01,  4.14102376e-02,\n",
              "         -6.64902210e-01,  3.78455073e-02, -7.09611237e-01,\n",
              "          2.45222092e-01],\n",
              "        [-8.11447561e-01,  1.94996983e-01, -1.72308728e-01,\n",
              "          1.17789671e-01, -1.83529913e-01,  1.54484048e-01,\n",
              "          1.37120277e-01, -2.01524049e-01,  9.32226032e-02,\n",
              "          6.80017695e-02],\n",
              "        [ 3.52125704e-01,  6.29087910e-02,  2.26076558e-01,\n",
              "          2.50488132e-01,  1.93332210e-01,  2.08785400e-01,\n",
              "         -2.34967619e-01, -2.84856647e-01, -3.63261670e-01,\n",
              "          1.17698528e-01],\n",
              "        [ 3.97273690e-01, -2.88070738e-01, -9.85553414e-02,\n",
              "         -1.31056473e-01, -4.29058582e-01,  1.96882695e-01,\n",
              "          2.98084259e-01,  1.83018744e-01, -3.14027846e-01,\n",
              "          3.36434066e-01],\n",
              "        [-1.65760666e-01, -4.62633044e-01, -2.27381974e-01,\n",
              "          3.23150843e-01, -3.82467508e-01,  2.86311150e-01,\n",
              "          1.44074246e-01, -4.72974747e-01,  3.03598136e-01,\n",
              "          2.17669502e-01],\n",
              "        [ 8.24030191e-02, -4.04494137e-01,  9.74731147e-02,\n",
              "         -1.74597934e-01, -2.59238541e-01,  5.44703938e-02,\n",
              "         -3.96480076e-02, -2.69905716e-01,  2.77054906e-02,\n",
              "         -6.62475526e-01],\n",
              "        [ 1.12569451e-01, -2.09424734e-01,  4.12399828e-01,\n",
              "          1.17574118e-01,  1.89411566e-01,  1.06510282e-01,\n",
              "          1.79414809e-01,  2.29021534e-02, -5.60236514e-01,\n",
              "         -1.62236527e-01],\n",
              "        [-3.95081192e-01, -4.13438678e-01,  3.70039582e-01,\n",
              "         -2.69669324e-01,  3.23908865e-01,  3.29005718e-01,\n",
              "         -1.13426529e-01,  1.73692733e-01, -5.15224576e-01,\n",
              "          2.83405125e-01],\n",
              "        [ 2.93550432e-01,  2.84556121e-01, -4.32344168e-01,\n",
              "         -2.68024713e-01, -3.82450163e-01, -2.14747772e-01,\n",
              "          3.01338911e-01,  2.42542833e-01, -8.26127008e-02,\n",
              "         -1.14566259e-01],\n",
              "        [-6.69730365e-01, -3.91791970e-01, -2.64197618e-01,\n",
              "          2.71504700e-01, -1.25822008e-01,  2.83667982e-01,\n",
              "         -6.35358155e-01,  2.53517516e-02,  1.99685410e-01,\n",
              "          2.10143164e-01],\n",
              "        [ 6.46421090e-02,  1.60316661e-01,  2.38891095e-01,\n",
              "          2.10211277e-01, -7.39885986e-01, -3.41764629e-01,\n",
              "         -9.12424147e-01,  2.13727921e-01,  2.19178185e-01,\n",
              "          1.41193137e-01],\n",
              "        [-4.94625509e-01, -2.53427416e-01, -4.03032452e-02,\n",
              "          1.67189255e-01,  1.63810238e-01, -3.22144687e-01,\n",
              "         -1.66017547e-01,  3.34253430e-01, -5.03015161e-01,\n",
              "          2.70200282e-01],\n",
              "        [-1.99707031e-01, -3.59817237e-01,  2.38261864e-01,\n",
              "          1.55231327e-01, -6.27278745e-01, -5.35186172e-01,\n",
              "         -1.39160916e-01,  1.73068985e-01,  2.11358760e-02,\n",
              "         -1.08930923e-01],\n",
              "        [-3.43417555e-01,  3.61223131e-01, -2.76818812e-01,\n",
              "         -2.09268257e-01, -1.51160732e-01, -5.92911065e-01,\n",
              "          4.70880745e-03, -5.28548844e-04,  3.33081812e-01,\n",
              "          2.60422558e-01],\n",
              "        [ 3.81262973e-02, -8.02434012e-02,  4.14200366e-01,\n",
              "         -1.87015727e-01, -3.76541227e-01, -3.67502093e-01,\n",
              "          3.65281522e-01, -1.82161219e-02,  1.99187800e-01,\n",
              "         -5.68737209e-01],\n",
              "        [-2.68353492e-01, -1.72676027e-01, -6.28441647e-02,\n",
              "          2.14823052e-01,  2.90591955e-01, -8.92718732e-02,\n",
              "          2.06746235e-01, -5.93570024e-02,  2.10590456e-02,\n",
              "         -6.64900899e-01],\n",
              "        [-2.46395871e-01,  4.45971303e-02,  3.02499115e-01,\n",
              "          2.21833363e-01,  1.72966972e-01, -6.50481820e-01,\n",
              "         -4.16950524e-01,  1.44161388e-01,  2.61474341e-01,\n",
              "          1.59477189e-01],\n",
              "        [-7.44695783e-01,  1.74050197e-01,  2.82670707e-01,\n",
              "          9.05398652e-02, -3.27328593e-03,  1.52187213e-01,\n",
              "         -2.34171703e-01,  3.05590063e-01, -2.91299254e-01,\n",
              "         -4.31795806e-01]], dtype=float32)>,\n",
              " <tf.Variable 'dense_layer_3/bias:0' shape=(10,) dtype=float32, numpy=\n",
              " array([ 0.21378595,  0.04009804, -0.11198781, -0.16970031,  0.0743768 ,\n",
              "        -0.27099603, -0.19563718, -0.09286392,  0.5178573 , -0.07118641],\n",
              "       dtype=float32)>]"
            ]
          },
          "metadata": {},
          "execution_count": 54
        }
      ]
    },
    {
      "cell_type": "code",
      "metadata": {
        "id": "OK9ct5w-j0jm",
        "colab": {
          "base_uri": "https://localhost:8080/"
        },
        "outputId": "c098f496-d166-448f-b582-21efc43f4d40"
      },
      "source": [
        "model_3.get_config()"
      ],
      "execution_count": null,
      "outputs": [
        {
          "output_type": "execute_result",
          "data": {
            "text/plain": [
              "{'layers': [{'class_name': 'InputLayer',\n",
              "   'config': {'batch_input_shape': (None, 784),\n",
              "    'dtype': 'float32',\n",
              "    'name': 'dense_layer_input',\n",
              "    'ragged': False,\n",
              "    'sparse': False}},\n",
              "  {'class_name': 'Dense',\n",
              "   'config': {'activation': 'relu',\n",
              "    'activity_regularizer': None,\n",
              "    'batch_input_shape': (None, 784),\n",
              "    'bias_constraint': None,\n",
              "    'bias_initializer': {'class_name': 'Zeros', 'config': {}},\n",
              "    'bias_regularizer': None,\n",
              "    'dtype': 'float32',\n",
              "    'kernel_constraint': None,\n",
              "    'kernel_initializer': {'class_name': 'GlorotUniform',\n",
              "     'config': {'seed': None}},\n",
              "    'kernel_regularizer': None,\n",
              "    'name': 'dense_layer',\n",
              "    'trainable': True,\n",
              "    'units': 64,\n",
              "    'use_bias': True}},\n",
              "  {'class_name': 'Dropout',\n",
              "   'config': {'dtype': 'float32',\n",
              "    'name': 'dropout_2',\n",
              "    'noise_shape': None,\n",
              "    'rate': 0.3,\n",
              "    'seed': None,\n",
              "    'trainable': True}},\n",
              "  {'class_name': 'Dense',\n",
              "   'config': {'activation': 'relu',\n",
              "    'activity_regularizer': None,\n",
              "    'bias_constraint': None,\n",
              "    'bias_initializer': {'class_name': 'Zeros', 'config': {}},\n",
              "    'bias_regularizer': None,\n",
              "    'dtype': 'float32',\n",
              "    'kernel_constraint': None,\n",
              "    'kernel_initializer': {'class_name': 'GlorotUniform',\n",
              "     'config': {'seed': None}},\n",
              "    'kernel_regularizer': None,\n",
              "    'name': 'dense_layer_2',\n",
              "    'trainable': True,\n",
              "    'units': 64,\n",
              "    'use_bias': True}},\n",
              "  {'class_name': 'Dropout',\n",
              "   'config': {'dtype': 'float32',\n",
              "    'name': 'dropout_3',\n",
              "    'noise_shape': None,\n",
              "    'rate': 0.3,\n",
              "    'seed': None,\n",
              "    'trainable': True}},\n",
              "  {'class_name': 'Dense',\n",
              "   'config': {'activation': 'softmax',\n",
              "    'activity_regularizer': None,\n",
              "    'bias_constraint': None,\n",
              "    'bias_initializer': {'class_name': 'Zeros', 'config': {}},\n",
              "    'bias_regularizer': None,\n",
              "    'dtype': 'float32',\n",
              "    'kernel_constraint': None,\n",
              "    'kernel_initializer': {'class_name': 'GlorotUniform',\n",
              "     'config': {'seed': None}},\n",
              "    'kernel_regularizer': None,\n",
              "    'name': 'dense_layer_3',\n",
              "    'trainable': True,\n",
              "    'units': 10,\n",
              "    'use_bias': True}}],\n",
              " 'name': 'sequential_5'}"
            ]
          },
          "metadata": {},
          "execution_count": 55
        }
      ]
    },
    {
      "cell_type": "markdown",
      "metadata": {
        "id": "mBnxm6kkzUYm"
      },
      "source": [
        "###Improved Model 4: Increasing the number of Hidden Layer neuron "
      ]
    },
    {
      "cell_type": "code",
      "metadata": {
        "id": "1tV9x2SNzUYq"
      },
      "source": [
        "#Most common type of model is a stack of layers\n",
        "model_4 = tf.keras.Sequential()\n",
        "N_hidden = 512\n",
        "# Adds a densely-connected layer with 64 units to the model:\n",
        "model_4.add(Dense(N_hidden, name='dense_layer', input_shape=(784,), activation = 'relu'))\n",
        "# Now the model will take as input arrays of shape (*, 784)# and output arrays of shape (*, 64)\n",
        "model_4.add(Dropout(0.3))\n",
        "# Adding another dense layer:\n",
        "model_4.add(Dense(N_hidden, name='dense_layer_2', activation='relu'))\n",
        "model_4.add(Dropout(0.3))\n",
        "# After the first layer, you don't need to specify\u000b# the size of the input anymore:\n",
        "# Add an output layer with 10 output units (10 different classes):\n",
        "model_4.add(Dense(10, name='dense_layer_3', activation = 'softmax'))\n"
      ],
      "execution_count": null,
      "outputs": []
    },
    {
      "cell_type": "code",
      "metadata": {
        "id": "ODypsK52zUY3"
      },
      "source": [
        "# Compiling the model.\n",
        "model_4.compile(optimizer='Adam', \n",
        "              loss='categorical_crossentropy',\n",
        "              metrics=['accuracy'])"
      ],
      "execution_count": null,
      "outputs": []
    },
    {
      "cell_type": "code",
      "metadata": {
        "id": "wcbJiQdpzUY_",
        "colab": {
          "base_uri": "https://localhost:8080/"
        },
        "outputId": "42d2c6d2-adf0-44f6-e3e6-e86c324a84aa"
      },
      "source": [
        "# Training the model. \n",
        "training = model_4.fit(X_train, Y_train, batch_size=128, epochs=31, validation_split=0.2) \n"
      ],
      "execution_count": null,
      "outputs": [
        {
          "output_type": "stream",
          "name": "stdout",
          "text": [
            "Epoch 1/31\n",
            "375/375 [==============================] - 7s 17ms/step - loss: 0.3041 - accuracy: 0.9082 - val_loss: 0.1282 - val_accuracy: 0.9624\n",
            "Epoch 2/31\n",
            "375/375 [==============================] - 6s 16ms/step - loss: 0.1260 - accuracy: 0.9628 - val_loss: 0.0959 - val_accuracy: 0.9719\n",
            "Epoch 3/31\n",
            "375/375 [==============================] - 6s 16ms/step - loss: 0.0928 - accuracy: 0.9720 - val_loss: 0.0888 - val_accuracy: 0.9731\n",
            "Epoch 4/31\n",
            "375/375 [==============================] - 6s 16ms/step - loss: 0.0727 - accuracy: 0.9771 - val_loss: 0.0849 - val_accuracy: 0.9758\n",
            "Epoch 5/31\n",
            "375/375 [==============================] - 6s 16ms/step - loss: 0.0616 - accuracy: 0.9804 - val_loss: 0.0816 - val_accuracy: 0.9758\n",
            "Epoch 6/31\n",
            "375/375 [==============================] - 6s 16ms/step - loss: 0.0540 - accuracy: 0.9827 - val_loss: 0.0828 - val_accuracy: 0.9762\n",
            "Epoch 7/31\n",
            "375/375 [==============================] - 6s 16ms/step - loss: 0.0462 - accuracy: 0.9843 - val_loss: 0.0861 - val_accuracy: 0.9770\n",
            "Epoch 8/31\n",
            "375/375 [==============================] - 6s 16ms/step - loss: 0.0443 - accuracy: 0.9858 - val_loss: 0.0781 - val_accuracy: 0.9789\n",
            "Epoch 9/31\n",
            "375/375 [==============================] - 6s 16ms/step - loss: 0.0377 - accuracy: 0.9875 - val_loss: 0.0808 - val_accuracy: 0.9798\n",
            "Epoch 10/31\n",
            "375/375 [==============================] - 6s 17ms/step - loss: 0.0328 - accuracy: 0.9892 - val_loss: 0.0851 - val_accuracy: 0.9770\n",
            "Epoch 11/31\n",
            "375/375 [==============================] - 6s 17ms/step - loss: 0.0307 - accuracy: 0.9895 - val_loss: 0.0758 - val_accuracy: 0.9808\n",
            "Epoch 12/31\n",
            "375/375 [==============================] - 6s 16ms/step - loss: 0.0314 - accuracy: 0.9896 - val_loss: 0.0884 - val_accuracy: 0.9772\n",
            "Epoch 13/31\n",
            "375/375 [==============================] - 6s 16ms/step - loss: 0.0305 - accuracy: 0.9896 - val_loss: 0.0844 - val_accuracy: 0.9788\n",
            "Epoch 14/31\n",
            "375/375 [==============================] - 6s 16ms/step - loss: 0.0265 - accuracy: 0.9905 - val_loss: 0.0818 - val_accuracy: 0.9815\n",
            "Epoch 15/31\n",
            "375/375 [==============================] - 6s 16ms/step - loss: 0.0245 - accuracy: 0.9922 - val_loss: 0.0779 - val_accuracy: 0.9822\n",
            "Epoch 16/31\n",
            "375/375 [==============================] - 6s 16ms/step - loss: 0.0254 - accuracy: 0.9914 - val_loss: 0.0928 - val_accuracy: 0.9799\n",
            "Epoch 17/31\n",
            "375/375 [==============================] - 6s 16ms/step - loss: 0.0209 - accuracy: 0.9932 - val_loss: 0.0885 - val_accuracy: 0.9806\n",
            "Epoch 18/31\n",
            "375/375 [==============================] - 6s 16ms/step - loss: 0.0220 - accuracy: 0.9927 - val_loss: 0.0989 - val_accuracy: 0.9797\n",
            "Epoch 19/31\n",
            "375/375 [==============================] - 6s 16ms/step - loss: 0.0240 - accuracy: 0.9920 - val_loss: 0.0895 - val_accuracy: 0.9814\n",
            "Epoch 20/31\n",
            "375/375 [==============================] - 6s 16ms/step - loss: 0.0226 - accuracy: 0.9926 - val_loss: 0.0864 - val_accuracy: 0.9823\n",
            "Epoch 21/31\n",
            "375/375 [==============================] - 6s 16ms/step - loss: 0.0175 - accuracy: 0.9942 - val_loss: 0.0930 - val_accuracy: 0.9823\n",
            "Epoch 22/31\n",
            "375/375 [==============================] - 6s 16ms/step - loss: 0.0182 - accuracy: 0.9944 - val_loss: 0.0991 - val_accuracy: 0.9801\n",
            "Epoch 23/31\n",
            "375/375 [==============================] - 6s 16ms/step - loss: 0.0189 - accuracy: 0.9937 - val_loss: 0.1086 - val_accuracy: 0.9782\n",
            "Epoch 24/31\n",
            "375/375 [==============================] - 6s 16ms/step - loss: 0.0178 - accuracy: 0.9942 - val_loss: 0.0998 - val_accuracy: 0.9803\n",
            "Epoch 25/31\n",
            "375/375 [==============================] - 6s 16ms/step - loss: 0.0174 - accuracy: 0.9940 - val_loss: 0.0986 - val_accuracy: 0.9811\n",
            "Epoch 26/31\n",
            "375/375 [==============================] - 6s 16ms/step - loss: 0.0207 - accuracy: 0.9935 - val_loss: 0.1132 - val_accuracy: 0.9780\n",
            "Epoch 27/31\n",
            "375/375 [==============================] - 6s 16ms/step - loss: 0.0172 - accuracy: 0.9948 - val_loss: 0.1071 - val_accuracy: 0.9803\n",
            "Epoch 28/31\n",
            "375/375 [==============================] - 6s 16ms/step - loss: 0.0174 - accuracy: 0.9943 - val_loss: 0.1009 - val_accuracy: 0.9815\n",
            "Epoch 29/31\n",
            "375/375 [==============================] - 6s 16ms/step - loss: 0.0168 - accuracy: 0.9943 - val_loss: 0.1030 - val_accuracy: 0.9808\n",
            "Epoch 30/31\n",
            "375/375 [==============================] - 6s 16ms/step - loss: 0.0160 - accuracy: 0.9945 - val_loss: 0.1086 - val_accuracy: 0.9823\n",
            "Epoch 31/31\n",
            "375/375 [==============================] - 6s 17ms/step - loss: 0.0178 - accuracy: 0.9950 - val_loss: 0.1061 - val_accuracy: 0.9810\n"
          ]
        }
      ]
    },
    {
      "cell_type": "code",
      "metadata": {
        "id": "wIywzScFzUZJ",
        "colab": {
          "base_uri": "https://localhost:8080/"
        },
        "outputId": "39943d36-1c13-4946-8e73-c4255bb3f5c9"
      },
      "source": [
        "#evaluate the model_4\n",
        "test_loss, test_acc = model_4.evaluate(X_test, Y_test)\n",
        "print('Test accuracy:', test_acc)"
      ],
      "execution_count": null,
      "outputs": [
        {
          "output_type": "stream",
          "name": "stdout",
          "text": [
            "313/313 [==============================] - 1s 3ms/step - loss: 0.0774 - accuracy: 0.9847\n",
            "Test accuracy: 0.9847000241279602\n"
          ]
        }
      ]
    },
    {
      "cell_type": "code",
      "metadata": {
        "id": "L3tLcpsc3tKz",
        "colab": {
          "base_uri": "https://localhost:8080/",
          "height": 591
        },
        "outputId": "7b0e026b-85b6-4c13-80e3-32abb7b2cb07"
      },
      "source": [
        "import matplotlib.pyplot as plt\n",
        "%matplotlib inline\n",
        "# list all data in training\n",
        "print(training.history.keys())\n",
        "# summarize training for accuracy\n",
        "plt.plot(training.history['accuracy'])\n",
        "plt.plot(training.history['val_accuracy'])\n",
        "plt.title('model accuracy')\n",
        "plt.ylabel('accuracy')\n",
        "plt.xlabel('epoch')\n",
        "plt.legend(['train', 'test'], loc='upper left')\n",
        "plt.show()\n",
        "# summarize traning for loss\n",
        "plt.plot(training.history['loss'])\n",
        "plt.plot(training.history['val_loss'])\n",
        "plt.title('model loss')\n",
        "plt.ylabel('loss')\n",
        "plt.xlabel('epoch')\n",
        "plt.legend(['train', 'test'], loc='upper left')\n",
        "plt.show()"
      ],
      "execution_count": null,
      "outputs": [
        {
          "output_type": "stream",
          "name": "stdout",
          "text": [
            "dict_keys(['loss', 'accuracy', 'val_loss', 'val_accuracy'])\n"
          ]
        },
        {
          "output_type": "display_data",
          "data": {
            "image/png": "[encoded data removed]",
            "text/plain": [
              "<Figure size 432x288 with 1 Axes>"
            ]
          },
          "metadata": {
            "needs_background": "light"
          }
        },
        {
          "output_type": "display_data",
          "data": {
            "image/png": "[encoded data removed]",
            "text/plain": [
              "<Figure size 432x288 with 1 Axes>"
            ]
          },
          "metadata": {
            "needs_background": "light"
          }
        }
      ]
    },
    {
      "cell_type": "code",
      "metadata": {
        "id": "FmDi5zHOkQTK",
        "colab": {
          "base_uri": "https://localhost:8080/"
        },
        "outputId": "98cb709d-adf0-4096-ec26-f56f6f94a996"
      },
      "source": [
        "model_4.summary"
      ],
      "execution_count": null,
      "outputs": [
        {
          "output_type": "execute_result",
          "data": {
            "text/plain": [
              "<bound method Model.summary of <keras.engine.sequential.Sequential object at 0x7fe06100c810>>"
            ]
          },
          "metadata": {},
          "execution_count": 61
        }
      ]
    },
    {
      "cell_type": "code",
      "metadata": {
        "id": "ogODS59VkQTO",
        "colab": {
          "base_uri": "https://localhost:8080/"
        },
        "outputId": "d6f4ba73-72a2-4e4a-b8c2-fad718bbdf31"
      },
      "source": [
        "model_4.weights"
      ],
      "execution_count": null,
      "outputs": [
        {
          "output_type": "execute_result",
          "data": {
            "text/plain": [
              "[<tf.Variable 'dense_layer/kernel:0' shape=(784, 512) dtype=float32, numpy=\n",
              " array([[-0.06095198, -0.05326482,  0.04723078, ..., -0.01372945,\n",
              "          0.06678312, -0.01229135],\n",
              "        [ 0.03012962, -0.02762496, -0.02494696, ...,  0.05090459,\n",
              "         -0.00145765,  0.05126211],\n",
              "        [-0.03794818, -0.06709076, -0.06680916, ..., -0.06370718,\n",
              "          0.02034449, -0.05415701],\n",
              "        ...,\n",
              "        [ 0.00878829,  0.06626529,  0.04031032, ...,  0.00736591,\n",
              "          0.06237577,  0.00996121],\n",
              "        [ 0.04671254, -0.01777416, -0.00588175, ..., -0.03072101,\n",
              "          0.0471812 , -0.00374145],\n",
              "        [-0.01446258, -0.0006663 ,  0.06601728, ...,  0.05299446,\n",
              "         -0.06594819,  0.01823406]], dtype=float32)>,\n",
              " <tf.Variable 'dense_layer/bias:0' shape=(512,) dtype=float32, numpy=\n",
              " array([ 4.59245183e-02,  3.48742902e-02,  1.76114286e-03, -1.39387831e-01,\n",
              "        -7.19114617e-02, -1.48884598e-02,  1.00420706e-01, -1.99339893e-02,\n",
              "        -7.41795003e-02, -6.49660304e-02, -5.42339832e-02, -2.10633483e-02,\n",
              "        -2.52049696e-02, -1.16043119e-03, -5.22751175e-02, -1.15331613e-01,\n",
              "        -3.95117514e-03,  9.59613454e-03, -3.61594446e-02, -3.85664441e-02,\n",
              "        -2.87071336e-02, -1.87651161e-02, -8.92252475e-02, -7.44245797e-02,\n",
              "        -3.39826047e-02,  1.64442305e-02, -3.01843211e-02, -1.16783474e-02,\n",
              "        -3.13443840e-02, -5.21531478e-02, -5.02252877e-02, -8.81819800e-02,\n",
              "        -7.38060027e-02, -4.53431606e-02,  2.84024347e-02, -8.71988684e-02,\n",
              "         2.76288092e-02,  7.55174905e-02, -6.00458793e-02, -1.11506052e-01,\n",
              "        -1.77644435e-02,  2.02062391e-02,  6.14307411e-02, -9.19701606e-02,\n",
              "        -2.01244708e-02, -9.53186005e-02, -2.73568518e-02, -6.60628751e-02,\n",
              "        -8.66804272e-03,  2.27805600e-02, -3.44153382e-02, -6.21975027e-02,\n",
              "        -3.52295078e-02, -1.41441450e-02, -1.78584978e-02, -1.98192835e-01,\n",
              "        -1.92816556e-02, -1.43530080e-02,  7.18960986e-02, -1.27508715e-01,\n",
              "        -5.02345785e-02, -1.75428852e-01, -9.19664204e-02, -1.76184550e-02,\n",
              "        -8.15492198e-02, -3.85778653e-03, -2.40070242e-02, -4.66771126e-02,\n",
              "        -3.88805531e-02, -2.80383546e-02, -3.94543335e-02, -3.62472124e-02,\n",
              "         4.33037467e-02,  1.80740878e-02, -1.42636836e-01, -1.01444297e-01,\n",
              "        -5.89886121e-02, -5.00526242e-02, -1.09564386e-01, -1.32593840e-01,\n",
              "         4.93150838e-02,  3.44376899e-02, -7.81807601e-02, -6.76797852e-02,\n",
              "         9.00130272e-02, -8.72891843e-02,  4.77913991e-02, -6.34443685e-02,\n",
              "        -9.20344442e-02, -4.21616174e-02,  3.30112763e-02, -7.96134397e-02,\n",
              "         2.44331695e-02, -1.03113517e-01,  4.45669219e-02,  4.04953808e-02,\n",
              "        -1.33856758e-01, -1.65578909e-02, -1.54294884e-02, -1.65604427e-02,\n",
              "        -8.83200765e-02, -1.24527089e-01,  3.00205164e-02, -1.93203688e-02,\n",
              "        -9.14487019e-02,  3.04202605e-02, -9.09613743e-02, -4.60549146e-02,\n",
              "        -8.63034576e-02, -2.20504589e-03, -3.45514156e-02, -9.95739698e-02,\n",
              "         1.30515331e-02, -5.83361872e-02, -2.43159570e-02, -1.26612037e-01,\n",
              "        -5.45777902e-02, -6.64705187e-02,  3.70335169e-02, -9.46348906e-03,\n",
              "        -6.66847453e-02,  9.91780460e-02, -3.07909604e-02, -1.14426218e-01,\n",
              "        -2.72722095e-02,  3.75445336e-02, -6.48247451e-02,  4.29975241e-02,\n",
              "        -5.42484298e-02,  1.05292229e-02, -6.46461025e-02, -4.17075530e-02,\n",
              "        -9.02433097e-02, -6.61370084e-02, -4.26081792e-02,  6.33709952e-02,\n",
              "        -8.71693343e-02, -7.02970251e-02,  6.98971674e-02, -7.45703056e-02,\n",
              "         1.71330795e-02, -7.47143999e-02, -2.40549129e-02, -1.61757711e-02,\n",
              "         1.18683390e-01, -3.18107009e-02,  5.52547723e-02,  3.13639604e-02,\n",
              "        -5.40196523e-02,  1.17380857e-01, -4.47592214e-02,  7.32470229e-02,\n",
              "        -1.73681937e-02,  1.06003287e-03, -9.69542116e-02, -4.57706116e-02,\n",
              "        -3.29362713e-02,  4.88493070e-02,  1.39076449e-02, -9.63937491e-02,\n",
              "         2.50496380e-02, -4.04044613e-02, -7.21971020e-02, -4.97574732e-03,\n",
              "        -1.21984407e-02, -9.99030098e-02, -1.96990259e-02, -1.08627014e-01,\n",
              "        -4.67493758e-02,  2.18941774e-02, -3.08110304e-02, -4.95575331e-02,\n",
              "         1.29636349e-02,  3.96399796e-02,  2.09886078e-02,  8.60274583e-02,\n",
              "        -1.17106341e-01, -1.58310346e-02, -1.14285834e-01, -4.40312140e-02,\n",
              "        -1.50580825e-02, -6.63744006e-03, -8.09739381e-02,  5.50822839e-02,\n",
              "        -9.99233797e-02, -1.65111423e-01, -4.88204472e-02, -5.59296533e-02,\n",
              "        -7.23657459e-02,  4.32234965e-02,  2.82992572e-02,  7.11809248e-02,\n",
              "        -1.59276556e-02,  8.80007260e-03,  6.08824268e-02, -1.02198847e-01,\n",
              "        -1.36588737e-02, -6.35293722e-02,  1.96988657e-02, -4.78050672e-02,\n",
              "        -1.12124868e-01, -5.81393316e-02, -4.55649663e-03, -1.27831936e-01,\n",
              "        -1.25973210e-01, -9.35341343e-02,  1.17261469e-01,  4.33213040e-02,\n",
              "        -2.56081019e-03, -9.27208960e-02,  5.42170219e-02,  3.25194076e-02,\n",
              "        -1.19258985e-02, -1.14453427e-01, -8.58918801e-02, -5.73058017e-02,\n",
              "         1.84061825e-02, -7.51766041e-02,  3.03128790e-02,  7.35241640e-03,\n",
              "        -1.47177950e-01, -3.85657996e-02, -8.87215545e-04, -4.18238156e-02,\n",
              "         8.12752694e-02,  1.44932596e-02, -2.80699134e-02,  9.61289741e-03,\n",
              "        -1.82060674e-02, -1.52362466e-01, -8.79942253e-02,  5.49759604e-02,\n",
              "        -1.49121853e-02, -7.37511218e-02,  7.08607808e-02, -1.91904474e-02,\n",
              "        -9.73521098e-02, -1.55785426e-01,  4.45299596e-02, -7.65783666e-03,\n",
              "        -8.27115476e-02, -4.82096337e-02, -3.96356396e-02, -1.17898360e-01,\n",
              "         1.92452956e-03, -7.47120455e-02, -7.93249235e-02,  1.88083928e-02,\n",
              "        -2.58538034e-02,  7.86301494e-02,  2.00193580e-02, -6.84289867e-03,\n",
              "        -1.32780179e-01,  1.24960933e-02, -5.32091670e-02,  2.95141041e-02,\n",
              "        -9.53634176e-03, -1.08215846e-01, -1.06804073e-01, -8.40421207e-03,\n",
              "         2.03109272e-02, -6.33392408e-02,  3.20815779e-02,  2.03915574e-02,\n",
              "        -6.15763292e-02,  3.84589494e-03, -9.74460617e-02, -5.11849485e-03,\n",
              "         1.44103775e-02, -4.20697359e-03,  2.03714538e-02, -4.05422635e-02,\n",
              "         1.12416103e-01, -3.06389518e-02,  2.23789904e-02, -9.12777483e-02,\n",
              "        -9.30839032e-02, -6.63637882e-03, -1.40874743e-01, -4.66214716e-02,\n",
              "        -1.04898833e-01, -5.65679371e-02,  1.13539686e-02, -2.79986952e-02,\n",
              "         5.63942678e-02, -1.98344551e-02,  1.92553680e-02, -8.36387090e-03,\n",
              "        -6.89072348e-03, -2.06680018e-02, -7.78943151e-02,  1.32390708e-01,\n",
              "        -2.74686068e-02, -1.17686177e-02, -4.96673658e-02,  3.21722105e-02,\n",
              "        -1.12489633e-01, -7.25747496e-02, -1.33648496e-02,  2.74657505e-03,\n",
              "        -1.36219978e-01,  4.52455059e-02, -3.83280180e-02,  9.04367417e-02,\n",
              "        -1.18484581e-02, -7.83838853e-02,  1.09799625e-02, -5.31420372e-02,\n",
              "        -4.83391508e-02,  6.83052540e-02, -6.45670220e-02, -4.18173224e-02,\n",
              "         1.97347309e-02, -8.97766575e-02, -6.54369146e-02, -1.05928726e-01,\n",
              "         1.90985345e-04, -3.12336441e-02, -8.13463554e-02, -3.07915639e-02,\n",
              "        -2.31765397e-02,  6.74023554e-02,  4.06999178e-02, -6.06247224e-02,\n",
              "        -6.36568442e-02,  6.49412796e-02, -1.74024403e-02,  1.01550687e-02,\n",
              "        -1.35784447e-01, -9.43018049e-02, -3.33080627e-02, -2.11513881e-02,\n",
              "         4.10098732e-02, -6.96440116e-02, -8.68249089e-02, -5.34249023e-02,\n",
              "        -7.78934136e-02,  2.56666075e-02,  1.98688582e-02, -1.30832002e-01,\n",
              "         2.24115551e-02, -2.44691037e-02, -1.49568508e-03,  2.40434124e-03,\n",
              "         3.08959167e-02, -2.22616754e-02, -1.78044084e-02, -5.52373715e-02,\n",
              "        -8.05683509e-02,  5.57203256e-02, -4.38497290e-02, -1.90538839e-01,\n",
              "        -1.31337391e-02,  2.66774576e-02, -5.82455890e-03, -8.13237429e-02,\n",
              "         3.30407619e-02,  6.59952462e-02, -1.64428391e-02,  7.02062249e-02,\n",
              "         5.34800813e-02, -1.22495845e-01, -6.77601770e-02,  4.64523770e-03,\n",
              "         6.84065605e-03, -1.76906720e-01, -7.17075914e-02, -1.47996219e-02,\n",
              "        -1.65682137e-02, -3.22980247e-02,  2.64580231e-02,  1.37483319e-02,\n",
              "        -4.04503383e-02,  2.72599198e-02, -2.28894874e-02,  5.07419892e-02,\n",
              "        -1.24391809e-01, -3.69728133e-02,  5.24062589e-02, -3.18886302e-02,\n",
              "        -1.10192364e-02, -1.07388347e-01, -2.64077689e-02, -9.15268287e-02,\n",
              "        -9.09539685e-02, -5.73948398e-02,  7.36138150e-02, -3.57786976e-02,\n",
              "         2.34470833e-02, -7.36970529e-02,  5.69758052e-03, -5.99853396e-02,\n",
              "        -9.97491926e-02, -8.45037624e-02, -4.38184403e-02, -1.05226412e-01,\n",
              "         4.21529002e-02,  1.12701030e-02,  3.08643486e-02, -3.10842004e-02,\n",
              "        -7.56204575e-02, -1.22099869e-01, -3.28526497e-02,  6.75797462e-02,\n",
              "        -6.70866817e-02, -3.82905193e-02,  2.97742337e-02,  1.42254494e-02,\n",
              "        -2.30539702e-02,  2.35268027e-02,  4.40476974e-03, -2.39512343e-02,\n",
              "        -4.67131883e-02, -1.54201705e-02, -4.95380387e-02, -7.97442496e-02,\n",
              "         6.66765869e-03, -6.41600639e-02,  7.80734792e-02, -1.60481706e-02,\n",
              "        -9.44622159e-02, -2.87156552e-02,  2.08208598e-02,  1.42898480e-03,\n",
              "        -7.56011577e-03, -6.06787913e-02, -9.06632170e-02, -4.90482487e-02,\n",
              "        -5.73623786e-03,  4.61608209e-02, -2.69311350e-02, -2.15449301e-03,\n",
              "         1.45133529e-02, -2.72604283e-02, -3.28698717e-02,  2.11024992e-02,\n",
              "         7.99292922e-02, -2.49345712e-02, -5.72834872e-02, -1.59926251e-01,\n",
              "        -4.50090244e-02,  1.59701109e-02, -1.59991339e-01, -5.18700406e-02,\n",
              "        -4.84122969e-02, -4.64144498e-02,  1.06596912e-03, -5.03859296e-02,\n",
              "        -6.43946305e-02, -5.42806089e-02, -8.88227373e-02,  9.68622565e-02,\n",
              "        -1.39771018e-03,  2.62333620e-02, -6.83114827e-02, -1.06818937e-01,\n",
              "        -4.03518528e-02, -7.37705007e-02, -1.90805905e-02,  5.16959094e-02,\n",
              "         5.77571057e-02, -6.05070442e-02, -6.31657764e-02, -3.33370827e-02,\n",
              "        -1.09141450e-02,  5.85766463e-03, -8.77801031e-02, -3.08886562e-02,\n",
              "        -1.23913817e-01, -5.21103516e-02, -2.57335510e-02,  3.14349607e-02,\n",
              "        -3.28505263e-02, -2.52411682e-02,  3.43359485e-02, -5.09354547e-02,\n",
              "         2.61659361e-02, -9.51672206e-04, -6.85479194e-02, -8.06421861e-02,\n",
              "        -8.69732630e-03, -1.16049666e-02, -9.87119973e-02,  1.07603939e-03,\n",
              "        -3.51128839e-02, -6.73787370e-02, -2.44453773e-02,  4.26300652e-02,\n",
              "         1.91913322e-02, -7.00945333e-02, -1.89321190e-02, -1.97937153e-03,\n",
              "        -4.74186540e-02, -5.05027175e-03, -1.56131359e-02, -4.15852517e-02,\n",
              "        -9.65989605e-02,  2.37806365e-02, -1.97428577e-02, -3.83933745e-02,\n",
              "        -1.22432984e-01, -5.37167042e-02, -1.19998582e-01, -9.49883610e-02,\n",
              "        -1.15257889e-01, -9.60945114e-02, -1.16089154e-02,  3.48019646e-03,\n",
              "        -2.76286770e-02, -1.35484803e-02, -1.00894876e-01,  2.02753358e-02],\n",
              "       dtype=float32)>,\n",
              " <tf.Variable 'dense_layer_2/kernel:0' shape=(512, 512) dtype=float32, numpy=\n",
              " array([[ 0.11030859, -0.14427802, -0.0869403 , ..., -0.0075344 ,\n",
              "         -0.02669723,  0.0997318 ],\n",
              "        [-0.02032594, -0.15662275, -0.02619284, ...,  0.16329308,\n",
              "         -0.14807051,  0.02581044],\n",
              "        [ 0.15607339,  0.0067219 ,  0.00333857, ...,  0.15756147,\n",
              "         -0.03436296,  0.14790024],\n",
              "        ...,\n",
              "        [ 0.13725221,  0.008513  ,  0.06154469, ...,  0.01166369,\n",
              "          0.07563802,  0.0513471 ],\n",
              "        [-0.0485139 ,  0.01486098,  0.0162794 , ...,  0.04254901,\n",
              "          0.08250874, -0.01591665],\n",
              "        [-0.09548788,  0.00393663,  0.07798811, ...,  0.1524935 ,\n",
              "          0.03592573,  0.04244502]], dtype=float32)>,\n",
              " <tf.Variable 'dense_layer_2/bias:0' shape=(512,) dtype=float32, numpy=\n",
              " array([ 0.12767741,  0.05408477, -0.00866541,  0.04328586, -0.04462738,\n",
              "         0.18676366, -0.15728532,  0.17452039, -0.16991849,  0.10277782,\n",
              "        -0.00637527,  0.029295  ,  0.07605013,  0.14185676,  0.17784595,\n",
              "        -0.03422914,  0.0939128 , -0.04888361,  0.18665901,  0.12458874,\n",
              "        -0.10464527, -0.07012191,  0.1204915 , -0.02831686,  0.16729337,\n",
              "        -0.03334483, -0.05455827,  0.04265242,  0.2066554 , -0.0907427 ,\n",
              "         0.07015537, -0.08623663, -0.17712982, -0.07105196,  0.0077419 ,\n",
              "         0.11661658,  0.072809  ,  0.04382892,  0.13305886,  0.16476938,\n",
              "        -0.053587  , -0.16081716, -0.11056223,  0.09458151, -0.10935981,\n",
              "        -0.13737284,  0.12861243,  0.14599778, -0.11166497, -0.00622344,\n",
              "        -0.2817648 ,  0.1339038 , -0.11658901,  0.01734778, -0.07237696,\n",
              "        -0.13129124,  0.0848909 , -0.00310231,  0.01609158, -0.00142029,\n",
              "         0.01812187,  0.07913918, -0.05178567, -0.0851386 , -0.09402237,\n",
              "         0.08995605, -0.15222429,  0.09337317, -0.05152977,  0.12314238,\n",
              "        -0.0140027 , -0.13714941, -0.13575031, -0.20288987,  0.1098745 ,\n",
              "        -0.08273524,  0.07226943,  0.08681887, -0.16590999, -0.01158261,\n",
              "        -0.21483216,  0.23255754,  0.23262252,  0.00478258,  0.15248418,\n",
              "         0.07452338, -0.16361533,  0.0318695 , -0.00065318, -0.23874705,\n",
              "         0.08451669, -0.15156499,  0.00583318,  0.21539792, -0.15070045,\n",
              "         0.16044603, -0.1677301 , -0.14648384,  0.00365872, -0.05203544,\n",
              "         0.02125951, -0.06907208, -0.05476118, -0.01245603, -0.12811548,\n",
              "        -0.11708078, -0.1809674 , -0.08507403, -0.15129496, -0.07522774,\n",
              "         0.19849655,  0.00377962,  0.02563226, -0.10152885,  0.15471767,\n",
              "        -0.01671774,  0.16938905, -0.02202032, -0.05023879, -0.11795642,\n",
              "         0.20335627, -0.1805405 , -0.13713492, -0.18408361,  0.06214859,\n",
              "        -0.04715226, -0.07665637, -0.21589567, -0.10526112,  0.25863475,\n",
              "        -0.0633115 ,  0.10632917,  0.14551847, -0.10939518, -0.07248525,\n",
              "         0.01787631, -0.03449588, -0.09143978, -0.02120806, -0.13707484,\n",
              "         0.20902278, -0.02153158,  0.0050325 , -0.14990568, -0.04132812,\n",
              "        -0.03004469,  0.04908453, -0.10829242, -0.0285756 ,  0.02773258,\n",
              "         0.0530064 , -0.19929662,  0.15865181, -0.10531052, -0.08116776,\n",
              "        -0.13661067, -0.03677159, -0.24704054,  0.09776594, -0.01276479,\n",
              "         0.25513187, -0.0583203 , -0.15128963,  0.16862783, -0.09628668,\n",
              "        -0.15005548, -0.10169601,  0.03256976, -0.1930887 ,  0.11204894,\n",
              "        -0.1667121 , -0.10370933, -0.08923987, -0.03752926,  0.20486163,\n",
              "        -0.05049139, -0.0693627 , -0.05690836, -0.13354248, -0.13760184,\n",
              "        -0.05581848, -0.07107908, -0.11990572, -0.18687643, -0.06099502,\n",
              "         0.09917624, -0.18972303, -0.2329452 , -0.07171382,  0.13258308,\n",
              "        -0.05208382,  0.06479379, -0.11986762, -0.078775  , -0.08004227,\n",
              "        -0.15880163,  0.0298182 ,  0.05596757,  0.05705634, -0.11256049,\n",
              "         0.05634454,  0.030852  ,  0.13953932, -0.22110635, -0.1418417 ,\n",
              "         0.15577121, -0.26684734,  0.03125287, -0.11117169, -0.1278617 ,\n",
              "        -0.06297297,  0.07107603,  0.13967468,  0.04026809, -0.01287108,\n",
              "        -0.1206162 , -0.0863952 ,  0.01898149, -0.02623324, -0.07800113,\n",
              "         0.0288509 , -0.09591521,  0.09341632, -0.1243415 , -0.05522607,\n",
              "        -0.12825885,  0.01601285, -0.09587163, -0.06598194, -0.1560937 ,\n",
              "        -0.10496543, -0.20166229, -0.03580055, -0.05437173,  0.07758542,\n",
              "         0.02611891,  0.10012598, -0.1971143 ,  0.04114079,  0.10775475,\n",
              "        -0.09271602, -0.16441077,  0.06619619, -0.03955884, -0.06880862,\n",
              "        -0.10430896, -0.05792539, -0.07482705, -0.03408623,  0.04817427,\n",
              "        -0.06425694, -0.10965489,  0.13508877,  0.08435585, -0.07744407,\n",
              "         0.18386313, -0.2684543 ,  0.13993846,  0.11060194,  0.07213353,\n",
              "        -0.10827437, -0.2183561 ,  0.07626143, -0.02909478, -0.03066057,\n",
              "        -0.08588805, -0.03714281, -0.02872116,  0.1327478 , -0.05855179,\n",
              "         0.00812558, -0.08716156, -0.13132678, -0.14849767, -0.18241924,\n",
              "        -0.12360007, -0.00678419,  0.14434405,  0.11982573, -0.01712742,\n",
              "         0.07854739, -0.15155564,  0.15335776,  0.01196561, -0.10541294,\n",
              "        -0.08444794,  0.13773184, -0.07488688, -0.12616935, -0.12036749,\n",
              "         0.00282307,  0.07922173, -0.18086773, -0.12900667, -0.10679723,\n",
              "        -0.08097541, -0.07088672, -0.05580969, -0.24272692, -0.01977903,\n",
              "        -0.1114729 ,  0.09538037,  0.20295769,  0.19138753, -0.13836388,\n",
              "        -0.23090209, -0.05975438,  0.17312026,  0.08661184,  0.00115821,\n",
              "         0.06040378, -0.20172928,  0.0809679 ,  0.00117215, -0.08063383,\n",
              "         0.06128956,  0.17401604, -0.04939851,  0.02904409, -0.16207676,\n",
              "         0.04578494, -0.18781558, -0.20765416, -0.05838227, -0.08634519,\n",
              "         0.07266344, -0.14838547, -0.19765303, -0.07997057,  0.03775337,\n",
              "        -0.18756962, -0.18195921,  0.16656496,  0.08677849, -0.02918313,\n",
              "         0.06937257, -0.03355221,  0.00560012,  0.01674255,  0.02270786,\n",
              "         0.15155357, -0.11026856, -0.02132658,  0.04469299, -0.22047524,\n",
              "        -0.06292479,  0.1890997 , -0.20083664, -0.14141357,  0.05937292,\n",
              "        -0.06872107,  0.21015316,  0.03118104,  0.0724541 ,  0.11408233,\n",
              "         0.05591326,  0.11082629,  0.0992668 ,  0.03998436, -0.02212063,\n",
              "         0.11237547,  0.11823424,  0.13095902, -0.10583144, -0.2757928 ,\n",
              "        -0.08116221,  0.10044049, -0.03660332,  0.0238124 ,  0.00470621,\n",
              "        -0.0399945 , -0.0660753 ,  0.04964458,  0.19541264,  0.18464345,\n",
              "         0.0942701 ,  0.0141601 ,  0.08878064,  0.1639409 , -0.14113128,\n",
              "         0.09311285,  0.2228492 ,  0.00620175,  0.10373314, -0.11681017,\n",
              "        -0.00572318,  0.15262215,  0.00614198, -0.0631757 ,  0.04868008,\n",
              "        -0.04992126, -0.18534964, -0.18325058,  0.09514298,  0.03474454,\n",
              "         0.02404734,  0.12073829, -0.06981827,  0.08185458, -0.12346763,\n",
              "        -0.05813554,  0.13788658, -0.0179075 , -0.16156904, -0.07241698,\n",
              "         0.0323603 ,  0.1608063 , -0.02224849, -0.03610694,  0.15739943,\n",
              "        -0.13349977, -0.19563478,  0.07825221, -0.29786313,  0.1187002 ,\n",
              "         0.12639129,  0.07724098, -0.09693295, -0.04339389,  0.0601257 ,\n",
              "        -0.10035036, -0.07282366, -0.01024692, -0.10167627,  0.02143228,\n",
              "        -0.2571146 , -0.18464732,  0.04249833, -0.03495309, -0.1065232 ,\n",
              "        -0.06427757, -0.14485501,  0.18312675,  0.07762458,  0.13673833,\n",
              "         0.01636677,  0.07524436,  0.15067095,  0.10015237, -0.17742498,\n",
              "         0.11513765, -0.08305433,  0.09380379, -0.05760856,  0.12503064,\n",
              "         0.0494305 ,  0.05514568,  0.17422307,  0.04159464, -0.06114484,\n",
              "         0.03905862,  0.08154923,  0.0047703 ,  0.21216771, -0.01519367,\n",
              "         0.03815844, -0.07705162,  0.29754123, -0.13437678, -0.14931563,\n",
              "         0.02137265,  0.02048553, -0.00739715, -0.04659683, -0.06305096,\n",
              "         0.01292583,  0.04669034, -0.00416646, -0.13699299,  0.09219138,\n",
              "         0.00626417, -0.08832768,  0.2219359 , -0.01722507, -0.05921492,\n",
              "        -0.09095427,  0.12498046,  0.2339203 ,  0.05666451, -0.07551932,\n",
              "         0.10588849,  0.0164941 ,  0.12894806, -0.11926184, -0.06920956,\n",
              "         0.0840828 ,  0.09564433, -0.05956362, -0.03369582, -0.18952154,\n",
              "        -0.04368576,  0.10150147, -0.17668828, -0.15603617,  0.00922815,\n",
              "        -0.06893   , -0.07798286, -0.18006022, -0.13344161,  0.04899358,\n",
              "         0.06920759,  0.21155679, -0.15214369, -0.2817445 , -0.24203078,\n",
              "        -0.00138283, -0.181929  , -0.15669921, -0.0559261 ,  0.05604805,\n",
              "         0.13053209,  0.01362883], dtype=float32)>,\n",
              " <tf.Variable 'dense_layer_3/kernel:0' shape=(512, 10) dtype=float32, numpy=\n",
              " array([[ 0.03422286,  0.07113048,  0.01089766, ..., -0.01712623,\n",
              "          0.09602906, -0.17090268],\n",
              "        [-0.0836208 ,  0.04247656, -0.0292906 , ..., -0.1829593 ,\n",
              "          0.10094668, -0.00329805],\n",
              "        [-0.12782809,  0.11845607,  0.10753975, ...,  0.1235631 ,\n",
              "         -0.00050077,  0.00683914],\n",
              "        ...,\n",
              "        [ 0.09997769, -0.07853955,  0.16763866, ...,  0.00761238,\n",
              "          0.09832043, -0.10922835],\n",
              "        [-0.10620407, -0.20099007, -0.0409915 , ..., -0.20544523,\n",
              "          0.08607675, -0.0741047 ],\n",
              "        [ 0.00232193, -0.08438283, -0.08653312, ...,  0.01628017,\n",
              "          0.05511404, -0.22421251]], dtype=float32)>,\n",
              " <tf.Variable 'dense_layer_3/bias:0' shape=(10,) dtype=float32, numpy=\n",
              " array([ 0.03913453, -0.09003889, -0.1475773 , -0.04134532, -0.04324084,\n",
              "        -0.10146125, -0.12269534, -0.16459262,  0.4073625 ,  0.11762962],\n",
              "       dtype=float32)>]"
            ]
          },
          "metadata": {},
          "execution_count": 62
        }
      ]
    },
    {
      "cell_type": "code",
      "metadata": {
        "id": "MnrRfeyJkQTS",
        "colab": {
          "base_uri": "https://localhost:8080/"
        },
        "outputId": "af51cf46-cb2e-41e6-9986-5c8de82daff5"
      },
      "source": [
        "model_4.get_config()"
      ],
      "execution_count": null,
      "outputs": [
        {
          "output_type": "execute_result",
          "data": {
            "text/plain": [
              "{'layers': [{'class_name': 'InputLayer',\n",
              "   'config': {'batch_input_shape': (None, 784),\n",
              "    'dtype': 'float32',\n",
              "    'name': 'dense_layer_input',\n",
              "    'ragged': False,\n",
              "    'sparse': False}},\n",
              "  {'class_name': 'Dense',\n",
              "   'config': {'activation': 'relu',\n",
              "    'activity_regularizer': None,\n",
              "    'batch_input_shape': (None, 784),\n",
              "    'bias_constraint': None,\n",
              "    'bias_initializer': {'class_name': 'Zeros', 'config': {}},\n",
              "    'bias_regularizer': None,\n",
              "    'dtype': 'float32',\n",
              "    'kernel_constraint': None,\n",
              "    'kernel_initializer': {'class_name': 'GlorotUniform',\n",
              "     'config': {'seed': None}},\n",
              "    'kernel_regularizer': None,\n",
              "    'name': 'dense_layer',\n",
              "    'trainable': True,\n",
              "    'units': 512,\n",
              "    'use_bias': True}},\n",
              "  {'class_name': 'Dropout',\n",
              "   'config': {'dtype': 'float32',\n",
              "    'name': 'dropout_4',\n",
              "    'noise_shape': None,\n",
              "    'rate': 0.3,\n",
              "    'seed': None,\n",
              "    'trainable': True}},\n",
              "  {'class_name': 'Dense',\n",
              "   'config': {'activation': 'relu',\n",
              "    'activity_regularizer': None,\n",
              "    'bias_constraint': None,\n",
              "    'bias_initializer': {'class_name': 'Zeros', 'config': {}},\n",
              "    'bias_regularizer': None,\n",
              "    'dtype': 'float32',\n",
              "    'kernel_constraint': None,\n",
              "    'kernel_initializer': {'class_name': 'GlorotUniform',\n",
              "     'config': {'seed': None}},\n",
              "    'kernel_regularizer': None,\n",
              "    'name': 'dense_layer_2',\n",
              "    'trainable': True,\n",
              "    'units': 512,\n",
              "    'use_bias': True}},\n",
              "  {'class_name': 'Dropout',\n",
              "   'config': {'dtype': 'float32',\n",
              "    'name': 'dropout_5',\n",
              "    'noise_shape': None,\n",
              "    'rate': 0.3,\n",
              "    'seed': None,\n",
              "    'trainable': True}},\n",
              "  {'class_name': 'Dense',\n",
              "   'config': {'activation': 'softmax',\n",
              "    'activity_regularizer': None,\n",
              "    'bias_constraint': None,\n",
              "    'bias_initializer': {'class_name': 'Zeros', 'config': {}},\n",
              "    'bias_regularizer': None,\n",
              "    'dtype': 'float32',\n",
              "    'kernel_constraint': None,\n",
              "    'kernel_initializer': {'class_name': 'GlorotUniform',\n",
              "     'config': {'seed': None}},\n",
              "    'kernel_regularizer': None,\n",
              "    'name': 'dense_layer_3',\n",
              "    'trainable': True,\n",
              "    'units': 10,\n",
              "    'use_bias': True}}],\n",
              " 'name': 'sequential_6'}"
            ]
          },
          "metadata": {},
          "execution_count": 63
        }
      ]
    },
    {
      "cell_type": "markdown",
      "metadata": {
        "id": "AFbx6XHI0KyQ"
      },
      "source": [
        "###Improved Model 5: Manipulating the batch size"
      ]
    },
    {
      "cell_type": "code",
      "metadata": {
        "id": "WPaQm2XY0KyV"
      },
      "source": [
        "#Most common type of model is a stack of layers\n",
        "model_5 = tf.keras.Sequential()\n",
        "N_hidden = 512\n",
        "# Adds a densely-connected layer with 64 units to the model:\n",
        "model_5.add(Dense(N_hidden, name='dense_layer', input_shape=(784,), activation = 'relu'))\n",
        "# Now the model will take as input arrays of shape (*, 784)# and output arrays of shape (*, 64)\n",
        "model_5.add(Dropout(0.3))\n",
        "# Adding another dense layer:\n",
        "model_5.add(Dense(N_hidden, name='dense_layer_2', activation='relu'))\n",
        "model_5.add(Dropout(0.3))\n",
        "# After the first layer, you don't need to specify\u000b# the size of the input anymore:\n",
        "# Add an output layer with 10 output units (10 different classes):\n",
        "model_5.add(Dense(10, name='dense_layer_3', activation = 'softmax'))\n"
      ],
      "execution_count": null,
      "outputs": []
    },
    {
      "cell_type": "code",
      "metadata": {
        "id": "UWFjgHFj0Kyg"
      },
      "source": [
        "# Compiling the model.\n",
        "model_5.compile(optimizer='Adam', \n",
        "              loss='categorical_crossentropy',\n",
        "              metrics=['accuracy'])"
      ],
      "execution_count": null,
      "outputs": []
    },
    {
      "cell_type": "code",
      "metadata": {
        "id": "opXV9TbQ0Kyl",
        "colab": {
          "base_uri": "https://localhost:8080/"
        },
        "outputId": "35e00de9-f4b4-48c7-d0ec-ba06eebd8bc3"
      },
      "source": [
        "# Training the model. \n",
        "training = model_5.fit(X_train, Y_train, batch_size=64, epochs=30, validation_split=0.2) \n"
      ],
      "execution_count": null,
      "outputs": [
        {
          "output_type": "stream",
          "name": "stdout",
          "text": [
            "Epoch 1/30\n",
            "750/750 [==============================] - 10s 13ms/step - loss: 0.2687 - accuracy: 0.9170 - val_loss: 0.1437 - val_accuracy: 0.9558\n",
            "Epoch 2/30\n",
            "750/750 [==============================] - 8s 11ms/step - loss: 0.1238 - accuracy: 0.9615 - val_loss: 0.0989 - val_accuracy: 0.9695\n",
            "Epoch 3/30\n",
            "750/750 [==============================] - 9s 11ms/step - loss: 0.0906 - accuracy: 0.9717 - val_loss: 0.0908 - val_accuracy: 0.9751\n",
            "Epoch 4/30\n",
            "750/750 [==============================] - 9s 12ms/step - loss: 0.0778 - accuracy: 0.9761 - val_loss: 0.0882 - val_accuracy: 0.9750\n",
            "Epoch 5/30\n",
            "750/750 [==============================] - 9s 11ms/step - loss: 0.0670 - accuracy: 0.9791 - val_loss: 0.0868 - val_accuracy: 0.9765\n",
            "Epoch 6/30\n",
            "750/750 [==============================] - 9s 11ms/step - loss: 0.0581 - accuracy: 0.9814 - val_loss: 0.0834 - val_accuracy: 0.9777\n",
            "Epoch 7/30\n",
            "750/750 [==============================] - 9s 12ms/step - loss: 0.0497 - accuracy: 0.9843 - val_loss: 0.0927 - val_accuracy: 0.9758\n",
            "Epoch 8/30\n",
            "750/750 [==============================] - 9s 12ms/step - loss: 0.0476 - accuracy: 0.9851 - val_loss: 0.0834 - val_accuracy: 0.9781\n",
            "Epoch 9/30\n",
            "750/750 [==============================] - 9s 11ms/step - loss: 0.0437 - accuracy: 0.9862 - val_loss: 0.0825 - val_accuracy: 0.9792\n",
            "Epoch 10/30\n",
            "750/750 [==============================] - 9s 12ms/step - loss: 0.0421 - accuracy: 0.9862 - val_loss: 0.0913 - val_accuracy: 0.9789\n",
            "Epoch 11/30\n",
            "750/750 [==============================] - 9s 12ms/step - loss: 0.0372 - accuracy: 0.9882 - val_loss: 0.0816 - val_accuracy: 0.9797\n",
            "Epoch 12/30\n",
            "750/750 [==============================] - 9s 12ms/step - loss: 0.0342 - accuracy: 0.9889 - val_loss: 0.0905 - val_accuracy: 0.9807\n",
            "Epoch 13/30\n",
            "750/750 [==============================] - 9s 12ms/step - loss: 0.0382 - accuracy: 0.9880 - val_loss: 0.0856 - val_accuracy: 0.9797\n",
            "Epoch 14/30\n",
            "750/750 [==============================] - 9s 12ms/step - loss: 0.0320 - accuracy: 0.9895 - val_loss: 0.0934 - val_accuracy: 0.9793\n",
            "Epoch 15/30\n",
            "750/750 [==============================] - 9s 11ms/step - loss: 0.0323 - accuracy: 0.9892 - val_loss: 0.0934 - val_accuracy: 0.9796\n",
            "Epoch 16/30\n",
            "750/750 [==============================] - 9s 11ms/step - loss: 0.0315 - accuracy: 0.9902 - val_loss: 0.0814 - val_accuracy: 0.9811\n",
            "Epoch 17/30\n",
            "750/750 [==============================] - 8s 11ms/step - loss: 0.0270 - accuracy: 0.9919 - val_loss: 0.0859 - val_accuracy: 0.9815\n",
            "Epoch 18/30\n",
            "750/750 [==============================] - 9s 12ms/step - loss: 0.0291 - accuracy: 0.9909 - val_loss: 0.0904 - val_accuracy: 0.9813\n",
            "Epoch 19/30\n",
            "750/750 [==============================] - 8s 11ms/step - loss: 0.0282 - accuracy: 0.9910 - val_loss: 0.1007 - val_accuracy: 0.9785\n",
            "Epoch 20/30\n",
            "750/750 [==============================] - 8s 11ms/step - loss: 0.0239 - accuracy: 0.9928 - val_loss: 0.0960 - val_accuracy: 0.9807\n",
            "Epoch 21/30\n",
            "750/750 [==============================] - 9s 12ms/step - loss: 0.0273 - accuracy: 0.9916 - val_loss: 0.1019 - val_accuracy: 0.9813\n",
            "Epoch 22/30\n",
            "750/750 [==============================] - 9s 12ms/step - loss: 0.0232 - accuracy: 0.9922 - val_loss: 0.1093 - val_accuracy: 0.9793\n",
            "Epoch 23/30\n",
            "750/750 [==============================] - 9s 12ms/step - loss: 0.0229 - accuracy: 0.9932 - val_loss: 0.1042 - val_accuracy: 0.9807\n",
            "Epoch 24/30\n",
            "750/750 [==============================] - 9s 11ms/step - loss: 0.0266 - accuracy: 0.9924 - val_loss: 0.1040 - val_accuracy: 0.9808\n",
            "Epoch 25/30\n",
            "750/750 [==============================] - 9s 12ms/step - loss: 0.0249 - accuracy: 0.9926 - val_loss: 0.1056 - val_accuracy: 0.9793\n",
            "Epoch 26/30\n",
            "750/750 [==============================] - 9s 12ms/step - loss: 0.0239 - accuracy: 0.9930 - val_loss: 0.1003 - val_accuracy: 0.9821\n",
            "Epoch 27/30\n",
            "750/750 [==============================] - 9s 12ms/step - loss: 0.0233 - accuracy: 0.9929 - val_loss: 0.1144 - val_accuracy: 0.9803\n",
            "Epoch 28/30\n",
            "750/750 [==============================] - 9s 11ms/step - loss: 0.0240 - accuracy: 0.9925 - val_loss: 0.1105 - val_accuracy: 0.9820\n",
            "Epoch 29/30\n",
            "750/750 [==============================] - 9s 12ms/step - loss: 0.0233 - accuracy: 0.9934 - val_loss: 0.0992 - val_accuracy: 0.9826\n",
            "Epoch 30/30\n",
            "750/750 [==============================] - 9s 12ms/step - loss: 0.0226 - accuracy: 0.9935 - val_loss: 0.0969 - val_accuracy: 0.9824\n"
          ]
        }
      ]
    },
    {
      "cell_type": "code",
      "metadata": {
        "id": "UHMf1HAskp9n",
        "colab": {
          "base_uri": "https://localhost:8080/",
          "height": 591
        },
        "outputId": "2681ee83-78ce-4de5-f6a3-35e5f841092c"
      },
      "source": [
        "import matplotlib.pyplot as plt\n",
        "%matplotlib inline\n",
        "# list all data in training\n",
        "print(training.history.keys())\n",
        "# summarize training for accuracy\n",
        "plt.plot(training.history['accuracy'])\n",
        "plt.plot(training.history['val_accuracy'])\n",
        "plt.title('model accuracy')\n",
        "plt.ylabel('accuracy')\n",
        "plt.xlabel('epoch')\n",
        "plt.legend(['train', 'test'], loc='upper left')\n",
        "plt.show()\n",
        "# summarize traning for loss\n",
        "plt.plot(training.history['loss'])\n",
        "plt.plot(training.history['val_loss'])\n",
        "plt.title('model loss')\n",
        "plt.ylabel('loss')\n",
        "plt.xlabel('epoch')\n",
        "plt.legend(['train', 'test'], loc='upper left')\n",
        "plt.show()"
      ],
      "execution_count": null,
      "outputs": [
        {
          "output_type": "stream",
          "name": "stdout",
          "text": [
            "dict_keys(['loss', 'accuracy', 'val_loss', 'val_accuracy'])\n"
          ]
        },
        {
          "output_type": "display_data",
          "data": {
            "image/png": "[encoded data removed]",
            "text/plain": [
              "<Figure size 432x288 with 1 Axes>"
            ]
          },
          "metadata": {
            "needs_background": "light"
          }
        },
        {
          "output_type": "display_data",
          "data": {
            "image/png": "[encoded data removed]",
            "text/plain": [
              "<Figure size 432x288 with 1 Axes>"
            ]
          },
          "metadata": {
            "needs_background": "light"
          }
        }
      ]
    },
    {
      "cell_type": "code",
      "metadata": {
        "id": "e4kmSKEn0Kyv",
        "colab": {
          "base_uri": "https://localhost:8080/"
        },
        "outputId": "e0dde917-adc1-49d7-fd29-550a9390d285"
      },
      "source": [
        "#evaluate the model\n",
        "test_loss, test_acc = model_5.evaluate(X_test, Y_test)\n",
        "print('Test accuracy:', test_acc)"
      ],
      "execution_count": null,
      "outputs": [
        {
          "output_type": "stream",
          "name": "stdout",
          "text": [
            "313/313 [==============================] - 1s 4ms/step - loss: 0.0851 - accuracy: 0.9842\n",
            "Test accuracy: 0.9842000007629395\n"
          ]
        }
      ]
    },
    {
      "cell_type": "code",
      "metadata": {
        "id": "LVr1ZMvnkp92",
        "colab": {
          "base_uri": "https://localhost:8080/"
        },
        "outputId": "5eb6ee09-d6ce-4da3-d37e-963bfd954f63"
      },
      "source": [
        "model_5.summary"
      ],
      "execution_count": null,
      "outputs": [
        {
          "output_type": "execute_result",
          "data": {
            "text/plain": [
              "<bound method Model.summary of <keras.engine.sequential.Sequential object at 0x7fe0603bd210>>"
            ]
          },
          "metadata": {},
          "execution_count": 69
        }
      ]
    },
    {
      "cell_type": "code",
      "metadata": {
        "id": "j76rvRmxkp-C",
        "colab": {
          "base_uri": "https://localhost:8080/"
        },
        "outputId": "be335773-0065-4d4e-b628-92ce94a45b3a"
      },
      "source": [
        "model_5.weights"
      ],
      "execution_count": null,
      "outputs": [
        {
          "output_type": "execute_result",
          "data": {
            "text/plain": [
              "[<tf.Variable 'dense_layer/kernel:0' shape=(784, 512) dtype=float32, numpy=\n",
              " array([[ 0.02224709,  0.03942628,  0.0046008 , ...,  0.0210328 ,\n",
              "          0.05804786,  0.01824287],\n",
              "        [ 0.02159729,  0.03427514,  0.00334824, ..., -0.03647591,\n",
              "          0.01969989,  0.02764522],\n",
              "        [ 0.05944514,  0.00874309,  0.00644622, ..., -0.05683674,\n",
              "         -0.02955864,  0.04708638],\n",
              "        ...,\n",
              "        [ 0.0452061 , -0.03609342,  0.06516749, ..., -0.06717803,\n",
              "         -0.0236091 ,  0.0368773 ],\n",
              "        [ 0.01145611, -0.0250757 , -0.03654446, ...,  0.04940595,\n",
              "         -0.06584809, -0.05322608],\n",
              "        [ 0.03957167, -0.02083637,  0.01210051, ...,  0.06541276,\n",
              "         -0.05927677,  0.04620696]], dtype=float32)>,\n",
              " <tf.Variable 'dense_layer/bias:0' shape=(512,) dtype=float32, numpy=\n",
              " array([-4.79048043e-02, -2.12225631e-01,  9.57486704e-02, -5.15793599e-02,\n",
              "        -3.55973542e-02, -4.64246385e-02, -5.38424635e-03,  2.73758695e-02,\n",
              "        -9.05140564e-02, -8.07208866e-02, -1.43903866e-01, -1.46439001e-01,\n",
              "        -6.94913641e-02, -1.31284356e-01, -5.01689538e-02, -2.20470130e-01,\n",
              "        -1.70611218e-02, -3.74851115e-02, -1.22447997e-01, -1.28726736e-02,\n",
              "         2.08006450e-03, -2.24700630e-01, -2.25023390e-03, -1.46510810e-01,\n",
              "         1.08161783e-02, -8.05118009e-02, -8.54927003e-02,  1.88313629e-02,\n",
              "         2.89701769e-04, -1.13635724e-02, -1.04004003e-01, -6.57024309e-02,\n",
              "         2.22646743e-02, -4.50409874e-02, -1.30927227e-02, -6.90200180e-02,\n",
              "         1.18146814e-01, -2.44642645e-02, -1.50286600e-01, -5.45142815e-02,\n",
              "         1.69490036e-02,  1.32432684e-01, -9.51618627e-02,  1.90496370e-02,\n",
              "        -3.04963207e-03, -9.48748961e-02,  9.59973335e-02,  4.17711698e-02,\n",
              "        -1.28429476e-03, -2.02815458e-02,  1.93067826e-02, -1.22329168e-01,\n",
              "        -4.48652282e-02, -1.29176080e-01, -4.00559902e-02, -7.54502714e-02,\n",
              "        -8.56863186e-02, -9.28273425e-02,  1.44786267e-02,  9.06086341e-02,\n",
              "         4.74759676e-02, -4.87952419e-02, -5.66300284e-03, -1.31040504e-02,\n",
              "         5.08126915e-02, -8.21022987e-02, -3.51708174e-01,  1.29381120e-02,\n",
              "        -2.35455334e-02, -1.76698804e-01, -2.53709376e-01, -1.34905472e-01,\n",
              "        -7.32503161e-02,  8.85965154e-02, -9.82952639e-02, -3.26521583e-02,\n",
              "        -9.82425287e-02, -7.51691386e-02, -1.71390101e-01, -2.32389104e-02,\n",
              "        -1.98838823e-02, -1.08054787e-01,  4.72328588e-02, -4.50221337e-02,\n",
              "         8.66531804e-02, -1.41473904e-01,  4.28963266e-02, -1.62254591e-02,\n",
              "         4.95998077e-02, -7.55876973e-02,  6.74099773e-02, -2.22046286e-01,\n",
              "        -8.29259157e-02, -7.08489772e-03, -4.18177545e-02, -8.37698653e-02,\n",
              "        -3.33884843e-02, -4.35127243e-02,  9.42721739e-02, -2.49550000e-01,\n",
              "        -1.06908455e-01,  4.16961946e-02,  7.87812918e-02,  9.29452702e-02,\n",
              "        -8.24213028e-03, -7.33033121e-02, -1.19281299e-01, -1.29697949e-01,\n",
              "        -8.93192813e-02, -1.12398967e-01, -1.83355033e-01,  8.44229572e-03,\n",
              "        -5.68290986e-02,  8.82872045e-02, -9.07423273e-02, -4.89407256e-02,\n",
              "        -8.72422233e-02, -5.24300374e-02, -1.03795499e-01,  1.02971829e-01,\n",
              "        -1.44293413e-01, -1.36912629e-01, -3.46163437e-02, -6.24491572e-02,\n",
              "        -4.89712432e-02,  2.78045759e-02,  2.36933343e-02, -1.01238690e-01,\n",
              "        -5.88570833e-02,  4.67858240e-02, -1.50496691e-01, -1.48815706e-01,\n",
              "        -1.05192147e-01, -7.13423593e-03, -1.74900845e-01, -3.60205695e-02,\n",
              "        -1.51856855e-01, -3.45860980e-02, -8.15366134e-02, -1.35577142e-01,\n",
              "        -4.73587587e-02, -5.45728877e-02, -1.12784222e-01, -1.62645623e-01,\n",
              "        -4.95029725e-02, -7.60043561e-02, -5.08614555e-02, -1.66184723e-01,\n",
              "        -7.18724541e-03, -2.62028258e-02, -1.67411678e-02,  1.00395456e-02,\n",
              "        -1.58255026e-01, -5.55962734e-02, -5.99411689e-02, -1.25379816e-01,\n",
              "        -1.87630113e-02, -8.32276493e-02, -8.56677443e-02, -7.21277446e-02,\n",
              "         8.68371502e-02, -1.10343978e-01, -6.68128133e-02, -1.38054788e-01,\n",
              "        -1.25756159e-01,  5.95905120e-03, -3.37682739e-02, -1.27040252e-01,\n",
              "         5.66316843e-02,  5.75340679e-03, -1.65133357e-01, -1.58917829e-02,\n",
              "        -2.44551618e-02,  1.92194566e-01, -9.77380760e-03, -1.55161694e-01,\n",
              "        -1.49822757e-01, -3.79895307e-02, -2.63489068e-01,  7.34879151e-02,\n",
              "        -6.48916662e-02, -1.38622627e-01,  5.83702289e-02,  5.97128794e-02,\n",
              "        -1.08715400e-01,  1.85663067e-02, -9.52930674e-02, -2.83357706e-02,\n",
              "        -7.54296929e-02, -1.59811690e-01,  9.79668200e-02, -1.58726990e-01,\n",
              "        -6.54891059e-02, -5.02720326e-02,  8.70207250e-02, -4.58161831e-02,\n",
              "        -2.54302900e-02, -1.31512992e-02, -7.00862752e-03,  1.16517387e-01,\n",
              "        -4.32502814e-02,  1.03496082e-01, -2.04889327e-01, -1.30141094e-01,\n",
              "         1.13364175e-01, -1.13663815e-01, -1.58960354e-02, -3.33097130e-02,\n",
              "        -4.65156734e-02,  2.08548177e-02, -9.26274359e-02, -3.91650423e-02,\n",
              "        -1.47996079e-02, -7.75947527e-04, -7.52532706e-02,  2.23182589e-02,\n",
              "        -1.11464290e-02,  5.44162914e-02,  7.65380263e-02, -2.83081867e-02,\n",
              "        -8.07228312e-02, -2.20091015e-01, -4.90535935e-03, -5.79884797e-02,\n",
              "        -3.35002691e-02, -5.27464189e-02,  9.48122591e-02,  5.62006682e-02,\n",
              "        -9.35811028e-02, -5.73245324e-02, -9.79107097e-02, -3.27476598e-02,\n",
              "        -5.12522571e-02,  2.64454354e-02, -7.00258687e-02, -4.64987308e-02,\n",
              "         1.27827451e-02, -1.25003800e-01, -5.65863438e-02, -1.29413113e-01,\n",
              "         1.95045602e-02, -1.08718604e-01, -4.66775224e-02, -1.25078708e-02,\n",
              "         3.48333456e-02, -8.58883932e-02,  9.85852480e-02, -1.26159504e-01,\n",
              "         1.01544566e-01,  1.05082467e-01, -5.50976880e-02, -1.11374848e-01,\n",
              "        -8.78887326e-02,  3.59966904e-02,  4.87793833e-02, -1.71152726e-01,\n",
              "        -8.13169628e-02, -9.85503420e-02, -1.63879842e-02,  6.00774065e-02,\n",
              "        -1.09527633e-01, -2.94477083e-02, -2.11879045e-01,  1.90387424e-02,\n",
              "        -4.14174572e-02, -1.62293658e-01, -1.21808484e-01,  3.82801481e-02,\n",
              "         2.12010611e-02, -2.75305263e-03, -4.74754758e-02, -8.35043788e-02,\n",
              "        -4.59716767e-02,  3.08192801e-02, -9.48318914e-02, -1.00321330e-01,\n",
              "         3.52591771e-04, -7.30405226e-02, -7.04974458e-02,  4.49643768e-02,\n",
              "        -1.91815257e-01,  4.94446885e-03, -6.76724538e-02, -6.83474466e-02,\n",
              "        -5.33852912e-02, -6.93980530e-02,  5.70263006e-02,  3.71002331e-02,\n",
              "        -4.52574119e-02, -1.13137968e-01, -2.13160682e-02, -3.04688178e-02,\n",
              "        -1.22197703e-01,  1.73458923e-02, -3.08692493e-02, -1.44018635e-01,\n",
              "         1.91225912e-02,  5.71313575e-02, -1.47953387e-02, -1.19076811e-01,\n",
              "         5.90883829e-02,  7.06097558e-02,  1.11616822e-02, -2.73952261e-02,\n",
              "        -5.07977121e-02, -7.18761608e-02,  5.83180971e-02,  1.71658315e-03,\n",
              "        -2.57732924e-02, -3.22434381e-02, -7.06324503e-02,  7.53344297e-02,\n",
              "        -1.45186543e-01, -1.61616415e-01, -5.46744466e-02, -9.66529623e-02,\n",
              "        -9.28039029e-02, -4.66811359e-02, -1.34439871e-01, -2.96354271e-03,\n",
              "        -2.47282181e-02, -1.30823860e-02, -1.07262433e-02, -2.21137673e-01,\n",
              "        -7.15844333e-02, -8.80874842e-02,  1.60435941e-02,  1.39639238e-02,\n",
              "        -1.89773664e-01, -4.85239886e-02, -1.28601687e-02, -1.24555137e-02,\n",
              "        -1.05580933e-01,  9.80256777e-03,  9.79836732e-02,  4.67819311e-02,\n",
              "        -6.80119544e-02,  4.53767702e-02, -7.43729696e-02, -7.60074109e-02,\n",
              "         1.38396963e-01, -1.87513426e-01, -4.25416455e-02,  1.82280950e-02,\n",
              "        -2.25873161e-02, -1.76821828e-01,  1.27089256e-02, -7.07798824e-02,\n",
              "        -1.58365622e-01, -9.70180482e-02, -2.23824680e-02, -2.99587511e-02,\n",
              "        -1.02417238e-01, -6.04605600e-02,  1.15958855e-01, -1.42746538e-01,\n",
              "         9.66259390e-02,  1.42163351e-01, -5.75384907e-02, -4.75168526e-02,\n",
              "        -1.04446754e-01, -7.56734759e-02, -1.46959931e-01, -1.39652833e-01,\n",
              "        -1.00604557e-01, -1.42805085e-01, -1.28832147e-01, -4.81070653e-02,\n",
              "        -5.53924777e-02, -6.71692565e-02, -9.44165215e-02,  5.99285848e-02,\n",
              "        -6.73158020e-02, -8.74460414e-02, -4.44596596e-02,  5.93325794e-02,\n",
              "        -6.68240786e-02,  8.86210427e-02, -1.34625703e-01, -1.52044207e-01,\n",
              "        -4.50556241e-02, -2.50931829e-01,  1.57816410e-01, -1.02976389e-01,\n",
              "        -3.36027034e-02, -7.87325352e-02, -8.67903903e-02, -3.50324959e-02,\n",
              "        -2.10523114e-01,  1.77375272e-01, -2.14265868e-01, -9.48424786e-02,\n",
              "        -1.74136594e-01,  1.73437789e-01, -5.16871065e-02, -6.36382326e-02,\n",
              "        -4.31779912e-03, -4.73164730e-02, -1.18579060e-01, -7.82355443e-02,\n",
              "        -1.18593574e-01, -4.95695584e-02,  1.10840082e-01,  4.64969641e-03,\n",
              "        -5.91249801e-02,  2.96252202e-02, -1.33455545e-02, -6.73086122e-02,\n",
              "        -9.25102755e-02, -1.39460132e-01,  1.48086278e-02, -1.21933810e-01,\n",
              "        -1.47995755e-01,  7.27592856e-02,  1.64220762e-02, -1.14360429e-01,\n",
              "        -1.17089652e-01, -4.58346307e-02, -4.17853110e-02, -3.50593887e-02,\n",
              "        -6.19243048e-02, -4.55339551e-02,  1.17439836e-01, -1.15655333e-01,\n",
              "        -9.87366512e-02,  3.27464864e-02,  5.09609655e-02,  6.88373204e-03,\n",
              "        -1.05612174e-01, -1.14997692e-01, -6.71393378e-03, -5.88135868e-02,\n",
              "         4.45222808e-03,  1.13563776e-01, -3.77718620e-02, -9.86196697e-02,\n",
              "        -1.35710880e-01, -1.91100657e-01,  2.15197112e-02, -3.65425795e-02,\n",
              "        -9.09420028e-02,  2.24002022e-02, -9.24589559e-02, -4.10608575e-02,\n",
              "        -6.25980124e-02, -3.89458723e-02,  8.86383280e-03, -1.21023968e-01,\n",
              "         1.58106871e-02, -1.75682217e-01, -7.58031458e-02, -3.93332541e-02,\n",
              "         9.42746177e-03, -7.32485354e-02, -6.38317987e-02, -1.21840335e-01,\n",
              "        -2.02659041e-01,  1.01982406e-03, -3.11806034e-02, -1.07511282e-01,\n",
              "        -7.73785785e-02, -7.08550662e-02, -2.25858558e-02, -7.71072432e-02,\n",
              "        -4.73843664e-02, -9.09202546e-02, -1.47447497e-01, -5.57072312e-02,\n",
              "        -9.98367220e-02,  7.13717937e-02, -6.65960088e-02, -5.80082834e-02,\n",
              "        -1.03433698e-01, -5.91337197e-02, -9.10794139e-02, -5.07062487e-02,\n",
              "        -1.17489353e-01, -3.31855640e-02, -1.72964916e-01, -9.38246846e-02,\n",
              "         6.17658496e-02, -9.06972736e-02, -2.26616770e-01, -3.10471039e-02,\n",
              "        -1.44356802e-01,  6.36301488e-02, -1.22239716e-01,  2.26567760e-02,\n",
              "        -7.93237314e-02, -1.68246076e-01, -1.80562034e-01, -1.76267046e-03,\n",
              "         4.44427580e-02,  1.56395510e-02, -1.62931338e-01,  2.34441925e-02,\n",
              "         3.74647938e-02,  1.12029696e-02,  2.77854875e-02, -1.78882569e-01,\n",
              "        -1.66075185e-01, -3.73459123e-02, -1.46769313e-02,  3.25915776e-03,\n",
              "         4.02523726e-02, -5.81784174e-03, -5.82788177e-02, -1.12169897e-02,\n",
              "        -7.87052810e-02, -1.05174720e-01, -7.60698020e-02, -5.29945567e-02],\n",
              "       dtype=float32)>,\n",
              " <tf.Variable 'dense_layer_2/kernel:0' shape=(512, 512) dtype=float32, numpy=\n",
              " array([[ 0.00082784,  0.07209241,  0.20830676, ...,  0.04326542,\n",
              "         -0.06159432, -0.29882637],\n",
              "        [-0.1233004 , -0.08530378, -0.13999808, ..., -0.00869422,\n",
              "         -0.16988964,  0.06078794],\n",
              "        [-0.11544097, -0.05923339, -0.05674542, ...,  0.13581549,\n",
              "         -0.29796854,  0.06208314],\n",
              "        ...,\n",
              "        [ 0.09783915,  0.05982399, -0.1553231 , ..., -0.29768586,\n",
              "          0.1740102 , -0.0020068 ],\n",
              "        [-0.05931952, -0.07845969, -0.18097122, ...,  0.05458069,\n",
              "         -0.00339194, -0.08004846],\n",
              "        [-0.06637195,  0.08314592, -0.16367406, ...,  0.14550127,\n",
              "         -0.1874197 , -0.08240885]], dtype=float32)>,\n",
              " <tf.Variable 'dense_layer_2/bias:0' shape=(512,) dtype=float32, numpy=\n",
              " array([-1.82825223e-01, -2.17661902e-01, -3.44768375e-01,  9.69108045e-02,\n",
              "        -1.55251667e-01, -1.16277732e-01, -4.03420664e-02, -1.12586275e-01,\n",
              "        -5.24680465e-02, -3.28182548e-01,  7.16473833e-02, -1.50381625e-01,\n",
              "         8.57798755e-02, -1.08508533e-03,  1.04607575e-01, -1.88507199e-01,\n",
              "        -3.12438399e-01, -3.24046500e-02, -1.21074311e-01, -5.03058374e-01,\n",
              "        -2.50613838e-01, -3.28663617e-01,  1.17211215e-01, -9.20098349e-02,\n",
              "        -4.27413911e-01, -8.40496505e-04, -2.53595144e-01,  1.86592061e-02,\n",
              "        -3.48613292e-01,  1.34769792e-03, -3.09571534e-01, -2.41559833e-01,\n",
              "         4.04784158e-02, -8.32767934e-02, -1.62103921e-01, -2.00880706e-01,\n",
              "        -1.10537805e-01, -1.91915974e-01, -3.08620065e-01,  1.37179103e-02,\n",
              "         2.63066500e-01, -2.60168463e-01,  9.44467708e-02, -3.01310092e-01,\n",
              "        -1.89602122e-01,  3.93275589e-01,  3.86323571e-01, -2.94501245e-01,\n",
              "        -2.96239227e-01, -5.21673299e-02,  1.14906818e-01, -2.68320739e-01,\n",
              "        -5.82349375e-02,  2.09336191e-01, -1.89437076e-01, -9.15498361e-02,\n",
              "        -3.01871657e-01, -3.15502852e-01,  1.14122704e-01, -4.17417854e-01,\n",
              "        -1.24089658e-01, -1.74055342e-02,  9.40921679e-02, -1.65732920e-01,\n",
              "        -2.15210468e-01,  1.90770179e-01,  9.15791560e-03, -1.47311345e-01,\n",
              "        -2.09495261e-01, -1.45486966e-01, -9.27804708e-02, -1.57944143e-01,\n",
              "         1.19870529e-01, -1.01352513e-01, -1.43027633e-01, -3.62079926e-02,\n",
              "         5.91054671e-02, -1.24351077e-01,  7.52466321e-02, -2.63563931e-01,\n",
              "        -2.72848487e-01,  6.09847531e-02,  2.57435050e-02, -2.16159999e-01,\n",
              "        -1.31820977e-01, -1.64702032e-02,  2.42555682e-02, -4.67168055e-02,\n",
              "        -1.97646797e-01, -8.50797296e-02, -7.44579807e-02,  1.74473599e-01,\n",
              "         3.55344862e-02,  1.37536656e-04, -1.04011625e-01, -1.25496835e-01,\n",
              "         1.89971358e-01, -1.14348836e-01,  3.07637870e-01,  9.96859968e-02,\n",
              "        -1.76180661e-01,  1.26774207e-01, -5.91091299e-03, -2.47752786e-01,\n",
              "        -1.38401076e-01, -1.49691135e-01, -6.50470424e-03, -1.15271635e-01,\n",
              "         1.73474513e-02,  1.27747342e-01, -2.01262444e-01, -7.77498707e-02,\n",
              "        -1.54966652e-01, -1.85544565e-01,  1.58236951e-01,  2.31056824e-01,\n",
              "        -1.17205992e-01,  2.64154356e-02, -1.10002346e-01, -4.16825451e-02,\n",
              "        -1.07051864e-01, -1.92291498e-01, -6.04992658e-02, -2.61210561e-01,\n",
              "         1.38067603e-01, -1.56716332e-01,  5.75672463e-02,  2.74597704e-01,\n",
              "        -1.67674899e-01,  1.58930644e-01, -4.53853570e-02,  3.61889787e-02,\n",
              "        -2.05666959e-01, -3.27343971e-01,  2.56803725e-02, -1.86664939e-01,\n",
              "        -1.91299468e-01, -1.09939098e-01, -1.20043769e-01, -2.92856902e-01,\n",
              "        -4.91689378e-03, -3.11522514e-01, -9.81028751e-02, -4.55814272e-01,\n",
              "        -1.84506550e-01, -2.20729813e-01,  2.54644871e-01, -8.02926049e-02,\n",
              "        -7.40771964e-02, -1.73691571e-01, -2.09251955e-01, -1.34045929e-01,\n",
              "        -1.99182667e-02, -1.64962977e-01, -2.03778803e-01, -1.69690087e-01,\n",
              "         3.03710282e-01, -1.43657029e-01, -2.62460321e-01, -1.31055098e-02,\n",
              "         1.38086408e-01, -2.08866939e-01,  1.37204118e-02, -1.68773875e-01,\n",
              "        -2.14874253e-01, -1.34240791e-01, -1.58656672e-01, -3.76052735e-03,\n",
              "         4.29937709e-03, -1.51393965e-01, -8.44772309e-02, -2.49550954e-01,\n",
              "        -2.34381229e-01,  2.61031151e-01, -1.55553386e-01,  1.17603749e-01,\n",
              "        -1.46262586e-01, -1.13660544e-01, -2.19810233e-02, -3.37417066e-01,\n",
              "        -1.45565420e-01, -3.16728979e-01, -3.32449168e-01, -2.96956271e-01,\n",
              "        -1.68881789e-01, -3.05408482e-02, -1.67863606e-03,  8.12121853e-02,\n",
              "        -1.86382040e-01,  1.33574724e-01, -2.60946840e-01,  7.27471858e-02,\n",
              "        -1.41840586e-02, -3.97915930e-01, -5.18266074e-02, -2.54837364e-01,\n",
              "        -2.26013780e-01, -5.30957654e-02, -2.41121337e-01, -6.00128472e-02,\n",
              "        -1.25042185e-01,  6.50522411e-02, -1.35641336e-01, -2.83670247e-01,\n",
              "         7.69392699e-02, -1.73035741e-01, -4.03992832e-01, -7.03777894e-02,\n",
              "        -3.53820384e-01, -9.82873216e-02, -1.66522831e-01, -9.87963155e-02,\n",
              "        -1.63643777e-01,  1.16917051e-01, -1.78217053e-01, -1.10863328e-01,\n",
              "        -1.57669932e-01,  1.79070644e-02,  1.11491092e-01,  7.65776262e-02,\n",
              "        -7.98871368e-02,  2.11088229e-02, -7.81469792e-02,  3.70374113e-01,\n",
              "        -3.05578709e-01, -2.14558154e-01, -1.87613368e-01,  1.93160683e-01,\n",
              "        -1.29206717e-01,  1.46050975e-01, -2.26853728e-01, -1.59710497e-01,\n",
              "         2.03252986e-01, -2.99055606e-01, -2.10136279e-01, -1.55623227e-01,\n",
              "        -1.79665118e-01,  2.05499083e-01,  2.45501414e-01,  1.18769228e-01,\n",
              "         1.29840402e-02, -1.87786952e-01, -9.98873040e-02, -4.17400189e-02,\n",
              "        -2.00760111e-01,  5.22994883e-02,  1.88674912e-01, -3.24907809e-01,\n",
              "        -3.20877284e-01,  2.07641736e-01, -5.13969958e-02,  2.99583916e-02,\n",
              "         2.08132174e-02,  4.51032184e-02, -3.12552303e-01,  1.95236906e-01,\n",
              "        -1.45054057e-01, -1.77736804e-01,  1.91317275e-01, -2.14887053e-01,\n",
              "        -9.60058197e-02, -3.53757113e-01, -4.06273790e-02,  2.01788828e-01,\n",
              "         4.04441655e-02, -3.64786834e-01, -2.68967194e-03, -2.96899229e-02,\n",
              "        -1.26927868e-01, -1.77431658e-01, -2.86087301e-02,  6.56683519e-02,\n",
              "         1.08139686e-01, -3.49313647e-01, -2.02001873e-02, -2.30307087e-01,\n",
              "        -2.78113812e-01, -7.73974583e-02, -1.16518922e-02, -1.37242824e-01,\n",
              "        -3.85123968e-01,  2.80764420e-02, -1.62172362e-01, -3.49260032e-01,\n",
              "        -4.01679307e-01, -2.55266309e-01,  7.14032799e-02,  6.04318343e-02,\n",
              "        -2.12702051e-01, -8.16492662e-02, -1.16926514e-01, -3.95476297e-02,\n",
              "        -2.01404855e-01, -2.95768589e-01, -2.15084031e-02, -3.20243314e-02,\n",
              "        -1.63318142e-01,  1.16748556e-01,  1.33622855e-01,  4.87210192e-02,\n",
              "        -8.25669169e-02,  1.45220163e-03,  1.17783330e-01,  1.18185930e-01,\n",
              "        -3.23593438e-01, -3.26183945e-01,  3.40804085e-02, -1.73141047e-01,\n",
              "        -7.32792635e-03, -1.13796413e-01, -3.60554129e-01, -1.64974049e-01,\n",
              "        -2.19852403e-01,  6.19125273e-03,  8.87323320e-02, -4.82665747e-01,\n",
              "        -1.91687763e-01, -1.38945907e-01,  1.82884991e-01,  1.59106776e-01,\n",
              "        -3.16831440e-01,  6.35343492e-02, -2.32073352e-01, -2.47685373e-01,\n",
              "        -3.90973948e-02, -6.54669479e-02, -9.55137238e-02,  2.53420234e-01,\n",
              "        -1.57276496e-01, -8.56092498e-02,  1.82806283e-01, -2.38782793e-01,\n",
              "        -1.13474898e-01, -1.72704682e-01, -4.67163548e-02,  9.11016669e-03,\n",
              "        -3.04659635e-01, -2.19032153e-01,  3.18173796e-01,  1.14983181e-02,\n",
              "        -1.25250518e-01, -1.31923016e-02,  2.35608127e-03, -9.61613730e-02,\n",
              "         2.17035189e-01, -2.00156182e-01, -2.91367322e-01, -8.58323202e-02,\n",
              "        -1.63963884e-02, -1.74025968e-01, -4.67866324e-02,  5.22349998e-02,\n",
              "        -1.23737380e-01, -1.03006080e-01,  7.31073767e-02, -1.28934262e-02,\n",
              "        -2.45741606e-01,  2.09404454e-01, -1.25684768e-01, -3.65775764e-01,\n",
              "        -1.72926664e-01,  1.76851436e-01, -2.30978042e-01, -2.89162129e-01,\n",
              "         1.70593057e-02, -1.23221911e-01,  1.31185532e-01, -3.31576288e-01,\n",
              "         2.79182568e-02, -2.62693048e-01, -1.80775091e-01, -1.85016096e-02,\n",
              "        -2.25479931e-01, -2.97666311e-01, -3.09271485e-01, -6.60734922e-02,\n",
              "        -7.99472183e-02, -1.58277676e-01,  4.87480760e-02, -2.96692848e-01,\n",
              "         1.06113181e-01,  2.31068712e-02, -1.18727215e-01, -7.86907896e-02,\n",
              "         5.60083054e-02,  1.27255455e-01, -1.41556934e-01,  1.95137829e-01,\n",
              "         3.05850487e-02, -2.73585558e-01, -1.93556800e-01, -6.65028542e-02,\n",
              "        -3.54694813e-01, -2.81109959e-01,  4.31900434e-02, -2.17260852e-01,\n",
              "        -5.12208156e-02, -1.45431474e-01, -6.33490086e-02,  8.54270756e-02,\n",
              "        -2.08419472e-01,  1.91502333e-01, -9.84146968e-02,  2.13396549e-01,\n",
              "        -2.82606870e-01, -2.37616271e-01, -2.03266934e-01, -2.04336897e-01,\n",
              "         3.63479890e-02,  9.93035510e-02,  3.48956254e-03, -4.00831401e-02,\n",
              "        -3.35638046e-01,  5.84434457e-02, -5.93415387e-02, -2.63354272e-01,\n",
              "        -1.94819227e-01, -2.22158313e-01,  4.64501865e-02, -1.19830571e-01,\n",
              "         1.49403855e-01, -8.29065070e-02,  1.43488020e-01, -9.02777538e-02,\n",
              "        -7.52459243e-02, -9.02715176e-02, -1.43404067e-01, -1.63920358e-01,\n",
              "         1.40080985e-03,  1.09665073e-01, -1.26604587e-01, -1.61414370e-02,\n",
              "        -2.96108246e-01, -2.40569375e-03,  2.10826293e-01,  1.41447913e-02,\n",
              "         1.39373422e-01,  5.91738091e-04, -2.41518557e-01, -3.24099958e-01,\n",
              "         4.15912680e-02, -2.43361637e-01,  5.81283420e-02,  2.22390845e-01,\n",
              "        -1.52245164e-02,  1.64151862e-02, -2.36397341e-01, -9.92110372e-02,\n",
              "        -3.17990780e-01, -2.31667951e-01, -3.00713889e-02, -1.58775732e-01,\n",
              "        -2.71087945e-01, -1.50937900e-01, -4.49312925e-02,  1.59703083e-02,\n",
              "        -1.15688488e-01, -4.23077226e-01, -3.19830388e-01, -1.84688881e-01,\n",
              "         1.22756273e-01, -2.08762046e-02,  1.02546640e-01,  7.17973858e-02,\n",
              "        -2.57524718e-02, -1.63541213e-01,  5.21330275e-02, -8.69268179e-02,\n",
              "        -3.07319134e-01, -1.68510959e-01, -1.85764670e-01, -2.61480093e-01,\n",
              "        -2.83767551e-01, -2.18584955e-01, -2.55199909e-01,  1.93097815e-01,\n",
              "        -2.19677761e-01,  8.33102167e-02, -1.34752318e-01, -1.64960369e-01,\n",
              "        -1.73505977e-01,  5.04110344e-02, -1.46821350e-01, -1.04182571e-01,\n",
              "        -3.46231014e-02, -4.32320498e-02, -1.15723990e-01, -2.60276616e-01,\n",
              "         2.93537751e-02, -5.92099987e-02,  8.76888409e-02, -2.61721388e-02,\n",
              "        -1.24699920e-01,  1.34163663e-01, -3.33163232e-01, -3.65828574e-02,\n",
              "        -2.69532353e-01, -1.23550154e-01,  6.65919185e-02,  1.15520075e-01,\n",
              "        -1.17253870e-01, -1.85879663e-01,  2.74033815e-01, -1.57530122e-02,\n",
              "        -1.97966725e-01, -4.69577201e-02, -1.85205102e-01, -1.99470446e-01,\n",
              "        -1.38670430e-01, -9.97423381e-02, -9.84682590e-02, -1.54012470e-02],\n",
              "       dtype=float32)>,\n",
              " <tf.Variable 'dense_layer_3/kernel:0' shape=(512, 10) dtype=float32, numpy=\n",
              " array([[ 0.0187496 ,  0.05659175,  0.03454456, ..., -0.16023548,\n",
              "         -0.16532308,  0.04201598],\n",
              "        [ 0.15702905, -0.02477257,  0.08745979, ..., -0.04614889,\n",
              "         -0.1231383 , -0.1253172 ],\n",
              "        [-0.06915168,  0.1104627 ,  0.12347738, ...,  0.11288448,\n",
              "         -0.1124816 , -0.18751287],\n",
              "        ...,\n",
              "        [ 0.05712514, -0.12534566,  0.06563896, ..., -0.27468345,\n",
              "         -0.19397198,  0.09930442],\n",
              "        [-0.2189665 , -0.14032757,  0.1772822 , ...,  0.13787667,\n",
              "          0.12145863,  0.10219797],\n",
              "        [ 0.03869821, -0.10013067,  0.13626117, ...,  0.05142921,\n",
              "          0.04999857, -0.13372119]], dtype=float32)>,\n",
              " <tf.Variable 'dense_layer_3/bias:0' shape=(10,) dtype=float32, numpy=\n",
              " array([ 0.07116552, -0.1559947 , -0.20665881, -0.04205292, -0.08021855,\n",
              "        -0.14163643, -0.17148058, -0.21114616,  0.6058611 ,  0.11157455],\n",
              "       dtype=float32)>]"
            ]
          },
          "metadata": {},
          "execution_count": 70
        }
      ]
    },
    {
      "cell_type": "code",
      "metadata": {
        "id": "0cV3gfkLkp-M",
        "colab": {
          "base_uri": "https://localhost:8080/"
        },
        "outputId": "db3e461f-e9e6-4f8a-cbbd-c235cb0fcd4d"
      },
      "source": [
        "model_5.get_config()"
      ],
      "execution_count": null,
      "outputs": [
        {
          "output_type": "execute_result",
          "data": {
            "text/plain": [
              "{'layers': [{'class_name': 'InputLayer',\n",
              "   'config': {'batch_input_shape': (None, 784),\n",
              "    'dtype': 'float32',\n",
              "    'name': 'dense_layer_input',\n",
              "    'ragged': False,\n",
              "    'sparse': False}},\n",
              "  {'class_name': 'Dense',\n",
              "   'config': {'activation': 'relu',\n",
              "    'activity_regularizer': None,\n",
              "    'batch_input_shape': (None, 784),\n",
              "    'bias_constraint': None,\n",
              "    'bias_initializer': {'class_name': 'Zeros', 'config': {}},\n",
              "    'bias_regularizer': None,\n",
              "    'dtype': 'float32',\n",
              "    'kernel_constraint': None,\n",
              "    'kernel_initializer': {'class_name': 'GlorotUniform',\n",
              "     'config': {'seed': None}},\n",
              "    'kernel_regularizer': None,\n",
              "    'name': 'dense_layer',\n",
              "    'trainable': True,\n",
              "    'units': 512,\n",
              "    'use_bias': True}},\n",
              "  {'class_name': 'Dropout',\n",
              "   'config': {'dtype': 'float32',\n",
              "    'name': 'dropout_6',\n",
              "    'noise_shape': None,\n",
              "    'rate': 0.3,\n",
              "    'seed': None,\n",
              "    'trainable': True}},\n",
              "  {'class_name': 'Dense',\n",
              "   'config': {'activation': 'relu',\n",
              "    'activity_regularizer': None,\n",
              "    'bias_constraint': None,\n",
              "    'bias_initializer': {'class_name': 'Zeros', 'config': {}},\n",
              "    'bias_regularizer': None,\n",
              "    'dtype': 'float32',\n",
              "    'kernel_constraint': None,\n",
              "    'kernel_initializer': {'class_name': 'GlorotUniform',\n",
              "     'config': {'seed': None}},\n",
              "    'kernel_regularizer': None,\n",
              "    'name': 'dense_layer_2',\n",
              "    'trainable': True,\n",
              "    'units': 512,\n",
              "    'use_bias': True}},\n",
              "  {'class_name': 'Dropout',\n",
              "   'config': {'dtype': 'float32',\n",
              "    'name': 'dropout_7',\n",
              "    'noise_shape': None,\n",
              "    'rate': 0.3,\n",
              "    'seed': None,\n",
              "    'trainable': True}},\n",
              "  {'class_name': 'Dense',\n",
              "   'config': {'activation': 'softmax',\n",
              "    'activity_regularizer': None,\n",
              "    'bias_constraint': None,\n",
              "    'bias_initializer': {'class_name': 'Zeros', 'config': {}},\n",
              "    'bias_regularizer': None,\n",
              "    'dtype': 'float32',\n",
              "    'kernel_constraint': None,\n",
              "    'kernel_initializer': {'class_name': 'GlorotUniform',\n",
              "     'config': {'seed': None}},\n",
              "    'kernel_regularizer': None,\n",
              "    'name': 'dense_layer_3',\n",
              "    'trainable': True,\n",
              "    'units': 10,\n",
              "    'use_bias': True}}],\n",
              " 'name': 'sequential_7'}"
            ]
          },
          "metadata": {},
          "execution_count": 71
        }
      ]
    },
    {
      "cell_type": "markdown",
      "metadata": {
        "id": "jX8DXi1jiFYS"
      },
      "source": [
        "###Improved Model 6: Adding Another Hidden Layer to the Model"
      ]
    },
    {
      "cell_type": "code",
      "metadata": {
        "id": "5Ad_vKSRiNq0"
      },
      "source": [
        "import tensorflow as tf\n",
        "\n",
        "#In Keras, layers are assembled to build models \n",
        "from tensorflow.keras.layers import Dense\n",
        "from tensorflow.keras.layers import Dropout\n",
        "\n",
        "#Most common type of model is a stack of layers\n",
        "model_6 = tf.keras.Sequential()\n",
        "N_hidden = 512\n",
        "\n",
        "# Adds a densely-connected layer with 64 units to the model:\n",
        "model_6.add(Dense(N_hidden, name='dense_layer', input_shape=(784,), activation = 'relu'))\n",
        "# Now the model will take as input arrays of shape (*, 784)# and output arrays of shape (*, 64)\n",
        "model_6.add(Dropout(0.3))\n",
        "\n",
        "# Adding another dense layer:\n",
        "model_6.add(Dense(N_hidden, name='dense_layer_2', activation='relu'))\n",
        "model_6.add(Dropout(0.3))\n",
        "\n",
        "# Adding another dense layer:\n",
        "model_6.add(Dense(N_hidden, name='dense_layer_3', activation='relu'))\n",
        "model_6.add(Dropout(0.3))\n",
        "\n",
        "# Add an output layer with 10 output units (10 different classes):\n",
        "model_6.add(Dense(10, name='dense_layer_4', activation = 'softmax'))\n"
      ],
      "execution_count": null,
      "outputs": []
    },
    {
      "cell_type": "code",
      "metadata": {
        "id": "OgTz-7_Ai03r"
      },
      "source": [
        "# Compiling the model.\n",
        "model_6.compile(optimizer='adam', \n",
        "              loss='categorical_crossentropy',\n",
        "              metrics=['accuracy'])"
      ],
      "execution_count": null,
      "outputs": []
    },
    {
      "cell_type": "code",
      "metadata": {
        "id": "8wlsmatji03-",
        "colab": {
          "base_uri": "https://localhost:8080/"
        },
        "outputId": "2226f51b-6573-42a0-90bf-048135f82449"
      },
      "source": [
        "# Training the model. \n",
        "training = model_6.fit(X_train, Y_train, batch_size=64, epochs=50, validation_split=0.2) "
      ],
      "execution_count": null,
      "outputs": [
        {
          "output_type": "stream",
          "name": "stdout",
          "text": [
            "Epoch 1/50\n",
            "750/750 [==============================] - 12s 15ms/step - loss: 0.0272 - accuracy: 0.9922 - val_loss: 0.1185 - val_accuracy: 0.9799\n",
            "Epoch 2/50\n",
            "750/750 [==============================] - 11s 15ms/step - loss: 0.0282 - accuracy: 0.9920 - val_loss: 0.1051 - val_accuracy: 0.9827\n",
            "Epoch 3/50\n",
            "750/750 [==============================] - 11s 15ms/step - loss: 0.0275 - accuracy: 0.9920 - val_loss: 0.1156 - val_accuracy: 0.9793\n",
            "Epoch 4/50\n",
            "750/750 [==============================] - 11s 15ms/step - loss: 0.0289 - accuracy: 0.9917 - val_loss: 0.1266 - val_accuracy: 0.9780\n",
            "Epoch 5/50\n",
            "750/750 [==============================] - 11s 15ms/step - loss: 0.0300 - accuracy: 0.9923 - val_loss: 0.1212 - val_accuracy: 0.9803\n",
            "Epoch 6/50\n",
            "750/750 [==============================] - 11s 15ms/step - loss: 0.0284 - accuracy: 0.9930 - val_loss: 0.1092 - val_accuracy: 0.9815\n",
            "Epoch 7/50\n",
            "750/750 [==============================] - 12s 16ms/step - loss: 0.0271 - accuracy: 0.9927 - val_loss: 0.1196 - val_accuracy: 0.9808\n",
            "Epoch 8/50\n",
            "750/750 [==============================] - 12s 16ms/step - loss: 0.0247 - accuracy: 0.9936 - val_loss: 0.1168 - val_accuracy: 0.9818\n",
            "Epoch 9/50\n",
            "750/750 [==============================] - 12s 16ms/step - loss: 0.0266 - accuracy: 0.9930 - val_loss: 0.1209 - val_accuracy: 0.9808\n",
            "Epoch 10/50\n",
            "750/750 [==============================] - 12s 16ms/step - loss: 0.0274 - accuracy: 0.9930 - val_loss: 0.1146 - val_accuracy: 0.9810\n",
            "Epoch 11/50\n",
            "750/750 [==============================] - 11s 15ms/step - loss: 0.0274 - accuracy: 0.9931 - val_loss: 0.1205 - val_accuracy: 0.9814\n",
            "Epoch 12/50\n",
            "750/750 [==============================] - 11s 15ms/step - loss: 0.0256 - accuracy: 0.9935 - val_loss: 0.1304 - val_accuracy: 0.9817\n",
            "Epoch 13/50\n",
            "750/750 [==============================] - 11s 15ms/step - loss: 0.0267 - accuracy: 0.9936 - val_loss: 0.1158 - val_accuracy: 0.9821\n",
            "Epoch 14/50\n",
            "750/750 [==============================] - 11s 15ms/step - loss: 0.0250 - accuracy: 0.9934 - val_loss: 0.1179 - val_accuracy: 0.9827\n",
            "Epoch 15/50\n",
            "750/750 [==============================] - 11s 15ms/step - loss: 0.0261 - accuracy: 0.9932 - val_loss: 0.1444 - val_accuracy: 0.9783\n",
            "Epoch 16/50\n",
            "750/750 [==============================] - 11s 15ms/step - loss: 0.0270 - accuracy: 0.9938 - val_loss: 0.1237 - val_accuracy: 0.9818\n",
            "Epoch 17/50\n",
            "750/750 [==============================] - 11s 15ms/step - loss: 0.0236 - accuracy: 0.9941 - val_loss: 0.1441 - val_accuracy: 0.9831\n",
            "Epoch 18/50\n",
            "750/750 [==============================] - 11s 15ms/step - loss: 0.0259 - accuracy: 0.9935 - val_loss: 0.1319 - val_accuracy: 0.9816\n",
            "Epoch 19/50\n",
            "750/750 [==============================] - 12s 15ms/step - loss: 0.0290 - accuracy: 0.9935 - val_loss: 0.1360 - val_accuracy: 0.9818\n",
            "Epoch 20/50\n",
            "750/750 [==============================] - 12s 15ms/step - loss: 0.0251 - accuracy: 0.9937 - val_loss: 0.1207 - val_accuracy: 0.9826\n",
            "Epoch 21/50\n",
            "750/750 [==============================] - 12s 16ms/step - loss: 0.0230 - accuracy: 0.9940 - val_loss: 0.1247 - val_accuracy: 0.9832\n",
            "Epoch 22/50\n",
            "750/750 [==============================] - 11s 15ms/step - loss: 0.0272 - accuracy: 0.9942 - val_loss: 0.1253 - val_accuracy: 0.9831\n",
            "Epoch 23/50\n",
            "750/750 [==============================] - 12s 16ms/step - loss: 0.0280 - accuracy: 0.9933 - val_loss: 0.1105 - val_accuracy: 0.9827\n",
            "Epoch 24/50\n",
            "750/750 [==============================] - 12s 16ms/step - loss: 0.0227 - accuracy: 0.9940 - val_loss: 0.1483 - val_accuracy: 0.9814\n",
            "Epoch 25/50\n",
            "750/750 [==============================] - 12s 15ms/step - loss: 0.0241 - accuracy: 0.9938 - val_loss: 0.1316 - val_accuracy: 0.9819\n",
            "Epoch 26/50\n",
            "750/750 [==============================] - 11s 15ms/step - loss: 0.0270 - accuracy: 0.9939 - val_loss: 0.1266 - val_accuracy: 0.9832\n",
            "Epoch 27/50\n",
            "750/750 [==============================] - 11s 15ms/step - loss: 0.0223 - accuracy: 0.9941 - val_loss: 0.1291 - val_accuracy: 0.9833\n",
            "Epoch 28/50\n",
            "750/750 [==============================] - 11s 15ms/step - loss: 0.0251 - accuracy: 0.9942 - val_loss: 0.1529 - val_accuracy: 0.9812\n",
            "Epoch 29/50\n",
            "750/750 [==============================] - 11s 15ms/step - loss: 0.0259 - accuracy: 0.9942 - val_loss: 0.1406 - val_accuracy: 0.9824\n",
            "Epoch 30/50\n",
            "750/750 [==============================] - 11s 15ms/step - loss: 0.0247 - accuracy: 0.9946 - val_loss: 0.1268 - val_accuracy: 0.9816\n",
            "Epoch 31/50\n",
            "750/750 [==============================] - 11s 15ms/step - loss: 0.0230 - accuracy: 0.9947 - val_loss: 0.1320 - val_accuracy: 0.9833\n",
            "Epoch 32/50\n",
            "750/750 [==============================] - 11s 15ms/step - loss: 0.0255 - accuracy: 0.9943 - val_loss: 0.1223 - val_accuracy: 0.9815\n",
            "Epoch 33/50\n",
            "750/750 [==============================] - 11s 15ms/step - loss: 0.0271 - accuracy: 0.9937 - val_loss: 0.1201 - val_accuracy: 0.9839\n",
            "Epoch 34/50\n",
            "750/750 [==============================] - 11s 15ms/step - loss: 0.0193 - accuracy: 0.9951 - val_loss: 0.1356 - val_accuracy: 0.9821\n",
            "Epoch 35/50\n",
            "750/750 [==============================] - 11s 15ms/step - loss: 0.0245 - accuracy: 0.9950 - val_loss: 0.1158 - val_accuracy: 0.9824\n",
            "Epoch 36/50\n",
            "750/750 [==============================] - 11s 15ms/step - loss: 0.0213 - accuracy: 0.9948 - val_loss: 0.1471 - val_accuracy: 0.9814\n",
            "Epoch 37/50\n",
            "750/750 [==============================] - 11s 15ms/step - loss: 0.0258 - accuracy: 0.9945 - val_loss: 0.1353 - val_accuracy: 0.9819\n",
            "Epoch 38/50\n",
            "750/750 [==============================] - 11s 15ms/step - loss: 0.0249 - accuracy: 0.9944 - val_loss: 0.1400 - val_accuracy: 0.9825\n",
            "Epoch 39/50\n",
            "750/750 [==============================] - 11s 15ms/step - loss: 0.0190 - accuracy: 0.9951 - val_loss: 0.1349 - val_accuracy: 0.9839\n",
            "Epoch 40/50\n",
            "750/750 [==============================] - 11s 15ms/step - loss: 0.0285 - accuracy: 0.9937 - val_loss: 0.1376 - val_accuracy: 0.9829\n",
            "Epoch 41/50\n",
            "750/750 [==============================] - 11s 15ms/step - loss: 0.0226 - accuracy: 0.9954 - val_loss: 0.1165 - val_accuracy: 0.9827\n",
            "Epoch 42/50\n",
            "750/750 [==============================] - 11s 15ms/step - loss: 0.0247 - accuracy: 0.9946 - val_loss: 0.1427 - val_accuracy: 0.9825\n",
            "Epoch 43/50\n",
            "750/750 [==============================] - 11s 15ms/step - loss: 0.0234 - accuracy: 0.9948 - val_loss: 0.1395 - val_accuracy: 0.9824\n",
            "Epoch 44/50\n",
            "750/750 [==============================] - 11s 15ms/step - loss: 0.0208 - accuracy: 0.9955 - val_loss: 0.1358 - val_accuracy: 0.9827\n",
            "Epoch 45/50\n",
            "750/750 [==============================] - 11s 15ms/step - loss: 0.0219 - accuracy: 0.9951 - val_loss: 0.1508 - val_accuracy: 0.9833\n",
            "Epoch 46/50\n",
            "750/750 [==============================] - 11s 15ms/step - loss: 0.0220 - accuracy: 0.9952 - val_loss: 0.1529 - val_accuracy: 0.9832\n",
            "Epoch 47/50\n",
            "750/750 [==============================] - 11s 15ms/step - loss: 0.0253 - accuracy: 0.9948 - val_loss: 0.1711 - val_accuracy: 0.9820\n",
            "Epoch 48/50\n",
            "750/750 [==============================] - 11s 15ms/step - loss: 0.0266 - accuracy: 0.9949 - val_loss: 0.1295 - val_accuracy: 0.9834\n",
            "Epoch 49/50\n",
            "750/750 [==============================] - 11s 15ms/step - loss: 0.0177 - accuracy: 0.9960 - val_loss: 0.1512 - val_accuracy: 0.9825\n",
            "Epoch 50/50\n",
            "750/750 [==============================] - 11s 15ms/step - loss: 0.0250 - accuracy: 0.9947 - val_loss: 0.1684 - val_accuracy: 0.9827\n"
          ]
        }
      ]
    },
    {
      "cell_type": "code",
      "metadata": {
        "id": "we2ZBwRui04X",
        "colab": {
          "base_uri": "https://localhost:8080/",
          "height": 591
        },
        "outputId": "4febabb7-9f76-4544-f5a6-e020ead11364"
      },
      "source": [
        "import matplotlib.pyplot as plt\n",
        "%matplotlib inline\n",
        "# list all data in training\n",
        "print(training.history.keys())\n",
        "# summarize training for accuracy\n",
        "plt.plot(training.history['accuracy'])\n",
        "plt.plot(training.history['val_accuracy'])\n",
        "plt.title('model accuracy')\n",
        "plt.ylabel('accuracy')\n",
        "plt.xlabel('epoch')\n",
        "plt.legend(['train', 'test'], loc='upper left')\n",
        "plt.show()\n",
        "# summarize traning for loss\n",
        "plt.plot(training.history['loss'])\n",
        "plt.plot(training.history['val_loss'])\n",
        "plt.title('model loss')\n",
        "plt.ylabel('loss')\n",
        "plt.xlabel('epoch')\n",
        "plt.legend(['train', 'test'], loc='upper left')\n",
        "plt.show()"
      ],
      "execution_count": null,
      "outputs": [
        {
          "output_type": "stream",
          "name": "stdout",
          "text": [
            "dict_keys(['loss', 'accuracy', 'val_loss', 'val_accuracy'])\n"
          ]
        },
        {
          "output_type": "display_data",
          "data": {
            "image/png": "[encoded data removed]",
            "text/plain": [
              "<Figure size 432x288 with 1 Axes>"
            ]
          },
          "metadata": {
            "needs_background": "light"
          }
        },
        {
          "output_type": "display_data",
          "data": {
            "image/png": "[encoded data removed]",
            "text/plain": [
              "<Figure size 432x288 with 1 Axes>"
            ]
          },
          "metadata": {
            "needs_background": "light"
          }
        }
      ]
    },
    {
      "cell_type": "code",
      "metadata": {
        "id": "rW_yiiBci04l",
        "colab": {
          "base_uri": "https://localhost:8080/"
        },
        "outputId": "a47d66a0-8536-43f7-da90-e8900bfd57f2"
      },
      "source": [
        "#evaluate the model\n",
        "test_loss, test_acc = model_6.evaluate(X_test, Y_test)\n",
        "print('Test accuracy:', test_acc)"
      ],
      "execution_count": null,
      "outputs": [
        {
          "output_type": "stream",
          "name": "stdout",
          "text": [
            "313/313 [==============================] - 1s 4ms/step - loss: 0.1428 - accuracy: 0.9836\n",
            "Test accuracy: 0.9836000204086304\n"
          ]
        }
      ]
    },
    {
      "cell_type": "code",
      "metadata": {
        "id": "-st6PFxmi04q",
        "colab": {
          "base_uri": "https://localhost:8080/"
        },
        "outputId": "a06a6c66-6747-4212-b08f-8d322ceb254d"
      },
      "source": [
        "model_6.summary()"
      ],
      "execution_count": null,
      "outputs": [
        {
          "output_type": "stream",
          "name": "stdout",
          "text": [
            "Model: \"sequential\"\n",
            "_________________________________________________________________\n",
            "Layer (type)                 Output Shape              Param #   \n",
            "=================================================================\n",
            "dense_layer (Dense)          (None, 512)               401920    \n",
            "_________________________________________________________________\n",
            "dropout (Dropout)            (None, 512)               0         \n",
            "_________________________________________________________________\n",
            "dense_layer_2 (Dense)        (None, 512)               262656    \n",
            "_________________________________________________________________\n",
            "dropout_1 (Dropout)          (None, 512)               0         \n",
            "_________________________________________________________________\n",
            "dense_layer_3 (Dense)        (None, 512)               262656    \n",
            "_________________________________________________________________\n",
            "dropout_2 (Dropout)          (None, 512)               0         \n",
            "_________________________________________________________________\n",
            "dense_layer_4 (Dense)        (None, 10)                5130      \n",
            "=================================================================\n",
            "Total params: 932,362\n",
            "Trainable params: 932,362\n",
            "Non-trainable params: 0\n",
            "_________________________________________________________________\n"
          ]
        }
      ]
    },
    {
      "cell_type": "code",
      "metadata": {
        "id": "VVS-TuqDi04v"
      },
      "source": [
        "model_6.weights"
      ],
      "execution_count": null,
      "outputs": []
    },
    {
      "cell_type": "code",
      "metadata": {
        "id": "V5lg_PNsi041",
        "colab": {
          "base_uri": "https://localhost:8080/"
        },
        "outputId": "91039f2d-b6a1-4f1f-d5c0-504a6661445a"
      },
      "source": [
        "model_6.get_config()"
      ],
      "execution_count": null,
      "outputs": [
        {
          "output_type": "execute_result",
          "data": {
            "text/plain": [
              "{'layers': [{'class_name': 'InputLayer',\n",
              "   'config': {'batch_input_shape': (None, 784),\n",
              "    'dtype': 'float32',\n",
              "    'name': 'dense_layer_input',\n",
              "    'ragged': False,\n",
              "    'sparse': False}},\n",
              "  {'class_name': 'Dense',\n",
              "   'config': {'activation': 'relu',\n",
              "    'activity_regularizer': None,\n",
              "    'batch_input_shape': (None, 784),\n",
              "    'bias_constraint': None,\n",
              "    'bias_initializer': {'class_name': 'Zeros', 'config': {}},\n",
              "    'bias_regularizer': None,\n",
              "    'dtype': 'float32',\n",
              "    'kernel_constraint': None,\n",
              "    'kernel_initializer': {'class_name': 'GlorotUniform',\n",
              "     'config': {'seed': None}},\n",
              "    'kernel_regularizer': None,\n",
              "    'name': 'dense_layer',\n",
              "    'trainable': True,\n",
              "    'units': 512,\n",
              "    'use_bias': True}},\n",
              "  {'class_name': 'Dropout',\n",
              "   'config': {'dtype': 'float32',\n",
              "    'name': 'dropout_8',\n",
              "    'noise_shape': None,\n",
              "    'rate': 0.3,\n",
              "    'seed': None,\n",
              "    'trainable': True}},\n",
              "  {'class_name': 'Dense',\n",
              "   'config': {'activation': 'relu',\n",
              "    'activity_regularizer': None,\n",
              "    'bias_constraint': None,\n",
              "    'bias_initializer': {'class_name': 'Zeros', 'config': {}},\n",
              "    'bias_regularizer': None,\n",
              "    'dtype': 'float32',\n",
              "    'kernel_constraint': None,\n",
              "    'kernel_initializer': {'class_name': 'GlorotUniform',\n",
              "     'config': {'seed': None}},\n",
              "    'kernel_regularizer': None,\n",
              "    'name': 'dense_layer_2',\n",
              "    'trainable': True,\n",
              "    'units': 512,\n",
              "    'use_bias': True}},\n",
              "  {'class_name': 'Dropout',\n",
              "   'config': {'dtype': 'float32',\n",
              "    'name': 'dropout_9',\n",
              "    'noise_shape': None,\n",
              "    'rate': 0.3,\n",
              "    'seed': None,\n",
              "    'trainable': True}},\n",
              "  {'class_name': 'Dense',\n",
              "   'config': {'activation': 'relu',\n",
              "    'activity_regularizer': None,\n",
              "    'bias_constraint': None,\n",
              "    'bias_initializer': {'class_name': 'Zeros', 'config': {}},\n",
              "    'bias_regularizer': None,\n",
              "    'dtype': 'float32',\n",
              "    'kernel_constraint': None,\n",
              "    'kernel_initializer': {'class_name': 'GlorotUniform',\n",
              "     'config': {'seed': None}},\n",
              "    'kernel_regularizer': None,\n",
              "    'name': 'dense_layer_3',\n",
              "    'trainable': True,\n",
              "    'units': 512,\n",
              "    'use_bias': True}},\n",
              "  {'class_name': 'Dropout',\n",
              "   'config': {'dtype': 'float32',\n",
              "    'name': 'dropout_10',\n",
              "    'noise_shape': None,\n",
              "    'rate': 0.3,\n",
              "    'seed': None,\n",
              "    'trainable': True}},\n",
              "  {'class_name': 'Dense',\n",
              "   'config': {'activation': 'softmax',\n",
              "    'activity_regularizer': None,\n",
              "    'bias_constraint': None,\n",
              "    'bias_initializer': {'class_name': 'Zeros', 'config': {}},\n",
              "    'bias_regularizer': None,\n",
              "    'dtype': 'float32',\n",
              "    'kernel_constraint': None,\n",
              "    'kernel_initializer': {'class_name': 'GlorotUniform',\n",
              "     'config': {'seed': None}},\n",
              "    'kernel_regularizer': None,\n",
              "    'name': 'dense_layer_4',\n",
              "    'trainable': True,\n",
              "    'units': 10,\n",
              "    'use_bias': True}}],\n",
              " 'name': 'sequential_8'}"
            ]
          },
          "metadata": {},
          "execution_count": 79
        }
      ]
    },
    {
      "cell_type": "markdown",
      "metadata": {
        "id": "X6UHyrSERqid"
      },
      "source": [
        "# DIY: Assignment"
      ]
    },
    {
      "cell_type": "markdown",
      "metadata": {
        "id": "kYZ5DXBNLQAn"
      },
      "source": [
        "####**Total Marks: 50**\n",
        "**Duration: 6 days**\n",
        "\n",
        "As a part of this assignment following are the list of task that may help  improve your skills with TensorFlow. It is important to get hands-on experience with TensorFlow in order to learn how to use it properly.\n",
        "\n",
        "You may want to backup this Notebook before making any changes."
      ]
    },
    {
      "cell_type": "markdown",
      "metadata": {
        "id": "hQTkURqTLcAy"
      },
      "source": [
        "\n",
        "###**`.ipynb file 1`** "
      ]
    },
    {
      "cell_type": "markdown",
      "metadata": {
        "id": "BgqFWLmeRvsr"
      },
      "source": [
        "\n",
        "**Marks: 10**\n",
        "> - Do you get the exact same results if you run the Notebook multiple times without changing any parameters?\n",
        "- What is the effect of adding more neurons to each hidden layer?\n",
        "- What happens if we manipulate the value of dropout?\n",
        "- What is the effect of adding more hidden layer to the network?\n",
        "- What is the accuracy score if we use RMSprop for model 6?\n",
        "- Does manipulating the learning rate affect the model? Justify your answer.\n",
        "- What is the best parameter configuration for this project?\n"
      ]
    },
    {
      "cell_type": "markdown",
      "metadata": {
        "id": "LFY6t7nLLukS"
      },
      "source": [
        "###**`.ipynb file 2`** \n"
      ]
    },
    {
      "cell_type": "markdown",
      "metadata": {
        "id": "8obuwIs3LzKM"
      },
      "source": [
        "**Marks: 15**\n",
        ">- Try improving the model and re-code the program from scratch without looking too much at this source-code.\n",
        "- Write up a summary explaining how your program works.\n"
      ]
    },
    {
      "cell_type": "markdown",
      "metadata": {
        "id": "OFeLvye1L3uN"
      },
      "source": [
        "###**`.ipynb file 3`**\n",
        "\n"
      ]
    },
    {
      "cell_type": "markdown",
      "metadata": {
        "id": "hrekQjasL8-w"
      },
      "source": [
        "**Marks: 25**\n",
        ">**Problem Statement**<br>\n",
        "The dataset is similar to MNIST, but includes images of certain clothing and accessory. The objective is to classify images into specific classes using single layer perceptron and multilayer perceptron.<br>\n",
        "<br>\n",
        "**Dataset Description**\n",
        "- Total Images: 70,000 \n",
        "- Train Images: 60,000 \n",
        "- Test Images: 10,000 \n",
        "- Image Size: 28 X 28 \n",
        "- Classes: 'T-shirt/top', 'Trouser', 'Pullover', 'Dress', 'Coat', 'Sandal', 'Shirt', 'Sneaker', 'Bag', 'Ankle Boot' \n",
        "\n",
        ">**Tasks to be Performed:**\n",
        "As a part of this assignment you will be performing the following tasks:\n",
        "- Prepare a detailed python notebook(similar to this one) using muli-layer perceptron for classifing the images from [MNIST Fashion Dataset ](https://github.com/zalandoresearch/fashion-mnist) with best accuracy\n",
        "- Prepare the dataset for the model\n",
        "- Develop Single Layer Perceptron model for classifying the handwritten digits\n",
        "- Plot the change in accuracy per epochs\n",
        "- Evaluate the model on the testing data\n",
        "- Analyse the model summary\n",
        "- Add hidden layer to the model to make it Multi-Layer Perceptron\n",
        "- Add Dropout to prevent overfitting and check its effect on accuracy\n",
        "- Increasing the number of Hidden Layer neuron and check its effect on accuracy\n",
        "- Use different optimizers and check its effect on accuracy\n",
        "- Increase the hidden layers and check its effect on accuracy\n",
        "- Manipulate the batch_size and epochs and check its effect on accuracy\n",
        "\n",
        "**Answer:** What parameters should be choosen to get best accuracy on classifying the images into various categories?\n",
        " "
      ]
    }
  ]
}