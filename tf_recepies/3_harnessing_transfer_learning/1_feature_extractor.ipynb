{
  "nbformat": 4,
  "nbformat_minor": 0,
  "metadata": {
    "colab": {
      "name": "1_feature_extractor.ipynb",
      "private_outputs": true,
      "provenance": []
    },
    "kernelspec": {
      "name": "python3",
      "display_name": "Python 3"
    },
    "language_info": {
      "name": "python"
    },
    "accelerator": "GPU"
  },
  "cells": [
    {
      "cell_type": "markdown",
      "source": [
        "# Download the train and test dataset"
      ],
      "metadata": {
        "id": "DhwxxROaUFLE"
      }
    },
    {
      "cell_type": "code",
      "source": [
        "!wget -O car_ims.tgz --no-check-certificate  \"http://ai.stanford.edu/~jkrause/car196/car_ims.tgz\""
      ],
      "metadata": {
        "id": "HJ6Debs7U0S3"
      },
      "execution_count": null,
      "outputs": []
    },
    {
      "cell_type": "markdown",
      "source": [
        "# Untar the dataset"
      ],
      "metadata": {
        "id": "pKpw3KwwYIVs"
      }
    },
    {
      "cell_type": "code",
      "source": [
        "!mkdir car_ims_dataset"
      ],
      "metadata": {
        "id": "a4XHJ4Yijhwj"
      },
      "execution_count": null,
      "outputs": []
    },
    {
      "cell_type": "code",
      "source": [
        "!tar -xzvf \"/content/car_ims.tgz\" -C \"/content/car_ims_dataset/\"  "
      ],
      "metadata": {
        "id": "wSHnnEe2VVqm"
      },
      "execution_count": null,
      "outputs": []
    },
    {
      "cell_type": "code",
      "source": [
        "import glob\n",
        "import os\n",
        "import pathlib\n",
        "\n",
        "import h5py\n",
        "import numpy as np\n",
        "import sklearn.utils as skutils\n",
        "from sklearn.preprocessing import LabelEncoder\n",
        "from tensorflow.keras.applications import imagenet_utils\n",
        "from tensorflow.keras.applications.vgg16 import VGG16\n",
        "from tensorflow.keras.preprocessing.image import *\n",
        "from tqdm import tqdm"
      ],
      "metadata": {
        "id": "rNMVhkDaYGaG"
      },
      "execution_count": null,
      "outputs": []
    },
    {
      "cell_type": "code",
      "source": [
        "class FeatureExtractor(object):\n",
        "    def __init__(self,model,input_size,label_encoder,num_instances,feature_size,output_path,features_key='features',buffer_size=1000):\n",
        "        if os.path.exists(output_path):\n",
        "            error_msg = (f'{output_path} already exists. 'f'Please delete it and try again.')\n",
        "            raise FileExistsError(error_msg)\n",
        "\n",
        "        self.model = model\n",
        "        self.input_size = input_size\n",
        "        self.le = label_encoder\n",
        "        self.feature_size = feature_size\n",
        "\n",
        "        self.db = h5py.File(output_path, 'w')\n",
        "        self.features = self.db.create_dataset(features_key,\n",
        "                                               (num_instances,\n",
        "                                                feature_size),\n",
        "                                               dtype='float')\n",
        "        self.labels = self.db.create_dataset('labels',\n",
        "                                             (num_instances,),\n",
        "                                             dtype='int')\n",
        "\n",
        "        self.buffer_size = buffer_size\n",
        "        self.buffer = {'features': [], 'labels': []}\n",
        "        self.current_index = 0\n",
        "    \n",
        "    def extract_features(self,image_paths,labels,batch_size=64,shuffle=True):\n",
        "        if shuffle:\n",
        "            image_paths, labels = skutils.shuffle(image_paths,\n",
        "                                                  labels)\n",
        "            \n",
        "        encoded_labels = self.le.fit_transform(labels)\n",
        "        self._store_class_labels(self.le.classes_)\n",
        "\n",
        "        for i in tqdm(range(0, len(image_paths), batch_size)):\n",
        "            batch_paths = image_paths[i: i + batch_size]\n",
        "            batch_labels = encoded_labels[i:i + batch_size]\n",
        "            batch_images = []\n",
        "\n",
        "            for image_path in batch_paths:\n",
        "                image = load_img(image_path,\n",
        "                                 target_size=self.input_size)\n",
        "                image = img_to_array(image)\n",
        "                image = np.expand_dims(image, axis=0)\n",
        "                image = imagenet_utils.preprocess_input(image)\n",
        "                batch_images.append(image)\n",
        "            batch_images = np.vstack(batch_images)\n",
        "            feats = self.model.predict(batch_images,\n",
        "                                       batch_size=batch_size)\n",
        "            new_shape = (feats.shape[0], self.feature_size)\n",
        "            feats = feats.reshape(new_shape)\n",
        "            self._add(feats, batch_labels)\n",
        "        self._close()\n",
        "    \n",
        "    def _add(self, rows, labels):\n",
        "        self.buffer['features'].extend(rows)\n",
        "        self.buffer['labels'].extend(labels)\n",
        "\n",
        "        if len(self.buffer['features']) >= self.buffer_size:\n",
        "            self._flush()\n",
        "\n",
        "    def _flush(self):\n",
        "        next_index = (self.current_index +\n",
        "                      len(self.buffer['features']))\n",
        "        buffer_slice = slice(self.current_index, next_index)\n",
        "        self.features[buffer_slice] = self.buffer['features']\n",
        "        self.labels[buffer_slice] = self.buffer['labels']\n",
        "        self.current_index = next_index\n",
        "        self.buffer = {'features': [], 'labels': []}\n",
        "\n",
        "    \n",
        "    def _store_class_labels(self, class_labels):\n",
        "        data_type = h5py.special_dtype(vlen=str)\n",
        "        label_ds = self.db.create_dataset('label_names',\n",
        "                                          (len(class_labels),),\n",
        "                                          dtype=data_type)\n",
        "        label_ds[:] = class_labels.astype(str)\n",
        "\n",
        "    def _close(self):\n",
        "        if len(self.buffer['features']) > 0:\n",
        "            self._flush()\n",
        "\n",
        "        self.db.close()"
      ],
      "metadata": {
        "id": "Us13clzdYtEt"
      },
      "execution_count": null,
      "outputs": []
    },
    {
      "cell_type": "code",
      "source": [
        "files_pattern = '/content/car_ims_dataset/car_ims/*.jpg'\n",
        "files_pattern = str(files_pattern)\n",
        "input_paths = [*glob.glob(files_pattern)]\n",
        "output_path = '/content/car_ims_dataset/car_ims_rotated'\n",
        "\n",
        "if not os.path.exists(str(output_path)): #find whether the directory exists or not\n",
        "    os.mkdir(str(output_path))"
      ],
      "metadata": {
        "id": "AJkqSjSfaaXi"
      },
      "execution_count": null,
      "outputs": []
    },
    {
      "cell_type": "code",
      "source": [
        "labels = []\n",
        "output_paths = []\n",
        "for index in tqdm(range(len(input_paths))):\n",
        "    image_path = input_paths[index]\n",
        "    image = load_img(image_path)\n",
        "    rotation_angle = np.random.choice([0, 90, 180, 270])\n",
        "\n",
        "    rotated_image = image.rotate(rotation_angle)\n",
        "    rotated_image_path = output_path + '/' + f'{index}.jpg'\n",
        "    rotated_image.save(rotated_image_path, 'JPEG')\n",
        "\n",
        "    output_paths.append(rotated_image_path)\n",
        "    labels.append(rotation_angle)\n",
        "\n",
        "    image.close()\n",
        "    rotated_image.close()"
      ],
      "metadata": {
        "id": "sCsCvK0AbBCD"
      },
      "execution_count": null,
      "outputs": []
    },
    {
      "cell_type": "code",
      "source": [
        "features_path = '/content/car_ims_dataset' + 'features.hdf5'\n",
        "model = VGG16(weights='imagenet', include_top=False)\n",
        "fe = FeatureExtractor(model=model,\n",
        "                      input_size=(224, 224, 3),\n",
        "                      label_encoder=LabelEncoder(),\n",
        "                      num_instances=len(input_paths),\n",
        "                      feature_size=512 * 7 * 7,\n",
        "                      output_path=features_path)\n",
        "\n",
        "fe.extract_features(image_paths=output_paths,\n",
        "                    labels=labels)"
      ],
      "metadata": {
        "id": "stvjDCvpbldv"
      },
      "execution_count": null,
      "outputs": []
    },
    {
      "cell_type": "code",
      "source": [
        "# rm -r -f /content/car_ims_dataset/car_ims_rotated/features.hdf5"
      ],
      "metadata": {
        "id": "CvHaLmEFdf06"
      },
      "execution_count": null,
      "outputs": []
    },
    {
      "cell_type": "code",
      "source": [
        ""
      ],
      "metadata": {
        "id": "HDQbdipdgkay"
      },
      "execution_count": null,
      "outputs": []
    }
  ]
}