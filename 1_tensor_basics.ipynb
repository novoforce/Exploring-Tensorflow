{
  "nbformat": 4,
  "nbformat_minor": 0,
  "metadata": {
    "colab": {
      "name": "1_tensor_basics.ipynb",
      "private_outputs": true,
      "provenance": [],
      "authorship_tag": "ABX9TyPEPyy0uicT6kl+l2nAOmvG",
      "include_colab_link": true
    },
    "kernelspec": {
      "name": "python3",
      "display_name": "Python 3"
    }
  },
  "cells": [
    {
      "cell_type": "markdown",
      "metadata": {
        "id": "view-in-github",
        "colab_type": "text"
      },
      "source": [
        "<a href=\"https://colab.research.google.com/github/novoforce/Exploring-Tensorflow/blob/main/1_tensor_basics.ipynb\" target=\"_parent\"><img src=\"https://colab.research.google.com/assets/colab-badge.svg\" alt=\"Open In Colab\"/></a>"
      ]
    },
    {
      "cell_type": "markdown",
      "metadata": {
        "id": "HjICmOt09LdQ"
      },
      "source": [
        "# What are tensors?\r\n",
        "Tensors are basically n-dimensional arrays."
      ]
    },
    {
      "cell_type": "markdown",
      "metadata": {
        "id": "Zx8LirsG8HB6"
      },
      "source": [
        "\r\n",
        "<img src='https://2.bp.blogspot.com/-_S_3uv4hmB0/XARSBWLtXxI/AAAAAAACNQM/tlilq6KJ0n0NC0Afg1anWX8yN_lm9BbaQCLcBGAs/s1600/tensor.png'>"
      ]
    },
    {
      "cell_type": "code",
      "metadata": {
        "id": "Hv5NhuGf7UIn"
      },
      "source": [
        "import os\r\n",
        "os.environ['TF_CPP_MIN_LOG_LEVEL'] = '2'\r\n",
        "import tensorflow as tf"
      ],
      "execution_count": null,
      "outputs": []
    },
    {
      "cell_type": "markdown",
      "metadata": {
        "id": "IZgftRTb91Q_"
      },
      "source": [
        "# Initialization of Tensors\r\n"
      ]
    },
    {
      "cell_type": "code",
      "metadata": {
        "id": "8GA2L9IA-Ev7"
      },
      "source": [
        "X = tf.constant(4)\r\n",
        "print(X)"
      ],
      "execution_count": null,
      "outputs": []
    },
    {
      "cell_type": "code",
      "metadata": {
        "id": "Nv4figb5-MYh"
      },
      "source": [
        "X = tf.constant(4.0)\r\n",
        "print(X)"
      ],
      "execution_count": null,
      "outputs": []
    },
    {
      "cell_type": "code",
      "metadata": {
        "id": "QchUvlCs-X72"
      },
      "source": [
        "X = tf.constant(4,shape=(1,1))\r\n",
        "print(X)"
      ],
      "execution_count": null,
      "outputs": []
    },
    {
      "cell_type": "code",
      "metadata": {
        "id": "E-sMYpXo-oC0"
      },
      "source": [
        "X= tf.constant(4,shape=(1,1),dtype=tf.float32)\r\n",
        "print(X)"
      ],
      "execution_count": null,
      "outputs": []
    },
    {
      "cell_type": "code",
      "metadata": {
        "id": "GUWV5F2M_nQf"
      },
      "source": [
        "X = tf.constant([[1,2,3],[4,5,6]])\r\n",
        "print(X)"
      ],
      "execution_count": null,
      "outputs": []
    },
    {
      "cell_type": "code",
      "metadata": {
        "id": "Dl1KVRCZ_zry"
      },
      "source": [
        "X= tf.ones((3,3))\r\n",
        "print(X)"
      ],
      "execution_count": null,
      "outputs": []
    },
    {
      "cell_type": "code",
      "metadata": {
        "id": "P_PJJiW__7iy"
      },
      "source": [
        "X= tf.zeros((2,3))\r\n",
        "print(X)"
      ],
      "execution_count": null,
      "outputs": []
    },
    {
      "cell_type": "code",
      "metadata": {
        "id": "WJfxSiqlABI1"
      },
      "source": [
        "X= tf.eye(3) #identity matirix\r\n",
        "print(X)"
      ],
      "execution_count": null,
      "outputs": []
    },
    {
      "cell_type": "code",
      "metadata": {
        "id": "Erb0hUxWAEZ1"
      },
      "source": [
        "X= tf.random.normal((3,3),mean=0,stddev=1)\r\n",
        "print(X)"
      ],
      "execution_count": null,
      "outputs": []
    },
    {
      "cell_type": "code",
      "metadata": {
        "id": "1ONlUT6DCH6h"
      },
      "source": [
        "X= tf.random.uniform((1,3),minval=0,maxval=1)\r\n",
        "print(X)"
      ],
      "execution_count": null,
      "outputs": []
    },
    {
      "cell_type": "code",
      "metadata": {
        "id": "DJaIOmBVCH29"
      },
      "source": [
        "X = tf.range(9)\r\n",
        "print(X)"
      ],
      "execution_count": null,
      "outputs": []
    },
    {
      "cell_type": "code",
      "metadata": {
        "id": "-tDuAlwwCH0j"
      },
      "source": [
        "X = tf.range(start=1,limit=10,delta=2)\r\n",
        "print(X)"
      ],
      "execution_count": null,
      "outputs": []
    },
    {
      "cell_type": "code",
      "metadata": {
        "id": "qHcwp0WHCHyD"
      },
      "source": [
        "X = tf.cast(X,dtype=tf.float64) #dtypes: tf.float,tf.int, tf.bool\r\n",
        "print(X)"
      ],
      "execution_count": null,
      "outputs": []
    },
    {
      "cell_type": "markdown",
      "metadata": {
        "id": "XsOJ6zLq97Vj"
      },
      "source": [
        "# Mathematical Operations"
      ]
    },
    {
      "cell_type": "code",
      "metadata": {
        "id": "fNL11R8qC8Z6"
      },
      "source": [
        "x= tf.constant([1,2,3])\r\n",
        "y= tf.constant([9,8,7])\r\n"
      ],
      "execution_count": null,
      "outputs": []
    },
    {
      "cell_type": "code",
      "metadata": {
        "id": "AM4LlSQqDPZB"
      },
      "source": [
        "z= tf.add(x,y)\r\n",
        "print(z)\r\n",
        "\r\n",
        "z= x+y\r\n",
        "print(z)"
      ],
      "execution_count": null,
      "outputs": []
    },
    {
      "cell_type": "code",
      "metadata": {
        "id": "RCfAidYhC8WY"
      },
      "source": [
        "z= tf.subtract(x,y)\r\n",
        "print(z)\r\n",
        "\r\n",
        "z= x-y\r\n",
        "print(z)"
      ],
      "execution_count": null,
      "outputs": []
    },
    {
      "cell_type": "code",
      "metadata": {
        "id": "_meznq74C8T9"
      },
      "source": [
        "z= tf.divide(x,y)\r\n",
        "print(z)\r\n",
        "\r\n",
        "z= x/y\r\n",
        "print(z)"
      ],
      "execution_count": null,
      "outputs": []
    },
    {
      "cell_type": "code",
      "metadata": {
        "id": "fny08KmRC8Rc"
      },
      "source": [
        "z= tf.multiply(x,y)\r\n",
        "print(z)\r\n",
        "\r\n",
        "z= x*y\r\n",
        "print(z)"
      ],
      "execution_count": null,
      "outputs": []
    },
    {
      "cell_type": "code",
      "metadata": {
        "id": "4LAWOD8TC8PB"
      },
      "source": [
        "#dot product (element-wise multiplication and summation)\r\n",
        "z=  tf.tensordot(x,y,axes=1)\r\n",
        "print(z)\r\n",
        "\r\n",
        "z=  tf.reduce_sum(x*y,axis=0)\r\n",
        "print(z)"
      ],
      "execution_count": null,
      "outputs": []
    },
    {
      "cell_type": "code",
      "metadata": {
        "id": "45UFQjobCHvS"
      },
      "source": [
        "z= x**5\r\n",
        "print(z)"
      ],
      "execution_count": null,
      "outputs": []
    },
    {
      "cell_type": "code",
      "metadata": {
        "id": "A83bDrJuCHkc"
      },
      "source": [
        "x= tf.random.normal((2,3))\r\n",
        "y= tf.random.normal((3,4))\r\n",
        "z= tf.matmul(x,y)\r\n",
        "print(z)\r\n",
        "\r\n",
        "z= x@y\r\n",
        "print(z)"
      ],
      "execution_count": null,
      "outputs": []
    },
    {
      "cell_type": "markdown",
      "metadata": {
        "id": "4d3PTvOp9--j"
      },
      "source": [
        "# Indexing"
      ]
    },
    {
      "cell_type": "code",
      "metadata": {
        "id": "MVplVIxHFVsr"
      },
      "source": [
        " x= tf.constant([0,1,1,2,3,1,2,3])\r\n",
        " print(x[:])"
      ],
      "execution_count": null,
      "outputs": []
    },
    {
      "cell_type": "code",
      "metadata": {
        "id": "dnhnNFw7FVpT"
      },
      "source": [
        "print(x[1:])"
      ],
      "execution_count": null,
      "outputs": []
    },
    {
      "cell_type": "code",
      "metadata": {
        "id": "UMCiU57zFVmt"
      },
      "source": [
        "print(x[1:3])"
      ],
      "execution_count": null,
      "outputs": []
    },
    {
      "cell_type": "code",
      "metadata": {
        "id": "1LOc1MCSFVkW"
      },
      "source": [
        "print(x[::2])"
      ],
      "execution_count": null,
      "outputs": []
    },
    {
      "cell_type": "code",
      "metadata": {
        "id": "yaNWTkRHFVh5"
      },
      "source": [
        "print(x[::-1])"
      ],
      "execution_count": null,
      "outputs": []
    },
    {
      "cell_type": "code",
      "metadata": {
        "id": "GS8SsATWFVfW"
      },
      "source": [
        "indices= tf.constant([0,3])\r\n",
        "x_ind= tf.gather(x,indices) #extracted values\r\n",
        "print(x_ind)"
      ],
      "execution_count": null,
      "outputs": []
    },
    {
      "cell_type": "code",
      "metadata": {
        "id": "XE45Xt6LFVdC"
      },
      "source": [
        "x= tf.constant([[1,2],[3,4],[5,6]])\r\n",
        "print(x[0][:])"
      ],
      "execution_count": null,
      "outputs": []
    },
    {
      "cell_type": "code",
      "metadata": {
        "id": "ZYlmAaxfNLRb"
      },
      "source": [
        "print(x[0,:])"
      ],
      "execution_count": null,
      "outputs": []
    },
    {
      "cell_type": "code",
      "metadata": {
        "id": "NrhVEXi_NURu"
      },
      "source": [
        "print(x[0:2,:])"
      ],
      "execution_count": null,
      "outputs": []
    },
    {
      "cell_type": "markdown",
      "metadata": {
        "id": "ypWcZSXs-BQY"
      },
      "source": [
        "# Reshaping"
      ]
    },
    {
      "cell_type": "code",
      "metadata": {
        "id": "D1OTtRAs9wDD"
      },
      "source": [
        "x= tf.range(9)\r\n",
        "print(x)"
      ],
      "execution_count": null,
      "outputs": []
    },
    {
      "cell_type": "code",
      "metadata": {
        "id": "AqqAFHghNgMv"
      },
      "source": [
        "x= tf.reshape(x,(3,3))\r\n",
        "print(x)"
      ],
      "execution_count": null,
      "outputs": []
    },
    {
      "cell_type": "code",
      "metadata": {
        "id": "hRJwxzPYNi2y"
      },
      "source": [
        "x= tf.transpose(x,perm=[1,0]) #swap the axes 0 --> 1 & 1 --> 0\r\n",
        "print(x)"
      ],
      "execution_count": null,
      "outputs": []
    },
    {
      "cell_type": "code",
      "metadata": {
        "id": "jAnX3FUqNycv"
      },
      "source": [
        "x= tf.transpose(x) #swap the axes 0 --> 1 & 1 --> 0\r\n",
        "print(x)"
      ],
      "execution_count": null,
      "outputs": []
    },
    {
      "cell_type": "code",
      "metadata": {
        "id": "MiBZq77sOSJy"
      },
      "source": [
        ""
      ],
      "execution_count": null,
      "outputs": []
    }
  ]
}