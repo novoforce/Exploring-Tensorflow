{
  "nbformat": 4,
  "nbformat_minor": 0,
  "metadata": {
    "colab": {
      "name": "2_ANN.ipynb",
      "provenance": [],
      "toc_visible": true,
      "authorship_tag": "ABX9TyOoxqC0JqGSRV10zFF547w/",
      "include_colab_link": true
    },
    "kernelspec": {
      "name": "python3",
      "display_name": "Python 3"
    },
    "accelerator": "GPU"
  },
  "cells": [
    {
      "cell_type": "markdown",
      "metadata": {
        "id": "view-in-github",
        "colab_type": "text"
      },
      "source": [
        "<a href=\"https://colab.research.google.com/github/novoforce/Exploring-Tensorflow/blob/main/2_ANN.ipynb\" target=\"_parent\"><img src=\"https://colab.research.google.com/assets/colab-badge.svg\" alt=\"Open In Colab\"/></a>"
      ]
    },
    {
      "cell_type": "code",
      "metadata": {
        "id": "oVF2b-jQQzF3"
      },
      "source": [
        "import tensorflow as tf\r\n",
        "from tensorflow import keras\r\n",
        "from tensorflow.keras import layers\r\n",
        "from tensorflow.keras.datasets import mnist"
      ],
      "execution_count": 1,
      "outputs": []
    },
    {
      "cell_type": "markdown",
      "metadata": {
        "id": "S_HowiYFXRaU"
      },
      "source": [
        "# Data Preparation and Loading"
      ]
    },
    {
      "cell_type": "code",
      "metadata": {
        "colab": {
          "base_uri": "https://localhost:8080/"
        },
        "id": "1E6L0-yCUt0t",
        "outputId": "441cfd87-0558-454c-882b-2414c7984ff9"
      },
      "source": [
        "(x_train,y_train), (x_test,y_test)= mnist.load_data()\r\n",
        "print(x_train.shape,y_train.shape)"
      ],
      "execution_count": 2,
      "outputs": [
        {
          "output_type": "stream",
          "text": [
            "Downloading data from https://storage.googleapis.com/tensorflow/tf-keras-datasets/mnist.npz\n",
            "11493376/11490434 [==============================] - 0s 0us/step\n",
            "(60000, 28, 28) (60000,)\n"
          ],
          "name": "stdout"
        }
      ]
    },
    {
      "cell_type": "code",
      "metadata": {
        "colab": {
          "base_uri": "https://localhost:8080/"
        },
        "id": "z6vWqH6JVZkS",
        "outputId": "53989c6a-d795-4c58-ee9f-efefb3ba963d"
      },
      "source": [
        "#reshaping the tensor shape so as to feed into the neural network\r\n",
        "x_train= x_train.reshape(-1,28*28).astype('float32') / 255.0\r\n",
        "x_test= x_test.reshape(-1,28*28).astype('float32') / 255.0\r\n",
        "\r\n",
        "print('reshaped tensors:> ',x_train.shape,x_test.shape,type(x_train),type(x_test))"
      ],
      "execution_count": 3,
      "outputs": [
        {
          "output_type": "stream",
          "text": [
            "reshaped tensors:>  (60000, 784) (10000, 784) <class 'numpy.ndarray'> <class 'numpy.ndarray'>\n"
          ],
          "name": "stdout"
        }
      ]
    },
    {
      "cell_type": "markdown",
      "metadata": {
        "id": "iTwuHCj1XV38"
      },
      "source": [
        "#Create the AI model (Sequential API)\r\n",
        "It is very convinient to use but not flexible. If the model to be build has **1 input and 1 output** then the **Sequential API** is the way for creating the AI model **otherwise** we have to rely on **Functional API**"
      ]
    },
    {
      "cell_type": "code",
      "metadata": {
        "id": "p6bWQBJMV-HK"
      },
      "source": [
        "model= keras.Sequential(\r\n",
        "    [\r\n",
        "     layers.Dense(512,activation='relu'),\r\n",
        "     layers.Dense(256,activation='relu'),\r\n",
        "     layers.Dense(10),\r\n",
        "    ]\r\n",
        ")"
      ],
      "execution_count": 9,
      "outputs": []
    },
    {
      "cell_type": "markdown",
      "metadata": {
        "id": "gyjn_DiYaVZf"
      },
      "source": [
        "# Compile the AI model"
      ]
    },
    {
      "cell_type": "code",
      "metadata": {
        "id": "OBu5NeuNYliy"
      },
      "source": [
        "#since we are not having SOFTMAX defined so using 'from_logits=True'\r\n",
        "# Difference between \"sparce categorical crossentropy\" and \"categorical cross entropy\" is that latter expects 1-hot encoded labels\r\n",
        "# and the previous expects integer labels\r\n",
        "model.compile(\r\n",
        "    loss= keras.losses.SparseCategoricalCrossentropy(from_logits=True),\r\n",
        "    optimizer= keras.optimizers.Adam(lr=0.001),\r\n",
        "    metrics=['accuracy']\r\n",
        ")"
      ],
      "execution_count": 11,
      "outputs": []
    },
    {
      "cell_type": "markdown",
      "metadata": {
        "id": "Fn5CTPb3aYQd"
      },
      "source": [
        "# Train and Evaluate the model"
      ]
    },
    {
      "cell_type": "code",
      "metadata": {
        "colab": {
          "base_uri": "https://localhost:8080/"
        },
        "id": "dYMB1aulaEV2",
        "outputId": "c945831f-e960-4abf-dc3f-990642a384b0"
      },
      "source": [
        "model.fit(x_train,y_train,batch_size=32,epochs=5,verbose=2)\r\n",
        "model.evaluate(x_test,y_test,batch_size=32,verbose=2)"
      ],
      "execution_count": 12,
      "outputs": [
        {
          "output_type": "stream",
          "text": [
            "Epoch 1/5\n",
            "1875/1875 - 3s - loss: 0.1864 - accuracy: 0.9433\n",
            "Epoch 2/5\n",
            "1875/1875 - 2s - loss: 0.0790 - accuracy: 0.9759\n",
            "Epoch 3/5\n",
            "1875/1875 - 2s - loss: 0.0538 - accuracy: 0.9830\n",
            "Epoch 4/5\n",
            "1875/1875 - 2s - loss: 0.0419 - accuracy: 0.9867\n",
            "Epoch 5/5\n",
            "1875/1875 - 2s - loss: 0.0339 - accuracy: 0.9887\n",
            "313/313 - 0s - loss: 0.0673 - accuracy: 0.9808\n"
          ],
          "name": "stdout"
        },
        {
          "output_type": "execute_result",
          "data": {
            "text/plain": [
              "[0.06730663776397705, 0.9807999730110168]"
            ]
          },
          "metadata": {
            "tags": []
          },
          "execution_count": 12
        }
      ]
    },
    {
      "cell_type": "markdown",
      "metadata": {
        "id": "EL-Q-ed2bWJ6"
      },
      "source": [
        "# Summary of the model\r\n",
        "Suppose we want to print the summary of the model and this can we done by passing the `keras.Input(shape=())` layers to the definition of the model and then using `model.summary()`"
      ]
    },
    {
      "cell_type": "code",
      "metadata": {
        "colab": {
          "base_uri": "https://localhost:8080/"
        },
        "id": "G1np75_6a3g8",
        "outputId": "309f6086-3c19-48ab-b08b-1f77f0b83275"
      },
      "source": [
        "model= keras.Sequential(\r\n",
        "    [\r\n",
        "     \r\n",
        "     keras.Input(shape=(28*28)),\r\n",
        "     layers.Dense(512,activation='relu'),\r\n",
        "     layers.Dense(256,activation='relu'),\r\n",
        "     layers.Dense(10),\r\n",
        "    ]\r\n",
        ")\r\n",
        "print(model.summary())"
      ],
      "execution_count": 13,
      "outputs": [
        {
          "output_type": "stream",
          "text": [
            "Model: \"sequential_3\"\n",
            "_________________________________________________________________\n",
            "Layer (type)                 Output Shape              Param #   \n",
            "=================================================================\n",
            "dense_9 (Dense)              (None, 512)               401920    \n",
            "_________________________________________________________________\n",
            "dense_10 (Dense)             (None, 256)               131328    \n",
            "_________________________________________________________________\n",
            "dense_11 (Dense)             (None, 10)                2570      \n",
            "=================================================================\n",
            "Total params: 535,818\n",
            "Trainable params: 535,818\n",
            "Non-trainable params: 0\n",
            "_________________________________________________________________\n",
            "None\n"
          ],
          "name": "stdout"
        }
      ]
    },
    {
      "cell_type": "markdown",
      "metadata": {
        "id": "ya_-ig69cZ06"
      },
      "source": [
        "# Another way of defining the sequential model\r\n",
        "Helpful in debugging the layers as we can add `model.summary()` in between each layers and check the params info."
      ]
    },
    {
      "cell_type": "code",
      "metadata": {
        "colab": {
          "base_uri": "https://localhost:8080/"
        },
        "id": "vyKA-SdRb2VE",
        "outputId": "36b91991-df98-4887-f198-6b91d3fc6879"
      },
      "source": [
        "model= keras.Sequential()\r\n",
        "model.add(keras.Input(shape=(28*28)))\r\n",
        "model.summary()  #<----------------------- similary fashion\r\n",
        "model.add(layers.Dense(512,activation='relu'))\r\n",
        "model.add(layers.Dense(256,activation='relu'))\r\n",
        "model.summary()  #<----------------------- similary fashion\r\n",
        "model.add(layers.Dense(10))"
      ],
      "execution_count": 16,
      "outputs": [
        {
          "output_type": "stream",
          "text": [
            "Model: \"sequential_6\"\n",
            "_________________________________________________________________\n",
            "Layer (type)                 Output Shape              Param #   \n",
            "=================================================================\n",
            "Total params: 0\n",
            "Trainable params: 0\n",
            "Non-trainable params: 0\n",
            "_________________________________________________________________\n",
            "Model: \"sequential_6\"\n",
            "_________________________________________________________________\n",
            "Layer (type)                 Output Shape              Param #   \n",
            "=================================================================\n",
            "dense_14 (Dense)             (None, 512)               401920    \n",
            "_________________________________________________________________\n",
            "dense_15 (Dense)             (None, 256)               131328    \n",
            "=================================================================\n",
            "Total params: 533,248\n",
            "Trainable params: 533,248\n",
            "Non-trainable params: 0\n",
            "_________________________________________________________________\n"
          ],
          "name": "stdout"
        }
      ]
    },
    {
      "cell_type": "markdown",
      "metadata": {
        "id": "ut1SyRh1d5qm"
      },
      "source": [
        "# Functional API\r\n",
        "This API can handle multiple input and the multiple output. So it's more flexible.\r\n",
        "\r\n",
        "In the below example we will see the above model defined in the Functional API form\r\n"
      ]
    },
    {
      "cell_type": "code",
      "metadata": {
        "colab": {
          "base_uri": "https://localhost:8080/"
        },
        "id": "rt_3ZxTidN3u",
        "outputId": "096d29aa-227f-47bb-a0fc-e4a942b03246"
      },
      "source": [
        "input= keras.Input(shape=(28*28))\r\n",
        "x= layers.Dense(512,activation='relu')(input)\r\n",
        "x= layers.Dense(256,activation='relu')(x)\r\n",
        "output= layers.Dense(10,activation='softmax')(x)\r\n",
        "model= keras.Model(inputs= input, outputs= output)\r\n",
        "\r\n",
        "#compile the model\r\n",
        "model.compile(\r\n",
        "    loss= keras.losses.SparseCategoricalCrossentropy(from_logits=False),\r\n",
        "    optimizer= keras.optimizers.Adam(lr=0.001),\r\n",
        "    metrics=['accuracy']\r\n",
        ")\r\n",
        "\r\n",
        "#fit the model and evaluate the model\r\n",
        "model.fit(x_train,y_train,batch_size=32,epochs=5,verbose=2)\r\n",
        "model.evaluate(x_test,y_test,batch_size=32,verbose=2)"
      ],
      "execution_count": 22,
      "outputs": [
        {
          "output_type": "stream",
          "text": [
            "Epoch 1/5\n",
            "1875/1875 - 2s - loss: 0.1865 - accuracy: 0.9427\n",
            "Epoch 2/5\n",
            "1875/1875 - 2s - loss: 0.0780 - accuracy: 0.9759\n",
            "Epoch 3/5\n",
            "1875/1875 - 2s - loss: 0.0564 - accuracy: 0.9821\n",
            "Epoch 4/5\n",
            "1875/1875 - 2s - loss: 0.0400 - accuracy: 0.9868\n",
            "Epoch 5/5\n",
            "1875/1875 - 2s - loss: 0.0332 - accuracy: 0.9896\n",
            "313/313 - 0s - loss: 0.0884 - accuracy: 0.9771\n"
          ],
          "name": "stdout"
        },
        {
          "output_type": "execute_result",
          "data": {
            "text/plain": [
              "[0.08839498460292816, 0.9771000146865845]"
            ]
          },
          "metadata": {
            "tags": []
          },
          "execution_count": 22
        }
      ]
    },
    {
      "cell_type": "markdown",
      "metadata": {
        "id": "wuyAsN2zf8J0"
      },
      "source": [
        "# Custom naming of the layers"
      ]
    },
    {
      "cell_type": "code",
      "metadata": {
        "colab": {
          "base_uri": "https://localhost:8080/"
        },
        "id": "c6zAKRuffBAb",
        "outputId": "f656a86e-49b1-4fb2-d958-71998d3cfb4f"
      },
      "source": [
        "input= keras.Input(shape=(28*28),name='input_layer')\r\n",
        "x= layers.Dense(512,activation='relu',name='first_layer')(input)\r\n",
        "x= layers.Dense(256,activation='relu',name='second_layer')(x)\r\n",
        "output= layers.Dense(10,activation='softmax',name='final_layer')(x)\r\n",
        "model= keras.Model(inputs= input, outputs= output)\r\n",
        "model.summary()"
      ],
      "execution_count": 26,
      "outputs": [
        {
          "output_type": "stream",
          "text": [
            "Model: \"model_7\"\n",
            "_________________________________________________________________\n",
            "Layer (type)                 Output Shape              Param #   \n",
            "=================================================================\n",
            "input_layer (InputLayer)     [(None, 784)]             0         \n",
            "_________________________________________________________________\n",
            "first_layer (Dense)          (None, 512)               401920    \n",
            "_________________________________________________________________\n",
            "second_layer (Dense)         (None, 256)               131328    \n",
            "_________________________________________________________________\n",
            "final_layer (Dense)          (None, 10)                2570      \n",
            "=================================================================\n",
            "Total params: 535,818\n",
            "Trainable params: 535,818\n",
            "Non-trainable params: 0\n",
            "_________________________________________________________________\n"
          ],
          "name": "stdout"
        }
      ]
    },
    {
      "cell_type": "markdown",
      "metadata": {
        "id": "kNbiqtcPgf0o"
      },
      "source": [
        "# How to get the output of the intermediate layer ?"
      ]
    },
    {
      "cell_type": "code",
      "metadata": {
        "id": "xmSWAIEugJQA"
      },
      "source": [
        "model= keras.Sequential()\r\n",
        "model.add(keras.Input(shape=(28*28)))\r\n",
        "model.add(layers.Dense(512,activation='relu'))\r\n",
        "model.add(layers.Dense(256,activation='relu'))\r\n",
        "model.add(layers.Dense(10))"
      ],
      "execution_count": 27,
      "outputs": []
    },
    {
      "cell_type": "code",
      "metadata": {
        "colab": {
          "base_uri": "https://localhost:8080/"
        },
        "id": "Ncw5WJA1i1JQ",
        "outputId": "8725957f-e106-4ef9-af86-8a14f9182a43"
      },
      "source": [
        "model= keras.Model(inputs=model.inputs,outputs=[model.layers[-2].output]) #-2 is second last layer\r\n",
        "feature= model.predict(x_train) #we get the feature(output of the -2 layer)\r\n",
        "print(feature.shape)"
      ],
      "execution_count": 28,
      "outputs": [
        {
          "output_type": "stream",
          "text": [
            "(60000, 256)\n"
          ],
          "name": "stdout"
        }
      ]
    },
    {
      "cell_type": "code",
      "metadata": {
        "id": "T4bQpykGjZ-2"
      },
      "source": [
        "#suppose we want to visualize the output of layer named 'check'\r\n",
        "model= keras.Sequential()\r\n",
        "model.add(keras.Input(shape=(28*28)))\r\n",
        "model.add(layers.Dense(512,activation='relu'))\r\n",
        "model.add(layers.Dense(256,activation='relu',name='check'))\r\n",
        "model.add(layers.Dense(10))"
      ],
      "execution_count": 29,
      "outputs": []
    },
    {
      "cell_type": "code",
      "metadata": {
        "colab": {
          "base_uri": "https://localhost:8080/"
        },
        "id": "RRtIztpSjyso",
        "outputId": "7185f7ee-ddf1-41f9-fbdc-dd387070d826"
      },
      "source": [
        "model= keras.Model(inputs=model.inputs,outputs=[model.get_layer('check').output]) #-2 is second last layer\r\n",
        "feature= model.predict(x_train) #we get the feature(output of the -2 layer)\r\n",
        "print(feature.shape)"
      ],
      "execution_count": 34,
      "outputs": [
        {
          "output_type": "stream",
          "text": [
            "(60000, 256)\n"
          ],
          "name": "stdout"
        }
      ]
    },
    {
      "cell_type": "code",
      "metadata": {
        "colab": {
          "base_uri": "https://localhost:8080/"
        },
        "id": "UDlniAGaj7SB",
        "outputId": "1def3d9b-54a7-4b0d-ffeb-52a183ba19c4"
      },
      "source": [
        "#suppose we want the output of all the layers\r\n",
        "model= keras.Model(inputs=model.inputs,outputs=[layer.output for layer in model.layers]) #-2 is second last layer\r\n",
        "features= model.predict(x_train) #we get the feature(output of the -2 layer)\r\n",
        "\r\n",
        "for feature in features:\r\n",
        "    print(feature.shape)"
      ],
      "execution_count": 35,
      "outputs": [
        {
          "output_type": "stream",
          "text": [
            "(60000, 784)\n",
            "(60000, 512)\n",
            "(60000, 256)\n"
          ],
          "name": "stdout"
        }
      ]
    },
    {
      "cell_type": "code",
      "metadata": {
        "id": "U2dj74rakpMb"
      },
      "source": [
        ""
      ],
      "execution_count": null,
      "outputs": []
    }
  ]
}