{
  "nbformat": 4,
  "nbformat_minor": 0,
  "metadata": {
    "colab": {
      "name": "Auto_encoder_demo.ipynb",
      "provenance": [],
      "authorship_tag": "ABX9TyM9+XE+tetvCxj7ZbCAFAvh",
      "include_colab_link": true
    },
    "kernelspec": {
      "name": "python3",
      "display_name": "Python 3"
    },
    "language_info": {
      "name": "python"
    },
    "accelerator": "GPU"
  },
  "cells": [
    {
      "cell_type": "markdown",
      "metadata": {
        "id": "view-in-github",
        "colab_type": "text"
      },
      "source": [
        "<a href=\"https://colab.research.google.com/github/novoforce/Exploring-Tensorflow/blob/main/Auto_encoder_demo.ipynb\" target=\"_parent\"><img src=\"https://colab.research.google.com/assets/colab-badge.svg\" alt=\"Open In Colab\"/></a>"
      ]
    },
    {
      "cell_type": "code",
      "metadata": {
        "colab": {
          "base_uri": "https://localhost:8080/"
        },
        "id": "HKkS6hrjoely",
        "outputId": "c5facf39-f00a-4012-f114-892347cd96d1"
      },
      "source": [
        "import tensorflow as tf\n",
        "from tensorflow import keras\n",
        "from keras.layers import Dense,Input\n",
        "from keras.models import Model\n",
        "\n",
        "print(tf.__version__)"
      ],
      "execution_count": 1,
      "outputs": [
        {
          "output_type": "stream",
          "name": "stdout",
          "text": [
            "2.6.0\n"
          ]
        }
      ]
    },
    {
      "cell_type": "markdown",
      "metadata": {
        "id": "MkJGFy0dqo9c"
      },
      "source": [
        "# Vanilla Auto-encoder"
      ]
    },
    {
      "cell_type": "code",
      "metadata": {
        "colab": {
          "base_uri": "https://localhost:8080/"
        },
        "id": "IRvh4p9To0hW",
        "outputId": "74a9b3e4-43ff-4db0-b2f5-cd92d522918e"
      },
      "source": [
        "# 784-> 32-> 784\n",
        "encoding_dim= 32  # compress the image to the factor of 784/32 == 24.5\n",
        "input_img= Input(shape=(784,))\n",
        "encoded= Dense(encoding_dim,activation=\"relu\")(input_img) #encoded representation\n",
        "decoded= Dense(784,activation=\"sigmoid\")(encoded) #reconstruction from the encoded form\n",
        "\n",
        "#The reason behind usage of sigmoid is so as to get the image in the range of 0-1(normalized)\n",
        "auto_encoder= Model(input_img,decoded)\n",
        "\n",
        "auto_encoder.summary()"
      ],
      "execution_count": 2,
      "outputs": [
        {
          "output_type": "stream",
          "name": "stdout",
          "text": [
            "Model: \"model\"\n",
            "_________________________________________________________________\n",
            "Layer (type)                 Output Shape              Param #   \n",
            "=================================================================\n",
            "input_1 (InputLayer)         [(None, 784)]             0         \n",
            "_________________________________________________________________\n",
            "dense (Dense)                (None, 32)                25120     \n",
            "_________________________________________________________________\n",
            "dense_1 (Dense)              (None, 784)               25872     \n",
            "=================================================================\n",
            "Total params: 50,992\n",
            "Trainable params: 50,992\n",
            "Non-trainable params: 0\n",
            "_________________________________________________________________\n"
          ]
        }
      ]
    },
    {
      "cell_type": "code",
      "metadata": {
        "colab": {
          "base_uri": "https://localhost:8080/"
        },
        "id": "h8Y3nj_AqWfh",
        "outputId": "77549893-bff4-4189-8b8f-cd919763c275"
      },
      "source": [
        "# Build encoder model\n",
        "encoder= Model(input_img,encoded)\n",
        "encoder.summary()"
      ],
      "execution_count": 3,
      "outputs": [
        {
          "output_type": "stream",
          "name": "stdout",
          "text": [
            "Model: \"model_1\"\n",
            "_________________________________________________________________\n",
            "Layer (type)                 Output Shape              Param #   \n",
            "=================================================================\n",
            "input_1 (InputLayer)         [(None, 784)]             0         \n",
            "_________________________________________________________________\n",
            "dense (Dense)                (None, 32)                25120     \n",
            "=================================================================\n",
            "Total params: 25,120\n",
            "Trainable params: 25,120\n",
            "Non-trainable params: 0\n",
            "_________________________________________________________________\n"
          ]
        }
      ]
    },
    {
      "cell_type": "code",
      "metadata": {
        "colab": {
          "base_uri": "https://localhost:8080/"
        },
        "id": "wT-AoYzUr71x",
        "outputId": "d14d5cc1-0ce9-48a7-f861-b3727f1d1d85"
      },
      "source": [
        "# Build decoder\n",
        "encoded_input= Input(shape=(encoding_dim,)) # flexibility of giving our own input\n",
        "decoder_layer= auto_encoder.layers[-1] (encoded_input) #retreiving the last layer of the autoencoder(to keep the trained weights)\n",
        "decoder= Model(encoded_input,decoder_layer)\n",
        "\n",
        "decoder.summary()"
      ],
      "execution_count": 4,
      "outputs": [
        {
          "output_type": "stream",
          "name": "stdout",
          "text": [
            "Model: \"model_2\"\n",
            "_________________________________________________________________\n",
            "Layer (type)                 Output Shape              Param #   \n",
            "=================================================================\n",
            "input_2 (InputLayer)         [(None, 32)]              0         \n",
            "_________________________________________________________________\n",
            "dense_1 (Dense)              (None, 784)               25872     \n",
            "=================================================================\n",
            "Total params: 25,872\n",
            "Trainable params: 25,872\n",
            "Non-trainable params: 0\n",
            "_________________________________________________________________\n"
          ]
        }
      ]
    },
    {
      "cell_type": "markdown",
      "metadata": {
        "id": "QWsoh7F8y_j9"
      },
      "source": [
        "# Pre-process Mnist data\n"
      ]
    },
    {
      "cell_type": "code",
      "metadata": {
        "colab": {
          "base_uri": "https://localhost:8080/"
        },
        "id": "S7v9cunLtJa3",
        "outputId": "375179ab-74f7-41a5-a20d-1c2d4a2a794e"
      },
      "source": [
        "(x_train,_), (x_test, _) = tf.keras.datasets.mnist.load_data()"
      ],
      "execution_count": 5,
      "outputs": [
        {
          "output_type": "stream",
          "name": "stdout",
          "text": [
            "Downloading data from https://storage.googleapis.com/tensorflow/tf-keras-datasets/mnist.npz\n",
            "11493376/11490434 [==============================] - 0s 0us/step\n",
            "11501568/11490434 [==============================] - 0s 0us/step\n"
          ]
        }
      ]
    },
    {
      "cell_type": "code",
      "metadata": {
        "colab": {
          "base_uri": "https://localhost:8080/"
        },
        "id": "WF4VK2ZdzLJZ",
        "outputId": "02e6d592-273d-4afe-e120-e2932830ee32"
      },
      "source": [
        "import numpy as np\n",
        "\n",
        "x_train= x_train.astype('float32') / 255\n",
        "x_test= x_test.astype('float32') / 255\n",
        "\n",
        "x_train= x_train.reshape((len(x_train), np.prod(x_train.shape[1:])))\n",
        "x_test= x_test.reshape((len(x_test), np.prod(x_test.shape[1:])))\n",
        "\n",
        "print(x_train.shape, x_test.shape)"
      ],
      "execution_count": 6,
      "outputs": [
        {
          "output_type": "stream",
          "name": "stdout",
          "text": [
            "(60000, 784) (10000, 784)\n"
          ]
        }
      ]
    },
    {
      "cell_type": "code",
      "metadata": {
        "colab": {
          "base_uri": "https://localhost:8080/"
        },
        "id": "g7kxCymq0MJr",
        "outputId": "4e66aaaf-6226-4896-f3fe-a42c1db7d098"
      },
      "source": [
        "auto_encoder.compile(optimizer='adam',loss='binary_crossentropy')\n",
        "auto_encoder.fit(x_train,x_train,epochs=25,batch_size=256,shuffle=True,validation_data=(x_test,x_test))"
      ],
      "execution_count": 8,
      "outputs": [
        {
          "output_type": "stream",
          "name": "stdout",
          "text": [
            "Epoch 1/25\n",
            "235/235 [==============================] - 4s 5ms/step - loss: 0.2738 - val_loss: 0.1892\n",
            "Epoch 2/25\n",
            "235/235 [==============================] - 1s 4ms/step - loss: 0.1714 - val_loss: 0.1544\n",
            "Epoch 3/25\n",
            "235/235 [==============================] - 1s 4ms/step - loss: 0.1446 - val_loss: 0.1335\n",
            "Epoch 4/25\n",
            "235/235 [==============================] - 1s 5ms/step - loss: 0.1286 - val_loss: 0.1214\n",
            "Epoch 5/25\n",
            "235/235 [==============================] - 1s 5ms/step - loss: 0.1186 - val_loss: 0.1132\n",
            "Epoch 6/25\n",
            "235/235 [==============================] - 1s 5ms/step - loss: 0.1117 - val_loss: 0.1076\n",
            "Epoch 7/25\n",
            "235/235 [==============================] - 1s 4ms/step - loss: 0.1069 - val_loss: 0.1035\n",
            "Epoch 8/25\n",
            "235/235 [==============================] - 1s 4ms/step - loss: 0.1032 - val_loss: 0.1002\n",
            "Epoch 9/25\n",
            "235/235 [==============================] - 1s 4ms/step - loss: 0.1002 - val_loss: 0.0976\n",
            "Epoch 10/25\n",
            "235/235 [==============================] - 1s 5ms/step - loss: 0.0980 - val_loss: 0.0959\n",
            "Epoch 11/25\n",
            "235/235 [==============================] - 1s 4ms/step - loss: 0.0965 - val_loss: 0.0946\n",
            "Epoch 12/25\n",
            "235/235 [==============================] - 1s 5ms/step - loss: 0.0956 - val_loss: 0.0939\n",
            "Epoch 13/25\n",
            "235/235 [==============================] - 1s 5ms/step - loss: 0.0949 - val_loss: 0.0933\n",
            "Epoch 14/25\n",
            "235/235 [==============================] - 1s 5ms/step - loss: 0.0945 - val_loss: 0.0931\n",
            "Epoch 15/25\n",
            "235/235 [==============================] - 1s 4ms/step - loss: 0.0942 - val_loss: 0.0928\n",
            "Epoch 16/25\n",
            "235/235 [==============================] - 1s 5ms/step - loss: 0.0940 - val_loss: 0.0926\n",
            "Epoch 17/25\n",
            "235/235 [==============================] - 1s 5ms/step - loss: 0.0938 - val_loss: 0.0925\n",
            "Epoch 18/25\n",
            "235/235 [==============================] - 1s 5ms/step - loss: 0.0937 - val_loss: 0.0924\n",
            "Epoch 19/25\n",
            "235/235 [==============================] - 1s 4ms/step - loss: 0.0936 - val_loss: 0.0923\n",
            "Epoch 20/25\n",
            "235/235 [==============================] - 1s 4ms/step - loss: 0.0935 - val_loss: 0.0922\n",
            "Epoch 21/25\n",
            "235/235 [==============================] - 1s 5ms/step - loss: 0.0934 - val_loss: 0.0921\n",
            "Epoch 22/25\n",
            "235/235 [==============================] - 1s 5ms/step - loss: 0.0933 - val_loss: 0.0921\n",
            "Epoch 23/25\n",
            "235/235 [==============================] - 1s 5ms/step - loss: 0.0933 - val_loss: 0.0921\n",
            "Epoch 24/25\n",
            "235/235 [==============================] - 1s 4ms/step - loss: 0.0932 - val_loss: 0.0920\n",
            "Epoch 25/25\n",
            "235/235 [==============================] - 1s 4ms/step - loss: 0.0932 - val_loss: 0.0920\n"
          ]
        },
        {
          "output_type": "execute_result",
          "data": {
            "text/plain": [
              "<keras.callbacks.History at 0x7f0f830ea050>"
            ]
          },
          "metadata": {},
          "execution_count": 8
        }
      ]
    },
    {
      "cell_type": "code",
      "metadata": {
        "id": "V9BIoQv_1C3U"
      },
      "source": [
        "encoded_img= encoder.predict(x_test)\n",
        "decoded_img= decoder.predict(encoded_img)"
      ],
      "execution_count": 9,
      "outputs": []
    },
    {
      "cell_type": "markdown",
      "metadata": {
        "id": "69gKMwpx8GJC"
      },
      "source": [
        "# X_test "
      ]
    },
    {
      "cell_type": "code",
      "metadata": {
        "colab": {
          "base_uri": "https://localhost:8080/",
          "height": 542
        },
        "id": "GVj4P0uW7GEw",
        "outputId": "90f12419-17c3-4d20-9c8c-befc51485436"
      },
      "source": [
        "import matplotlib.pyplot as plt\n",
        "\n",
        "plt.figure(figsize=(12, 12))\n",
        "for i in range(0,9):\n",
        "    plt.subplot(5, 3, i+1)\n",
        "    plt.imshow(x_test[i].reshape(28,28), cmap=\"gray\") #'image_list' is the list of images\n",
        "    # plt.xlabel(CLASSES[labels[i]]) # 'labels' is the list of labels\n",
        "plt.tight_layout()\n",
        "plt.show()"
      ],
      "execution_count": 11,
      "outputs": [
        {
          "output_type": "display_data",
          "data": {
            "image/png": "[encoded data removed]",
            "text/plain": [
              "<Figure size 864x864 with 9 Axes>"
            ]
          },
          "metadata": {
            "needs_background": "light"
          }
        }
      ]
    },
    {
      "cell_type": "markdown",
      "metadata": {
        "id": "paxemKpR8DYb"
      },
      "source": [
        "# Decoded output"
      ]
    },
    {
      "cell_type": "code",
      "metadata": {
        "colab": {
          "base_uri": "https://localhost:8080/",
          "height": 542
        },
        "id": "EkCxHzOY7chz",
        "outputId": "8ba43e6c-2c32-4fab-e792-82d640df8717"
      },
      "source": [
        "\n",
        "plt.figure(figsize=(12, 12))\n",
        "for i in range(0,9):\n",
        "    plt.subplot(5, 3, i+1)\n",
        "    plt.imshow(decoded_img[i].reshape(28,28), cmap=\"gray\") #'image_list' is the list of images\n",
        "    # plt.xlabel(CLASSES[labels[i]]) # 'labels' is the list of labels\n",
        "plt.tight_layout()\n",
        "plt.show()"
      ],
      "execution_count": 14,
      "outputs": [
        {
          "output_type": "display_data",
          "data": {
            "image/png": "[encoded data removed]",
            "text/plain": [
              "<Figure size 864x864 with 9 Axes>"
            ]
          },
          "metadata": {
            "needs_background": "light"
          }
        }
      ]
    },
    {
      "cell_type": "markdown",
      "metadata": {
        "id": "Y4Ua2uc08zbF"
      },
      "source": [
        "# Save the models"
      ]
    },
    {
      "cell_type": "code",
      "metadata": {
        "colab": {
          "base_uri": "https://localhost:8080/"
        },
        "id": "pSGj6U5H7qqp",
        "outputId": "a250f8b8-e4c8-4ed7-e5ef-dd5e2eefee71"
      },
      "source": [
        "encoder.save(\"/content\")\n",
        "decoder.save(\"/content\")"
      ],
      "execution_count": 16,
      "outputs": [
        {
          "output_type": "stream",
          "name": "stdout",
          "text": [
            "WARNING:tensorflow:Compiled the loaded model, but the compiled metrics have yet to be built. `model.compile_metrics` will be empty until you train or evaluate the model.\n",
            "INFO:tensorflow:Assets written to: /content/assets\n",
            "WARNING:tensorflow:Compiled the loaded model, but the compiled metrics have yet to be built. `model.compile_metrics` will be empty until you train or evaluate the model.\n",
            "INFO:tensorflow:Assets written to: /content/assets\n"
          ]
        }
      ]
    },
    {
      "cell_type": "code",
      "metadata": {
        "id": "UDRGyAfk83FO"
      },
      "source": [
        ""
      ],
      "execution_count": null,
      "outputs": []
    }
  ]
}